{
 "cells": [
  {
   "cell_type": "markdown",
   "metadata": {},
   "source": [
    "<div align=right>\n",
    "<img src=\"img/logosmall.png\" width=\"100px\" align=right>\n",
    "</div>"
   ]
  },
  {
   "cell_type": "markdown",
   "metadata": {},
   "source": [
    "# Regular expressions"
   ]
  },
  {
   "cell_type": "markdown",
   "metadata": {},
   "source": [
    "<div class=\"alert alert-warning\">\n",
    "Parts of this section have been adapted from copyrighted material in *Jones, M: Python for Biologists: A complete programming course for beginners (2013)*.\n",
    "\n",
    "**Please do not distribute it!**"
   ]
  },
  {
   "cell_type": "markdown",
   "metadata": {},
   "source": [
    "## The importance of patterns in biology"
   ]
  },
  {
   "cell_type": "markdown",
   "metadata": {},
   "source": [
    "A lot of what we do when writing programs for biology can be described as searching for patterns in strings. The obvious examples come from the analysis of biological sequence data – remember that DNA, RNA and protein sequences are just strings. Many of the things we want to look for in biological sequences can be described in terms of patterns:\n",
    "\n",
    "* protein domains\n",
    "* DNA transcription factor binding motifs\n",
    "* restriction enzyme cut sites\n",
    "* degenerate PCR primer sites\n",
    "* runs of mononucleotides\n",
    "\n",
    "However, it’s not just sequence data that can have interesting patterns. As we discussed before, most of the other types of data we have to deal with in biology comes in the form of strings inside text files – things like:\n",
    "\n",
    "* read mapping locations\n",
    "* geographical sample coordinates\n",
    "* taxonomic names\n",
    "* gene names\n",
    "* gene accession numbers\n",
    "* BLAST searches\n",
    "\n",
    "In previous sections, we’ve looked at some programming tasks that involve pattern recognition in strings. We’ve seen how to count individual amino acid residues (and even groups of amino acid residues) in protein sequences, and how to identify restriction enzyme cut sites in DNA sequences. We’ve also seen how to examine parts of gene names and match them against individual characters.\n",
    "\n",
    "The common theme among all these problems is that they involve searching for a fixed set of characters. But there are many problems that we want to solve that require more flexible patterns. For example:\n",
    "\n",
    "* Given a DNA sequence, what’s the length of the poly-A tail?\n",
    "* Given a gene accession name, extract the part between the third character and the underscore\n",
    "* Given a protein sequence, determine if it contains this highly-redundant domain motif\n",
    "\n",
    "Because these types of problems crop up in so many different fields, there’s a standard set of tools for dealing with them: *regular expressions*. Regular expressions are not specific to Python; in fact, they pre-date Python. In fact, regular expressions are not part of the core Python language, but — like many modern languages — Python has an extensive regular expression *library*. Python's regular expression library — called `re` — is part of the Python *standard library*, and is therefore available wherever Python is installed.\n",
    "\n",
    "Regular expressions are a topic that might not be covered in a general-purpose programming book, but because they’re so useful in biology, we’re going to devote the whole of this section to looking at them.\n",
    "\n",
    "Since the tools for dealing with regular expressions are not built into the core Python langauge, they are not automatically available when you write a program. Before we can use them, we must first talk about *modules* and *packages*."
   ]
  },
  {
   "cell_type": "markdown",
   "metadata": {},
   "source": [
    "## Recap: Finding a fixed substring:"
   ]
  },
  {
   "cell_type": "markdown",
   "metadata": {},
   "source": [
    "We've seen several ways of doing this:\n",
    "\n",
    "* `<pattern> in <sequence>` — test if the substring `<pattern>` is anywhere in the keyword `<sequence>` and return a boolean value (`True` or `False`)"
   ]
  },
  {
   "cell_type": "code",
   "execution_count": null,
   "metadata": {},
   "outputs": [],
   "source": [
    "my_seq = \"ACTAGCGTTTACT\"\n",
    "\"CG\" in my_seq"
   ]
  },
  {
   "cell_type": "markdown",
   "metadata": {},
   "source": [
    "* `<sequence>.find(<pattern>)` — find index of the _first_ `<pattern>` in `<sequence>`;  return `-1` if not found"
   ]
  },
  {
   "cell_type": "code",
   "execution_count": null,
   "metadata": {},
   "outputs": [],
   "source": [
    "my_seq.find(\"CG\")"
   ]
  },
  {
   "cell_type": "markdown",
   "metadata": {},
   "source": [
    "* `<sequence>.index(<pattern>)` — find index of the _first_ `<pattern>` in `<sequence>`;  raise error if not found"
   ]
  },
  {
   "cell_type": "code",
   "execution_count": null,
   "metadata": {},
   "outputs": [],
   "source": [
    "my_seq.index(\"CC\")"
   ]
  },
  {
   "cell_type": "markdown",
   "metadata": {},
   "source": [
    "* `<sequence>.count(<pattern>)` – count the number of non-overlapping occurrences of `<pattern>` in `<sequence>` and return that number"
   ]
  },
  {
   "cell_type": "code",
   "execution_count": null,
   "metadata": {},
   "outputs": [],
   "source": [
    "my_seq.count('C')"
   ]
  },
  {
   "cell_type": "markdown",
   "metadata": {},
   "source": [
    "## Extended example"
   ]
  },
  {
   "cell_type": "markdown",
   "metadata": {},
   "source": [
    "In this example I'll try to illustrate why regular expressions are useful.\n",
    "\n",
    "Let's say we need to find the p53 transcription factor in a longer protein sequence:"
   ]
  },
  {
   "cell_type": "code",
   "execution_count": 1,
   "metadata": {},
   "outputs": [
    {
     "name": "stdout",
     "output_type": "stream",
     "text": [
      "10\n"
     ]
    }
   ],
   "source": [
    "protein = \"SEFTTVLYNFMCNSSCMGGMNRRPILTIIS\"\n",
    "p53 = \"MCNSSCMGGMNRR\"\n",
    "location = protein.find(p53)\n",
    "print(location)"
   ]
  },
  {
   "cell_type": "code",
   "execution_count": 2,
   "metadata": {},
   "outputs": [
    {
     "data": {
      "text/plain": [
       "'MCNSSCMGGMNRR'"
      ]
     },
     "execution_count": 2,
     "metadata": {},
     "output_type": "execute_result"
    }
   ],
   "source": [
    "protein[location:location + len(p53)]"
   ]
  },
  {
   "cell_type": "markdown",
   "metadata": {},
   "source": [
    "However, the p53 transcription factor is variable in one residue.  It can be either of:\n",
    "\n",
    "* <tt>MCNSSC<font color=\"red\">M</font>GGMNRR</tt>\n",
    "* <tt>MCNSSC<font color=\"red\">V</font>GGMNRR</tt>\n",
    "\n",
    "How can we write a test to see whether either variant is present in a protein sequence.  Well, we could combine two conditional tests with `and`:"
   ]
  },
  {
   "cell_type": "code",
   "execution_count": 3,
   "metadata": {},
   "outputs": [
    {
     "name": "stdout",
     "output_type": "stream",
     "text": [
      "Found!\n"
     ]
    }
   ],
   "source": [
    "p53_1 = \"MCNSSCMGGMNRR\"\n",
    "p53_2 = \"MCNSSCVGGMNRR\"\n",
    "\n",
    "if p53_1 in protein or p53_2 in protein:\n",
    "    print(\"Found!\")"
   ]
  },
  {
   "cell_type": "markdown",
   "metadata": {},
   "source": [
    "…and in fact, this is quite doable for this example where we have just two variants.  You can imagine how tedious this could get if there were many variants, though!\n",
    "\n",
    "For now, however, let's continue with our simple example.  Wouldn't it be nice if we could write some sort of *pattern* before we test whether the string representing the p53 transcription factor is present in the string representing a protein sequence?\n",
    "\n",
    "What if we could combine the two pattern strings:\n",
    "\n",
    "* <tt>\"MCNSSC<font color=\"red\">M</font>GGMNRR\"</tt> \n",
    "* <tt>\"MCNSSC<font color=\"red\">V</font>GGMNRR\"</tt>\n",
    "\n",
    "…and make a string something like this:\n",
    "\n",
    "* <tt>\"MCNSSC<font color=\"red\">[MV]</font>GGMNRR\"</tt>\n",
    "\n",
    "In our putative pattern matching language, this would mean:\n",
    "\n",
    "* *a string that starts with `\"MCNSSC\"`, followed by either an `'M'` or a `'V'`, followed by `\"GGMNRR\"`*\n",
    "\n",
    "As it happens, such a pattern language exists, and it goes by the name of *regular expressions*.  Run the following bit of code:"
   ]
  },
  {
   "cell_type": "code",
   "execution_count": 4,
   "metadata": {},
   "outputs": [
    {
     "name": "stdout",
     "output_type": "stream",
     "text": [
      "Found!\n"
     ]
    }
   ],
   "source": [
    "import re\n",
    "\n",
    "if re.search(\"MCNSSC[MV]GGMNRR\", protein):\n",
    "    print(\"Found!\")"
   ]
  },
  {
   "cell_type": "markdown",
   "metadata": {},
   "source": [
    "In fact, we can use regular expressions to search for patterns much more complex than that one, which is fortunate, since biology presents us with many such complex patterns.\n",
    "\n",
    "But first a little detour as we find out what that `import re` statement was all about!"
   ]
  },
  {
   "cell_type": "markdown",
   "metadata": {},
   "source": [
    "## Python modules"
   ]
  },
  {
   "cell_type": "markdown",
   "metadata": {},
   "source": [
    "### The standard library"
   ]
  },
  {
   "cell_type": "markdown",
   "metadata": {},
   "source": [
    "Regular expressions are **not** a part of the core Python language.  In fact, regular expressions predate Python, and are today implemented in a large variety of programming languages and other tools.\n",
    "\n",
    "Very often when there's such a generally useful tool out there (which is nevertheless self-contained and independent, and should therefore not obviously be a part of the language itself), the Python maintainers have decided to make it available as a *module* in the Python *standard library*.\n",
    "\n",
    "We've mentioned the standard library in the Introduction to this course:  It's a large collection of generally useful add-on modules that ship with Python, is maintained along with the Python interpreter (and are therefore guaranteed to be of a high standard) and are available wherever Python is installed.  (Most programming languages have a standard library.)\n",
    "\n",
    "The standard library contains a large collection of *modules*, each of which covers a single field of application.\n",
    "\n",
    "You'll find a list of modules included in the Python standard library (along with links to their documentation) here:\n",
    "\n",
    "* http://docs.python.org/3/py-modindex.html\n",
    "\n",
    "Python's support for regular expressions is in a module called `re`, and you can read *its* documentation here:\n",
    "\n",
    "* http://docs.python.org/3/library/re.html"
   ]
  },
  {
   "cell_type": "markdown",
   "metadata": {},
   "source": [
    "### Importing modules"
   ]
  },
  {
   "cell_type": "markdown",
   "metadata": {},
   "source": [
    "When we want to use the functions and types defined in a Python module, we first have to import it into our current program using the `import` statement.  For instance, to use Python's regular expression support in the `re` module, we add a line like this to our program:"
   ]
  },
  {
   "cell_type": "code",
   "execution_count": 5,
   "metadata": {
    "collapsed": true
   },
   "outputs": [],
   "source": [
    "import re"
   ]
  },
  {
   "cell_type": "markdown",
   "metadata": {},
   "source": [
    "We only have to import a specific module once in a program.  (Though if we do it more than once it's not problematic:  Python is smart enough to recognise that a module has already been imported and won't do any extra work to import it again.)\n",
    "\n",
    "It's customary to group all of a program's `import` statements together, right near the top.\n",
    "\n",
    ">Also in a Jupyter Notebook, we need to import a module only once.  We've now already had two `import re` statements, but no matter!  As long as either (or both) of them have been executed, `re` will remain imported for the rest of this Notebook.\n",
    "\n",
    "Once a module has been imported, you can read its documentation using Python's built-in `help` function or Jupyter's “`?`” magic.  Warning:  A whole module's documentation can be very long!"
   ]
  },
  {
   "cell_type": "code",
   "execution_count": 6,
   "metadata": {
    "collapsed": true
   },
   "outputs": [],
   "source": [
    "?re"
   ]
  },
  {
   "cell_type": "markdown",
   "metadata": {},
   "source": [
    ">What actually happens when you use the `import` statement is that a new variable gets created in the current program's *namespace* — in this case, named `re` — which references a special object in memory where Python stores the functions and types of that module.  See what happens if you evaluate `re`:"
   ]
  },
  {
   "cell_type": "code",
   "execution_count": 7,
   "metadata": {},
   "outputs": [
    {
     "data": {
      "text/plain": [
       "<module 're' from '/Users/sabineurban/miniconda3/lib/python3.6/re.py'>"
      ]
     },
     "execution_count": 7,
     "metadata": {},
     "output_type": "execute_result"
    }
   ],
   "source": [
    "re"
   ]
  },
  {
   "cell_type": "markdown",
   "metadata": {},
   "source": [
    "### Using an imported module"
   ]
  },
  {
   "cell_type": "markdown",
   "metadata": {},
   "source": [
    "Once we've imported a module like `re`, we now have a variable `re` in the current namespace which we can use like a handle to get access to the functions and types defined in that module.\n",
    "\n",
    "For the moment, the most of our interaction with the `re` module is going to be via *functions* defined in it.  Using a function in a module is no different from using a built-in function (like `print()` or `range()`) or a function we have defined ourselves, except that we have to *qualify* the name of the function with the module's name, using Python's qualification notation, the period (“`.`”):\n",
    "\n",
    "```python\n",
    "re.search(<pattern>, <string>)\n",
    "```"
   ]
  },
  {
   "cell_type": "markdown",
   "metadata": {},
   "source": [
    "Or, in the example we saw above:"
   ]
  },
  {
   "cell_type": "code",
   "execution_count": null,
   "metadata": {},
   "outputs": [],
   "source": [
    "if re.search(\"MCNSSC[MV]GGMNRR\", protein):\n",
    "    print(\"Found!\")"
   ]
  },
  {
   "cell_type": "markdown",
   "metadata": {},
   "source": [
    "This syntax looks identical to the way in which we accessed *methods* of types, e.g. the invocation of `protein.find()` in this example:"
   ]
  },
  {
   "cell_type": "code",
   "execution_count": 15,
   "metadata": {},
   "outputs": [
    {
     "name": "stdout",
     "output_type": "stream",
     "text": [
      "Found!\n"
     ]
    }
   ],
   "source": [
    "protein = \"SEFTTVLYNFMCNSSCMGGMNRRPILTIIS\"\n",
    "if protein.find(\"MCNSSCMGGMNRR\") != -1:\n",
    "    print(\"Found!\")"
   ]
  },
  {
   "cell_type": "markdown",
   "metadata": {},
   "source": [
    "…and that's no coincidence!  In Python, a type and a module will each have its own *namespace*, and the period operator (“`.`”) is a *namespace resolution operator*:\n",
    "\n",
    "* `protein.find` means *\"the function (method) `find` in the namespace of the string object `protein`\"*\n",
    "\n",
    "* `re.search` means \"*the function `search` in the namespace of the module `re`*\"\n",
    "\n",
    "Nevertheless, types and modules are very different kinds of objects, so don't confuse the two.  It's just that they (and many other things in Python) each have a *namespace* wherein variables can be bound to objects.\n",
    "\n",
    "As you might by now expect, you can view the help of the `search` function in the `re` module like so:"
   ]
  },
  {
   "cell_type": "code",
   "execution_count": null,
   "metadata": {},
   "outputs": [],
   "source": [
    "re.search"
   ]
  },
  {
   "cell_type": "markdown",
   "metadata": {},
   "source": [
    "### Aside: `None`?!"
   ]
  },
  {
   "cell_type": "markdown",
   "metadata": {},
   "source": [
    "There was an interesting statement in the help of `re.search`, namely that it returns *None if no match was found*.\n",
    "\n",
    "None?"
   ]
  },
  {
   "cell_type": "code",
   "execution_count": 17,
   "metadata": {
    "collapsed": true
   },
   "outputs": [],
   "source": [
    "None"
   ]
  },
  {
   "cell_type": "markdown",
   "metadata": {},
   "source": [
    "Nothing happens when we evaluate `None`, but Python also doesn't complain the way it would if we evaluate an arbitrary word:"
   ]
  },
  {
   "cell_type": "code",
   "execution_count": 18,
   "metadata": {},
   "outputs": [
    {
     "ename": "NameError",
     "evalue": "name 'Hello' is not defined",
     "output_type": "error",
     "traceback": [
      "\u001b[0;31m---------------------------------------------------------------------------\u001b[0m",
      "\u001b[0;31mNameError\u001b[0m                                 Traceback (most recent call last)",
      "\u001b[0;32m<ipython-input-18-09f7e02f1290>\u001b[0m in \u001b[0;36m<module>\u001b[0;34m()\u001b[0m\n\u001b[0;32m----> 1\u001b[0;31m \u001b[0mHello\u001b[0m\u001b[0;34m\u001b[0m\u001b[0m\n\u001b[0m",
      "\u001b[0;31mNameError\u001b[0m: name 'Hello' is not defined"
     ]
    }
   ],
   "source": [
    "Hello"
   ]
  },
  {
   "cell_type": "markdown",
   "metadata": {},
   "source": [
    "Let's try to `print` it:"
   ]
  },
  {
   "cell_type": "code",
   "execution_count": 19,
   "metadata": {},
   "outputs": [
    {
     "name": "stdout",
     "output_type": "stream",
     "text": [
      "None\n"
     ]
    }
   ],
   "source": [
    "print(None)"
   ]
  },
  {
   "cell_type": "markdown",
   "metadata": {},
   "source": [
    "The textual representation of `None` is just … `None`.\n",
    "\n",
    "OK, clearly `None` has meaning to the language — it's like `True` and `False`.  Well, `True` and `False` were of type `bool`, so what's the type of `None`:"
   ]
  },
  {
   "cell_type": "code",
   "execution_count": 16,
   "metadata": {},
   "outputs": [
    {
     "data": {
      "text/plain": [
       "NoneType"
      ]
     },
     "execution_count": 16,
     "metadata": {},
     "output_type": "execute_result"
    }
   ],
   "source": [
    "type(None)"
   ]
  },
  {
   "cell_type": "markdown",
   "metadata": {},
   "source": [
    "Okaaaay.  So `None` is an object of type `NoneType`.  I wonder if it's truthy or falsy;  I think I can guess:"
   ]
  },
  {
   "cell_type": "code",
   "execution_count": 20,
   "metadata": {},
   "outputs": [
    {
     "data": {
      "text/plain": [
       "False"
      ]
     },
     "execution_count": 20,
     "metadata": {},
     "output_type": "execute_result"
    }
   ],
   "source": [
    "bool(None)"
   ]
  },
  {
   "cell_type": "markdown",
   "metadata": {},
   "source": [
    "Yep, it's false.  In fact, `None` is a special value in Python.  It has its own type — `NoneType` — and it is in fact the only value of type `NoneType`.\n",
    "\n",
    "`None` is Python's way of saying \"nothing\".  When a function wants to return something to actively indicate that it's returning **nothing**, it returns `None`.\n",
    "\n",
    "So we see in the documentation of `re.search` that it returns *\"a match object, or None if no match was found\"*.  We don't know what a \"match object\" is at this stage (though we can assume it's some type of object defined in the `re` module), but we can be pretty sure of one thing:  A \"match object\" will be truthy.  Why?  Because almost everything in Python is truthy, except for a couple of exceptions we've already listed:  The number `0`, an empty string, an empty list, and now also `None`.\n",
    "\n",
    "This is why we can do the following conditional test:"
   ]
  },
  {
   "cell_type": "code",
   "execution_count": null,
   "metadata": {},
   "outputs": [],
   "source": [
    "match_object = re.search(\"MCNSSC[MV]GGMNRR\", protein)\n",
    "if match_object:\n",
    "    print(\"Found!\")"
   ]
  },
  {
   "cell_type": "markdown",
   "metadata": {},
   "source": [
    "Let's evaluate match_object:"
   ]
  },
  {
   "cell_type": "code",
   "execution_count": 21,
   "metadata": {},
   "outputs": [
    {
     "ename": "NameError",
     "evalue": "name 'match_object' is not defined",
     "output_type": "error",
     "traceback": [
      "\u001b[0;31m---------------------------------------------------------------------------\u001b[0m",
      "\u001b[0;31mNameError\u001b[0m                                 Traceback (most recent call last)",
      "\u001b[0;32m<ipython-input-21-7e5b6167eac8>\u001b[0m in \u001b[0;36m<module>\u001b[0;34m()\u001b[0m\n\u001b[0;32m----> 1\u001b[0;31m \u001b[0mmatch_object\u001b[0m\u001b[0;34m\u001b[0m\u001b[0m\n\u001b[0m",
      "\u001b[0;31mNameError\u001b[0m: name 'match_object' is not defined"
     ]
    }
   ],
   "source": [
    "match_object"
   ]
  },
  {
   "cell_type": "markdown",
   "metadata": {},
   "source": [
    "Let's see what the match_object looks like when the match definitely fails.  E.g. when we try to match a DNA sequence against a protein sequence:"
   ]
  },
  {
   "cell_type": "code",
   "execution_count": 22,
   "metadata": {},
   "outputs": [
    {
     "name": "stdout",
     "output_type": "stream",
     "text": [
      "Not found!\n"
     ]
    }
   ],
   "source": [
    "match_object = re.search(\"ACTAGAACTG\", protein)\n",
    "\n",
    "if match_object:\n",
    "    print(\"Found!\")\n",
    "else:\n",
    "    print(\"Not found!\")"
   ]
  },
  {
   "cell_type": "code",
   "execution_count": null,
   "metadata": {
    "collapsed": true
   },
   "outputs": [],
   "source": [
    "match_object"
   ]
  },
  {
   "cell_type": "markdown",
   "metadata": {},
   "source": [
    "That didn't help.  Let's try `print`ing it:"
   ]
  },
  {
   "cell_type": "code",
   "execution_count": null,
   "metadata": {},
   "outputs": [],
   "source": [
    "print(match_object)"
   ]
  },
  {
   "cell_type": "markdown",
   "metadata": {},
   "source": [
    "Yes, as expected (from the documentation of `re.search()`), the `match_object` is now `None`.  \n",
    "\n",
    "In a sense `None` is a non-object;  it's the *opposite* of an object.  Usually, a well-written function will always return the same kind of value.  If a function returns a string, then its way of returning \"nothing\" will be the empty string `\"\"`.  If a function returns an arbitrary object, its way of returning \"nothing\" will be to return the non-object `None`."
   ]
  },
  {
   "cell_type": "markdown",
   "metadata": {},
   "source": [
    "## Back to Regular expressions"
   ]
  },
  {
   "cell_type": "markdown",
   "metadata": {},
   "source": [
    "We took a short detour through modules a, and then a detour-from-the-detour talking about `None`.  Let's get back to regular expressions now, and try to give our first vague definition of what they are:\n",
    "\n",
    "* A *regular expression* is a **pattern** (or **template**, or **boilerplate**) against which strings (**targets**) are matched.\n",
    "* A match either *succeeds* or *fails*.\n",
    "* Sometimes we're only interested in success or failure, but often we want to extract the part(s) of the target that match(es) the regular expression.\n",
    "* And finally, regular expressions are written in a formal language.\n",
    "\n",
    ">\"Regular expressions\" is an unwieldy phrase, so it's often shortened to \"regex\" or even \"regexp\".  I don't like \"regexp\" since I have no idea how to pronounce it, but I'll often say \"regex\".\n",
    "\n",
    "Regular expressions have their roots in format computer science.  The specific formal language that we use today to express them predates Python.  The exact syntax of that language has changed a lot over the years, resulting in incompatible versions of regular expressions in various tools.  Today, there is a recognised industry standard for regular expressions, and Python's `re` module adheres to this standard.\n",
    "\n",
    "Regular expression libraries exist for most programming languages, either in the standard library (as is the case with Python) or as third party libraries.  A couple of scripting-oriented languages even have regular expressions built into the core language itself.  Regular expressions are also implemented in a variety of UNIX command-line tools, like `grep` and \n",
    "`sed`.\n",
    "\n",
    "When your job involves parsing a lot of textual data (as ours do), regular expressions at first look like a panacea.  So let's start with a warning:"
   ]
  },
  {
   "cell_type": "markdown",
   "metadata": {},
   "source": [
    "<div class=\"alert alert-info\">\n",
    "\n",
    "Some people, when confronted with a problem, think “I know, I'll use regular expressions.”\n",
    "\n",
    "Now they have two problems.\n",
    "\n",
    "<div align=\"right\">\n",
    "— Jamie Zawinsky, co-creator of Netscape Navigator"
   ]
  },
  {
   "cell_type": "markdown",
   "metadata": {},
   "source": [
    "## Regular expression syntax"
   ]
  },
  {
   "cell_type": "markdown",
   "metadata": {},
   "source": [
    "The formal language used to define regular expressions has a simple yet compact syntax.  We'll look at some of the most common elements of that grammar now."
   ]
  },
  {
   "cell_type": "markdown",
   "metadata": {},
   "source": [
    "### Literals"
   ]
  },
  {
   "cell_type": "markdown",
   "metadata": {},
   "source": [
    "A *literal* part of a regular expression is a string of characters that matches the identical string in the target.  Here are some examples of literal regexes.  (The quotes are not part of the regular expression):\n",
    "\n",
    "    * \"abc\"\n",
    "    * \"    123  456\"\n",
    "    * \"This is a sentence\"\n",
    "    * \"     \"\n",
    "\n",
    "Let's look at this literal regular expression:\n",
    "\n",
    "* <tt><font color=\"red\">abc</font></tt>\n",
    "\n",
    "This table contain a list of targets that will be matched by <tt><font color=\"red\">abc</font></tt>.  In each target, the *part that will be matched* is highlighted in red:\n",
    "\n",
    "| Matching target |\n",
    "|-----------------|\n",
    "| <tt><font color=\"red\">abc</font></tt> |\n",
    "| <tt>aaa<font color=\"red\">abc</font>ccc</tt> |\n",
    "| <tt><font color=\"red\">abc</font>def</tt> |\n",
    "| <tt>123<font color=\"red\">abc</font>456</tt> |\n",
    "| <tt>&nbsp;&nbsp;&nbsp;&nbsp;&nbsp;&nbsp;&nbsp;&nbsp;<font color=\"red\">abc</font></tt> |\n",
    "| <tt>This is a sentence containing \"<font color=\"red\">abc</font>\".</tt> |\n",
    "| <tt><font color=\"red\">abc</font>abcabcabcabc</tt> |\n",
    "\n",
    "Note in the last example that the regex <tt><font color=\"red\">abc</font></tt> only matches the *first* occurrence of the string `abc` in the target!  We can use Python to test:"
   ]
  },
  {
   "cell_type": "code",
   "execution_count": 23,
   "metadata": {},
   "outputs": [
    {
     "name": "stdout",
     "output_type": "stream",
     "text": [
      "Match: \"abc\"\n",
      "Match: \"aaaabcccc\"\n",
      "Match: \"abcdef\"\n",
      "Match: \"123abc456\"\n",
      "Match: \"        abc\"\n",
      "Match: \"This is a sentence containgin \"abc\".abcabcabcabcabc\"\n"
     ]
    }
   ],
   "source": [
    "def test_targets(pattern, targets):\n",
    "    for target in targets:\n",
    "        if re.search(pattern, target):\n",
    "            print(\"Match:\", '\"' + target + '\"')\n",
    "        else:\n",
    "            print(\"No match:\", '\"' + target + '\"')\n",
    "\n",
    "matching_targets = [\"abc\",\n",
    "                    \"aaaabcccc\",\n",
    "                    \"abcdef\",\n",
    "                    \"123abc456\",\n",
    "                    \"        abc\",\n",
    "                    'This is a sentence containgin \"abc\".'\n",
    "                    \"abcabcabcabcabc\"]\n",
    "\n",
    "test_targets(\"abc\", matching_targets)"
   ]
  },
  {
   "cell_type": "markdown",
   "metadata": {},
   "source": [
    "Here are a couple of targets that will not be matched by <tt><font color=\"red\">abc</font></tt>:\n",
    "\n",
    "| Non-matching target |\n",
    "|---------------------|\n",
    "| `ABC`               |\n",
    "| `cba`               |\n",
    "| `abdc`              |\n",
    "| `ab c`              |\n",
    "| `abbc`              |\n",
    "\n",
    "Note that regular expressions are *case sensitive* by default!, so <tt><font color=\"red\">abc</font></tt> will *not* match the target `ABC`!\n",
    "\n",
    "Let's test these targets too:"
   ]
  },
  {
   "cell_type": "code",
   "execution_count": 24,
   "metadata": {},
   "outputs": [
    {
     "name": "stdout",
     "output_type": "stream",
     "text": [
      "No match: \"ABC\"\n",
      "No match: \"cba\"\n",
      "No match: \"abdc\"\n",
      "No match: \"ab c\"\n",
      "No match: \"abbc\"\n"
     ]
    }
   ],
   "source": [
    "nonmatching_targets = [\"ABC\", \"cba\", \"abdc\", \"ab c\", \"abbc\"]\n",
    "test_targets(\"abc\", nonmatching_targets)"
   ]
  },
  {
   "cell_type": "markdown",
   "metadata": {},
   "source": [
    "### Character classes"
   ]
  },
  {
   "cell_type": "markdown",
   "metadata": {},
   "source": [
    "Remember that first example when we were still discussion regular expressions in the abstract?\n",
    "\n",
    "* `MCNSSC[MV]GGMNRR`\n",
    "    \n",
    "We \"invented\" the `[MV]` syntax to mean *something that matches either a single `M` or a single `V`*.  We then saw that this syntax actually exists in regular expressions.\n",
    "\n",
    "In regex grammar, a construction like `[MV]` is called a *character class*.  **A character class always matches a single character in the target**.\n",
    "\n",
    "* A basic character class consists of any number of characters enclosed in square brackets.  E.g. `[MV]` matches any single `M` or `V`.\n",
    "\n",
    "\n",
    "* You can *negate* a character class by making the first character after the opening bracket a caret (`^`):  `[^PWM]` matches any single character that's *not* a `P`, a `W` or an `M`\n",
    "\n",
    "\n",
    "* You can create a character class to match a range of characters by separating the characters forming the start and end of the range by a dash (minus) sign (`-`):  `[A-Z]` matches any single capital letter that is in the range `A`, `B`, `C`, … through `Z`.\n",
    "\n",
    "  You can concatenate ranges and single characters within a character class:\n",
    "  \n",
    "    * `[A-Za-z]` matches any single character that's a capital *or* lower case letter\n",
    "    * `[A-Za-z0-9_]` matches any single character that's an uppercase letter, a lowercase letter, a digit, or the underscore (`_`)\n",
    "\n",
    "\n",
    "* The dot or period (`.`) simply matches *any single character*\n",
    "\n",
    "An example:  A \"Homeobox\" antennapedia-type protein signature looks like this:\n",
    "\n",
    "| Description | In regex syntax |\n",
    "|-------------|-----------------|\n",
    "| Starts with `L`, `I`, `V`, `M`, `F`, or `E` | `[LIVMFE]` |\n",
    "| …then an `F` or a `Y` | `[FY]` |\n",
    "| …then a `P`, followed by a `W`, followed by an `M` | `PWM` |\n",
    "| …and ending in `K`, `R`, `Q`, `T` or `A` | `[KRQTA]` |\n",
    "\n",
    "Put that all together, and the regular expression to match this signature looks like this:\n",
    "\n",
    "* `[LIVMFE][FY]PWM[KRQTA]`\n",
    "\n",
    "The following three short fragments of protein sequence all contain the Homeobox signature.  See if you can spot them by eye.\n",
    "\n",
    "    ...LHNEANLRIYPWMRSAGADR...\n",
    "    ...PTVGKQIFPWMKES...\n",
    "    ...VFPWMKMGGAKGGESKRTR...\n",
    "\n",
    "No, really take your time.  I'll wait.\n",
    "\n",
    "It's starting to become clear this is easier using a Python.  Let's try it.\n",
    "\n",
    "First I'll write myself a little utility function to highlight the part of the target that matches a regular expression.  (Don't worry, you're not expected to understand how this works yet!)"
   ]
  },
  {
   "cell_type": "code",
   "execution_count": 25,
   "metadata": {
    "collapsed": true
   },
   "outputs": [],
   "source": [
    "# You're not expected to understand the Python in this code box (yet!)\n",
    "from itertools import tee, zip_longest\n",
    "def highlight_match(regex, target, fg=35):\n",
    "    m = re.search(regex, target)\n",
    "    start, end = tee([0, m.start(), m.end()])\n",
    "    next(end)\n",
    "    before, match, after = [m.string[i:j] for i, j in zip_longest(start, end)]\n",
    "    return \"{before}\\x1b[01;{fg}m{match}\\x1b[00m{after}\".format(**locals())"
   ]
  },
  {
   "cell_type": "markdown",
   "metadata": {},
   "source": [
    "Now let's test it on those three protein sequences:"
   ]
  },
  {
   "cell_type": "code",
   "execution_count": 26,
   "metadata": {},
   "outputs": [
    {
     "name": "stdout",
     "output_type": "stream",
     "text": [
      "LHNEANLR\u001b[01;35mIYPWMR\u001b[00mSAGADR\n",
      "PTVGKQ\u001b[01;35mIFPWMK\u001b[00mES\n",
      "\u001b[01;35mVFPWMK\u001b[00mMGGAKGGESKRTR\n"
     ]
    }
   ],
   "source": [
    "targets = [\"LHNEANLRIYPWMRSAGADR\",\n",
    "           \"PTVGKQIFPWMKES\",\n",
    "           \"VFPWMKMGGAKGGESKRTR\"]\n",
    "\n",
    "homeobox = r\"[LIVMFE][FY]PWM[KRQTA]\"\n",
    "\n",
    "for target in targets:\n",
    "    print(highlight_match(homeobox, target))"
   ]
  },
  {
   "cell_type": "markdown",
   "metadata": {},
   "source": [
    "Previous challenge too easy?  The same signature is also present in the protein sequence below.  Can you spot it by eye **now**?"
   ]
  },
  {
   "cell_type": "code",
   "execution_count": 27,
   "metadata": {
    "collapsed": true
   },
   "outputs": [],
   "source": [
    "prot_seq = \"\"\"\n",
    "MDPDCFAMSS YQFVNSLASC YPQQMNPQQN HPGAGNSSAG GSGGGAGGSG GVVPSGGTNG\n",
    "GQGSAGAATP GANDYFPAAA AYTPNLYPNT PQPTTPIRRL ADREIRIWWT TRSCSRSDCS\n",
    "CSSSSNSNSS NMPMQRQSCC QQQQQLAQQQ HPQQQQQQQQ ANISCKYAND PVTPGGSGGG\n",
    "GVSGSNNNNN SANSNNNNSQ SLASPQDLST RDISPKLSPS SVVESVARSL NKGVLGGSLA\n",
    "AAAAAAGLNN NHSGSGVSGG PGNVNVPMHS PGGGDSDSES DSGNEAGSSQ NSGNGKKNPP\n",
    "QIYPWMKRVH LGTSTVNANG ETKRQRTSYT RYQTLELEKE FHFNRYLTRR RRIEIAHALC\n",
    "LTERQIKIWF QNRRMKWKKE HKMASMNIVP YHMGPYGHPY HQFDIHPSQF AHLSA\n",
    "\"\"\""
   ]
  },
  {
   "cell_type": "code",
   "execution_count": 28,
   "metadata": {},
   "outputs": [
    {
     "name": "stdout",
     "output_type": "stream",
     "text": [
      "\n",
      "MDPDCFAMSS YQFVNSLASC YPQQMNPQQN HPGAGNSSAG GSGGGAGGSG GVVPSGGTNG\n",
      "GQGSAGAATP GANDYFPAAA AYTPNLYPNT PQPTTPIRRL ADREIRIWWT TRSCSRSDCS\n",
      "CSSSSNSNSS NMPMQRQSCC QQQQQLAQQQ HPQQQQQQQQ ANISCKYAND PVTPGGSGGG\n",
      "GVSGSNNNNN SANSNNNNSQ SLASPQDLST RDISPKLSPS SVVESVARSL NKGVLGGSLA\n",
      "AAAAAAGLNN NHSGSGVSGG PGNVNVPMHS PGGGDSDSES DSGNEAGSSQ NSGNGKKNPP\n",
      "Q\u001b[01;35mIYPWMK\u001b[00mRVH LGTSTVNANG ETKRQRTSYT RYQTLELEKE FHFNRYLTRR RRIEIAHALC\n",
      "LTERQIKIWF QNRRMKWKKE HKMASMNIVP YHMGPYGHPY HQFDIHPSQF AHLSA\n",
      "\n"
     ]
    }
   ],
   "source": [
    "print(highlight_match(homeobox, prot_seq))"
   ]
  },
  {
   "cell_type": "markdown",
   "metadata": {},
   "source": [
    "And that, ladies and gentlemen, is why we have computers."
   ]
  },
  {
   "cell_type": "markdown",
   "metadata": {},
   "source": [
    "### Character class shortcuts"
   ]
  },
  {
   "cell_type": "markdown",
   "metadata": {},
   "source": [
    "Some character classes are so useful that there are predefined shortcuts for them.\n",
    "\n",
    "The simplest and most useful of these is the period (“`.`”) which matches *any single character* in the target — we've already mentioned that.\n",
    "\n",
    "The pattern `GC.GC` would match all `GCAGC`, `GCTGC`, `GCGGC` and `GCCGC`. However, the period would also match any character which is not a DNA base, or even a letter. Therefore, the whole pattern would also match `GCFGC`, `GC&GC` and `GC9GC`.\n",
    "\n",
    "Here are some examples of patterns that include the dot, and what they match in a variety of targets:"
   ]
  },
  {
   "cell_type": "markdown",
   "metadata": {},
   "source": [
    "| `.` | matches |\n",
    "|---|---|\n",
    "|| <code><span style=\"background-color: #FFFF00\">a</span></code> |\n",
    "|| <code><span style=\"background-color: #FFFF00\">a</span>bc</code> |\n",
    "|| <code><span style=\"background-color: #FFFF00\">1</span>23</code> |\n",
    "|| <code><span style=\"background-color: #FFFF00\">a</span></code> |\n",
    "|| <code><span style=\"background-color: #FFFF00\">&nbsp;</span>&nbsp;&nbsp;&nbsp;abc</code> |"
   ]
  },
  {
   "cell_type": "markdown",
   "metadata": {},
   "source": [
    "| `..` | matches | does not match |\n",
    "|---|---|---|\n",
    "|| <code><span style=\"background-color: #FFFF00\">ab</span></code> | `a` |\n",
    "|| <code><span style=\"background-color: #FFFF00\">ab</span>cdef</code> | `1` |\n",
    "|| <code><span style=\"background-color: #FFFF00\">&nbsp;a</span>bc</code> | `q` |"
   ]
  },
  {
   "cell_type": "markdown",
   "metadata": {},
   "source": [
    "| `a.` | matches | does not match |\n",
    "|---|---|---|\n",
    "|| <code><span style=\"background-color: #FFFF00\">a1</span></code> | `bc ` |\n",
    "|| <code><span style=\"background-color: #FFFF00\">ab</span>c</code> | `a` |\n",
    "|| <code>in&nbsp;<span style=\"background-color: #FFFF00\">a&nbsp;</span>bin</code> | `cba` |\n",
    "|| <code>T<span style=\"background-color: #FFFF00\">an</span>ia</code> | `Sonia` |"
   ]
  },
  {
   "cell_type": "markdown",
   "metadata": {},
   "source": [
    "These other character class shortcuts all start with a backslash (“`\\`”) followed by a character, i.e they look very similar to the special characters Python uses in its strings to indicate newlines, tabs, etc.  Be careful not to confuse them.  A regular expression pattern may be represented in Python as a string, but the contents of that pattern is interpreted by the regular expression engine.\n",
    "\n",
    "Here are some of the most commonly-used character class abbreviations:\n",
    "\n",
    "| shortcut | description                 | equivalent to    |\n",
    "| ---------|-----------------------------|------------------|\n",
    "| `\\w`     | alphanumeric and underscore | `[A-Za-z0-9_]`      |\n",
    "| `\\W`     | non-alphanumeric            | `[^A-Za-z0-9_]`     |\n",
    "| `\\s`     | whitespace                  | `[ \\t\\n\\r\\f\\v]`  |\n",
    "| `\\S`     | non-whitespace              | `[^ \\t\\n\\r\\f\\v]` |\n",
    "| `\\d`     | decimal digit               | `[0-9]`          |\n",
    "| `\\D`     | non-digit                   | `[^0-9]`         |\n",
    "\n"
   ]
  },
  {
   "cell_type": "markdown",
   "metadata": {},
   "source": [
    "### Aside: Raw strings"
   ]
  },
  {
   "cell_type": "markdown",
   "metadata": {},
   "source": [
    "As we've just seen, there are some regular expression patterns (like character class shortcuts) that contains backslash (“`\\`”) characters.  Recall from the section on strings and text that certain combinations starting in `\\` are interpreted by Python to have special meaning. For example, `\\n` means start a new line, and `\\t` means insert a tab character.\n",
    "\n",
    "Obviously, when we define a regular expression pattern, we'd prefer that Python **does not** interpret its own set of special characters, since we need the pattern — backslashes and all — to be passed to the regex engine.\n",
    "\n",
    "Python’s way round this problem is to have a special way of defining strings: If we put the letter `r` immediately before the opening quotation mark, then any special characters inside the string are ignored:"
   ]
  },
  {
   "cell_type": "code",
   "execution_count": 29,
   "metadata": {},
   "outputs": [
    {
     "name": "stdout",
     "output_type": "stream",
     "text": [
      "one\\ttwo\\n\n"
     ]
    }
   ],
   "source": [
    "print(r\"one\\ttwo\\n\")"
   ]
  },
  {
   "cell_type": "markdown",
   "metadata": {},
   "source": [
    "The `r` stands for \"raw\", which is Python’s description for a string where special characters are ignored. Notice that the `r` goes outside the quotation marks – it is not part of the string itself. We can see from the output that the above code prints out the string just as we’ve written it without any tabs or new lines.  (Note that you can write raw strings with double quotes, single quotes or triple quotes, just like any other Python string.)\n",
    "\n",
    "It's a good idea to get into the habit of using raw strings to define regular expressions, to prohibit Python from misinterpreting any special characters in those regular expressions."
   ]
  },
  {
   "cell_type": "markdown",
   "metadata": {},
   "source": [
    "### Multipliers"
   ]
  },
  {
   "cell_type": "markdown",
   "metadata": {},
   "source": [
    "A character class, as we've seen, matches only a single character in the target, irrespective of whether it's a manually created character class like `[^PWM]`, a character class abbreviation like `\\S`, or the dot (`.`).\n",
    "\n",
    "What if we want to match two or more consecutive characters of belonging to the same character class?  In that case, we have to use a *multiplier*.\n",
    "\n",
    "A multiplier is written directly after a character class **or** a literal character.  It matches zero or more of the preceding character or character class.  Basic multipliers are written in curly braces, as follows:\n",
    "\n",
    "| syntax | description |\n",
    "|---|---|\n",
    "| `{n}` | match exactly `n` times |\n",
    "| `{n,}` | match `n` or more times |\n",
    "| `{,m}` | match between 0 and `m` times |\n",
    "| `{n,m}` | match between `n` and `m` times |\n",
    "\n",
    "So this regular expression:\n",
    "\n",
    "    [FILAPVM]{5}\n",
    "    \n",
    "…is equivalent to this regular expression:\n",
    "\n",
    "    [FILAPVM][FILAPVM][FILAPVM][FILAPVM][FILAPVM]\n",
    "\n",
    "Here are some examples of targets it matches:\n",
    "\n",
    "| `[FILAPVM]{5}` | matches |\n",
    "|---|---|\n",
    "|| <code><span style=\"background-color: #FFFF00\">AAAAA</span></code> |\n",
    "|| <code><span style=\"background-color: #FFFF00\">AAPAP</span></code> |\n",
    "|| <code><span style=\"background-color: #FFFF00\">LAPMA</span>VAILA</code> |\n",
    "|| <code><span style=\"background-color: #FFFF00\">VILLA</span>MAP</code> |\n",
    "\n",
    "Another example:\n",
    "\n",
    "| `A{3,5}` | matches | does not match |\n",
    "|---|---|---|\n",
    "|| <code><span style=\"background-color: #FFFF00\">AAA</span></code> | `AA` |\n",
    "|| <code><span style=\"background-color: #FFFF00\">AAAA</span></code> | `ATA` |\n",
    "|| <code><span style=\"background-color: #FFFF00\">AAAAA</span>A</code> | `ATTAATA` |\n",
    "\n",
    "Some multipliers are used so often that there are special abbreviations for them:\n",
    "\n",
    "| syntax | meaning | equivalent to |\n",
    "|--------|---------|---------------|\n",
    "| `*`    | match 0 or more times | `{0,}` |\n",
    "| `+`    | match 1 or more times | `{1,}` |\n",
    "| `?`    | match 0 or 1 times, i.e. “optional” | `{0,1}` |"
   ]
  },
  {
   "cell_type": "markdown",
   "metadata": {},
   "source": [
    "A question mark (“`?`”) immediately following a literal character or character class means that that character (or class) is optional – it can match either zero or one times. So in the pattern `GAT?C` the `T` is optional, and the pattern will match either `GATC` or `GAC`.\n",
    "\n",
    "A plus sign (“`+`”) immediately following a character or group means that the character or group must be present but can be repeated any number of times – in other words, it will match one or more times. For example, the pattern `GGGA+TTT` will match three `G`s, followed by one or more `A`s, followed by three `T`s. So it will match `GGGATTT`, `GGGAATTT`, `GGGAAATTT`, etc., but not `GGGTTT`.\n",
    "\n",
    "An asterisk (“`*`”) immediately following a character or group means that the character or group is optional, but can also be repeated. In other words, it will match zero or more times. For example, the pattern `GGGA*TTT` will match three `G`s, followed by zero or more `A`s, followed by three `T`s. So it will match `GGGTTT`, `GGGATTT`, `GGGAATTT`, etc.\n",
    "\n",
    "If we want to specify a different number of repeats, we have to use curly braces. Following a literal character or character class with a single number inside curly brackets will match exactly that number of repeats. For example, the pattern `GA{5}T` will match `GAAAAAT` but not `GAAAAT` or `GAAAAAAT`. Following a character or group with a pair of numbers inside curly brackets separated with a comma allows us to specify an acceptable range of number of repeats. For example, the pattern `GA{2,4}T` will match `GAAT`, `GAAAT` and `GAAAAT` but not `GAT` or `GAAAAAT`."
   ]
  },
  {
   "cell_type": "markdown",
   "metadata": {},
   "source": [
    ">Some of these pattern characters — specifically the `?` and `*` — look a lot like the characters we type on the UNIX shell command line to match filenames.  But *they're not the same thing*, so don't confuse them.  The so-called \"globbing\" syntax used by the shell is not the same as regular expressions, and is much more limited."
   ]
  },
  {
   "cell_type": "markdown",
   "metadata": {},
   "source": [
    "### Groups"
   ]
  },
  {
   "cell_type": "markdown",
   "metadata": {},
   "source": [
    "Square brackets, as we've seen, denote character classes. Parentheses, on the other hand, merely *group* characters (or character classes).  By themselves they don't change how matching is performed, but they can be used to group characters for multipliers.  Some examples:\n",
    "\n",
    "| regex with multiplier | equivalent to |\n",
    "|---|---|\n",
    "| `[CG]{5}` | `[CG][CG][CG][CG][CG]` |\n",
    "| `CG{5}` | `CGGGGG` |\n",
    "| `(CG){5}` | `CGCGCGCGCG` |\n",
    "\n",
    "If we want to apply a multiplier (say, `?`) to more than one character, we can group the characters in parentheses. For example, in the pattern `GGG(AAA)?TTT` the group of three `A`s is optional, so the pattern will match either `GGGAAATTT` or `GGGTTT`.\n",
    "\n",
    "To state it more plainly:  A multiplier applies to either…\n",
    "\n",
    "* the directly preceding literal character, or\n",
    "* the directly preceding character class in `[]`, or\n",
    "* the directly preceding group in `()`."
   ]
  },
  {
   "cell_type": "markdown",
   "metadata": {},
   "source": [
    "### Alternation"
   ]
  },
  {
   "cell_type": "markdown",
   "metadata": {},
   "source": [
    "A vertical bar (“`|`”) *within a group* (delimited by parentheses) denotes *alternatives*.\n",
    "\n",
    "For instance, a stop codon can be `TAA`, `TAG` or `TGA`.\n",
    "\n",
    "We might try to write a pattern to match a stop codon like this:\n",
    "\n",
    "    T[AG][AG]\n",
    "    \n",
    "…but this would match (for example) `TGG`, which is wrong!\n",
    "\n",
    "To write a regular expression pattern to match a stop codon we have to use alternation syntax:\n",
    "\n",
    "    (TAA|TAG|TGA)\n",
    "    \n",
    "Or also:\n",
    "\n",
    "    T(AA|AG|GA)\n",
    "\n",
    "Note that a character class like `[KRQTA]` can be written in terms of alternation as `(K|R|Q|T|A)`, which works but is more verbose.  On the other hand, alternation syntax offers no way to write negated character classes (like `[^PWC]`) or ranges (like `[A-Z]`)."
   ]
  },
  {
   "cell_type": "markdown",
   "metadata": {},
   "source": [
    "### Opportunism and greediness"
   ]
  },
  {
   "cell_type": "markdown",
   "metadata": {},
   "source": [
    "Regular expressions are *opportunistic*.  They consume (match) the **first** substring of the target that matches the pattern:\n",
    "\n",
    "| regex | matches |\n",
    "|---|---|\n",
    "| `abc` | <code><span style=\"background-color: #FFFF00\">abc</span>abcabc</code> |\n",
    "| `..` | <code><span style=\"background-color: #FFFF00\">ab</span>cabcabc</code> |\n",
    "\n",
    "Multipliers are *greedy*.  They consume (match) as many characters of the target as they can:\n",
    "\n",
    "| regex | matches |\n",
    "|---|---|\n",
    "| `a*x` | <code><span style=\"background-color: #FFFF00\">aaax</span>aaxax</code>\n",
    "| `a.*x` | <code><span style=\"background-color: #FFFF00\">aaaxaaxax</span></code> |\n",
    "\n",
    ">Python's `re` module offers ways to change some of these aspects of regular expressions.  For instance, one can toggle greediness on and off.  We won't cover that in this course, but you can find out how in the `re` module's documentation."
   ]
  },
  {
   "cell_type": "markdown",
   "metadata": {},
   "source": [
    "### Anchors"
   ]
  },
  {
   "cell_type": "markdown",
   "metadata": {},
   "source": [
    "*Anchors* are different from literal characters or character classes, in that they match *positions* rather than *characters* in the target string. Here are some of the more common anchors:\n",
    "\n",
    "| anchor | description |\n",
    "|---|---|\n",
    "| `^` | match at the beginning of the target |\n",
    "| `$` | match at the end of the target |\n",
    "| `\\b` | match beginning or end of a word |\n",
    "| `\\B` | match zero-length string not at beginning or end of a word |\n",
    "\n",
    "Some examples:\n",
    "\n",
    "| regex | description |\n",
    "|---|---|\n",
    "| `^A` | start with an `A` |\n",
    "| `^[MPK]` | start with an `M`, `P` or `K` |\n",
    "| `E$` | end with an `E` |\n",
    "| `[QSN]$` | end with a `Q`, `S` or `N` |\n",
    "| `^[^P]` | start with anything *except* `P` |\n",
    "| `^A.*E$` | matches entire target that starts with `A` and ends with `E` |\n",
    "\n",
    "Some examples of regular expressions using anchors:\n",
    "\n",
    "| regex | matches | doesn't match |\n",
    "|--|--|--|\n",
    "| `^abc` | <code><span style=\"background-color: #FFFF00\">abc</span></code> | &nbsp;abc |\n",
    "| `^abc` | <code><span style=\"background-color: #FFFF00\">abc</span>def</code> | xabc |\n",
    "| `^a.*e$` | <code><span style=\"background-color: #FFFF00\">ae</span></code> | abc |\n",
    "| `^a.*e$` | <code><span style=\"background-color: #FFFF00\">abcde</span></code> | abcdef |\n",
    "| `^$` | `<empty string>` | `<anything else>` |"
   ]
  },
  {
   "cell_type": "markdown",
   "metadata": {},
   "source": [
    "### Putting it all together"
   ]
  },
  {
   "cell_type": "markdown",
   "metadata": {},
   "source": [
    "The real power of regular expressions comes from combining these tools. We can use multipliers together with alternations and character classes to specify very flexible patterns. For example, here’s a complex pattern to identify full-length eukaryotic messenger RNA sequences:\n",
    "\n",
    "    ^ATG[ATGC]{30,1000}A{5,10}$\n",
    "\n",
    "Reading the pattern from left to right, it will match:\n",
    "\n",
    "* an `ATG` start codon at the beginning of the sequence\n",
    "* followed by between 30 and 1000 bases which can be `A`, `T`, `G` or `C`\n",
    "* followed by a poly-`A` tail of between 5 and 10 bases at the end of the sequence\n",
    "\n",
    "As you can see, regular expressions can be quite tricky to read until you’re familiar with them! However, it’s well worth investing a bit of time learning to use them, as the same notation is used across multiple different tools. The regular expression skills that you learn in Python are transferable to other programming languages, command line tools, and text editors.\n",
    "\n",
    "The features we’ve discussed above are the ones most useful in biology, and are sufficient to tackle all the exercises at the end of the section. However, there are many more regular expression features available in Python. If you want to become a regular expression master, it’s worth reading up on greedy vs. minimal quantifiers, back-references, lookahead and lookbehind assertions, and built-in character classes."
   ]
  },
  {
   "cell_type": "markdown",
   "metadata": {},
   "source": [
    "## Using the `re` module"
   ]
  },
  {
   "cell_type": "markdown",
   "metadata": {},
   "source": [
    "### `re.search()`"
   ]
  },
  {
   "cell_type": "markdown",
   "metadata": {},
   "source": [
    "Now that we've covered the basics of regular expression syntax, let's get back to Python's standard library `re` module and have a look at some of the tools it contains.\n",
    "\n",
    "We've already seen the simplest regular expression tool:  `re.search()` is function that matches a regular expression pattern against a target string, returning a match object if it matches, or else `None`.\n",
    "\n",
    "It takes two arguments, both strings. The first argument is the pattern that you want to search for (the regular expression, usually expressed in a raw string), and the second argument is the target string that you want to search in. For example, here’s how we test if a DNA sequence contains an EcoRI restriction site:"
   ]
  },
  {
   "cell_type": "code",
   "execution_count": null,
   "metadata": {},
   "outputs": [],
   "source": [
    "dna = \"ATCGCGAATTCAC\"\n",
    "if re.search(r\"GAATTC\", dna):\n",
    "    print(\"restriction site found!\")"
   ]
  },
  {
   "cell_type": "markdown",
   "metadata": {},
   "source": [
    "Notice that we’ve used the raw notation for the pattern, even though it’s not strictly necessary as it doesn’t contain any special characters.  It's just a good habit to get into when writing regular expression patterns!\n",
    "\n",
    "Also notice that this simple example was not a good use of regular expressions, since it would've been able to perform the same search using the `in` operator, or even the `find` method of a string, which is more efficient and doesn't require importing the `re` module:"
   ]
  },
  {
   "cell_type": "code",
   "execution_count": null,
   "metadata": {},
   "outputs": [],
   "source": [
    "if \"GAATTC\" in dna:\n",
    "    print(\"restriction site found!\")"
   ]
  },
  {
   "cell_type": "code",
   "execution_count": null,
   "metadata": {},
   "outputs": [],
   "source": [
    "if dna.find(\"GAATTC\") != -1:\n",
    "    print(\"restriction site found!\")"
   ]
  },
  {
   "cell_type": "markdown",
   "metadata": {},
   "source": [
    "However, we'll soon encounter examples where the flexibility and power of regular expressions will allow us to tackle problems that `in` or the `find` method of a string can't solve.\n",
    "\n",
    ">The `re` module also includes a function `re.match()` which works almost exactly like `re.search()`, except it always matches only at the beginning of the target string.  Personally, I'm not 100% sure why `re.match()` even exists.  I just mention it so you don't get confused between the two."
   ]
  },
  {
   "cell_type": "markdown",
   "metadata": {},
   "source": [
    "### Extracting the part of the string that matched"
   ]
  },
  {
   "cell_type": "markdown",
   "metadata": {},
   "source": [
    "In the section above we used `re.search()` as the condition in an `if` statement to decide whether or not a string contained a pattern. Often in our programs, we want to find out not only if a pattern matched, but what part of the string was matched. To do this, we need to store the match object returned by `re.search()`, then use its `group()` method to find the matching parts of the target.\n",
    "\n",
    "Tthe value that's actually returned by `re.search()` is a match object – a new object type defined in the `re` module. A match object doesn’t represent a simple thing, like a number or string. Instead, it represents something abstract:  The results of a regular expression search. A match object has a number of useful methods for getting data out of it.\n",
    "\n",
    "One such method is `group()`. If we call this method on a match object that represents the result of a regular expression search, we get the portion of the target string that matched the pattern:"
   ]
  },
  {
   "cell_type": "code",
   "execution_count": 30,
   "metadata": {},
   "outputs": [
    {
     "name": "stdout",
     "output_type": "stream",
     "text": [
      "GACGTAC\n"
     ]
    }
   ],
   "source": [
    "dna = \"ATGACGTACGTACGACTG\"\n",
    " \n",
    "# store the match object in the variable m\n",
    "m = re.search(r\"GA[ATGC]{3}AC\", dna)\n",
    "print(m.group())"
   ]
  },
  {
   "cell_type": "markdown",
   "metadata": {},
   "source": [
    "In the above code, we’re searching inside a DNA sequence for `GA`, followed by exactly three bases, followed by `AC`. By calling the group method on the resulting match object, we can see the part of the DNA sequence that matched, and figure out what the middle three bases were:\n",
    "\n",
    "    GACGTAC\n",
    "\n",
    "What if we want to extract more than one bit of the pattern? Say we want to match this pattern:\n",
    "\n",
    "    GA[ATGC]{3}AC[ATGC]{2}AC\n",
    "\n",
    "That’s `GA`, followed by three bases, followed by `AC`, followed by two bases, followed by `AC` again. We can group the bits of the pattern that we want to extract with parentheses.  Adding these groups don't impact what the regular expression will or won't match, in this case, but they do influence what will be returned by the match object's `group` method.  We say that the groups *capture* bits of the target string.\n",
    "\n",
    "    GA([ATGC]{3})AC([ATGC]{2})AC\n",
    "\n",
    "We can now refer to the captured bits of the pattern by supplying an argument to the group method. `group(1)` will return the bit of the string matched by the section of the pattern in the first set of parentheses, `group(2)` will return the bit matched by the second, etc.:"
   ]
  },
  {
   "cell_type": "code",
   "execution_count": 31,
   "metadata": {},
   "outputs": [
    {
     "name": "stdout",
     "output_type": "stream",
     "text": [
      "entire match:\t GACGTACGTAC\n",
      "first bit:\t CGT\n",
      "second bit:\t GT\n"
     ]
    }
   ],
   "source": [
    "dna = \"ATGACGTACGTACGACTG\"\n",
    " \n",
    "# store the match object in the variable m\n",
    "m = re.search(r\"GA([ATGC]{3})AC([ATGC]{2})AC\", dna)\n",
    "print(\"entire match:\\t\", m.group())\n",
    "print(\"first bit:\\t\", m.group(1))\n",
    "print(\"second bit:\\t\", m.group(2))"
   ]
  },
  {
   "cell_type": "markdown",
   "metadata": {},
   "source": [
    "The output shows that the three bases in the first variable section were `CGT`, and the two bases in the second variable section were `GT`.\n",
    "\n",
    "As well as containing information about the contents of a match, the match object also holds information about the position of the match. The `start` and `end` methods get the positions of the start and end of the pattern on the sequence:"
   ]
  },
  {
   "cell_type": "code",
   "execution_count": null,
   "metadata": {},
   "outputs": [],
   "source": [
    "dna = \"ATGACGTACGTACGACTG\"\n",
    "m = re.search(r\"GA([ATGC]{3})AC([ATGC]{2})AC\", dna)\n",
    "print(\"start:\\t\", m.start())\n",
    "print(\"end:\\t\", m.end())"
   ]
  },
  {
   "cell_type": "markdown",
   "metadata": {},
   "source": [
    "Remember that we start counting from zero, so in this case, the match starting at the third base has a start position of two.\n",
    "\n",
    "We can get the start and end positions of individual groups by supplying a number as the argument to `start` and `end`:"
   ]
  },
  {
   "cell_type": "code",
   "execution_count": null,
   "metadata": {},
   "outputs": [],
   "source": [
    "dna = \"ATGACGTACGTACGACTG\"\n",
    "m = re.search(r\"GA([ATGC]{3})AC([ATGC]{2})AC\", dna)\n",
    "print(\"start:\", m.start())\n",
    "print(\"end:\", m.end())\n",
    "print(\"group one start:\", m.start(1))\n",
    "print(\"group one end:\", m.end(1))\n",
    "print(\"group two start:\", m.start(2))\n",
    "print(\"group two end:\", m.end(2))"
   ]
  },
  {
   "cell_type": "markdown",
   "metadata": {},
   "source": [
    "In this particular case, we could figure out the start and end positions of the individual groups from the start and end positions of the whole pattern, but that might not always be possible for patterns that have variable length repeats."
   ]
  },
  {
   "cell_type": "markdown",
   "metadata": {},
   "source": [
    "### Splitting a string using a regular expression"
   ]
  },
  {
   "cell_type": "markdown",
   "metadata": {},
   "source": [
    "Occasionally it can be useful to split a string using a regular expression pattern as the delimiter. The normal `split()` method of string objects doesn't allow this, but the `re` module has a `split()` function of its own that uses a regular expression pattern as the delimiter. The first argument is the pattern (to use as delimiter), the second argument is the string to be split.\n",
    "\n",
    "Imagine we have a consensus DNA sequence that contains ambiguity codes, and we want to extract all runs of contiguous unambiguous bases. We need to split the DNA string wherever we see a base that *isn't* `A`, `T`, `G` or `C`:"
   ]
  },
  {
   "cell_type": "code",
   "execution_count": null,
   "metadata": {},
   "outputs": [],
   "source": [
    "dna = \"ACTNGCATRGCTACGTYACGATSCGAWTCG\"\n",
    "runs = re.split(r\"[^ATGC]\", dna)\n",
    "print(runs)"
   ]
  },
  {
   "cell_type": "markdown",
   "metadata": {},
   "source": [
    "Recall that putting a caret (“`^`”) at the start of a character class negates it. The output shows how the function works – the return value is a list of strings."
   ]
  },
  {
   "cell_type": "markdown",
   "metadata": {},
   "source": [
    "### Finding multiple matches"
   ]
  },
  {
   "cell_type": "markdown",
   "metadata": {},
   "source": [
    "The examples we’ve seen so far deal with cases where we’re only interested in a single occurrence of a pattern in a string. If instead we want to find *every* place where a pattern occurs in a string, there are two functions in the re module to help us.\n",
    "\n",
    "`re.findall()` returns a list of all matches of a pattern in a string. The first argument is the pattern, and the second argument is the target string. Say we want to find all runs of `A` and `T` in a DNA sequence longer than five bases:"
   ]
  },
  {
   "cell_type": "code",
   "execution_count": null,
   "metadata": {},
   "outputs": [],
   "source": [
    "dna = \"ACTGCATTATATCGTACGAAATTATACGCGCG\"\n",
    "runs = re.findall(r\"[AT]{6,}\", dna)\n",
    "print(runs)"
   ]
  },
  {
   "cell_type": "markdown",
   "metadata": {},
   "source": [
    "Notice that the return value of the `findall()` method is not a match object – it is a straightforward list of strings.  Thus we have no way to extract the positions. If we want to do anything more complicated than simply extracting the text of the matches, we need to use the `re.finditer()` method. `finditer()` returns a generator object that generates match objects.  So so to do anything useful with it, we need to iterate over it:"
   ]
  },
  {
   "cell_type": "code",
   "execution_count": null,
   "metadata": {},
   "outputs": [],
   "source": [
    "dna = \"ACTGCATTATATCGTACGAAATTATACGCGCG\"\n",
    "runs = re.finditer(r\"[AT]{6,}\", dna)\n",
    "\n",
    "for match in runs:\n",
    "    run_start = match.start()\n",
    "    run_end = match.end()\n",
    "    print(\"AT rich region from\", run_start, \"to\", run_end)"
   ]
  },
  {
   "cell_type": "markdown",
   "metadata": {},
   "source": [
    "As we can see from the output, `finditer` gives us considerably more flexibility that `findall`."
   ]
  },
  {
   "cell_type": "markdown",
   "metadata": {},
   "source": [
    "---"
   ]
  },
  {
   "cell_type": "markdown",
   "metadata": {},
   "source": [
    "## Exercises"
   ]
  },
  {
   "cell_type": "markdown",
   "metadata": {},
   "source": [
    "### 1. Accession names"
   ]
  },
  {
   "cell_type": "markdown",
   "metadata": {},
   "source": [
    "Here’s a list of made-up gene accession names:\n",
    "\n",
    "    xkn59438, yhdck2, eihd39d9, chdsye847, hedle3455, xjhd53e, 45da, de37dp\n",
    "\n",
    "Write a program that will print only the accession names that satisfy the following criteria – treat each criterion separately:\n",
    "\n",
    "* contain the number 5\n",
    "* contain the letter `d` or `e`\n",
    "* contain the letters `d` and `e` in that order\n",
    "* contain the letters `d` and `e` in that order with a single letter between them\n",
    "* contain both the letters `d` and `e` in any order\n",
    "* start with `x` or `y`\n",
    "* start with `x` or `y` and end with `e`\n",
    "* contain three or more numbers in a row\n",
    "* end with `d` followed by either `a`, `r` or `p`"
   ]
  },
  {
   "cell_type": "code",
   "execution_count": null,
   "metadata": {
    "collapsed": true
   },
   "outputs": [],
   "source": [
    "# Exercise 1\n",
    "accessionns = backslash\n",
    "\"xkn59438, x\".split(',')\n",
    "\n",
    "regexes = [r'']"
   ]
  },
  {
   "cell_type": "markdown",
   "metadata": {},
   "source": [
    "### 2. Double digest"
   ]
  },
  {
   "cell_type": "markdown",
   "metadata": {},
   "source": [
    "In the `files` subdirectory there’s a file called `regex_dna.txt` which contains a made-up DNA sequence. Predict the fragment lengths that we will get if we digest the sequence with two made-up restriction enzymes – AbcI, whose recognition site is `ANT*AAT`, and AbcII, whose recognition site is `GCRW*TG` (asterisks indicate the position of the cut site)."
   ]
  },
  {
   "cell_type": "code",
   "execution_count": null,
   "metadata": {
    "collapsed": true
   },
   "outputs": [],
   "source": [
    "%cd files"
   ]
  },
  {
   "cell_type": "code",
   "execution_count": null,
   "metadata": {
    "collapsed": true
   },
   "outputs": [],
   "source": [
    "# Exercise 2"
   ]
  },
  {
   "cell_type": "markdown",
   "metadata": {},
   "source": [
    "### 3. Open reading frames\n",
    "\n",
    "Regular expressions are very useful for detecting all kinds of sequence features. In this exercise we’ll use them to detect open reading frames. \n",
    "\n",
    "A DNA sequence can be read in one of three frames (ignoring the reverse direction for the purpose of this exercise):\n",
    "\n",
    "```\n",
    "Sequence:     ATGCCCAAGCTGAATAGCGTAGAGGGGTTTTAA\n",
    "\n",
    "Frame 1: ATG CCC AAG CTG AAT AGC GTA GAG GGG TTT TAA\n",
    "Frame 2:  TGC CCA AGC TGA ATA GCG TAG AGG GGT TTT AA\n",
    "Frame 3:   GCC CAA GCT GAA TAG CGT AGA GGG GTT TTA A\n",
    "```\n",
    "\n",
    "The region of the nucleotide sequences from the start codon to the stop codon is called the open reading frame (ORF).\n",
    "\n",
    "* The start codon is `ATG`.\n",
    "* A stop codon is `TAA`, `TAG` or `TGA`.\n",
    "\n",
    "In the example above, Frame 1 is contains the longest (and only) open reading frame. In this case, it extends over the entire length of the sequence, which starts with a start codon and ends with a stop codon.\n",
    "\n",
    "**Write a function which takes a sequence as argument, and determines which of the three (forward) reading frames contains the longest open reading frame. Use a regular expression.**\n",
    "\n",
    "Assume for the sake of simplicity that each frame will contain at most one ORF.\n",
    "\n",
    "*Hints:*\n",
    "\n",
    "* Keep the documentation of the re module open throughout!\n",
    "\n",
    "\n",
    "* You can your regular expression to a `RegexObject` by using `re.compile()`. The `search()` method of a `RegexObject` takes a useful optional second parameter which indicates the index in the string where the search is to start. If `search()` finds a match, it returns a `MatchObject`. (This parameter is missing from the basic `search()` function in the `re` module.)\n",
    "\n",
    "\n",
    "* A `MatchObject` has a `group()` method which can be used to extract parts of the target string matched by parenthesised sections of the regular expression pattern. The `re` module’s documentation has some clear examples explaining this concept.\n",
    "\n",
    "\n",
    "* In regex syntax, you can’t apply a multiplier directly to another multiplier. But you can do so if you group the “inner” multiplier (and the pattern it applies to).\n",
    "\n",
    "  In other words, if you want to match one or more groups of three characters (each of which can be `A`, `T`, `G` or `C`) you can do it with the following pattern:\n",
    "      ([ACGT]{3})+\n",
    "      \n",
    "  (Oops, this hint just gave the entire game away!)\n",
    "  \n",
    "Finally, test your function using some sequences you’ve constructed manually."
   ]
  },
  {
   "cell_type": "code",
   "execution_count": null,
   "metadata": {
    "collapsed": true
   },
   "outputs": [],
   "source": [
    "# Exercise 3"
   ]
  }
 ],
 "metadata": {
  "kernelspec": {
   "display_name": "Python 3",
   "language": "python",
   "name": "python3"
  },
  "language_info": {
   "codemirror_mode": {
    "name": "ipython",
    "version": 3
   },
   "file_extension": ".py",
   "mimetype": "text/x-python",
   "name": "python",
   "nbconvert_exporter": "python",
   "pygments_lexer": "ipython3",
   "version": "3.6.1"
  }
 },
 "nbformat": 4,
 "nbformat_minor": 1
}

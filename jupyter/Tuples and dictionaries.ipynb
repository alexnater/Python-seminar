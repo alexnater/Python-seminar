{
 "cells": [
  {
   "cell_type": "markdown",
   "metadata": {},
   "source": [
    "<div align=right>\n",
    "<img src=\"img/logosmall.png\" width=\"100px\" align=right>\n",
    "</div>"
   ]
  },
  {
   "cell_type": "markdown",
   "metadata": {},
   "source": [
    "# Tuples and dictionaries"
   ]
  },
  {
   "cell_type": "markdown",
   "metadata": {},
   "source": [
    "<div class=\"alert alert-warning\">\n",
    "Parts of this section have been adapted from copyrighted material in *Jones, M: Python for Biologists: A complete programming course for beginners (2013)*.\n",
    "\n",
    "**Please do not distribute it!**"
   ]
  },
  {
   "cell_type": "markdown",
   "metadata": {},
   "source": [
    "The core Python language contains a number of *data structures* (or *compound types*).  We've already encountered one:  The *list*.  The time has come to learn some further built-in data structures:  The *tuple* and the *dictionary*.\n",
    "\n",
    "Dictionaries are extremely useful *mapping* data structures that are used to map a set of keys to corresponding values.  Tuples can be harder to explain to the beginner, so let's start with them:"
   ]
  },
  {
   "cell_type": "markdown",
   "metadata": {},
   "source": [
    "## Tuples"
   ]
  },
  {
   "cell_type": "markdown",
   "metadata": {},
   "source": [
    "Tuples are used to group together a small number of closely related values (possibly of different types), so that one could treat them as a single unit.\n",
    "\n",
    "You can think of a tuple as a \"record\" of data.  Let's say we're writing an address book application.  For each entry we record:\n",
    "\n",
    "* a numerical ID\n",
    "* the person's name\n",
    "* an email address\n",
    "* a physical address\n",
    "* postal code\n",
    "\n",
    "For example:"
   ]
  },
  {
   "cell_type": "code",
   "execution_count": 1,
   "metadata": {
    "collapsed": false
   },
   "outputs": [
    {
     "name": "stdout",
     "output_type": "stream",
     "text": [
      "(5, 'Johann Visagie', 'visagie@eva.mpg.de', 'Deutscher Platz 6\\nLeipzig', '04317')\n"
     ]
    }
   ],
   "source": [
    "record = (5,\n",
    "          \"Johann Visagie\",\n",
    "          \"visagie@eva.mpg.de\",\n",
    "          \"Deutscher Platz 6\\nLeipzig\",\n",
    "          '04317')\n",
    "print(record)"
   ]
  },
  {
   "cell_type": "markdown",
   "metadata": {},
   "source": [
    "Another obvious use for tuples would be complex numbers.  As we know from high school, an complex number has a real and imaginary part, e.g 5+4*i*.  We could create a simple tuple that pairs together two numbers and regard the first one as the real part, and the second one as the imaginary part.  So this could be a list of complex numbers:"
   ]
  },
  {
   "cell_type": "code",
   "execution_count": 2,
   "metadata": {
    "collapsed": false
   },
   "outputs": [
    {
     "name": "stdout",
     "output_type": "stream",
     "text": [
      "[(5, 4), (3, 1), (2, 8), (7, -3)]\n"
     ]
    }
   ],
   "source": [
    "complex_numbers = [(5, 4), (3, 1), (2, 8), (7, -3)]\n",
    "print(complex_numbers)"
   ]
  },
  {
   "cell_type": "markdown",
   "metadata": {},
   "source": [
    "How many elements are there in that list?  Can you guess?"
   ]
  },
  {
   "cell_type": "code",
   "execution_count": 3,
   "metadata": {
    "collapsed": false
   },
   "outputs": [
    {
     "data": {
      "text/plain": [
       "4"
      ]
     },
     "execution_count": 3,
     "metadata": {},
     "output_type": "execute_result"
    }
   ],
   "source": [
    "len(complex_numbers)"
   ]
  },
  {
   "cell_type": "markdown",
   "metadata": {},
   "source": [
    "We can subscript tuples like lists or strings, and the indices are zero-based:"
   ]
  },
  {
   "cell_type": "code",
   "execution_count": 4,
   "metadata": {
    "collapsed": false,
    "scrolled": true
   },
   "outputs": [
    {
     "name": "stdout",
     "output_type": "stream",
     "text": [
      "Real part: 5 \tImaginary part: 4\n",
      "Real part: 3 \tImaginary part: 1\n",
      "Real part: 2 \tImaginary part: 8\n",
      "Real part: 7 \tImaginary part: -3\n"
     ]
    }
   ],
   "source": [
    "for c in complex_numbers:\n",
    "    print(\"Real part:\", c[0], \"\\tImaginary part:\", c[1])"
   ]
  },
  {
   "cell_type": "markdown",
   "metadata": {},
   "source": [
    "You can use `len` to find the length of a tuple too:"
   ]
  },
  {
   "cell_type": "code",
   "execution_count": 5,
   "metadata": {
    "collapsed": false
   },
   "outputs": [
    {
     "data": {
      "text/plain": [
       "5"
      ]
     },
     "execution_count": 5,
     "metadata": {},
     "output_type": "execute_result"
    }
   ],
   "source": [
    "len(record)"
   ]
  },
  {
   "cell_type": "markdown",
   "metadata": {},
   "source": [
    "Let's try to change the numerical ID of the address book record we created earlier:"
   ]
  },
  {
   "cell_type": "code",
   "execution_count": 6,
   "metadata": {
    "collapsed": false
   },
   "outputs": [
    {
     "ename": "TypeError",
     "evalue": "'tuple' object does not support item assignment",
     "output_type": "error",
     "traceback": [
      "\u001b[0;31m---------------------------------------------------------------------------\u001b[0m",
      "\u001b[0;31mTypeError\u001b[0m                                 Traceback (most recent call last)",
      "\u001b[0;32m<ipython-input-6-4a4eb92ac5e3>\u001b[0m in \u001b[0;36m<module>\u001b[0;34m()\u001b[0m\n\u001b[0;32m----> 1\u001b[0;31m \u001b[0mrecord\u001b[0m\u001b[0;34m[\u001b[0m\u001b[0;36m0\u001b[0m\u001b[0;34m]\u001b[0m \u001b[0;34m=\u001b[0m \u001b[0;36m8\u001b[0m\u001b[0;34m\u001b[0m\u001b[0m\n\u001b[0m",
      "\u001b[0;31mTypeError\u001b[0m: 'tuple' object does not support item assignment"
     ]
    }
   ],
   "source": [
    "record[0] = 8"
   ]
  },
  {
   "cell_type": "markdown",
   "metadata": {},
   "source": [
    "Nope!  Tuples are *immutable*.\n",
    "\n",
    "So far we've always surrounded tuples by parentheses “`()`”, but these are only required when the syntax would otherwise be ambiguous.  If there's no ambiguity, you can leave out the parentheses:"
   ]
  },
  {
   "cell_type": "code",
   "execution_count": null,
   "metadata": {
    "collapsed": false
   },
   "outputs": [],
   "source": [
    "my_tuple = 5, 6, \"Fred\"\n",
    "print(my_tuple)"
   ]
  },
  {
   "cell_type": "markdown",
   "metadata": {},
   "source": [
    "Note that the textual representation of a tuple given by the `print` statement includes the parentheses again."
   ]
  },
  {
   "cell_type": "markdown",
   "metadata": {},
   "source": [
    "### Tuple unpacking"
   ]
  },
  {
   "cell_type": "markdown",
   "metadata": {},
   "source": [
    "Python allows us to *unpack* a tuple when we do an assignment, for example:"
   ]
  },
  {
   "cell_type": "code",
   "execution_count": null,
   "metadata": {
    "collapsed": false
   },
   "outputs": [],
   "source": [
    "a, b = 3, 5\n",
    "print(a)\n",
    "print(b)"
   ]
  },
  {
   "cell_type": "markdown",
   "metadata": {},
   "source": [
    "This is an extremely common (and useful) idiom!"
   ]
  },
  {
   "cell_type": "code",
   "execution_count": null,
   "metadata": {
    "collapsed": false
   },
   "outputs": [],
   "source": [
    "for c in complex_numbers:\n",
    "    r, i = c\n",
    "    print(\"Real part:\", r, \"\\tImaginary part:\", i)"
   ]
  },
  {
   "cell_type": "markdown",
   "metadata": {},
   "source": [
    "You can even do the unpacking right in the `for` statement:"
   ]
  },
  {
   "cell_type": "code",
   "execution_count": null,
   "metadata": {
    "collapsed": false
   },
   "outputs": [],
   "source": [
    "for r, i in complex_numbers:\n",
    "    print(\"Real part:\", r, \"\\tImaginary part:\", i)"
   ]
  },
  {
   "cell_type": "markdown",
   "metadata": {},
   "source": [
    "Note that unpacking only works when the number of variables to the left of the assignment *equals* the number of elements in the tuple being assigned:"
   ]
  },
  {
   "cell_type": "code",
   "execution_count": null,
   "metadata": {
    "collapsed": false,
    "scrolled": true
   },
   "outputs": [],
   "source": [
    "a, b = 3, 5, \"Fred\""
   ]
  },
  {
   "cell_type": "markdown",
   "metadata": {},
   "source": [
    "### Iterating over a tuple"
   ]
  },
  {
   "cell_type": "markdown",
   "metadata": {},
   "source": [
    "Iterating over a tuple is actually quite rare, due to the way in which one uses tuples.  However, it works as you'd expect.  (And note that the order of items in a tuple is fixed, as is the case with a list.)"
   ]
  },
  {
   "cell_type": "code",
   "execution_count": null,
   "metadata": {
    "collapsed": false
   },
   "outputs": [],
   "source": [
    "for field in record:\n",
    "    print(field)"
   ]
  },
  {
   "cell_type": "markdown",
   "metadata": {},
   "source": [
    "### Tuples vs. lists"
   ]
  },
  {
   "cell_type": "markdown",
   "metadata": {},
   "source": [
    "Some introductory texts describe tuples as \"immutable lists\".  This isn't really fair or accurate.  Here are some of the differences between a list and a tuple:\n",
    "\n",
    "| Lists | Tuples |\n",
    "|---|---|\n",
    "| delimited by `[...]` | delimited by `(...)` (if required) |\n",
    "| mutable | immutable |\n",
    "| use for unbounded number of items of same type | use for (generally) short collection of (potentially) multiple types |\n",
    "| each element of a list is a data point | each entire tuple represents a data point |"
   ]
  },
  {
   "cell_type": "markdown",
   "metadata": {},
   "source": [
    "### Zipping lists"
   ]
  },
  {
   "cell_type": "markdown",
   "metadata": {},
   "source": [
    "It's fairly common to have two or more related lists which we want to convert to a sequence of tuples, so that the first tuple contains all the first elements of the original lists, the second tuple all the second elements, and so forth…\n",
    "\n",
    "In fact, this is so common that Python has a built-in command called `zip()` to do it:"
   ]
  },
  {
   "cell_type": "code",
   "execution_count": 7,
   "metadata": {
    "collapsed": false
   },
   "outputs": [
    {
     "name": "stdout",
     "output_type": "stream",
     "text": [
      "(1, 'a')\n",
      "(2, 'b')\n",
      "(3, 'c')\n",
      "(4, 'd')\n",
      "(5, 'e')\n",
      "(6, 'f')\n",
      "(7, 'g')\n",
      "(8, 'h')\n"
     ]
    }
   ],
   "source": [
    "list1 = [1, 2, 3, 4, 5, 6, 7, 8]\n",
    "list2 = ['a', 'b', 'c', 'd', 'e', 'f', 'g', 'h']\n",
    "\n",
    "zipped = zip(list1, list2)\n",
    "\n",
    "for t in zipped:\n",
    "    print(t)"
   ]
  },
  {
   "cell_type": "markdown",
   "metadata": {},
   "source": [
    "Note that `zip` doesn't actually return a list of tuples;  rather, it returns a special object that *generates* such a list of tuples when iterated over:"
   ]
  },
  {
   "cell_type": "code",
   "execution_count": 8,
   "metadata": {
    "collapsed": false
   },
   "outputs": [
    {
     "data": {
      "text/plain": [
       "<zip at 0x10812a788>"
      ]
     },
     "execution_count": 8,
     "metadata": {},
     "output_type": "execute_result"
    }
   ],
   "source": [
    "zipped"
   ]
  },
  {
   "cell_type": "markdown",
   "metadata": {},
   "source": [
    ">This is an example of a *lazy* calculation.  The `zip` function doesn't have to calculate the entire list of tuples upfront.  Rather, it returns a generator that calculates each tuple in turn only when necessary.  We'll see later how to write such generators ourselves.\n",
    "\n",
    "As we've seen before, we can use the built-in function `list` to iterate over something implicitly, and return a list of the results:"
   ]
  },
  {
   "cell_type": "code",
   "execution_count": 9,
   "metadata": {
    "collapsed": false
   },
   "outputs": [
    {
     "data": {
      "text/plain": [
       "[(1, 'a'),\n",
       " (2, 'b'),\n",
       " (3, 'c'),\n",
       " (4, 'd'),\n",
       " (5, 'e'),\n",
       " (6, 'f'),\n",
       " (7, 'g'),\n",
       " (8, 'h')]"
      ]
     },
     "execution_count": 9,
     "metadata": {},
     "output_type": "execute_result"
    }
   ],
   "source": [
    "list(zip(list1, list2))"
   ]
  },
  {
   "cell_type": "markdown",
   "metadata": {},
   "source": [
    ">Note:  In Python 2, `zip()` returned a simple list of tuples."
   ]
  },
  {
   "cell_type": "markdown",
   "metadata": {},
   "source": [
    "## Dictionaries"
   ]
  },
  {
   "cell_type": "markdown",
   "metadata": {},
   "source": [
    "### Storing paired data"
   ]
  },
  {
   "cell_type": "markdown",
   "metadata": {},
   "source": [
    "Suppose we want to count the number of `A`s in a DNA sequence. Carrying out the calculation is quite straightforward; in fact it’s one of the first things we did in this course:"
   ]
  },
  {
   "cell_type": "code",
   "execution_count": 18,
   "metadata": {
    "collapsed": true
   },
   "outputs": [],
   "source": [
    "dna = \"ATCCCCCGGGATCGAAAATCGTAAACGAACTAGAA\"\n",
    "a_count = dna.count(\"A\")"
   ]
  },
  {
   "cell_type": "markdown",
   "metadata": {},
   "source": [
    "How will our code change if we want to generate a complete list of base counts for the sequence? We’ll add a new variable for each base:"
   ]
  },
  {
   "cell_type": "code",
   "execution_count": 19,
   "metadata": {
    "collapsed": true
   },
   "outputs": [],
   "source": [
    "dna = \"ATCCCCCGGGATCGAAAATCGTAAACGAACTAGAA\"\n",
    "a_count = dna.count(\"A\")\n",
    "t_count = dna.count(\"T\")\n",
    "g_count = dna.count(\"G\")\n",
    "c_count = dna.count(\"C\")"
   ]
  },
  {
   "cell_type": "markdown",
   "metadata": {},
   "source": [
    "…and now our code is starting to look rather repetitive. It’s not too bad for the four individual bases, but what if we want to generate counts for the 16 dinucleotides:\n",
    "\n",
    "```python\n",
    "dna = \"ATCCCCCGGGATCGAAAATCGTAAACGAACTAGAA\"\n",
    "aa_count = dna.count(\"AA\")\n",
    "at_count = dna.count(\"AT\")\n",
    "ag_count = dna.count(\"AG\")\n",
    "# ...etc.\n",
    "```"
   ]
  },
  {
   "cell_type": "markdown",
   "metadata": {},
   "source": [
    "Clearly, the simple solution doesn't scale.  Let's see if we can come up with something that works better, using only the data structures we know already.  Let's make two lists:\n",
    "\n",
    "* a list of nucleotides (the *keys*)\n",
    "* and a list of counts of each of these nucleotides in our sequence (the *values*)"
   ]
  },
  {
   "cell_type": "code",
   "execution_count": 25,
   "metadata": {
    "collapsed": false
   },
   "outputs": [
    {
     "name": "stdout",
     "output_type": "stream",
     "text": [
      "['A', 'T', 'G', 'C']\n",
      "[14, 5, 7, 9]\n"
     ]
    }
   ],
   "source": [
    "keys = []\n",
    "values = []\n",
    "\n",
    "# Iterating over a string yields characters\n",
    "for nucleotide in \"ATGC\":\n",
    "    keys.append(nucleotide)\n",
    "    values.append(dna.count(nucleotide))\n",
    "    \n",
    "print(keys)\n",
    "print(values)"
   ]
  },
  {
   "cell_type": "markdown",
   "metadata": {},
   "source": [
    "These lists will have to remain synchronised for this to work, i.e. the key at position _n_ in the `keys` list must correspond to the value at position _n_ in the `values` list.\n",
    "\n",
    "We can use the `zip()` function we've recently learned to convert these two lists into a single list of tuples, thereby implicitly ensuring synchronisation:"
   ]
  },
  {
   "cell_type": "code",
   "execution_count": 26,
   "metadata": {
    "collapsed": false,
    "scrolled": true
   },
   "outputs": [
    {
     "name": "stdout",
     "output_type": "stream",
     "text": [
      "[('A', 14), ('T', 5), ('G', 7), ('C', 9)]\n"
     ]
    }
   ],
   "source": [
    "nuc_counts = list(zip(keys, values))\n",
    "print(nuc_counts)"
   ]
  },
  {
   "cell_type": "markdown",
   "metadata": {},
   "source": [
    "Presumably we created this lookup table because we want to use the values in some computation.  That means we need a way of looking up the value associated with a specific key.  It's fairly trivial to do manually with a short lookup table like the one we have here, but what if our table contained hundreds or thousands of entries?\n",
    "\n",
    "In that case, the best way to proceed would probably be:\n",
    "\n",
    "* iterate over the list of tuples\n",
    "* when we reach the tuple where the first element is the key we're looking for…\n",
    "* …get the second element of that tuple\n",
    "\n",
    "Let's write a little function to implement that:"
   ]
  },
  {
   "cell_type": "code",
   "execution_count": 27,
   "metadata": {
    "collapsed": false
   },
   "outputs": [
    {
     "name": "stdout",
     "output_type": "stream",
     "text": [
      "9\n"
     ]
    }
   ],
   "source": [
    "def lookup_in_tuplelist(L, search_key):\n",
    "    \"\"\"Given a list of key/value tuples, L,\n",
    "    return the value associated with search_key\"\"\"\n",
    "    for key, value in L:\n",
    "        if key == search_key:\n",
    "            return value\n",
    "\n",
    "print(lookup_in_tuplelist(nuc_counts, 'C'))"
   ]
  },
  {
   "cell_type": "markdown",
   "metadata": {},
   "source": [
    "There are two things to note about the function `lookup_in_tuplelist`:\n",
    "\n",
    "* I've given the function a *docstring*.  A docstring is a string that occurs, all on its own, as the first statement inside a function.  The docstring — if defined — becomes the help text for this function.\n",
    "\n",
    "     (Note that there's a difference between a docstring and a comment that starts with “`#`”!)  "
   ]
  },
  {
   "cell_type": "code",
   "execution_count": 28,
   "metadata": {
    "collapsed": false
   },
   "outputs": [],
   "source": [
    "?lookup_in_tuplelist"
   ]
  },
  {
   "cell_type": "markdown",
   "metadata": {},
   "source": [
    "* Whenever a `return` statement is encountered, execution of the function stops *immediately* and a value is returned.  I.e. in a call to `lookup_in_tuplelist()`, if the key we're searching for occurs halfway through the list of tuples, Python will break off the iteration there (break out of the `for` loop) and return the found value immediately."
   ]
  },
  {
   "cell_type": "markdown",
   "metadata": {},
   "source": [
    "We now have a way of looking up a key in a list of key/value tuples.  It works, but would be inefficient for very long key/value lists, because our function searches through the list *linearly* — it starts at the beginning and evaluates each element of the list in turn until it finds the one it's looking for.  Hence, the time taken to search the list of key/value pairs will scale *linearly* with the size of the key/value list.  (It will on average take 1000 longer to scan a list of 1000000 items than a list of 1000.)\n",
    "\n",
    "This solution won't really work in production code.\n",
    "\n",
    "The need to store key/value pairs and look up a value *efficiently* by its key is incredibly common in programming, for instance, of…\n",
    "\n",
    "* protein sequence names and their sequences\n",
    "* DNA restriction enzyme names and their motifs\n",
    "* codons and their associated amino acid residues\n",
    "* colleagues’ names and their email addresses\n",
    "* sample names and their co-ordinates\n",
    "* words and their definitions\n",
    "\n",
    "The last example in this list – words and their definitions – is an interesting one because we have a tool in the physical world for storing this type of data:  a *dictionary*. Because this problem is so very common, Python provides a built-in data structure to solve it, and this built-in data structure is also called a *dictionary*."
   ]
  },
  {
   "cell_type": "markdown",
   "metadata": {},
   "source": [
    "### Creating a dictionary"
   ]
  },
  {
   "cell_type": "markdown",
   "metadata": {},
   "source": [
    "The syntax for creating a dictionary is similar to that for creating a list, but we use curly braces rather than square ones. Each pair of data, consisting of a key and a value, is called an item. When storing items in a dictionary, we separate them with commas. Within an individual item, we separate the key and the value with a colon. Here’s a bit of code that creates a dictionary of restriction enzymes (using data from the previous section) with three items:"
   ]
  },
  {
   "cell_type": "code",
   "execution_count": 29,
   "metadata": {
    "collapsed": true
   },
   "outputs": [],
   "source": [
    "enzymes = {'EcoRI': r'GAATTC', 'AvaII': r'GG(A|T)CC', 'BisI': r'GC[ATGC]GC'}"
   ]
  },
  {
   "cell_type": "markdown",
   "metadata": {},
   "source": [
    "In this case, the keys and values are both strings. The keys are the names of the enzymes, and the values represent regular expressions that can be used to match them.  Splitting the dictionary definition over several lines makes it easier to read:"
   ]
  },
  {
   "cell_type": "code",
   "execution_count": 30,
   "metadata": {
    "collapsed": true
   },
   "outputs": [],
   "source": [
    "enzymes = {\n",
    "    'EcoRI': r'GAATTC',\n",
    "    'AvaII': r'GG(A|T)CC',\n",
    "    'BisI': r'GC[ATGC]GC'\n",
    "}"
   ]
  },
  {
   "cell_type": "markdown",
   "metadata": {
    "collapsed": true
   },
   "source": [
    "…but doesn’t affect the code at all.  (As we've said, you can split a Python statement at any whitespace inside `()`, `[]`, or `{}`.)\n",
    "\n",
    "Let's check the type of our dictionary:"
   ]
  },
  {
   "cell_type": "code",
   "execution_count": 31,
   "metadata": {
    "collapsed": false
   },
   "outputs": [
    {
     "data": {
      "text/plain": [
       "dict"
      ]
     },
     "execution_count": 31,
     "metadata": {},
     "output_type": "execute_result"
    }
   ],
   "source": [
    "type(enzymes)"
   ]
  },
  {
   "cell_type": "code",
   "execution_count": 32,
   "metadata": {
    "collapsed": false
   },
   "outputs": [
    {
     "data": {
      "text/plain": [
       "{'AvaII': 'GG(A|T)CC', 'BisI': 'GC[ATGC]GC', 'EcoRI': 'GAATTC'}"
      ]
     },
     "execution_count": 32,
     "metadata": {},
     "output_type": "execute_result"
    }
   ],
   "source": [
    "enzymes"
   ]
  },
  {
   "cell_type": "markdown",
   "metadata": {},
   "source": [
    "### Retrieving an item from a dictionary\n",
    "\n",
    "To retrieve a bit of data from the dictionary – i.e. to look up the motif for a particular enzyme – we write the name of the dictionary, followed by the key in square brackets:"
   ]
  },
  {
   "cell_type": "code",
   "execution_count": 35,
   "metadata": {
    "collapsed": false
   },
   "outputs": [
    {
     "data": {
      "text/plain": [
       "'GC[ATGC]GC'"
      ]
     },
     "execution_count": 35,
     "metadata": {},
     "output_type": "execute_result"
    }
   ],
   "source": [
    "enzymes['BisI']"
   ]
  },
  {
   "cell_type": "markdown",
   "metadata": {},
   "source": [
    "This looks very similar to the index notation we used with strings and lists, but instead of giving the numerical index of the element we want, we’re giving the *key* and retrieving the associated *value*.\n",
    "\n",
    "What happens when we try to reference a key that doesn't exist in our dictionary?"
   ]
  },
  {
   "cell_type": "code",
   "execution_count": 36,
   "metadata": {
    "collapsed": false,
    "scrolled": false
   },
   "outputs": [
    {
     "ename": "KeyError",
     "evalue": "'EcoRV'",
     "output_type": "error",
     "traceback": [
      "\u001b[0;31m---------------------------------------------------------------------------\u001b[0m",
      "\u001b[0;31mKeyError\u001b[0m                                  Traceback (most recent call last)",
      "\u001b[0;32m<ipython-input-36-f1affdb30fca>\u001b[0m in \u001b[0;36m<module>\u001b[0;34m()\u001b[0m\n\u001b[0;32m----> 1\u001b[0;31m \u001b[0menzymes\u001b[0m\u001b[0;34m[\u001b[0m\u001b[0;34m'EcoRV'\u001b[0m\u001b[0;34m]\u001b[0m\u001b[0;34m\u001b[0m\u001b[0m\n\u001b[0m",
      "\u001b[0;31mKeyError\u001b[0m: 'EcoRV'"
     ]
    }
   ],
   "source": [
    "enzymes['EcoRV']"
   ]
  },
  {
   "cell_type": "markdown",
   "metadata": {},
   "source": [
    "…we get a `KeyError`, logically enough."
   ]
  },
  {
   "cell_type": "markdown",
   "metadata": {},
   "source": [
    "### Adding and removing items"
   ]
  },
  {
   "cell_type": "markdown",
   "metadata": {},
   "source": [
    "It’s relatively rare that we’ll want to create a dictionary all in one go like in the example above. More often, we’ll want to create an empty dictionary, then add key/value pairs to it.\n",
    "\n",
    "To create an empty dictionary we simply write a pair of curly braces on their own, and to add elements, we use the square-brackets subscript notation on the left-hand side of an assignment:"
   ]
  },
  {
   "cell_type": "code",
   "execution_count": 38,
   "metadata": {
    "collapsed": false
   },
   "outputs": [
    {
     "name": "stdout",
     "output_type": "stream",
     "text": [
      "{'EcoRI': 'GAATTC', 'AvaII': 'GG(A|T)CC', 'BisI': 'GC[ATGC]GC'}\n"
     ]
    }
   ],
   "source": [
    "enzymes = {}\n",
    "enzymes['EcoRI'] = r'GAATTC'\n",
    "enzymes['AvaII'] = r'GG(A|T)CC'\n",
    "enzymes['BisI'] = r'GC[ATGC]GC'\n",
    "\n",
    "print(enzymes)"
   ]
  },
  {
   "cell_type": "markdown",
   "metadata": {},
   "source": [
    "Note that this means dictionary are *mutable* (like lists, but unlike strings).\n",
    "\n",
    "There are multiple ways to remove an item from a dictionary.  One way is to use a new Python keyword we haven't yet encountered:  `del`"
   ]
  },
  {
   "cell_type": "code",
   "execution_count": 39,
   "metadata": {
    "collapsed": false
   },
   "outputs": [
    {
     "name": "stdout",
     "output_type": "stream",
     "text": [
      "{'EcoRI': 'GAATTC', 'BisI': 'GC[ATGC]GC'}\n"
     ]
    }
   ],
   "source": [
    "del enzymes['AvaII']\n",
    "print(enzymes)"
   ]
  },
  {
   "cell_type": "markdown",
   "metadata": {},
   "source": [
    "If we use `del` the key/value pair is simply removed and discarded.  More often when we delete a key from a dictionary, we actually want to retrieve the associated value.  We can do this using the `pop)(` method of the dictionary type. `pop()` returns the value and deletes the key at the same time:"
   ]
  },
  {
   "cell_type": "code",
   "execution_count": 33,
   "metadata": {
    "collapsed": false
   },
   "outputs": [
    {
     "name": "stdout",
     "output_type": "stream",
     "text": [
      "dict: {'AvaII': 'GG(A|T)CC', 'BisI': 'GC[ATGC]GC'}\n",
      "motif: GAATTC\n"
     ]
    }
   ],
   "source": [
    "enzymes = {\n",
    "    'EcoRI' : r'GAATTC',\n",
    "    'AvaII' : r'GG(A|T)CC',\n",
    "    'BisI'  : r'GC[ATGC]GC'\n",
    "}\n",
    "\n",
    "# remove the EcoRI enzyme from the dict\n",
    "EcoRI_motif = enzymes.pop('EcoRI')\n",
    "\n",
    "print(\"dict:\", enzymes)\n",
    "print(\"motif:\", EcoRI_motif)"
   ]
  },
  {
   "cell_type": "markdown",
   "metadata": {},
   "source": [
    "We can now repeat our previous example — where we built a list of tuples — using a dictionary.  We can build up the dictionary in a loop, as follows:"
   ]
  },
  {
   "cell_type": "code",
   "execution_count": 40,
   "metadata": {
    "collapsed": false
   },
   "outputs": [
    {
     "name": "stdout",
     "output_type": "stream",
     "text": [
      "{'A': 19, 'T': 10, 'G': 12, 'C': 14}\n"
     ]
    }
   ],
   "source": [
    "dna = \"AATCCCCCGGGATCGAAAATCGTAAACGAACTAGAATCGATCGATCGTACGCTGA\"\n",
    "\n",
    "# Create an empty dictionary:\n",
    "nuc_counts = {}\n",
    "\n",
    "for nucleotide in \"ATGC\":\n",
    "    nuc_counts[nucleotide] = dna.count(nucleotide)\n",
    "\n",
    "print(nuc_counts)"
   ]
  },
  {
   "cell_type": "markdown",
   "metadata": {},
   "source": [
    "And now we can easily look up the count for a specific nucleotide:"
   ]
  },
  {
   "cell_type": "code",
   "execution_count": 41,
   "metadata": {
    "collapsed": false
   },
   "outputs": [
    {
     "data": {
      "text/plain": [
       "12"
      ]
     },
     "execution_count": 41,
     "metadata": {},
     "output_type": "execute_result"
    }
   ],
   "source": [
    "nuc_counts['G']"
   ]
  },
  {
   "cell_type": "markdown",
   "metadata": {},
   "source": [
    "Why is this more desirable than our list of tuples?  The reason has to do with how dictionaries are implemented behind the scenes in Python.\n",
    "\n",
    "The key-based lookup is built on a data structure known as a *hash table*, which is well beyond the scope of this course.  However, you should be aware that this implementation is *incredibly* efficient.\n",
    "\n",
    "In the average case, Python can look up a key in a dictionary in *constant time* (as opposed to linear time), meaning you can make very large dictionary structures and still use them realistically in your code."
   ]
  },
  {
   "cell_type": "markdown",
   "metadata": {},
   "source": [
    "Python's dictionaries are **incredibly** useful, but they come with some restrictions:\n",
    "\n",
    "* Not all types of data are allowed to be used as keys:  Most simple types like strings and numbers are fine, but we can't use (say) file objects.  (Values can be whatever type of data we like, however.)\n",
    "\n",
    "\n",
    "* Keys must be unique – we can’t store multiple values for the same key.  (Which value will be returned when we look up a duplicate key?)\n",
    "\n",
    "  Usually this is exactly what we want, but there are cases when you might want to create a dictionary-like objects that allow duplicate keys.  This is possible but beyond the scope of this introductory course!"
   ]
  },
  {
   "cell_type": "markdown",
   "metadata": {},
   "source": [
    "### Creating a dictionary with `dict()`"
   ]
  },
  {
   "cell_type": "markdown",
   "metadata": {},
   "source": [
    "We've seen that the built-in function `list()` can iterate over a container implicitly, and return a list of the contents of that container.  Python also has a built-in `dict()` function that can create a dictionary, though it's rather picky about what it creates a dictionary *out of*.\n",
    "\n",
    "One thing `dict` *can* create a dictionary from is a **list of tuples**, such as the lookup list of nucleotide counts we defined earlier:"
   ]
  },
  {
   "cell_type": "code",
   "execution_count": 42,
   "metadata": {
    "collapsed": false
   },
   "outputs": [
    {
     "name": "stdout",
     "output_type": "stream",
     "text": [
      "Keys:\t ['A', 'T', 'G', 'C']\n",
      "Values:\t [14, 5, 7, 9]\n",
      "Dict:\t {'A': 14, 'T': 5, 'G': 7, 'C': 9}\n"
     ]
    }
   ],
   "source": [
    "print(\"Keys:\\t\", keys)\n",
    "print(\"Values:\\t\", values)\n",
    "\n",
    "nuc_counts = dict(zip(keys, values))\n",
    "print(\"Dict:\\t\", nuc_counts)"
   ]
  },
  {
   "cell_type": "markdown",
   "metadata": {},
   "source": [
    "### Retrieving values using `get()`\n",
    "\n",
    "We've seen before that the simplest way to retrieve the value associated with a key in a dictionary is to use the subscript (square brackets) notation:"
   ]
  },
  {
   "cell_type": "code",
   "execution_count": null,
   "metadata": {
    "collapsed": false
   },
   "outputs": [],
   "source": [
    "enzymes = {'EcoRI': r'GAATTC', 'AvaII': r'GG(A|T)CC', 'BisI': r'GC[ATGC]GC'}\n",
    "\n",
    "print(enzymes['AvaII'])"
   ]
  },
  {
   "cell_type": "markdown",
   "metadata": {},
   "source": [
    "An alternative is to use the `get()` method of the dictionary type:"
   ]
  },
  {
   "cell_type": "code",
   "execution_count": null,
   "metadata": {
    "collapsed": false
   },
   "outputs": [],
   "source": [
    "print(enzymes.get('AvaII'))"
   ]
  },
  {
   "cell_type": "markdown",
   "metadata": {},
   "source": [
    "These two methods behave rather differently if you're trying to retrieve a value for a key that doesn't exist in the dictionary:"
   ]
  },
  {
   "cell_type": "code",
   "execution_count": null,
   "metadata": {
    "collapsed": false
   },
   "outputs": [],
   "source": [
    "enzymes['EcoRV']"
   ]
  },
  {
   "cell_type": "code",
   "execution_count": null,
   "metadata": {
    "collapsed": false
   },
   "outputs": [],
   "source": [
    "print(enzymes.get('EcoRV'))"
   ]
  },
  {
   "cell_type": "markdown",
   "metadata": {},
   "source": [
    "Using the subscript notation raises an exception, whereas `get()` just quietly returns `None`.  In fact, `get()` has another trick up its sleeve:  It can return a default value if a key is not found.  Let's look at an example where this can be useful.\n",
    "\n",
    "Here we have a sequence `seq` in the IUPAC ambiguous nucleotide alphabet.  We write a few lines of code to create a dictionary `nuc_counts` which maps the letters that occur in the sequence (the keys) to counts of the number of times each occurs (the values):"
   ]
  },
  {
   "cell_type": "code",
   "execution_count": null,
   "metadata": {
    "collapsed": false
   },
   "outputs": [],
   "source": [
    "seq = \"NNHYDGSCARSDYSVTWATSBSARYVBNTBHCTDARTT\"\n",
    "\n",
    "nuc_counts = {}\n",
    "for nucleotide in seq:\n",
    "    if nucleotide in nuc_counts:\n",
    "        nuc_counts[nucleotide] += 1\n",
    "    else:\n",
    "        nuc_counts[nucleotide] = 1\n",
    "\n",
    "print(nuc_counts)"
   ]
  },
  {
   "cell_type": "markdown",
   "metadata": {},
   "source": [
    "We use two new things in the code block above:\n",
    "\n",
    "Firstly, we use the membership test keyword `in` with a dictionary.  We've done membership tests using `in` on lists and strings before.  When we use `in` with a dictionary, it tests whether an object is present among the dictionary's *keys*.\n",
    "\n",
    "Secondly, we use the *increment operator*, “`+=`”.  This line of code…\n",
    "\n",
    "```python\n",
    "nuc_counts[nucleotide] += 1\n",
    "```\n",
    "\n",
    "…is exactly equivalent to this…\n",
    "\n",
    "```python\n",
    "nuc_counts[nucleotide] = nuc_counts[nucleotide] + 1\n",
    "```\n",
    "\n",
    "…but much more compact and easier to read.  Try it:"
   ]
  },
  {
   "cell_type": "code",
   "execution_count": null,
   "metadata": {
    "collapsed": false
   },
   "outputs": [],
   "source": [
    "a = 5\n",
    "a += 3\n",
    "a"
   ]
  },
  {
   "cell_type": "code",
   "execution_count": null,
   "metadata": {
    "collapsed": false
   },
   "outputs": [],
   "source": [
    "a -= 2\n",
    "a"
   ]
  },
  {
   "cell_type": "markdown",
   "metadata": {},
   "source": [
    "We can now print out how many times each of the letters in the IUPAC ambiguous alphabet occurs in `seq`:"
   ]
  },
  {
   "cell_type": "code",
   "execution_count": null,
   "metadata": {
    "collapsed": false
   },
   "outputs": [],
   "source": [
    "# IUPAC ambiguous nucleotide codes\n",
    "ambig_nucs = \"ABCDGHKMNRSTVWY\"\n",
    "\n",
    "for nuc in ambig_nucs:\n",
    "    print(nuc + \":\", nuc_counts[nuc])"
   ]
  },
  {
   "cell_type": "markdown",
   "metadata": {},
   "source": [
    "…but we get an error!  It turns out that not all the letters in the alphabet were represented in `seq`, and therefore the \"missing\" letters aren't present as keys in our dictionary!\n",
    "\n",
    "We can get around this problem by using the `get()` method, and letting it supply a default count of zero for non-present letters:"
   ]
  },
  {
   "cell_type": "code",
   "execution_count": null,
   "metadata": {
    "collapsed": false
   },
   "outputs": [],
   "source": [
    "for nuc in ambig_nucs:\n",
    "    print(nuc + \":\", nuc_counts.get(nuc, 0))"
   ]
  },
  {
   "cell_type": "markdown",
   "metadata": {},
   "source": [
    "We could also have used `get()` to simplify the construction of our `nuc_counts` dictionary in the first place by entirely eliminating the `if ... else` statement.  Instead of this…"
   ]
  },
  {
   "cell_type": "code",
   "execution_count": null,
   "metadata": {
    "collapsed": true
   },
   "outputs": [],
   "source": [
    "nuc_counts = {}\n",
    "for nucleotide in seq:\n",
    "    if nucleotide in nuc_counts:\n",
    "        nuc_counts[nucleotide] += 1\n",
    "    else:\n",
    "        nuc_counts[nucleotide] = 1"
   ]
  },
  {
   "cell_type": "markdown",
   "metadata": {},
   "source": [
    "…we can do this:"
   ]
  },
  {
   "cell_type": "code",
   "execution_count": null,
   "metadata": {
    "collapsed": false
   },
   "outputs": [],
   "source": [
    "nuc_counts = {}\n",
    "for nucleotide in seq:\n",
    "    nuc_counts[nucleotide] = nuc_counts.get(nucleotide, 0) + 1\n",
    "    \n",
    "print(nuc_counts)"
   ]
  },
  {
   "cell_type": "markdown",
   "metadata": {},
   "source": [
    "Can you explain how that works?"
   ]
  },
  {
   "cell_type": "markdown",
   "metadata": {},
   "source": [
    "### Iterating over a dictionary"
   ]
  },
  {
   "cell_type": "markdown",
   "metadata": {},
   "source": [
    "What if, instead of looking up a single item from a dictionary, we want to do something for all items?\n",
    "\n",
    "For example, imagine that we wanted to take our `nuc_counts` dictionary variable from the code above and print out all the key/value pairs.\n",
    "\n",
    "It turns out there's more than one way to do it."
   ]
  },
  {
   "cell_type": "markdown",
   "metadata": {},
   "source": [
    "### Iterating over keys"
   ]
  },
  {
   "cell_type": "markdown",
   "metadata": {},
   "source": [
    "The `keys()` method of a dictionary returns an object that generates all the keys of the dictionary when iterated over.  We can use `list()` to iterate over it implicitly and create a list:"
   ]
  },
  {
   "cell_type": "markdown",
   "metadata": {},
   "source": [
    ">In Python 2, `keys()` returned a simple list of keys."
   ]
  },
  {
   "cell_type": "code",
   "execution_count": 43,
   "metadata": {
    "collapsed": false
   },
   "outputs": [
    {
     "data": {
      "text/plain": [
       "['A', 'T', 'G', 'C']"
      ]
     },
     "execution_count": 43,
     "metadata": {},
     "output_type": "execute_result"
    }
   ],
   "source": [
    "list(nuc_counts.keys())"
   ]
  },
  {
   "cell_type": "markdown",
   "metadata": {},
   "source": [
    "So one way to iterate over a dictionary would be to iterate over the result returned by its `keys()` method:"
   ]
  },
  {
   "cell_type": "code",
   "execution_count": 44,
   "metadata": {
    "collapsed": false
   },
   "outputs": [
    {
     "name": "stdout",
     "output_type": "stream",
     "text": [
      "A:\t 14\n",
      "T:\t 5\n",
      "G:\t 7\n",
      "C:\t 9\n"
     ]
    }
   ],
   "source": [
    "for key in nuc_counts.keys():\n",
    "    print(key + ':\\t', nuc_counts[key])"
   ]
  },
  {
   "cell_type": "markdown",
   "metadata": {},
   "source": [
    "Now, you might wonder what happens if we simply iterate over the dictionary *itself*. Let's try it:"
   ]
  },
  {
   "cell_type": "code",
   "execution_count": 45,
   "metadata": {
    "collapsed": false
   },
   "outputs": [
    {
     "name": "stdout",
     "output_type": "stream",
     "text": [
      "A\n",
      "T\n",
      "G\n",
      "C\n"
     ]
    }
   ],
   "source": [
    "for something in nuc_counts:\n",
    "    print(something)"
   ]
  },
  {
   "cell_type": "markdown",
   "metadata": {},
   "source": [
    "Wait! Those are the keys of the `counts` dictionary again! So, **iterating over a dictionary is the same as iterating over its keys**. This means we can rewrite the previous example again in a slightly simpler fashion:"
   ]
  },
  {
   "cell_type": "code",
   "execution_count": null,
   "metadata": {
    "collapsed": false
   },
   "outputs": [],
   "source": [
    "for nuc in nuc_counts:\n",
    "    print(nuc + ':\\t', nuc_counts[nuc])"
   ]
  },
  {
   "cell_type": "markdown",
   "metadata": {},
   "source": [
    "Notice that the output dictionaries are inherently *unordered*.  Iterating over a dictionary (or its `keys()`) is not guaranteed to return keys in any specific order.\n",
    "\n",
    "If we want to return the keys in an (alphanumerically) sorted order, we can use the built-in function `sorted()`:"
   ]
  },
  {
   "cell_type": "code",
   "execution_count": 46,
   "metadata": {
    "collapsed": false
   },
   "outputs": [
    {
     "name": "stdout",
     "output_type": "stream",
     "text": [
      "A:\t 14\n",
      "C:\t 9\n",
      "G:\t 7\n",
      "T:\t 5\n"
     ]
    }
   ],
   "source": [
    "for key in sorted(nuc_counts.keys()):\n",
    "    print(key + ':\\t', nuc_counts[key])"
   ]
  },
  {
   "cell_type": "markdown",
   "metadata": {},
   "source": [
    "### Iterating over items"
   ]
  },
  {
   "cell_type": "markdown",
   "metadata": {},
   "source": [
    "In the example code above, the first thing we need to do inside the loop is to look up the value for the current key. This is a very common pattern when iterating over dictionaries – so common, in fact, that Python has a special shorthand for it. Instead of doing this:\n",
    "\n",
    "```python\n",
    "for key in my_dict.keys():\n",
    "    value = my_dict.get(key)\n",
    "    # do something with key and value\n",
    "```"
   ]
  },
  {
   "cell_type": "markdown",
   "metadata": {},
   "source": [
    "…we can use the items method to iterate over pairs of data, rather than just keys:\n",
    "\n",
    "```python\n",
    "for key, value in my_dict.items():\n",
    "    # do something with key and value\n",
    "```"
   ]
  },
  {
   "cell_type": "markdown",
   "metadata": {},
   "source": [
    "The `items()` method of dictionary objects returns an object which, when iterated over, returns list of *tuples* of values. That’s why we have to give two variable names at the start of the loop — we unpack each tuple as we receive it.\n",
    "\n",
    ">In Python 2, `items()` returned a simple list of tuples.\n",
    "\n",
    "Let's inspect the result of calling the `items()` method of our `nuc_counts` dictionary.  We'll again use `list()` to iterate over it implicitly:"
   ]
  },
  {
   "cell_type": "code",
   "execution_count": 47,
   "metadata": {
    "collapsed": false
   },
   "outputs": [
    {
     "data": {
      "text/plain": [
       "[('A', 14), ('T', 5), ('G', 7), ('C', 9)]"
      ]
     },
     "execution_count": 47,
     "metadata": {},
     "output_type": "execute_result"
    }
   ],
   "source": [
    "list(nuc_counts.items())"
   ]
  },
  {
   "cell_type": "markdown",
   "metadata": {},
   "source": [
    "We could therefore rewrite our example using `items()`:"
   ]
  },
  {
   "cell_type": "code",
   "execution_count": 48,
   "metadata": {
    "collapsed": false
   },
   "outputs": [
    {
     "name": "stdout",
     "output_type": "stream",
     "text": [
      "A:\t 14\n",
      "T:\t 5\n",
      "G:\t 7\n",
      "C:\t 9\n"
     ]
    }
   ],
   "source": [
    "for nuc, count in nuc_counts.items():\n",
    "    print(nuc + ':\\t', count)"
   ]
  },
  {
   "cell_type": "markdown",
   "metadata": {},
   "source": [
    "This method is generally preferred for iterating over items in a dictionary, as it makes the intention of the code very clear."
   ]
  },
  {
   "cell_type": "markdown",
   "metadata": {},
   "source": [
    "---"
   ]
  },
  {
   "cell_type": "markdown",
   "metadata": {},
   "source": [
    "## Exercises"
   ]
  },
  {
   "cell_type": "markdown",
   "metadata": {},
   "source": [
    "### Counting words\n",
    "\n",
    "In the `files` subdirectory is a file called `words.txt`, containing a single long line of text, broken up into words.\n",
    "\n",
    "Assuming that all words are demarcated by spaces, build a dictionary that documents how many times each word occurs in the text.\n",
    "\n",
    "Test yourself:  In the following sentence…\n",
    "\n",
    "    We tried list and we tried dicts also we tried Zen\n",
    "\n",
    "…the word counts are as follows:\n",
    "\n",
    "| word | count |\n",
    "|------|:-----:|\n",
    "| `and`   | 1 |\n",
    "| `We`    | 1 |\n",
    "| `tried` | 3 |\n",
    "| `dicts` | 1 |\n",
    "| `list`  | 1 |\n",
    "| `we`    | 2 |\n",
    "| `also`  | 1 |\n",
    "| `Zen`   | 1 |"
   ]
  },
  {
   "cell_type": "code",
   "execution_count": 50,
   "metadata": {
    "collapsed": false
   },
   "outputs": [
    {
     "name": "stdout",
     "output_type": "stream",
     "text": [
      "/Users/sabineurban/EVOP2017/files\n"
     ]
    }
   ],
   "source": [
    "%cd files"
   ]
  },
  {
   "cell_type": "code",
   "execution_count": null,
   "metadata": {
    "collapsed": true
   },
   "outputs": [],
   "source": []
  },
  {
   "cell_type": "code",
   "execution_count": 55,
   "metadata": {
    "collapsed": false
   },
   "outputs": [
    {
     "name": "stdout",
     "output_type": "stream",
     "text": [
      "{'When': 1, 'I': 2, 'find': 1, 'myself': 1, 'in': 4, 'times': 1, 'of': 11, 'trouble': 1, 'Mother': 2, 'Mary': 2, 'comes': 2, 'to': 3, 'me': 4, 'Speaking': 3, 'words': 7, 'wisdom': 7, 'let': 30, 'it': 36, 'be': 41, 'And': 3, 'my': 1, 'hour': 1, 'darkness': 1, 'she': 1, 'is': 4, 'standing': 1, 'right': 1, 'front': 1, 'Let': 6, 'Whisper': 4, 'when': 2, 'the': 4, 'broken': 1, 'hearted': 1, 'people': 1, 'living': 1, 'world': 1, 'agree': 1, 'There': 4, 'will': 5, 'an': 4, 'answer': 4, 'For': 1, 'though': 1, 'they': 2, 'may': 1, 'parted': 1, 'there': 2, 'still': 2, 'a': 2, 'chance': 1, 'that': 2, 'see': 1, 'night': 1, 'cloudy': 1, 'light': 1, 'shines': 1, 'on': 1, 'Shine': 1, 'until': 1, 'tomorrow': 1, 'wake': 1, 'up': 1, 'sound': 1, 'music': 1, 'yeah': 2}\n",
      "\n",
      "[('be', 41), ('it', 36), ('let', 30), ('of', 11), ('wisdom', 7), ('words', 7), ('Let', 6), ('will', 5), ('answer', 4), ('an', 4), ('There', 4), ('the', 4), ('Whisper', 4), ('is', 4), ('me', 4), ('in', 4), ('And', 3), ('Speaking', 3), ('to', 3), ('yeah', 2), ('that', 2), ('a', 2), ('still', 2), ('there', 2), ('they', 2), ('when', 2), ('comes', 2), ('Mary', 2), ('Mother', 2), ('I', 2), ('music', 1), ('sound', 1), ('up', 1), ('wake', 1), ('tomorrow', 1), ('until', 1), ('Shine', 1), ('on', 1), ('shines', 1), ('light', 1), ('cloudy', 1), ('night', 1), ('see', 1), ('chance', 1), ('parted', 1), ('may', 1), ('though', 1), ('For', 1), ('agree', 1), ('world', 1), ('living', 1), ('people', 1), ('hearted', 1), ('broken', 1), ('front', 1), ('right', 1), ('standing', 1), ('she', 1), ('darkness', 1), ('hour', 1), ('my', 1), ('trouble', 1), ('times', 1), ('myself', 1), ('find', 1), ('When', 1)]\n"
     ]
    }
   ],
   "source": [
    "# Exercise 1\n",
    "\n",
    "\n",
    "# open file, read the single line (readline), remove the rightmost character and split the strings into list\n",
    "words = open(\"words.txt\", 'r').readline().rstrip().split(\" \")\n",
    "\n",
    "# create a dictionary wordcount\n",
    "wordcount = {}\n",
    "\n",
    "for word in words:\n",
    "    wordcount[word] = wordcount.get(word, 0) + 1\n",
    "    \n",
    "print(wordcount)\n",
    "\n",
    "#empty space\n",
    "print()\n",
    "\n",
    "# reverse sorted by word frequency:\n",
    "from operator import itemgetter\n",
    "print(list(reversed(sorted(wordcount.items(), key=itemgetter(1)))))"
   ]
  },
  {
   "cell_type": "markdown",
   "metadata": {},
   "source": [
    "### Inverting a table\n",
    "\n",
    "The file `iupac_codes.txt` in the `files` subdirectory contains a text representation of a table listing the IUPAC ambiguity codes and their meanings:"
   ]
  },
  {
   "cell_type": "code",
   "execution_count": null,
   "metadata": {
    "collapsed": false
   },
   "outputs": [],
   "source": [
    "%load iupac_codes.txt"
   ]
  },
  {
   "cell_type": "markdown",
   "metadata": {},
   "source": [
    "Each row starts with a code letter, followed by a tab character, followed by a comma-separated list of nucleotides which are represented by that letter. Additionally, the table has a header line.\n",
    "\n",
    "What we want to do is construct a file that is the “inverse” of this one. In other words, one that looks like this:\n",
    "\n",
    "```\n",
    "Nucl.\tCodes\n",
    "A\tA,M,R,W,V,H,D,N\n",
    "C\tC,M,S,Y,V,H,B,N\n",
    "T\tT,W,Y,K,H,D,B,N\n",
    "G\tG,R,S,K,V,D,B,N\n",
    "```\n",
    "\n",
    "Write some code that reads in `iupac_codes.txt`, generates the inverse table and writes it out to a file again."
   ]
  },
  {
   "cell_type": "code",
   "execution_count": null,
   "metadata": {
    "collapsed": false
   },
   "outputs": [],
   "source": [
    "# Exercise 2\n",
    "\n",
    "reverse_dict = {}\n",
    "\n",
    "with open(\"iupac_codes.txt\", 'r') as infile:\n",
    "    \n",
    "    header = infile.readline()\n",
    "    \n",
    "    for line in infile:\n",
    "        line = line.rstrip()\n",
    "        code, meanings = line.split('\\t')\n",
    "        for meaning in meanings.split(','):\n",
    "            reverse_dict[meaning] = reverse_dict.get(meaning, [])\n",
    "            reverse_dict[meaning].append(code)\n",
    "            \n",
    "with open(\"iupac_codes_out.txt\", 'w') as outfile:\n",
    "    \n",
    "    print(\"Nucl.\", \"Codes\", sep='\\t', file=outfile)\n",
    "    for nuc in sorted(reverse_dict):\n",
    "        print(nuc, ','.join(sorted(reverse_dict[nuc])), sep='\\t', file=outfile)"
   ]
  },
  {
   "cell_type": "code",
   "execution_count": null,
   "metadata": {
    "collapsed": false
   },
   "outputs": [],
   "source": [
    "# Exercise 2"
   ]
  },
  {
   "cell_type": "markdown",
   "metadata": {},
   "source": [
    "### DNA translation\n",
    "\n",
    ">Note:  This is a more complex exercise and we'll skip it if we're short of time.\n",
    "\n",
    "Write a program that will translate a DNA sequence into protein.\n",
    "\n",
    "* When a codon doesn’t code for anything (e.g. stop codon), you may use “`*`” in the output.\n",
    "\n",
    "\n",
    "* Choose just one reading frame — begin at the beginning of the sequence.  Ignore the extra bases at the end if the sequence length is not an exact multiple of 3.\n",
    "\n",
    "\n",
    "* Decide how you want to handle ambiguous codes. (The easiest way is to say that you won't, and only handle input containing `A`, `C`, `G` and `T`. But if you want a challenge, try handling ambiguous codes too.)\n",
    "\n",
    "Some tables that may come in handy:"
   ]
  },
  {
   "cell_type": "code",
   "execution_count": null,
   "metadata": {
    "collapsed": false
   },
   "outputs": [],
   "source": [
    "codon_table = {\n",
    "    'TTT': 'F', 'TTC': 'F', 'TTA': 'L', 'TTG': 'L', 'TCT': 'S',\n",
    "    'TCC': 'S', 'TCA': 'S', 'TCG': 'S', 'TAT': 'Y', 'TAC': 'Y',\n",
    "    'TGT': 'C', 'TGC': 'C', 'TGG': 'W', 'CTT': 'L', 'CTC': 'L',\n",
    "    'CTA': 'L', 'CTG': 'L', 'CCT': 'P', 'CCC': 'P', 'CCA': 'P',\n",
    "    'CCG': 'P', 'CAT': 'H', 'CAC': 'H', 'CAA': 'Q', 'CAG': 'Q',\n",
    "    'CGT': 'R', 'CGC': 'R', 'CGA': 'R', 'CGG': 'R', 'ATT': 'I',\n",
    "    'ATC': 'I', 'ATA': 'I', 'ATG': 'M', 'ACT': 'T', 'ACC': 'T',\n",
    "    'ACA': 'T', 'ACG': 'T', 'AAT': 'N', 'AAC': 'N', 'AAA': 'K',\n",
    "    'AAG': 'K', 'AGT': 'S', 'AGC': 'S', 'AGA': 'R', 'AGG': 'R',\n",
    "    'GTT': 'V', 'GTC': 'V', 'GTA': 'V', 'GTG': 'V', 'GCT': 'A',\n",
    "    'GCC': 'A', 'GCA': 'A', 'GCG': 'A', 'GAT': 'D', 'GAC': 'D',\n",
    "    'GAA': 'E', 'GAG': 'E', 'GGT': 'G', 'GGC': 'G', 'GGA': 'G',\n",
    "    'GGG': 'G'\n",
    "}\n",
    "\n",
    "# Extra data in case you want it\n",
    "stop_codons = ['TAA', 'TAG', 'TGA']\n",
    "start_codons = ['TTG', 'CTG', 'ATG']"
   ]
  }
 ],
 "metadata": {
  "kernelspec": {
   "display_name": "Python 3",
   "language": "python",
   "name": "python3"
  },
  "language_info": {
   "codemirror_mode": {
    "name": "ipython",
    "version": 3
   },
   "file_extension": ".py",
   "mimetype": "text/x-python",
   "name": "python",
   "nbconvert_exporter": "python",
   "pygments_lexer": "ipython3",
   "version": "3.6.0"
  }
 },
 "nbformat": 4,
 "nbformat_minor": 0
}

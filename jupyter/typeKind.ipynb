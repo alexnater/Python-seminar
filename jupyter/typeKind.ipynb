{
 "cells": [
  {
   "cell_type": "markdown",
   "metadata": {},
   "source": [
    "<div align=right>\n",
    "<img src=\"img/logosmall.png\" width=\"100px\" align=right>\n",
    "</div>"
   ]
  },
  {
   "cell_type": "markdown",
   "metadata": {},
   "source": [
    "# Basic data types"
   ]
  },
  {
   "cell_type": "markdown",
   "metadata": {},
   "source": [
    "<div class=\"alert alert-warning\">\n",
    "Parts of this section have been adapted from copyrighted material in *Object-Oriented Programming in Python from University of Cape Town and individual contributors ( http://python-textbok.readthedocs.io/en/1.0/index.html ) * and https://www.programiz.com/.\n",
    "\n",
    "**Please do not distribute it!**"
   ]
  },
  {
   "cell_type": "markdown",
   "metadata": {},
   "source": [
    "## Variable needs to have kind"
   ]
  },
  {
   "cell_type": "markdown",
   "metadata": {},
   "source": [
    "A variable is a label for a location in memory used to hold some data/value.\n",
    "\n",
    "In statically typed languages (e.g C/C++,C#,Java,etc), variables have predetermined types, and a variable can only be used to hold values of that type. In Python, we may reuse the same variable to store values of any type.\n",
    "\n",
    "In Python variable types are determined by the value stored within the variable. This means unlike statically typed languages, keywords like \"int\", \"String\", or \"bool\" are not required, as Python supports type inferencing. This means Python assign the most general compatible variable type to your data."
   ]
  },
  {
   "cell_type": "markdown",
   "metadata": {},
   "source": [
    "## Defining variables"
   ]
  },
  {
   "cell_type": "markdown",
   "metadata": {},
   "source": [
    "To define a new variable in Python, we simply assign a value to a label with (=)."
   ]
  },
  {
   "cell_type": "code",
   "execution_count": null,
   "metadata": {},
   "outputs": [],
   "source": [
    "a = 2017\n",
    "b = 3.1415\n",
    "c = \"evop17@bioinf.uni-leipzig.de\""
   ]
  },
  {
   "cell_type": "markdown",
   "metadata": {},
   "source": [
    "We can define several variables in one line (a.k.a Multiple assignments), but this is usually considered bad style:"
   ]
  },
  {
   "cell_type": "code",
   "execution_count": null,
   "metadata": {
    "collapsed": true
   },
   "outputs": [],
   "source": [
    "# Define three variables at once:\n",
    "a, b, c = 2017, 3.1415, \"evop17@bioinf.uni-leipzig.de\""
   ]
  },
  {
   "cell_type": "markdown",
   "metadata": {},
   "source": [
    "In keeping with good programming style, we should make use of meaningful names for variables."
   ]
  },
  {
   "cell_type": "code",
   "execution_count": null,
   "metadata": {
    "collapsed": true
   },
   "outputs": [],
   "source": [
    "# Use meaningful names:\n",
    "year = 2017\n",
    "pi = 3.1415\n",
    "emailList = \"evop17@bioinf.uni-leipzig.de\""
   ]
  },
  {
   "cell_type": "markdown",
   "metadata": {},
   "source": [
    "## Data types in Python"
   ]
  },
  {
   "cell_type": "markdown",
   "metadata": {},
   "source": [
    "Every value in Python has a datatype. Since everything is an object in Python.Since everything is an object in Python programming, data types are actually classes and variables are instance (object) of these classes. Some of the important types are listed below."
   ]
  },
  {
   "cell_type": "markdown",
   "metadata": {},
   "source": [
    "## Numbers"
   ]
  },
  {
   "cell_type": "markdown",
   "metadata": {},
   "source": [
    "Integers, floating point numbers and complex numbers falls under Python numbers category. They are defined as **int**, **float** and **complex** class in Python. \n",
    "\n",
    "Integers can be of any length, it is only limited by the memory available.\n",
    "\n",
    "A floating point number is accurate up to **15** decimal places. Integer and floating points are separated by decimal points. ** 1 ** is *integer* , ** 1.0 ** is *floating point* number.\n",
    "\n",
    "Complex numbers are written in the form, x + yj, where x is the real part and y is the imaginary part. Here are some examples.\n",
    "\n",
    "We can use the __type()__ function to know which class a variable or a value belongs to and the __isinstance()__ function to check if an object belongs to a particular class."
   ]
  },
  {
   "cell_type": "code",
   "execution_count": 1,
   "metadata": {},
   "outputs": [
    {
     "name": "stdout",
     "output_type": "stream",
     "text": [
      "2017 is of type <class 'int'>\n",
      "3.141592653589793 is of type <class 'float'>\n",
      "(1+2j) , Is it complex number? True\n"
     ]
    }
   ],
   "source": [
    "year = 2017\n",
    "print(year, \"is of type\", type(year))\n",
    "\n",
    "pi = 3.1415926535897932\n",
    "print(pi, \"is of type\", type(pi))\n",
    "\n",
    "complexNumber = 1+2j\n",
    "print(complexNumber, \", Is it complex number?\", isinstance(1+2j,complex))"
   ]
  },
  {
   "cell_type": "markdown",
   "metadata": {},
   "source": [
    "Notice pi got truncated."
   ]
  },
  {
   "cell_type": "markdown",
   "metadata": {},
   "source": [
    "## Strings"
   ]
  },
  {
   "cell_type": "markdown",
   "metadata": {},
   "source": [
    "Strings are a type. String is sequence of Unicode characters. We can use single quotes or double quotes to represent strings. Multi-line strings can be denoted using triple quotes, ''' or \"\"\"."
   ]
  },
  {
   "cell_type": "code",
   "execution_count": 2,
   "metadata": {},
   "outputs": [
    {
     "name": "stdout",
     "output_type": "stream",
     "text": [
      "My 2nd home: evop17@bioinf.uni-leipzig.de\n",
      "My mission:  Make Python great again\n",
      "             -- TrumpScript\n"
     ]
    }
   ],
   "source": [
    "emailList = \"evop17@bioinf.uni-leipzig.de\"\n",
    "print(\"My 2nd home:\",emailList)\n",
    "\n",
    "myMission = '''Make Python great again\n",
    "             -- TrumpScript'''\n",
    "\n",
    "print(\"My mission: \",myMission)"
   ]
  },
  {
   "cell_type": "markdown",
   "metadata": {},
   "source": [
    "You can also call on a single element in a string ( by using slicing operator [ ] )"
   ]
  },
  {
   "cell_type": "code",
   "execution_count": 5,
   "metadata": {},
   "outputs": [
    {
     "name": "stdout",
     "output_type": "stream",
     "text": [
      "@\n"
     ]
    }
   ],
   "source": [
    "print (emailList[6])"
   ]
  },
  {
   "cell_type": "markdown",
   "metadata": {},
   "source": [
    "As you can see the elements are numbered starting with 0 (due to Python using Ordinals)\n",
    "\n",
    "| 0 | 1 | 2 | 3 | 4 | 5 | 6 | 7 | 8 | 9 | 10 | 11 | 12 | 13 | 14 | 15 | 16 | 17 | 18 | 19 | 20 | 21 | 22 | 23 | 24 | 25 | 26 | 27 |\n",
    "| - | - | - | - | - | - | - | - | - | - | - | - | - | - | - | - | - | - | - | - | - | - | - | - | - | - | - | - |\n",
    "| e | v | o | p | 1 | 7 | @ | b | i | o | i | n | f | . | u | n | i | - | l | e | i | p | z | i | g | . | d | e | \n",
    "\n",
    "You can also call a range of elements from a string: "
   ]
  },
  {
   "cell_type": "code",
   "execution_count": 6,
   "metadata": {
    "scrolled": false
   },
   "outputs": [
    {
     "name": "stdout",
     "output_type": "stream",
     "text": [
      "I am using Python \n"
     ]
    }
   ],
   "source": [
    "print(\"I am using\", myMission[5:12])"
   ]
  },
  {
   "cell_type": "markdown",
   "metadata": {},
   "source": [
    "## List"
   ]
  },
  {
   "cell_type": "markdown",
   "metadata": {},
   "source": [
    "List is an ordered sequence of items. It is one of the most used datatype in Python and is very flexible. All the items in a list do not need to be of the same type.\n",
    "\n",
    "Declaring a list is pretty straight forward. Items separated by commas are enclosed within brackets [ ]"
   ]
  },
  {
   "cell_type": "code",
   "execution_count": 7,
   "metadata": {
    "scrolled": true
   },
   "outputs": [
    {
     "name": "stdout",
     "output_type": "stream",
     "text": [
      "My answer to half of the truth: 21\n",
      "[21, 'is only', 'half', 'the truth']\n"
     ]
    }
   ],
   "source": [
    "dontPanic = [21,\"is only\",0.5,\"the truth\"]\n",
    "\n",
    "print(\"My answer to half of the truth:\", dontPanic[0])\n",
    "\n",
    "dontPanic[2] = \"half\"\n",
    "\n",
    "print(dontPanic)"
   ]
  },
  {
   "cell_type": "markdown",
   "metadata": {},
   "source": [
    "## Tuples"
   ]
  },
  {
   "cell_type": "markdown",
   "metadata": {},
   "source": [
    "Tuple is an ordered sequence of items same as list.The only difference is that tuples are immutable. Tuples once created cannot be modified.\n",
    "\n",
    "Tuples are used to write-protect data and are usually faster than list as it cannot change dynamically.\n",
    "\n",
    "It is defined within parentheses () where items are separated by commas."
   ]
  },
  {
   "cell_type": "code",
   "execution_count": 9,
   "metadata": {
    "scrolled": true
   },
   "outputs": [
    {
     "name": "stdout",
     "output_type": "stream",
     "text": [
      "My answer to half of the truth: 21\n",
      "(21, 'is only', 0.5, 'the truth')\n"
     ]
    }
   ],
   "source": [
    "dontPanic = (21,\"is only\",0.5,\"the truth\")\n",
    "\n",
    "print(\"My answer to half of the truth:\", dontPanic[0])\n",
    "\n",
    "# Generates error\n",
    "# Use # to comment a line\n",
    "# dontPanic[2] = \"half\"\n",
    "\n",
    "print(dontPanic)"
   ]
  },
  {
   "cell_type": "markdown",
   "metadata": {},
   "source": [
    "## Dictionaries"
   ]
  },
  {
   "cell_type": "markdown",
   "metadata": {},
   "source": [
    "Dictionary is an unordered collection of key-value pairs.\n",
    "\n",
    "It is generally used when we have a huge amount of data. Dictionaries are optimized for retrieving data but you must know the key to retrieve the value.\n",
    "\n",
    "In Python, dictionaries are defined within braces {} with each item being a pair in the form key:value. Key and value can be of any type."
   ]
  },
  {
   "cell_type": "code",
   "execution_count": 10,
   "metadata": {},
   "outputs": [
    {
     "name": "stdout",
     "output_type": "stream",
     "text": [
      "<class 'dict'>\n",
      "{'SheevPalpatine': 'DarthSidious', 'TomRiddle': 'Lord Voldemort', 'AnakinSkywalker': 'Darth Vader'}\n"
     ]
    },
    {
     "ename": "KeyError",
     "evalue": "1",
     "output_type": "error",
     "traceback": [
      "\u001b[0;31m---------------------------------------------------------------------------\u001b[0m",
      "\u001b[0;31mKeyError\u001b[0m                                  Traceback (most recent call last)",
      "\u001b[0;32m<ipython-input-10-e4a625c50438>\u001b[0m in \u001b[0;36m<module>\u001b[0;34m()\u001b[0m\n\u001b[1;32m      5\u001b[0m \u001b[0;34m\u001b[0m\u001b[0m\n\u001b[1;32m      6\u001b[0m \u001b[0;31m# Generates error\u001b[0m\u001b[0;34m\u001b[0m\u001b[0;34m\u001b[0m\u001b[0m\n\u001b[0;32m----> 7\u001b[0;31m \u001b[0mprint\u001b[0m\u001b[0;34m(\u001b[0m\u001b[0;34m\"DarkLord[1] = \"\u001b[0m\u001b[0;34m,\u001b[0m \u001b[0mDarkLord\u001b[0m\u001b[0;34m[\u001b[0m\u001b[0;36m1\u001b[0m\u001b[0;34m]\u001b[0m\u001b[0;34m)\u001b[0m\u001b[0;34m\u001b[0m\u001b[0m\n\u001b[0m\u001b[1;32m      8\u001b[0m \u001b[0;34m\u001b[0m\u001b[0m\n\u001b[1;32m      9\u001b[0m \u001b[0mprint\u001b[0m\u001b[0;34m(\u001b[0m\u001b[0;34m\"DarkLord['TomRiddle'] = \"\u001b[0m\u001b[0;34m,\u001b[0m \u001b[0mDarkLord\u001b[0m\u001b[0;34m[\u001b[0m\u001b[0;34m\"TomRiddle\"\u001b[0m\u001b[0;34m]\u001b[0m\u001b[0;34m)\u001b[0m\u001b[0;34m;\u001b[0m\u001b[0;34m\u001b[0m\u001b[0m\n",
      "\u001b[0;31mKeyError\u001b[0m: 1"
     ]
    }
   ],
   "source": [
    "DarkLord = {\"SheevPalpatine\":\"DarthSidious\",\"TomRiddle\":\"Lord Voldemort\",\"AnakinSkywalker\":\"Darth Vader\"}\n",
    "print(type(DarkLord))\n",
    "\n",
    "print(DarkLord)\n",
    "\n",
    "# Generates error\n",
    "print(\"DarkLord[1] = \", DarkLord[1])\n",
    "\n",
    "print(\"DarkLord['TomRiddle'] = \", DarkLord[\"TomRiddle\"]);\n",
    "\n",
    "# Generates error\n",
    "print(\"DarkLord['TomRiddle'] = \", DarkLord[2]);"
   ]
  },
  {
   "cell_type": "markdown",
   "metadata": {},
   "source": [
    "## Exercise 1"
   ]
  },
  {
   "cell_type": "code",
   "execution_count": 16,
   "metadata": {},
   "outputs": [
    {
     "name": "stdout",
     "output_type": "stream",
     "text": [
      "<class 'dict'>\n",
      "<class 'list'>\n",
      "<class 'tuple'>\n",
      "3.3000000000000003\n"
     ]
    }
   ],
   "source": [
    "## The following Python code {'stock': 'NVO', 'wikipedia': 'Novo_Nordisk'} is a: dictionary\n",
    "tmp = {'stock': 'NVO', 'wikipedia': 'Novo_Nordisk'}\n",
    "print(type(tmp))\n",
    "\n",
    "## The following Python code [1, 2, 'stock', 4] constructs a: list\n",
    "tmp = [1, 2, 'stock', 4]\n",
    "print(type(tmp))\n",
    "\n",
    "## The following Python code colors = ('red', 'yellow', 'blue', 'black') is a: tuple\n",
    "tmp = ('red', 'yellow', 'blue', 'black')\n",
    "print(type(tmp))\n",
    "\n",
    "## What is the result of 1.1 + 2.2 ? Is it equal to 3.3? no\n",
    "print(1.1+2.2)\n",
    "\n"
   ]
  },
  {
   "cell_type": "markdown",
   "metadata": {},
   "source": [
    "## Type Conversion"
   ]
  },
  {
   "cell_type": "markdown",
   "metadata": {},
   "source": [
    "As we write more programs, we will often find that we need to convert data from one type to another, for example from a string to an integer or from an integer to a floating-point number. There are two kinds of type conversions in Python: implicit and explicit conversions."
   ]
  },
  {
   "cell_type": "markdown",
   "metadata": {},
   "source": [
    "### Implicit conversion "
   ]
  },
  {
   "cell_type": "code",
   "execution_count": 19,
   "metadata": {},
   "outputs": [
    {
     "name": "stdout",
     "output_type": "stream",
     "text": [
      "<class 'tuple'>\n",
      "<class 'float'>\n"
     ]
    }
   ],
   "source": [
    "result = 8.5 * 2\n",
    "print(type(tmp))\n",
    "print(type(result))\n",
    "\n",
    "# What is the result's type? "
   ]
  },
  {
   "cell_type": "markdown",
   "metadata": {},
   "source": [
    "### Explicit conversion "
   ]
  },
  {
   "cell_type": "markdown",
   "metadata": {},
   "source": [
    "Converting numbers from float to int will result in a loss of precision. For example, try to convert 5.834 to an int – it is not possible to do this without losing precision. In order for this to happen, we must explicitly tell Python that we are aware that precision will be lost. For example, we need to tell the compiler to convert a float to an int like this"
   ]
  },
  {
   "cell_type": "code",
   "execution_count": 20,
   "metadata": {},
   "outputs": [
    {
     "name": "stdout",
     "output_type": "stream",
     "text": [
      "5\n",
      "3\n",
      "3\n"
     ]
    },
    {
     "ename": "ValueError",
     "evalue": "invalid literal for int() with base 10: '3.7'",
     "output_type": "error",
     "traceback": [
      "\u001b[0;31m---------------------------------------------------------------------------\u001b[0m",
      "\u001b[0;31mValueError\u001b[0m                                Traceback (most recent call last)",
      "\u001b[0;32m<ipython-input-20-e42bc12d339a>\u001b[0m in \u001b[0;36m<module>\u001b[0;34m()\u001b[0m\n\u001b[1;32m     11\u001b[0m \u001b[0;34m\u001b[0m\u001b[0m\n\u001b[1;32m     12\u001b[0m \u001b[0;31m# This is not OK\u001b[0m\u001b[0;34m\u001b[0m\u001b[0;34m\u001b[0m\u001b[0m\n\u001b[0;32m---> 13\u001b[0;31m \u001b[0mi\u001b[0m \u001b[0;34m=\u001b[0m \u001b[0mint\u001b[0m\u001b[0;34m(\u001b[0m\u001b[0;34m\"3.7\"\u001b[0m\u001b[0;34m)\u001b[0m \u001b[0;31m# This is a string representation of a float, not an integer!\u001b[0m\u001b[0;34m\u001b[0m\u001b[0m\n\u001b[0m\u001b[1;32m     14\u001b[0m \u001b[0mprint\u001b[0m\u001b[0;34m(\u001b[0m\u001b[0mi\u001b[0m\u001b[0;34m)\u001b[0m\u001b[0;34m\u001b[0m\u001b[0m\n\u001b[1;32m     15\u001b[0m \u001b[0;34m\u001b[0m\u001b[0m\n",
      "\u001b[0;31mValueError\u001b[0m: invalid literal for int() with base 10: '3.7'"
     ]
    }
   ],
   "source": [
    "i = int(5.834)\n",
    "print(i)\n",
    "\n",
    "# This is OK\n",
    "i = int(\"3\")\n",
    "print(i)\n",
    "\n",
    "# This is OK\n",
    "i = int(3.7)\n",
    "print(i)\n",
    "\n",
    "# This is not OK\n",
    "i = int(\"3.7\") # This is a string representation of a float, not an integer!\n",
    "print(i)\n",
    "\n",
    "# We have to convert the string to a float first\n",
    "i = int(float(\"3.7\"))\n",
    "print(i)"
   ]
  },
  {
   "cell_type": "markdown",
   "metadata": {},
   "source": [
    "### Converting to and from strings"
   ]
  },
  {
   "cell_type": "markdown",
   "metadata": {},
   "source": [
    "As we saw in the earlier sections, Python seldom performs implicit conversions to and from str – we usually have to convert values explicitly. If we pass a single number (or any other value) to the print function, it will be converted to a string automatically – but if we try to add a number and a string, we will get an error:"
   ]
  },
  {
   "cell_type": "code",
   "execution_count": 26,
   "metadata": {},
   "outputs": [
    {
     "name": "stdout",
     "output_type": "stream",
     "text": [
      "5\n",
      "6.7\n",
      "7\n",
      "34\n",
      "34\n",
      "7\n"
     ]
    }
   ],
   "source": [
    "# This is OK\n",
    "print(5)\n",
    "print(6.7)\n",
    "\n",
    "# This is not OK\n",
    "print(3 + 4)\n",
    "\n",
    "# Do you mean this...\n",
    "print(\"3%d\" % 4) # concatenate \"3\" and \"4\" to get \"34\"\n",
    "    # change a string with %d just add one digit after the \"3\"\n",
    "    \n",
    "# This is the same\n",
    "print(\"3\" + str(4))\n",
    "\n",
    "# Or this?\n",
    "print(int(\"3\") + 4) # add 3 and 4 to get 7"
   ]
  },
  {
   "cell_type": "markdown",
   "metadata": {},
   "source": [
    "## Exercise 2"
   ]
  },
  {
   "cell_type": "code",
   "execution_count": 35,
   "metadata": {},
   "outputs": [
    {
     "name": "stdout",
     "output_type": "stream",
     "text": [
      "<class 'float'>\n",
      "<class 'int'>\n",
      "<class 'str'>\n",
      "<class 'str'>\n",
      "<class 'float'>\n"
     ]
    }
   ],
   "source": [
    "# Convert \"8.8\" to a float.\n",
    "tmpVar = float(\"8.8\")\n",
    "print(type(tmpVar))\n",
    "\n",
    "# Convert \"8.8\" to an integer .\n",
    "tmpVar = int(float(\"8.8\"))\n",
    "print(type(tmpVar))\n",
    "\n",
    "# Convert 8.8 to a string.\n",
    "tmpVar = str(8.8)\n",
    "print(type(tmpVar))\n",
    "\n",
    "# Convert 8 to a string.\n",
    "tmpVar = str(8)\n",
    "print(type(tmpVar))\n",
    "\n",
    "# Convert 8 to a float.\n",
    "tmpVar = float(8)\n",
    "print(type(tmpVar))\n"
   ]
  },
  {
   "cell_type": "code",
   "execution_count": null,
   "metadata": {
    "collapsed": true
   },
   "outputs": [],
   "source": []
  }
 ],
 "metadata": {
  "anaconda-cloud": {},
  "kernelspec": {
   "display_name": "Python 3",
   "language": "python",
   "name": "python3"
  },
  "language_info": {
   "codemirror_mode": {
    "name": "ipython",
    "version": 3
   },
   "file_extension": ".py",
   "mimetype": "text/x-python",
   "name": "python",
   "nbconvert_exporter": "python",
   "pygments_lexer": "ipython3",
   "version": "3.6.1"
  }
 },
 "nbformat": 4,
 "nbformat_minor": 1
}

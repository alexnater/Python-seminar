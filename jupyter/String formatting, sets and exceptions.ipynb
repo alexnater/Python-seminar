{
 "cells": [
  {
   "cell_type": "markdown",
   "metadata": {},
   "source": [
    "<div align=right>\n",
    "<img src=\"img/logosmall.png\" width=\"100px\" align=right>\n",
    "</div>"
   ]
  },
  {
   "cell_type": "markdown",
   "metadata": {},
   "source": [
    "In this Notebook we'll look briefly at three unrelated topics that didn't quite fit into any of the previous sections.  That doesn't mean they're unimportant, though!"
   ]
  },
  {
   "cell_type": "markdown",
   "metadata": {},
   "source": [
    "# String formatting"
   ]
  },
  {
   "cell_type": "markdown",
   "metadata": {},
   "source": [
    "To date we've seen how to build up a string manually by concatenating substrings with `+`, and by using `str` to convert numbers to a string representation:"
   ]
  },
  {
   "cell_type": "code",
   "execution_count": null,
   "metadata": {
    "collapsed": false
   },
   "outputs": [],
   "source": [
    "dna = \"ACTTACATGACCCAA\"\n",
    "print ('The length of the sequence \"' + dna + '\" is ' + str(len(dna)) + \".\")"
   ]
  },
  {
   "cell_type": "markdown",
   "metadata": {},
   "source": [
    "We've also been using features of the `print` funcion to format strings in a slightly more readable format:"
   ]
  },
  {
   "cell_type": "code",
   "execution_count": null,
   "metadata": {
    "collapsed": false
   },
   "outputs": [],
   "source": [
    "print(\"The length of the sequence\",\n",
    "      dna.join('\"\"'),\n",
    "      \"is\",\n",
    "      len(dna),\n",
    "      end=\".\\n\")"
   ]
  },
  {
   "cell_type": "markdown",
   "metadata": {},
   "source": [
    "Even this can often lead to convoluted and hard-to-read code.  Also, we don't necessary always want to *print* a string we've just formatted.  We might want to store it, write it to a file, or handle it in a further computation.\n",
    "\n",
    "The string type has a method `format()` which makes examples like that above simpler and more straight-forward:"
   ]
  },
  {
   "cell_type": "code",
   "execution_count": null,
   "metadata": {
    "collapsed": false
   },
   "outputs": [],
   "source": [
    "'The length of the sequence \"{}\" is {}.'.format(dna, len(dna))"
   ]
  },
  {
   "cell_type": "markdown",
   "metadata": {},
   "source": [
    "As you can see, our string now contains a number of placeholders called *replacement fields*, each consisting of a pair of curly braces (`{}`).  When we call the string's `format` method with arguments, each argument in turn is inserted in place of one of the replacement fields.  Note that `format()` automatically takes care of converting objects to a printable textual representation (just like `print()`).\n",
    "\n",
    "If you put a single integer `n` between the replacement field's braces, it refers to the `n`th argument of the `format()` method (using a zero-based count):"
   ]
  },
  {
   "cell_type": "code",
   "execution_count": null,
   "metadata": {
    "collapsed": false
   },
   "outputs": [],
   "source": [
    "'The length of the sequence \"{1}\" is {0}.'.format(len(dna), dna)"
   ]
  },
  {
   "cell_type": "markdown",
   "metadata": {},
   "source": [
    "You can also use `format()` with keyword arguments, in which case your replacement fields can be *named*, which can help to make the whole statement even more readable (and means you don't have to worry about accidentally swapping arguments since order becomes irrelevant):"
   ]
  },
  {
   "cell_type": "code",
   "execution_count": null,
   "metadata": {
    "collapsed": false
   },
   "outputs": [],
   "source": [
    "message = 'The length of the sequence \"{seq}\" is {seq_length}.'\n",
    "message.format(seq=dna, seq_length=len(dna))"
   ]
  },
  {
   "cell_type": "markdown",
   "metadata": {},
   "source": [
    "This is still just the tip of the iceberg.  There exists a whole formatting \"mini-language\" that can be used inside the braces of replacment fields to specify how the field should be formatted.  Here are just *some* examples of what's possible:\n",
    "\n",
    "Specifiy precision when printing floating point numbers:"
   ]
  },
  {
   "cell_type": "code",
   "execution_count": null,
   "metadata": {
    "collapsed": false
   },
   "outputs": [],
   "source": [
    "from math import pi\n",
    "\n",
    "print(\"{:.2f}\".format(pi))\n",
    "print(\"{:.10f}\".format(pi))"
   ]
  },
  {
   "cell_type": "markdown",
   "metadata": {},
   "source": [
    "Note in the above example that we use the `from ... import` syntax to import just a single item — in this case, the constant `pi` — from the standar library `math` module *into the current namespace*.  (Hence, we can reference it merely as `pi` and not `math.pi`.)\n",
    "\n",
    "Text alignment:"
   ]
  },
  {
   "cell_type": "code",
   "execution_count": null,
   "metadata": {
    "collapsed": false,
    "scrolled": true
   },
   "outputs": [],
   "source": [
    "print(\"{:<30}\".format('left aligned').join(['>>>', '<<<']))\n",
    "print(\"{:>30}\".format('right aligned').join(['>>>', '<<<']))\n",
    "print(\"{:*^30}\".format('centered').join(['>>>', '<<<'])) # '* as fill char"
   ]
  },
  {
   "cell_type": "markdown",
   "metadata": {},
   "source": [
    "Base conversion of numbers:"
   ]
  },
  {
   "cell_type": "code",
   "execution_count": null,
   "metadata": {
    "collapsed": false
   },
   "outputs": [],
   "source": [
    "print(\"int: {0:d};  hex: {0:x};  oct: {0:o};  bin: {0:b}\".format(42))\n",
    "# With prefix (0x, 0o or 0b):\n",
    "print(\"int: {0:d};  hex: {0:#x};  oct: {0:#o};  bin: {0:#b}\".format(42))"
   ]
  },
  {
   "cell_type": "markdown",
   "metadata": {},
   "source": [
    "Adding a thousands separator:"
   ]
  },
  {
   "cell_type": "code",
   "execution_count": null,
   "metadata": {
    "collapsed": false
   },
   "outputs": [],
   "source": [
    "\"{:,}\".format(123456789)"
   ]
  },
  {
   "cell_type": "markdown",
   "metadata": {},
   "source": [
    "Even converting a floating point number into a percentage:"
   ]
  },
  {
   "cell_type": "code",
   "execution_count": null,
   "metadata": {
    "collapsed": false
   },
   "outputs": [],
   "source": [
    "\"{:.2%}\".format(19 / 22)"
   ]
  },
  {
   "cell_type": "markdown",
   "metadata": {},
   "source": [
    "And there's (a lot) more to it.  I would encourage you to go look at the “Format Specificatio Mini-Langauge” section in the official Python documentation:\n",
    "\n",
    "* http://docs.python.org/3/library/string.html#formatspec"
   ]
  },
  {
   "cell_type": "markdown",
   "metadata": {},
   "source": [
    "# Sets"
   ]
  },
  {
   "cell_type": "markdown",
   "metadata": {},
   "source": [
    "In addition to lists, dictionaries and tuples, Python has one more basic and useful built-in data structure — the *set*.  A set is an **unordered** collection of **unique** elements.\n",
    "\n",
    "Because Python's set it implemented behind the scenes as a hash table, set-wise operations are very efficient.  However, this means that the elements of a set — like the keys of a dictionary — have to be *hashable*.\n",
    "\n",
    "A set is delimited by curly braces, just like a dictionary.  You're unlikely to confuse the two, since sets do not have paired elements:"
   ]
  },
  {
   "cell_type": "code",
   "execution_count": null,
   "metadata": {
    "collapsed": false
   },
   "outputs": [],
   "source": [
    "s = {'ACT', 'CCA', 'GGT', 'TAG'}"
   ]
  },
  {
   "cell_type": "code",
   "execution_count": null,
   "metadata": {
    "collapsed": false
   },
   "outputs": [],
   "source": [
    "print(s)"
   ]
  },
  {
   "cell_type": "code",
   "execution_count": null,
   "metadata": {
    "collapsed": false
   },
   "outputs": [],
   "source": [
    "type(s)"
   ]
  },
  {
   "cell_type": "markdown",
   "metadata": {},
   "source": [
    "A set can be created from a list (or other iterable) like so:"
   ]
  },
  {
   "cell_type": "code",
   "execution_count": null,
   "metadata": {
    "collapsed": false,
    "scrolled": false
   },
   "outputs": [],
   "source": [
    "s = set([\"ACT\", \"TAG\", \"GGT\", \"CCA\"])\n",
    "print(s)"
   ]
  },
  {
   "cell_type": "markdown",
   "metadata": {},
   "source": [
    "Non-unique elements get \"collapsed\" implicitly when you create a set from a list (or other iterable) with non-unique values:"
   ]
  },
  {
   "cell_type": "code",
   "execution_count": null,
   "metadata": {
    "collapsed": false
   },
   "outputs": [],
   "source": [
    "nucs = set(\"ACTTACGACTTACG\")\n",
    "print(nucs)"
   ]
  },
  {
   "cell_type": "markdown",
   "metadata": {},
   "source": [
    "We can use this to check whether a list (or other container) has only unique elements:"
   ]
  },
  {
   "cell_type": "code",
   "execution_count": null,
   "metadata": {
    "collapsed": false
   },
   "outputs": [],
   "source": [
    "def is_unique(ls):\n",
    "    ls = list(ls)\n",
    "    return len(set(ls)) == len(ls)\n",
    "\n",
    "l1 = [1, 2, 3, 4, 5]\n",
    "l2 = [1, 2, 3, 3, 5]\n",
    "\n",
    "print(is_unique(l1))\n",
    "print(is_unique(l2))"
   ]
  },
  {
   "cell_type": "markdown",
   "metadata": {},
   "source": [
    "Since `{}` denotes an empty dictionary, the only way to create an empty set is by using the `set` function:"
   ]
  },
  {
   "cell_type": "code",
   "execution_count": null,
   "metadata": {
    "collapsed": false
   },
   "outputs": [],
   "source": [
    "empty = set()\n",
    "print(empty)"
   ]
  },
  {
   "cell_type": "markdown",
   "metadata": {},
   "source": [
    ">Note:  You can also use the functions `list()` and `dict()` without arguments to create an empty list and dict, respectively, though it's easier just to write `[]` or `{}`."
   ]
  },
  {
   "cell_type": "markdown",
   "metadata": {},
   "source": [
    "Since sets are *unordered* (like dictionaries), numerical indices are nonsensical:"
   ]
  },
  {
   "cell_type": "code",
   "execution_count": null,
   "metadata": {
    "collapsed": false
   },
   "outputs": [],
   "source": [
    "s[2]"
   ]
  },
  {
   "cell_type": "markdown",
   "metadata": {},
   "source": [
    "Sets are mutable — we can add elements to a set with its `add` method:"
   ]
  },
  {
   "cell_type": "code",
   "execution_count": null,
   "metadata": {
    "collapsed": false
   },
   "outputs": [],
   "source": [
    "s.add('CAT')\n",
    "print(s)"
   ]
  },
  {
   "cell_type": "markdown",
   "metadata": {},
   "source": [
    "Note what happens if we try to add a duplicate element:"
   ]
  },
  {
   "cell_type": "code",
   "execution_count": null,
   "metadata": {
    "collapsed": false
   },
   "outputs": [],
   "source": [
    "s.add('CAT')\n",
    "print(s)"
   ]
  },
  {
   "cell_type": "markdown",
   "metadata": {},
   "source": [
    "Python doesn't complain, but the elements of the set remain unique.\n",
    "\n",
    "Sets support `len` and `in`, and we can iterate over sets:"
   ]
  },
  {
   "cell_type": "code",
   "execution_count": null,
   "metadata": {
    "collapsed": false
   },
   "outputs": [],
   "source": [
    "len(s)"
   ]
  },
  {
   "cell_type": "code",
   "execution_count": null,
   "metadata": {
    "collapsed": false
   },
   "outputs": [],
   "source": [
    "\"CAT\" in s"
   ]
  },
  {
   "cell_type": "code",
   "execution_count": null,
   "metadata": {
    "collapsed": false
   },
   "outputs": [],
   "source": [
    "for element in s:\n",
    "    print(element)"
   ]
  },
  {
   "cell_type": "markdown",
   "metadata": {},
   "source": [
    "Python defines a range of set operators which can be used with operands of type `set`:\n",
    "\n",
    "| operator | meaning |\n",
    "|---|---|\n",
    "| `<=` | \"is a subset of\" |\n",
    "| `<` | \"is a proper subset of\" |\n",
    "| `>=` | \"is a superset of\" |\n",
    "| `>` | \"is a proper superset of\" |\n",
    "| <tt>&#124;</tt> | union |\n",
    "| `&` | intersection |\n",
    "| `-` | set difference |\n",
    "| `^` | symmetric difference |"
   ]
  },
  {
   "cell_type": "code",
   "execution_count": null,
   "metadata": {
    "collapsed": true
   },
   "outputs": [],
   "source": [
    "s1 = {'GGT', 'TAG', 'ACT'}\n",
    "s2 = {'ACT', 'CCA', 'CAT'}"
   ]
  },
  {
   "cell_type": "code",
   "execution_count": null,
   "metadata": {
    "collapsed": false
   },
   "outputs": [],
   "source": [
    "s1 & s2"
   ]
  },
  {
   "cell_type": "code",
   "execution_count": null,
   "metadata": {
    "collapsed": false
   },
   "outputs": [],
   "source": [
    "s1 | s2"
   ]
  },
  {
   "cell_type": "code",
   "execution_count": null,
   "metadata": {
    "collapsed": false
   },
   "outputs": [],
   "source": [
    "s1 > s2"
   ]
  },
  {
   "cell_type": "code",
   "execution_count": null,
   "metadata": {
    "collapsed": false
   },
   "outputs": [],
   "source": [
    "s1 - s2"
   ]
  },
  {
   "cell_type": "markdown",
   "metadata": {},
   "source": [
    "Additionally, the set type has some methods that duplicate some of the functionality of set operators.  However, these methods can take any iterable (not just a set) as argument.  Here is a list of set methods;  it's not too hard to deduce what they do:\n",
    "\n",
    "| Method | Use case |\n",
    "| -|-|\n",
    "| `isdisjoint(other)` | `True` if no elements in common with *other* |\n",
    "| `issubset(other)` | `True` if every element also in *other* |\n",
    "| `issuperset(other)` | `True` if every element of *other* also in set |\n",
    "| `union(other)` | Return new set with all elements of set and *other* |\n",
    "| `intersection(other)` | Return new set with elements in common between set and *other* |\n",
    "| `difference(other)` | Return new set with elements of set not in *other* |\n",
    "\n",
    "If you need more help, have a look at the official documentation:\n",
    "\n",
    "<https://docs.python.org/3/library/stdtypes.html#set-types-set-frozenset>\n",
    "\n"
   ]
  },
  {
   "cell_type": "code",
   "execution_count": null,
   "metadata": {
    "collapsed": false
   },
   "outputs": [],
   "source": [
    "s1.union(s2)"
   ]
  },
  {
   "cell_type": "code",
   "execution_count": null,
   "metadata": {
    "collapsed": false
   },
   "outputs": [],
   "source": [
    "s1.union(['ACT', 'TAG'])"
   ]
  },
  {
   "cell_type": "markdown",
   "metadata": {},
   "source": [
    "# Exceptions"
   ]
  },
  {
   "cell_type": "markdown",
   "metadata": {},
   "source": [
    "We've seen (many times!) by now that when a Python program encounters an error, it \"bombs out\" with a *stack trace*.  This isn't very hard to provoke:"
   ]
  },
  {
   "cell_type": "code",
   "execution_count": null,
   "metadata": {
    "collapsed": false
   },
   "outputs": [],
   "source": [
    "5 / 0"
   ]
  },
  {
   "cell_type": "markdown",
   "metadata": {},
   "source": [
    "We say that Python *raises an exception*.  (Python is a very polite language;  many other languages will *throw* an exception.)\n",
    "\n",
    "One's initial instinct is to hate stack traces;  after all, if you see one it means that *something went wrong*.\n",
    "\n",
    "Resist this instinct!  Stack traces are your friends!  The longer and the more explicit, the better, since an explicit stack trace helps you to find out quickly and easily what went wrong. When you program, things *will* go wrong, and there's nothing worse than a silent, uncommunicative error!\n",
    "\n",
    "It's possible to write our own exceptions (though we won't cover that in this course), and in fact many Python modules define their own extensions just as they define their own classes and types.\n",
    "\n",
    "We can manually raise an exception — both built-in and user-defined — using the `raise` keyword:"
   ]
  },
  {
   "cell_type": "code",
   "execution_count": null,
   "metadata": {
    "collapsed": false
   },
   "outputs": [],
   "source": [
    "raise RuntimeError(\"Something bad happened\")"
   ]
  },
  {
   "cell_type": "markdown",
   "metadata": {},
   "source": [
    "We can also *handle* exceptions, using Python's `try ... except` syntax.  In some languages, exception handling is something you do only rarely, but in Python it's an everyday part of programming.\n",
    "\n",
    "Remember what happens when we try to open a filename that doesn't exist for reading?"
   ]
  },
  {
   "cell_type": "code",
   "execution_count": null,
   "metadata": {
    "collapsed": false
   },
   "outputs": [],
   "source": [
    "fh = open(\"nonexistent.txt\", 'r')"
   ]
  },
  {
   "cell_type": "markdown",
   "metadata": {},
   "source": [
    "The `FileNotFoundError` exception is raised.\n",
    "\n",
    "We can avoid this error by first checking whether `nonexistent.txt` exists.  The `os.path` module in the standard library (which contains loads of utility functions for working with the filesystem) has a function `os.exists` that we can use for this purpose:"
   ]
  },
  {
   "cell_type": "code",
   "execution_count": null,
   "metadata": {
    "collapsed": false
   },
   "outputs": [],
   "source": [
    "import os\n",
    "\n",
    "if os.path.exists(\"nonexistent.txt\"):\n",
    "    fh = open(\"nonexistent.txt\", 'r')\n",
    "else:\n",
    "    fh = None\n",
    "    \n",
    "print(fh)"
   ]
  },
  {
   "cell_type": "markdown",
   "metadata": {},
   "source": [
    "This is cumbersome and error-prone (since we have to write the filename twice).\n",
    "\n",
    "It is the more common Python idiom to just *let the `open` fail*, and handle the exception it raises:"
   ]
  },
  {
   "cell_type": "code",
   "execution_count": null,
   "metadata": {
    "collapsed": false
   },
   "outputs": [],
   "source": [
    "try:\n",
    "    fh = open(\"nonexistent.txt\", 'r')\n",
    "except FileNotFoundError:\n",
    "    fh = None\n",
    "    \n",
    "print(fh)"
   ]
  },
  {
   "cell_type": "markdown",
   "metadata": {},
   "source": [
    "In short, it works like this:\n",
    "\n",
    "The block of code under the `try` statement is executed.  If an exception is raised during this execution, Python checks if there's an associated `except` statement that handles this exception.  (`except` without any named excepsions will handle any and all exceptions!)  If there is, the block under that `except` statement is executed.\n",
    "\n",
    "Here's another example:  Here's a dictionary `counts` giving counts of trinucleotides in a sequence.  Remember what happens when we try to reference a key that doesn't exist in the dictionary?"
   ]
  },
  {
   "cell_type": "code",
   "execution_count": null,
   "metadata": {
    "collapsed": false
   },
   "outputs": [],
   "source": [
    "counts = {'CGC': 1, 'ACG': 1, 'CGA': 1, 'CGT': 1, 'TAC': 1,\n",
    "          'ATC': 2, 'TGA': 2, 'CTG': 1, 'GTA': 1, 'ATG': 1,\n",
    "          'AAT': 1, 'GAT': 2, 'TCG': 2, 'GCT': 1}\n",
    "\n",
    "taa_count = counts['TAA']"
   ]
  },
  {
   "cell_type": "markdown",
   "metadata": {},
   "source": [
    "We could test for the existece of a key first, of course:"
   ]
  },
  {
   "cell_type": "code",
   "execution_count": null,
   "metadata": {
    "collapsed": false
   },
   "outputs": [],
   "source": [
    "if 'TAA' in counts:\n",
    "    taa_count = counts['TAA']\n",
    "else:\n",
    "    taa_count = 0\n",
    "    \n",
    "print(taa_count)"
   ]
  },
  {
   "cell_type": "markdown",
   "metadata": {},
   "source": [
    "But it's more idiomatic to just *let the assignement fail*, and handle the exception:"
   ]
  },
  {
   "cell_type": "code",
   "execution_count": null,
   "metadata": {
    "collapsed": false
   },
   "outputs": [],
   "source": [
    "try:\n",
    "    taa_count = counts['TAA']\n",
    "except KeyError:\n",
    "    taa_count = 0\n",
    "    \n",
    "print(taa_count)"
   ]
  },
  {
   "cell_type": "markdown",
   "metadata": {},
   "source": [
    ">In this instance, we could also have used the `get()` method of the dictionary object.  The choice is a matter of individual preference."
   ]
  },
  {
   "cell_type": "markdown",
   "metadata": {},
   "source": [
    "Python programmers refer to these two idioms as “LBYL” and “EAFP”:\n",
    "\n",
    "* LBYL (Look Before You Leap) style implies doing extensive tests before you attempt any computation to ensure that the computation will succeed.\n",
    "\n",
    "\n",
    "* EAFP (it's Easier to Ask Forgiveness than Permission) style means you just go ahead and perform the computation, *letting it fail* if something goes wrong, and handling whatever errors arise.\n",
    "\n",
    "EAFP style can lead to more readable code since you just express your computation \"normally\" and let it fail if it wants to.  It can also lead to fewer unintentional errors, due to the fact that you have to type fewer fiddly variable names (etc.) in your tests.  EAFP is definitely the preferred Python idiom.\n",
    "\n",
    "There's a lot more to be said about exceptions and exception handling in Python, but this is enough to get started on!"
   ]
  },
  {
   "cell_type": "markdown",
   "metadata": {},
   "source": [
    "---"
   ]
  }
 ],
 "metadata": {
  "kernelspec": {
   "display_name": "Python 3",
   "language": "python",
   "name": "python3"
  },
  "language_info": {
   "codemirror_mode": {
    "name": "ipython",
    "version": 3
   },
   "file_extension": ".py",
   "mimetype": "text/x-python",
   "name": "python",
   "nbconvert_exporter": "python",
   "pygments_lexer": "ipython3",
   "version": "3.5.1"
  }
 },
 "nbformat": 4,
 "nbformat_minor": 0
}

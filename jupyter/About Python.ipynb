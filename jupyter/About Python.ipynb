{
 "cells": [
  {
   "cell_type": "markdown",
   "metadata": {},
   "source": [
    "<div align=right>\n",
    "<img src=\"img/logosmall.png\" width=\"100px\" align=right>\n",
    "</div>"
   ]
  },
  {
   "cell_type": "markdown",
   "metadata": {},
   "source": [
    "# A few words about Python"
   ]
  },
  {
   "cell_type": "markdown",
   "metadata": {},
   "source": [
    "In an ideal world, one would teach programming concepts without referencing any specific programming language, so that students can apply their knowledge to any language they please.  (I don't even like calling it a \"Python course\"; I'm much happier with it being an \"introductory programming course.)\n",
    "\n",
    "Unfortunately, reality doesn't work that way: It turns out we have to use *some* language. And it also turns out that a programming language — just like a natural language — shapes the thinking of those using it:  One can only conceive of that which you can express.  So I've come to terms with the fact that this *is* a Python course in one sense.\n",
    "\n",
    "\n",
    "Thus, while I don't want to descend into programming language advocacy, I do want to give you a sense that Python is a *sensible* language **for you** to be learning. Hence, this section."
   ]
  },
  {
   "cell_type": "markdown",
   "metadata": {},
   "source": [
    "## Why Python?"
   ]
  },
  {
   "cell_type": "markdown",
   "metadata": {},
   "source": [
    "* Experience has shown that Python is a **good pedagogical language**. It's relatively **easy to learn**, and students who attend introductory Python courses tend to retain proportionally more.\n",
    "  \n",
    "\n",
    "* Despite being easy to pick up, Python has **no artificial ceiling**. It can scale from small scripts comprising just a few lines, to large applications comprising hundreds of thousands of lines of code.  (This is why it's used by NASA and Google, among others.)\n",
    "\n",
    "\n",
    "* Python is simple to pick up partially because it has a **small core** and intentionally **clear syntax**. This means that students get productive more quickly and find it easier to keep the \"working set\" of required knowledge in their heads.\n",
    "\n",
    "\n",
    "* Python is a fairly **consistent** language. Once you learn a rule, you need not generally waste time learning a hundred exceptions to that rule.\n",
    "\n",
    "\n",
    "* Python is, today, a **mainstream programming language**. By most measures it's one of the top five most-used programming languages in the world.\n",
    "\n",
    "\n",
    "* Python has become enormously **dominant in scientific computing**. This ubiquity translates to the availability of high quality scientific computing libraries in almost any imaginable discipline.\n",
    "\n",
    "\n",
    "* Python is a good **general-purpose** programming language &mdash; it's not focused on one application field to the detriment of potential use in other areas. Its creators focus on creating a good language, rather than a tool for solving problems in a particular field.\n",
    "\n",
    "\n",
    "* As a combined result of the previous two points, Python excels in a variety of areas a scientist programmer might be interested in.  With Python, you can do your batch scripting, file manipulations, text processing, statistical analysis, and data visualisation.  You don't *need* to learn multiple languages, or cobble projects together using them;  Python allows you to **do everything in one language**.\n",
    "\n",
    "  Research code in a single language is much easier to package up and pass on to others. In scientific terms, it makes it **easier to reproduce your work**.\n",
    "\n",
    "\n",
    "* For the most part, Python **teaches good programming habits** because it is **based on established theoretical principles**. If you learn Python as your first programming language, you won't have to unlearn everything if you ever need to use another language.\n",
    "\n",
    "\n",
    "* Python is a **practical language for use in bioinformatics**.  It deals easily and naturally with the types of data and problems we face in bioinformatics. Mature libraries are available for all manner of bioinformatics tasks, meaning you won't have to write everything from scratch. If you work your way through this course, you ought to walk out with a tool that you can immediately apply in your day-to-day work.\n",
    "\n",
    "\n",
    "* Python is **free**. The copyright has been assigned to a non-profit organisation, and all major implementations are open source. You can use it at no cost, and with full confidence that you’ll always be able to do so in future."
   ]
  },
  {
   "cell_type": "markdown",
   "metadata": {},
   "source": [
    "## Python 2 vs. Python 3"
   ]
  },
  {
   "cell_type": "markdown",
   "metadata": {},
   "source": [
    "As I write there, there are two distinct \"dialects\" of Python in widespread use:  Python 2, and Python 3.\n",
    "\n",
    "As the development of Python continued in the early 2000s, it became clear that, in order to secure a future of the language, a fresh start was needed to overcome some early design choices that had been \"grandfathered into\" the language.  Hence, Python 3.0 was released in 2008 as a new version of the language, not entirely backwareds compatible with what went before.\n",
    "\n",
    "Of course, it took (and will take) a long time for all the major 3rd party libraries in the Python ecosystem to adapt to the new version of the language.  As I write this, the process is mostly (but not 100%) complete.  Sill, Python 2 remains widely used, and will be supported by the core Python developers until 2020.\n",
    "\n",
    "However, there are today many advantages to starting with Python 3, *which is what we'll do in this course*.\n",
    "\n",
    "As of this writing, the latest versions are:\n",
    "\n",
    "* Python 2:  version 2.7.13\n",
    "* Python 3:  version 3.6.0\n",
    "\n",
    "If there is time towards the end of the course, we'll look at some of the differences between Python 2 and Python 3 which can easily trip one up."
   ]
  },
  {
   "cell_type": "markdown",
   "metadata": {},
   "source": [
    "## The Python ecosystem\n",
    "\n",
    "As mentioned before, Python is today an immensely popular language with a wide variety of libraries available for almost any field of endeavour.  These libraries are maintained by a large community of individuals, self-organised on the internet.  How do these libraries fit together with the core Python language?\n",
    "\n",
    "You can visualise the Python ecosystem as concentric circles, if you wish:\n",
    "\n",
    "![Python ecosystem](img/Python ecosystem.png)\n",
    "\n",
    "* The innermost circle is the **core language**.  This is just Python itself; the language defined by an constantly evolving specification.  It provides the languages core computational features, plus a couple of generically useful data types and containers.  In an installed Python environment, the core langauge is implemented by a single binary program we call the Python *interpreter*.\n",
    "\n",
    "\n",
    "* Around the core language is the **standard library**.  This is a large array of more specialised Python *modules* that ship with the Python interpreter and is therefore available wherever Python is installed.  The standard library is maintained to a high standard by the same core team of Python develers who maintain the Python language specification and reference implementation.\n",
    "\n",
    "\n",
    "* Surrounding this, there's an unbounded universe of **3rd party libraries** covering almost any field of human endeavour.  Because they're maintained by a loose-knit community of individual contributors, there's little or no real organisation here.  Hence there's planty of overlap, some large gaps, and obvious differences in quality between individual libraries.  Navigating this sea of existing Python code is certainly part of workaday life for the Python programmer.  On the upside, it means he or she seldom has to code something from scratch:  There are almost always shoulders to stand on."
   ]
  },
  {
   "cell_type": "markdown",
   "metadata": {},
   "source": [
    "## A Python environment"
   ]
  },
  {
   "cell_type": "markdown",
   "metadata": {},
   "source": [
    "A Python *environment* that's suitable for solving everyday programming problems comprises at least the following components:\n",
    "\n",
    "* A Python *interpreter* that's suitable for your system.\n",
    "\n",
    "\n",
    "* An installation of the Python *standard library* that's usable by that interpreter.\n",
    "\n",
    "\n",
    "* Optionally but importantly, the toolset required to find, install, maintain (and if necessary, uninstall) 3rd party libraries."
   ]
  },
  {
   "cell_type": "markdown",
   "metadata": {},
   "source": [
    "### Installing and managing a Python environment\n",
    "\n",
    "On a traditional multi-user UNIX network (like the one used for this course), the Python environment is probably installed and maintained by a system administrator, who is likely the only person with the ability to install additional Python modules.\n",
    "\n",
    "This is unfortunately not nearly flexible or agile enough for us to do real everyday Python development.  Fortunately, tools exist which allow you to (easily) install a working Python environment in your own home directory, where *you* have full control over it.  These same tools can also be used to install a working Python environment on a standalone computer like your desktop or laptop.  (Even a computer on which you don't have administrative rights.)\n",
    "\n",
    "The first thing we'll do in this course is install our own Python environment using one of just such a toolset, called Anaconda.\n",
    "\n",
    "Additionally, we need the tools to install 3rd party modules in our Python environment.  We will also want to manage such modules over time;  that is, update them to newer versions, or possibly delete them when no longer required.  Again, Anaconda can help us here.\n",
    "\n",
    "Finally — to really throw a spanner in the works — we're using a variety of operating systems, e.g. Linux systems, Windows computers and Macs.  Some of us face multiple such environments in our daily work.  Fortunately, Anaconda is a cross-platform toolset.\n",
    "\n",
    "We'll look at Anaconda soon, but you can learn more about it at its home page:\n",
    "\n",
    "<http://docs.continuum.io/anaconda/>"
   ]
  },
  {
   "cell_type": "markdown",
   "metadata": {},
   "source": [
    "## Project Jupyter\n",
    "\n",
    "We'll be using *Jupyter Notebooks* as a teaching tool throuhout this course.\n",
    "\n",
    "Project Jupyter is a suite of software tools developed by scientists, for scientists.  At the core of Project Jupyter lies the concept of a “Notebook”, which is not unlike a web-based digital lab book.\n",
    "\n",
    "A Jupyter Notebook allows you to mix written text with snippets of code, as well as the output of that code (for example, graphs and tables).  It's a great tool for interactively analysing scientific data, and since it retains everythign pertaining to the analysis in a single place, it greatly aids both dissemination and reproduction of results.\n",
    "\n",
    "Along the way, it also makes a great teaching tool!\n",
    "\n",
    "One of the first things we'll be doing after installing our Python environment using `pyenv` or Anaconda (see previous secion), is using our newly-installed tools to install Jupyter.  The rest of the course will then be presented as a series of Jupyter Notebooks.\n",
    "\n",
    "> Jupyter is not Python-specific, but can be used with dozens of different programming languages.  The name \"Jupyter\" is an amalgam of the names of three programming languges often used in science:  Julia, Python and R.\n",
    "\n",
    "You can learn more about Jupyter at:\n",
    "\n",
    "http://jupyter.org"
   ]
  },
  {
   "cell_type": "markdown",
   "metadata": {},
   "source": [
    "## Python documentation"
   ]
  },
  {
   "cell_type": "markdown",
   "metadata": {},
   "source": [
    "The official Python documentation can be found here:\n",
    "    \n",
    "http://docs.python.org"
   ]
  },
  {
   "cell_type": "markdown",
   "metadata": {},
   "source": [
    "---"
   ]
  },
  {
   "cell_type": "markdown",
   "metadata": {},
   "source": [
    "## Exercises"
   ]
  },
  {
   "cell_type": "markdown",
   "metadata": {},
   "source": [
    "### 1. Explore the Python standard library\n",
    "\n",
    "You'll find an alphabetical list of the modules in the Python *standard library* at the following URL:\n",
    "\n",
    "https://docs.python.org/3/py-modindex.html\n",
    "\n",
    "Read through this list once to get a feeling for the tools that ship with Python.  Take note of the names of modules that you think might be useful for you in your work.\n",
    "\n",
    "If you're feeling adventurous, click on the names of some interesting-sounding modules to read their documentation!\n",
    "\n",
    "Keep in mind that everything you see here is high-quality code maintained by the same core people who develop Python itself."
   ]
  },
  {
   "cell_type": "markdown",
   "metadata": {},
   "source": [
    "### 2. Explore the Python Package Index\n",
    "\n",
    "The Python Software Foundation (the non-profit body that oversees Python development) maintains a large (yet incomplete) list of 3rd party libraries available for Python.  This is known as the Python Package Index, or *PyPI*.\n",
    "\n",
    "Have a look at the PyPI home page:  http://pypi.python.org\n",
    "\n",
    "Type some terms that are related to your work or interests iinto the search box (in the top/right corner).\n",
    "\n",
    "* Try generic terms like \"bioinformatics\"\n",
    "* Try more specific terms like \"phylogenetics\"\n",
    "* Try the names of file formats you've heard of, e.g. \"vcf\"\n",
    "* …etc.\n",
    "\n",
    "Take notes — mental or otherwise — of modules you think might be interesting later on.\n",
    "\n",
    "Click on the names of a few modules to see more information about them (author, homepage, etc.)\n",
    "\n",
    "Can you think of any criteria you could use to determine which modules and libraries in this vast, unsorted collection might be worth investigating, and which are best avoided?"
   ]
  },
  {
   "cell_type": "markdown",
   "metadata": {},
   "source": [
    "---"
   ]
  }
 ],
 "metadata": {
  "kernelspec": {
   "display_name": "Python 3",
   "language": "python",
   "name": "python3"
  },
  "language_info": {
   "codemirror_mode": {
    "name": "ipython",
    "version": 3
   },
   "file_extension": ".py",
   "mimetype": "text/x-python",
   "name": "python",
   "nbconvert_exporter": "python",
   "pygments_lexer": "ipython3",
   "version": "3.6.1"
  }
 },
 "nbformat": 4,
 "nbformat_minor": 1
}

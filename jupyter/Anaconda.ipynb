{
 "cells": [
  {
   "cell_type": "markdown",
   "metadata": {},
   "source": [
    "<div align=right>\n",
    "<img src=\"img/logosmall.png\" width=\"100px\" align=right>\n",
    "</div>"
   ]
  },
  {
   "cell_type": "markdown",
   "metadata": {},
   "source": [
    "# Installing and managing a Python environment"
   ]
  },
  {
   "cell_type": "markdown",
   "metadata": {},
   "source": [
    "In the previous section we defined a Python _environment_ as consisting of the following:\n",
    "\n",
    "1. A Python *interpreter* that's suitable for your system.\n",
    "\n",
    "2. An installation of the Python *standard library* that's usable by that interpreter.\n",
    "\n",
    "3. The toolset required to find, install and maintain 3rd party libraries.\n",
    "\n",
    "We are now going to learn how to install our own Python environment.  Why do we want to install our own Python environment?  So that we have *control over it*.  We need a measure of control and flexibility if we're really going to be *using* our programming environment!  For instance:\n",
    "\n",
    "* If a version of Python came pre-installed on your system, the system may depend on it.  It's often better not to mess with it.\n",
    "\n",
    "\n",
    "* More importantly:  Having your own Python environment under your control means you can install, upgrade and uninstall Python modules when you need to, without calling your network administrator.  As a working Python programmer, you'll often need to do this many times a day."
   ]
  },
  {
   "cell_type": "markdown",
   "metadata": {},
   "source": [
    "## Introducing Anaconda"
   ]
  },
  {
   "cell_type": "markdown",
   "metadata": {},
   "source": [
    "Anaconda is a set of tools that makes it easy for the working scientist to set up and maintain a working Python environment *without* any help from the system administrator or the local computer expert.\n",
    "\n",
    "It can be used to set up a Python environment your home directory on a multi-user UNIX or Linux environment, or on a single-user machine like your desktop or laptop.\n",
    "\n",
    ">For this course, I urge anyone who has brought along their own Windows, Linux or Mac laptop *and has it connected to the network* to set up their Python environment on their laptop.  This will help to minimise the load we place on our poor overworked EVOP servers.\n",
    "\n",
    "Anaconda is developed by a commercial company called *Continuum Analytics*, which specialising in providing commercial support for high-performance Python computing in science.  Don't worry, though:  Like the rest of the Python tools we'll use, Anaconda is completely free and open source.\n",
    "\n",
    ">It's encouraging that Anaconda was written *by* scientists *for* scientists, don't you think?"
   ]
  },
  {
   "cell_type": "markdown",
   "metadata": {},
   "source": [
    "## How Anaconda works"
   ]
  },
  {
   "cell_type": "markdown",
   "metadata": {},
   "source": [
    "Anaconda provides us with a command-line tool called `conda` which we can use to install and update both Python itself, as well as the many third party packages (modules) we will be using.  `conda` installs *binary* packages from an online repository known as the *Anaconda Cloud*.\n",
    "\n",
    "By \"binary package\", we mean a package that has already been built (or compiled) for a particular system.  This has a very definite advantage for us:  Because the package has already been built, we can install it without having to worry about whether we have the prerequisite tools or libraries installed on our computer — it should \"just work\".\n",
    "\n",
    "It also poses certain disadvantages:\n",
    "\n",
    "* Packages have to be updated in the Anaconda Cloud by Continuum Analytics.  They may lag days or even weeks behind the latest releases.\n",
    "\n",
    "* The packages are pre-built, and hence they're built for specific platforms.  Currently, the Anaconda Cloud has packages for 32-bit and 64-bit versions of Linux, Microsoft Windows, and macOS (formerly OS X).  That should cover most bases!\n",
    "\n",
    "In practice, these disadvantages don't outweigh the it-just-works advantage!"
   ]
  },
  {
   "cell_type": "markdown",
   "metadata": {},
   "source": [
    "## Installing Anaconda"
   ]
  },
  {
   "cell_type": "markdown",
   "metadata": {},
   "source": [
    "Anaconda is provided in two *distributions:*\n",
    "\n",
    "* **Anaconda** includes Python itself, plus hundreds of pre-built modules for scientific use.  It's comprehensive, but takes up a fair bit of disk space.\n",
    "\n",
    "* **Miniconda** includes just Python itself, plus a few core tools.  You have to install further modules as and when you need them.\n",
    "\n",
    "*For the purposes of this course, we'll use Miniconda.*\n",
    "\n",
    "Miniconda can be downloaded from this URL: <http://conda.pydata.org/miniconda.html>\n",
    "\n",
    "On that page you'll see a download matrix — we have quite a few choices!\n",
    "\n",
    "![Miniconda download matrix](img/Miniconda download.png)\n",
    "\n",
    "* We can choose between versions for Windows, Mac OS X (technically, macOS) and Linux.\n",
    "\n",
    "* We can choose between versions which include Python 3.6, and versions which include Python 2.7\n",
    "\n",
    "* We can choose between 64-bit and 32-bit versions.\n",
    "\n",
    "At this point, how you proceed depends on where your'e installing Miniconda.  If you're installing on `evopserver`, continue on to the next section.  However, if you're installing on your own laptop, continue to one of the following three sections, whichever is appropriate to your case:\n",
    "\n",
    "* [Installing on a Linux laptop](#Installing-on-a-Linux-laptop)\n",
    "* [Installing on a Mac laptop](#Installing-on-a-Mac-laptop)\n",
    "* [Installing on a Microsoft Windows laptop](#Installing-on-a-Microsoft-Windows-laptop)"
   ]
  },
  {
   "cell_type": "markdown",
   "metadata": {},
   "source": [
    "### Installing on `evopserver`"
   ]
  },
  {
   "cell_type": "markdown",
   "metadata": {},
   "source": [
    "We'll use the Miniconda version for Python 3.6, and `evopserver` requires that we install the 32-bit version.\n",
    "\n",
    "In a terminal window on `evopserver`, type in the following command to download the Miniconda installer using the `curl` utility:"
   ]
  },
  {
   "cell_type": "code",
   "execution_count": null,
   "metadata": {
    "collapsed": true
   },
   "outputs": [],
   "source": [
    "curl -LO https://repo.continuum.io/miniconda/Miniconda3-latest-Linux-x86.sh"
   ]
  },
  {
   "cell_type": "markdown",
   "metadata": {},
   "source": [
    "Next, run the installer with the Bash shell as follows:"
   ]
  },
  {
   "cell_type": "code",
   "execution_count": null,
   "metadata": {},
   "outputs": [],
   "source": [
    "bash Miniconda3-latest-Linux-x86.sh"
   ]
  },
  {
   "cell_type": "markdown",
   "metadata": {},
   "source": [
    "The first thing you'll be required to do is to agree to a licence.  You can read it if you want, or you can just trust me that it's not onerous.  Anaconda is open source software, even though it's the product of a commercial company.\n",
    "\n",
    ">For the licensing-aware among you, it's simply the 3-clause BSD licence.\n",
    "\n",
    "Press `ENTER` when prompted, then press `SPACE` to page through the licence terms, and finally type `yes` to accept the terms of the licence.\n",
    "\n",
    "Next, the Miniconda installer asks where you want to install your Python environment.  You can just press `ENTER` to approve the default, which is `/homes/evopserver/<your_login>/miniconda3`.\n",
    "\n",
    "At this point you get to sit back and wait for a minute while the installation occurs…\n",
    "\n",
    "Finally, the Miniconda installer asks you if you want to prepend the install location to your `PATH` environment variable in your `.bashrc`.  Respond with `yes`.\n",
    "\n",
    ">If you found this last bit cryptic:  The Miniconda installer just wants to add a line to the startup configuration of your shell that will ensure that *its* version of Python — and not the version already installed on the system — is the one that gets executed when you type `python`.\n",
    "\n",
    "Finally, we have to restart our shell to let this change take effect.  The easiest way to do that is to log out of `evopserver`, and then log back in.  Do that now…\n",
    "\n",
    "When you're logged back into `evopserver`, you can continue on to the following section:\n",
    "\n",
    "* [Check your installation](#Check-your-installation)"
   ]
  },
  {
   "cell_type": "markdown",
   "metadata": {},
   "source": [
    "### Installing on a Linux laptop"
   ]
  },
  {
   "cell_type": "markdown",
   "metadata": {},
   "source": [
    "Installation on a Linux-based laptop should proceed almost exactly like installation on `evopserver`, as described in the previous section.  We will again install the Python 3.6 version of Miniconda for Linux.  The only difference is that for modern laptops, you can opt to install the 64-bit version.  You can download it using the `curl` utility as follows:"
   ]
  },
  {
   "cell_type": "code",
   "execution_count": null,
   "metadata": {
    "collapsed": true
   },
   "outputs": [],
   "source": [
    "curl -LO https://repo.continuum.io/miniconda/Miniconda3-latest-Linux-x86_64.sh"
   ]
  },
  {
   "cell_type": "markdown",
   "metadata": {},
   "source": [
    ">Don't worry if you don't know whether your laptop has a 32-bit or 64-bit processor.  Try the 64-bit Miniconda installer first.  If it doesn't work it will not harm anything, an you can then use the 32-bit installer — see the previous section."
   ]
  },
  {
   "cell_type": "markdown",
   "metadata": {},
   "source": [
    "Next, run the installer with the Bash shell as follows:"
   ]
  },
  {
   "cell_type": "code",
   "execution_count": null,
   "metadata": {},
   "outputs": [],
   "source": [
    "bash Miniconda3-latest-Linux-x86_64.sh"
   ]
  },
  {
   "cell_type": "markdown",
   "metadata": {},
   "source": [
    "The first thing you'll be required to do is to agree to a licence.  You can read it if you want, or you can just trust me that it's not onerous.  Anaconda is open source software, even though it's the product of a commercial company.\n",
    "\n",
    ">For the licensing-aware among you, it's simply the 3-clause BSD licence.\n",
    "\n",
    "Press `ENTER` when prompted, then press `SPACE` to page through the licence terms, and finally type `yes` to accept the terms of the licence.\n",
    "\n",
    "Next, the Miniconda installer asks where you want to install your Python environment.  You can just press `ENTER` to approve the default, which is a directory called `miniconda3` in your home directory.\n",
    "\n",
    ">If you know what yuo're doing, feel free to add an alternative path here.  My personal preference is to install Miniconda in `~/.python`.\n",
    "\n",
    "At this point you get to sit back and wait for a minute while the installation occurs…\n",
    "\n",
    "Finally, the Miniconda installer asks you if you want to prepend the install location to your `PATH` environment variable in your `.bashrc`.  If you don't know what this means, just Respond with `yes`.\n",
    "\n",
    ">If you found this last bit cryptic:  The Miniconda installer just wants to add a line to the startup configuration of your shell that will ensure that *its* version of Python — and not the version already installed on the system — is the one that gets executed when you type `python`.\n",
    "\n",
    "If you know what you're doing and you'd rather add the Miniconda binary directory to your `$PATH` yourself instead of letting the installer do it, feel free to do so!\n",
    "\n",
    "Finally, we have to restart our shell to let this change take effect.  The easiest way to do that is to log out of `evopserver`, and then log back in.  Do that now…\n",
    "\n",
    ">If you know how to source your shell startup file, you can do that instead.\n",
    "\n",
    "When you get back, you can continue on to the following section:\n",
    "\n",
    "* [Check your installation](#Check-your-installation)"
   ]
  },
  {
   "cell_type": "markdown",
   "metadata": {},
   "source": [
    "### Installing on a Mac laptop"
   ]
  },
  {
   "cell_type": "markdown",
   "metadata": {},
   "source": [
    "We will install the Python 3.6 version of Miniconda for Mac OS X.  Click on it on the web page, and the installer will be downloaded to the `Downloads` folder in your home directory.\n",
    "\n",
    "Once downloaded, execute the installer as follows:"
   ]
  },
  {
   "cell_type": "code",
   "execution_count": null,
   "metadata": {
    "collapsed": true
   },
   "outputs": [],
   "source": [
    "bash ~/Downloads/Miniconda3-latest-MacOSX-x86_64.sh"
   ]
  },
  {
   "cell_type": "markdown",
   "metadata": {},
   "source": [
    "The first thing you'll be required to do is to agree to a licence.  You can read it if you want, or you can just trust me that it's not onerous.  Anaconda is open source software, even though it's the product of a commercial company.\n",
    "\n",
    ">For the licensing-aware among you, it's simply the 3-clause BSD licence.\n",
    "\n",
    "Press `ENTER` when prompted, then press `SPACE` to page through the licence terms, and finally type `yes` to accept the terms of the licence.\n",
    "\n",
    "Next, the Miniconda installer asks where you want to install your Python environment.  You can just press `ENTER` to approve the default, which is `/Users/<your_login>/miniconda3`.\n",
    "\n",
    "At this point you get to sit back and wait for a minute while the installation occurs…\n",
    "\n",
    "Finally, the Miniconda installer asks you if you want to prepend the install location to your `PATH` environment variable in your `.bashrc`.  Respond with `yes`.\n",
    "\n",
    ">If you found this last bit cryptic:  The Miniconda installer just wants to add a line to the startup configuration of your shell that will ensure that *its* version of Python — and not the version already installed on the system — is the one that gets executed when you type `python`.\n",
    "\n",
    "Finally, we have to restart our shell to let this change take effect.  The easiest way to do that is simply to close the Terminal application, and start it again.  Do that now…\n",
    "\n",
    "When you're back in Terminal, you can continue on to the following section:\n",
    "\n",
    "* [Check your installation](#Check-your-installation)"
   ]
  },
  {
   "cell_type": "markdown",
   "metadata": {},
   "source": [
    "### Installing on a Microsoft Windows laptop"
   ]
  },
  {
   "cell_type": "markdown",
   "metadata": {},
   "source": [
    "Click the link to the Miniconda installer for Python 3.6.  If your machine is less than about five years old, grab the 64-bit version.  If it's a really old laptop you may need the 32-bit version (but you can always try the 64-bit version first to see if it works — it does no harm to try).\n",
    "\n",
    "Clicking the link will initiate a download of an executable installer called `Miniconda3-latest-Windows-x86_64.exe` (for the 64-bit version).  Download this anywhere you like (e.g. your desktop) and click it to execute the installer.  Follow the installation wizard — the default options should do fine.\n",
    "\n",
    "Once installed, open a terminal window…\n",
    "\n",
    "    Start Menu -> Run -> Command Prompt\n",
    "\n",
    "At tbis point, you can continue on to the following section…"
   ]
  },
  {
   "cell_type": "markdown",
   "metadata": {},
   "source": [
    "### Check your installation"
   ]
  },
  {
   "cell_type": "markdown",
   "metadata": {},
   "source": [
    "Check on the status of your anaconda installation.  We'll do this by\n",
    "invoking the `conda` command for the very first time!"
   ]
  },
  {
   "cell_type": "code",
   "execution_count": null,
   "metadata": {
    "collapsed": true
   },
   "outputs": [],
   "source": [
    "$ conda info"
   ]
  },
  {
   "cell_type": "markdown",
   "metadata": {},
   "source": [
    "The result should look something like this:\n",
    "\n",
    "```\n",
    "Current conda install:\n",
    "\n",
    "             platform : linux-32\n",
    "        conda version : 4.3.13\n",
    "  conda-build version : not installed\n",
    "       python version : 3.6.0.final.0\n",
    "     requests version : 2.12.4\n",
    "     root environment : /homes/evopserver/johann/miniconda3  (writable)\n",
    "  default environment : /homes/evopserver/johann/miniconda3\n",
    "     envs directories : /homes/evopserver/johann/miniconda3/envs\n",
    "        package cache : /homes/evopserver/johann/miniconda3/pkgs\n",
    "         channel URLs : https://repo.continuum.io/pkgs/free/linux-32/\n",
    "                        https://repo.continuum.io/pkgs/free/noarch/\n",
    "                        https://repo.continuum.io/pkgs/pro/linux-32/\n",
    "                        https://repo.continuum.io/pkgs/pro/noarch/\n",
    "          config file : None\n",
    "    is foreign system : False\n",
    "```"
   ]
  },
  {
   "cell_type": "markdown",
   "metadata": {},
   "source": [
    "## Using Anaconda"
   ]
  },
  {
   "cell_type": "markdown",
   "metadata": {},
   "source": [
    "### Updating Anaconda"
   ]
  },
  {
   "cell_type": "markdown",
   "metadata": {},
   "source": [
    "As a first step, let's tell `conda` to update itself (in case there are newer versions available):"
   ]
  },
  {
   "cell_type": "code",
   "execution_count": null,
   "metadata": {
    "collapsed": true
   },
   "outputs": [],
   "source": [
    "conda update conda"
   ]
  },
  {
   "cell_type": "markdown",
   "metadata": {},
   "source": [
    "If any updates are available, `conda` will tell you what it is about to do. Just hit ‘`y`’ to proceed when you get this prompt:\n",
    "\n",
    "    Proceed ([y]/n)?\n",
    "\n",
    "Getting `conda` to update itself is generally the first thing you should do in\n",
    "a new Anaconda installation.  But it's a also good idea to do this from time to\n",
    "time in a working Anaconda installation."
   ]
  },
  {
   "cell_type": "markdown",
   "metadata": {},
   "source": [
    "### View a list of installed packages and their versions."
   ]
  },
  {
   "cell_type": "markdown",
   "metadata": {},
   "source": [
    "Let's see a list of packages already installed.  To do this, we use the command…"
   ]
  },
  {
   "cell_type": "code",
   "execution_count": null,
   "metadata": {
    "collapsed": true
   },
   "outputs": [],
   "source": [
    "conda list"
   ]
  },
  {
   "cell_type": "markdown",
   "metadata": {},
   "source": [
    "The output on a brand-new Anaconda installation should look something like this:\n",
    "\n",
    "```\n",
    "# packages in environment at /homes/evopserver/johann/miniconda3:\n",
    "#\n",
    "cffi                      1.9.1                    py36_0  \n",
    "conda                     4.3.13                   py36_0  \n",
    "conda-env                 2.6.0                         0  \n",
    "cryptography              1.7.1                    py36_0  \n",
    "idna                      2.2                      py36_0  \n",
    "openssl                   1.0.2k                        0  \n",
    "pip                       9.0.1                    py36_1  \n",
    "pyasn1                    0.1.9                    py36_0  \n",
    "pycosat                   0.6.1                    py36_1  \n",
    "pycparser                 2.17                     py36_0  \n",
    "pyopenssl                 16.2.0                   py36_0  \n",
    "python                    3.6.0                         0  \n",
    "readline                  6.2                           2  \n",
    "requests                  2.12.4                   py36_0  \n",
    "ruamel_yaml               0.11.14                  py36_1  \n",
    "setuptools                27.2.0                   py36_0  \n",
    "six                       1.10.0                   py36_0  \n",
    "sqlite                    3.13.0                        0  \n",
    "tk                        8.5.18                        0  \n",
    "wheel                     0.29.0                   py36_0  \n",
    "xz                        5.2.2                         1  \n",
    "yaml                      0.1.6                         0  \n",
    "zlib                      1.2.8                         3  \n",
    "```"
   ]
  },
  {
   "cell_type": "markdown",
   "metadata": {},
   "source": [
    "We have Python 3.6.0 installed, as well as version 4.3.13 of `conda`.  And\n",
    "a couple of other very basic packages and libraries.  Everything's looking shiny."
   ]
  },
  {
   "cell_type": "markdown",
   "metadata": {},
   "source": [
    "### Search for a package in the Anaconda Cloud"
   ]
  },
  {
   "cell_type": "markdown",
   "metadata": {},
   "source": [
    "As said, we're going to be using a tool called Jupyter for most of this course.  Jupyter is itself written in Python, and distributed as a Python package.  Let's search for Jupyter in the Anaconda cloud:"
   ]
  },
  {
   "cell_type": "code",
   "execution_count": null,
   "metadata": {
    "collapsed": true
   },
   "outputs": [],
   "source": [
    "conda search jupyter"
   ]
  },
  {
   "cell_type": "markdown",
   "metadata": {},
   "source": [
    "You'll see that you get quite a bit of output since Jupyter has several components.  Right at the top you should see a listing for a package called simpley `jupyter` which is currently in version 1.0.0.  This is the one we need to install, and we'll do so next…"
   ]
  },
  {
   "cell_type": "markdown",
   "metadata": {},
   "source": [
    "### Install a package from the Anaconda Cloud"
   ]
  },
  {
   "cell_type": "markdown",
   "metadata": {},
   "source": [
    "To install Jupyter and all its dependencies (other modules upon which it depends), all we have to do is issue one command:"
   ]
  },
  {
   "cell_type": "code",
   "execution_count": null,
   "metadata": {
    "collapsed": true
   },
   "outputs": [],
   "source": [
    "conda install jupyter"
   ]
  },
  {
   "cell_type": "markdown",
   "metadata": {},
   "source": [
    "`conda` computes all the dependencies and then presents you with a list of packages that will be installed and/or updated.  Again, it waits for your permission to proceed, and you can hit `y` to tell it to go ahead.\n",
    "\n",
    "As the saying goes:  Sit back and marvel at all the work you *didn't* have to\n",
    "do!  (You'll probably be in a better position to appreciate this if you've ever\n",
    "tried to install Jupyter by hand!)\n",
    "\n",
    "Afterwards, you can again do a `conda list` to see which packages are now installed."
   ]
  },
  {
   "cell_type": "markdown",
   "metadata": {},
   "source": [
    "### Install a package that isn't on the Anaconda Cloud"
   ]
  },
  {
   "cell_type": "markdown",
   "metadata": {},
   "source": [
    "Anaconda makes it very easy — almost trivial — to install Python packages, but as we've said, it can only install packages which have been made available via the Anaconda Cloud.  Since Anaconda is aimed at scientists, many of the packages we might want to use *are* on the Anaconda Cloud… but not necessarily all of them.  What do we do when we really want to install a Python package that isn't being made available via the Anaconda cloud?  Let's look at at an example:\n",
    "\n",
    "We want to process files in the popular variant call format (VCF) using Python.  The first thing we might do — before we start writing a VCF parser ourselves — is to see whether someone has already done it.  And we might well do this by typing `python vcf` into Google.  (Try it!)\n",
    "\n",
    "From our search results we'll see that such a module exists!  It's called PyVCF, and its documentation is to be found at <https://pyvcf.readthedocs.org>.\n",
    "\n",
    "Let's try to search for it using `conda`:"
   ]
  },
  {
   "cell_type": "code",
   "execution_count": null,
   "metadata": {
    "collapsed": true
   },
   "outputs": [],
   "source": [
    "conda search pyvcf"
   ]
  },
  {
   "cell_type": "markdown",
   "metadata": {},
   "source": [
    "Oh dear!  `conda` explicitly tells us that PyVCF is not available on the Anaconda Cloud.\n",
    "\n",
    "Fortunately you can still use Python's built-in package installer `pip` to install packages, even if you've installed Python using Anaconda.  By using `pip` you lost all the advantages that Anaconda provides:  packages are often downloaded as source code, and might need to be built on your local system.  But at least you now have the opportunity to use them!\n",
    "\n",
    "Let's try installing PyVCF using `pip`:"
   ]
  },
  {
   "cell_type": "code",
   "execution_count": null,
   "metadata": {
    "collapsed": true
   },
   "outputs": [],
   "source": [
    "pip install pyvcf"
   ]
  },
  {
   "cell_type": "markdown",
   "metadata": {},
   "source": [
    "If all goes well, this should just work.  Let's use `conda` to see whether a `pyvcf` package has been installed:"
   ]
  },
  {
   "cell_type": "code",
   "execution_count": null,
   "metadata": {
    "collapsed": true
   },
   "outputs": [],
   "source": [
    "conda list"
   ]
  },
  {
   "cell_type": "markdown",
   "metadata": {},
   "source": [
    "In the results, you should see a line like…"
   ]
  },
  {
   "cell_type": "markdown",
   "metadata": {},
   "source": [
    "    pyvcf                     0.6.7                     <pip>"
   ]
  },
  {
   "cell_type": "markdown",
   "metadata": {},
   "source": [
    "As you can see, `conda` clearly tells you that this package was installed not by its own machinery, but by `pip`.\n",
    "\n",
    ">I would suggest minimising the use of `pip` if you manage your Python environment with Anaconda.  But it's great to know it's there if you need it!"
   ]
  },
  {
   "cell_type": "markdown",
   "metadata": {},
   "source": [
    "## Online package databases"
   ]
  },
  {
   "cell_type": "markdown",
   "metadata": {},
   "source": [
    "You can search the Anaconda cloud by going to…\n",
    "\n",
    "<http://anaconda.org>\n",
    "\n",
    "As said, these are curated binary packages meant for installation with the `conda` tool.\n",
    "\n",
    "You can also search the entire Python Package Index (PyPI) by clicking on this URL:\n",
    "\n",
    "<http://pypi.python.org>\n",
    "\n",
    "PyPI is an (incomplete) index of all 3rd party Python packages.  It's only very lightly curated, so it's can be hard to find worthwhile packages in a sea of junk.  Just try to search for a word like `bioinformatics` and see how many hits you get!"
   ]
  },
  {
   "cell_type": "markdown",
   "metadata": {},
   "source": [
    "---"
   ]
  }
 ],
 "metadata": {
  "kernelspec": {
   "display_name": "Python 3",
   "language": "python",
   "name": "python3"
  },
  "language_info": {
   "codemirror_mode": {
    "name": "ipython",
    "version": 3
   },
   "file_extension": ".py",
   "mimetype": "text/x-python",
   "name": "python",
   "nbconvert_exporter": "python",
   "pygments_lexer": "ipython3",
   "version": "3.6.1"
  }
 },
 "nbformat": 4,
 "nbformat_minor": 1
}

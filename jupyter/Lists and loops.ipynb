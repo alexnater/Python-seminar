{
 "cells": [
  {
   "cell_type": "markdown",
   "metadata": {
    "deletable": true,
    "editable": true
   },
   "source": [
    "<div align=right>\n",
    "<img src=\"img/logosmall.png\" width=\"100px\" align=right>\n",
    "</div>"
   ]
  },
  {
   "cell_type": "markdown",
   "metadata": {
    "deletable": true,
    "editable": true
   },
   "source": [
    "# Lists and loops"
   ]
  },
  {
   "cell_type": "markdown",
   "metadata": {
    "deletable": true,
    "editable": true
   },
   "source": [
    "<div class=\"alert alert-warning\">\n",
    "Parts of this section have been adapted from copyrighted material in *Jones, M:\n",
    "Python for Biologists: A complete programming course for beginners (2013)*.\n",
    "\n",
    "**Please do not distribute it!**"
   ]
  },
  {
   "cell_type": "markdown",
   "metadata": {
    "deletable": true,
    "editable": true
   },
   "source": [
    "So far in this course, we've always been dealing with one piece of data at a\n",
    "time.  If we wanted to process multiple items of data in the same way, we had to\n",
    "repeat the code as many times as we've had items of data.\n",
    "\n",
    "If this was all Python could do, it would obviously not be very helpful in\n",
    "solving real-world problems.\n",
    "\n",
    "Recall the example from the previous Notebook where we read in three DNA\n",
    "sequences from a file, and then performed the same manipulation on each of them.\n",
    "At the time we asked ourselves, wouldn't it be nice if we could say _for each\n",
    "line in the file, do “something”_?  We'd save a lot of repetition and avoid many\n",
    "possible errors if we could do that.\n",
    "\n",
    "That is what this Notebook is all about."
   ]
  },
  {
   "cell_type": "markdown",
   "metadata": {
    "deletable": true,
    "editable": true
   },
   "source": [
    "## Lists"
   ]
  },
  {
   "cell_type": "markdown",
   "metadata": {
    "deletable": true,
    "editable": true
   },
   "source": [
    "### Creating lists"
   ]
  },
  {
   "cell_type": "markdown",
   "metadata": {
    "deletable": true,
    "editable": true
   },
   "source": [
    "When we have a lot of related data items that we want to treat as a unit, we\n",
    "need a _list_.  A list is what we call a _data structure_ or _compound data\n",
    "type_.  It expresses the concept of a *collection* of other data items.\n",
    "\n",
    "To make a new list, we put several items (like strings or numbers) inside square\n",
    "brackets, separated by commas:"
   ]
  },
  {
   "cell_type": "code",
   "execution_count": 1,
   "metadata": {
    "collapsed": true,
    "deletable": true,
    "editable": true
   },
   "outputs": [],
   "source": [
    "apes = [\"Homo sapiens\", \"Pan troglodytes\", \"Gorilla gorilla\"]\n",
    "conserved_sites = [24, 56, 132, 289, 427, 558]"
   ]
  },
  {
   "cell_type": "markdown",
   "metadata": {
    "deletable": true,
    "editable": true
   },
   "source": [
    ">Note how we put a space after every comma in the list definition, and how we\n",
    "*don't* put a space after the opening bracket or before the closing bracket.\n",
    "\n",
    ">Python does not, in fact, care whether we put any whitespace in these locations\n",
    "or not, but it's considered *good style* to use whitespace as we have in the\n",
    "above definitions.  Following generally accepted style guides means your code\n",
    "looks more or less like everyone else's, which is a *good thing* since it aids\n",
    "readability.\n",
    "\n",
    "As you can see, we assigned a variable to reference each of the two lists we\n",
    "created. Let's evaluate our our list variables:"
   ]
  },
  {
   "cell_type": "code",
   "execution_count": 2,
   "metadata": {
    "collapsed": false,
    "deletable": true,
    "editable": true
   },
   "outputs": [
    {
     "data": {
      "text/plain": [
       "['Homo sapiens', 'Pan troglodytes', 'Gorilla gorilla']"
      ]
     },
     "execution_count": 2,
     "metadata": {},
     "output_type": "execute_result"
    }
   ],
   "source": [
    "apes"
   ]
  },
  {
   "cell_type": "code",
   "execution_count": 3,
   "metadata": {
    "collapsed": false,
    "deletable": true,
    "editable": true
   },
   "outputs": [
    {
     "data": {
      "text/plain": [
       "[24, 56, 132, 289, 427, 558]"
      ]
     },
     "execution_count": 3,
     "metadata": {},
     "output_type": "execute_result"
    }
   ],
   "source": [
    "conserved_sites"
   ]
  },
  {
   "cell_type": "markdown",
   "metadata": {
    "deletable": true,
    "editable": true
   },
   "source": [
    "Just like a simple data type (like a string or number), a list evaluates to\n",
    "itself."
   ]
  },
  {
   "cell_type": "markdown",
   "metadata": {
    "deletable": true,
    "editable": true
   },
   "source": [
    "### Retrieving list elements"
   ]
  },
  {
   "cell_type": "markdown",
   "metadata": {
    "deletable": true,
    "editable": true
   },
   "source": [
    "Each individual item in a list is called an element. To get a single element\n",
    "from the list, write the variable name followed by the index of the element you\n",
    "want in square brackets:"
   ]
  },
  {
   "cell_type": "code",
   "execution_count": 1,
   "metadata": {
    "collapsed": false,
    "deletable": true,
    "editable": true
   },
   "outputs": [
    {
     "name": "stdout",
     "output_type": "stream",
     "text": [
      "Homo sapiens\n",
      "132\n"
     ]
    }
   ],
   "source": [
    "apes = [\"Homo sapiens\", \"Pan troglodytes\", \"Gorilla gorilla\"]\n",
    "conserved_sites = [24, 56, 132]\n",
    "print(apes[0])\n",
    "first_site = conserved_sites[2]\n",
    "print(first_site)"
   ]
  },
  {
   "cell_type": "markdown",
   "metadata": {
    "deletable": true,
    "editable": true
   },
   "source": [
    "Remember that in Python is *zero-indexed*, so we start counting from zero rather\n",
    "than one.  The first element of a list is always at index zero, the second\n",
    "element at index 1, and so on.\n",
    "\n",
    "If we give a negative number, Python starts counting from the end of the list\n",
    "rather than the beginning – so it’s easy to get the last element from a list:"
   ]
  },
  {
   "cell_type": "code",
   "execution_count": 5,
   "metadata": {
    "collapsed": false,
    "deletable": true,
    "editable": true
   },
   "outputs": [
    {
     "data": {
      "text/plain": [
       "132"
      ]
     },
     "execution_count": 5,
     "metadata": {},
     "output_type": "execute_result"
    }
   ],
   "source": [
    "conserved_sites[-1]"
   ]
  },
  {
   "cell_type": "markdown",
   "metadata": {
    "deletable": true,
    "editable": true
   },
   "source": [
    "If we want to go in the other direction – i.e. we know which element we want but\n",
    "we don’t know the index – we can use the `index()` method of lists:"
   ]
  },
  {
   "cell_type": "code",
   "execution_count": null,
   "metadata": {
    "collapsed": true,
    "deletable": true,
    "editable": true
   },
   "outputs": [],
   "source": [
    "apes = [\"Homo sapiens\", \"Pan troglodytes\", \"Gorilla gorilla\"]\n",
    "chimp_index = apes.index(\"Pan troglodytes\")\n",
    "print(chimp_index)"
   ]
  },
  {
   "cell_type": "markdown",
   "metadata": {
    "deletable": true,
    "editable": true
   },
   "source": [
    "Negative indices count back from the end of the list.  So, the last element of\n",
    "the list has index `-1`:"
   ]
  },
  {
   "cell_type": "code",
   "execution_count": 7,
   "metadata": {
    "collapsed": false,
    "deletable": true,
    "editable": true
   },
   "outputs": [
    {
     "name": "stdout",
     "output_type": "stream",
     "text": [
      "Gorilla gorilla\n"
     ]
    }
   ],
   "source": [
    "last_ape = apes[-1]\n",
    "print(last_ape)"
   ]
  },
  {
   "cell_type": "markdown",
   "metadata": {
    "deletable": true,
    "editable": true
   },
   "source": [
    "If we want to count how many times a particular element occurs in a list, we can\n",
    "use the `count()` method of the list type:"
   ]
  },
  {
   "cell_type": "code",
   "execution_count": 6,
   "metadata": {
    "collapsed": false,
    "deletable": true,
    "editable": true
   },
   "outputs": [
    {
     "name": "stdout",
     "output_type": "stream",
     "text": [
      "6\n"
     ]
    }
   ],
   "source": [
    "digits = [1, 0, 0, 1, 0, 1, 1, 1, 0, 1, 0]\n",
    "ones = digits.count(1)\n",
    "print(ones)"
   ]
  },
  {
   "cell_type": "markdown",
   "metadata": {
    "deletable": true,
    "editable": true
   },
   "source": [
    "It's probably worth mentioning at this point that a list can indeed *have*\n",
    "repeated elements.  It's just a list of items, not a (mathematical) set, which\n",
    "is usually defined as having unique elements.\n",
    "\n",
    "What if we want to get more than one element from a list? We can use slice\n",
    "notation to extract a range of elements:"
   ]
  },
  {
   "cell_type": "code",
   "execution_count": 8,
   "metadata": {
    "collapsed": false,
    "deletable": true,
    "editable": true
   },
   "outputs": [
    {
     "name": "stdout",
     "output_type": "stream",
     "text": [
      "['class', 'order', 'family']\n"
     ]
    }
   ],
   "source": [
    "ranks = [\"kingdom\",\"phylum\", \"class\", \"order\", \"family\"]\n",
    "lower_ranks = ranks[2:5]\n",
    "# lower ranks are class, order and family\n",
    "print(lower_ranks)"
   ]
  },
  {
   "cell_type": "markdown",
   "metadata": {
    "deletable": true,
    "editable": true
   },
   "source": [
    "Let's play a bit more with slices.  Let's build up a simple list of numbers\n",
    "first:"
   ]
  },
  {
   "cell_type": "code",
   "execution_count": 10,
   "metadata": {
    "collapsed": true,
    "deletable": true,
    "editable": true
   },
   "outputs": [],
   "source": [
    "ints = [1, 2, 3, 4, 5, 6, 7, 8, 9, 10,\n",
    "        11, 12, 13, 14, 15, 16, 17, 18, 19, 20]"
   ]
  },
  {
   "cell_type": "markdown",
   "metadata": {
    "deletable": true,
    "editable": true
   },
   "source": [
    ">Note how you can split the definition of a list over multiple lines. In fact,\n",
    "you can break a Python statement across multiple lines at any whitespace within\n",
    "a pair of parentheses, brackets or braces. Avoiding ridiculously long lines is\n",
    "also a sign of good coding style.\n",
    "\n",
    "Evaluate these statements which all use slice notation, and see if they all make\n",
    "sense to you:"
   ]
  },
  {
   "cell_type": "code",
   "execution_count": 11,
   "metadata": {
    "collapsed": false,
    "deletable": true,
    "editable": true
   },
   "outputs": [
    {
     "data": {
      "text/plain": [
       "[1, 2, 3, 4, 5]"
      ]
     },
     "execution_count": 11,
     "metadata": {},
     "output_type": "execute_result"
    }
   ],
   "source": [
    "# ...up to just before the 5th element:\n",
    "ints[:5]"
   ]
  },
  {
   "cell_type": "code",
   "execution_count": 12,
   "metadata": {
    "collapsed": false,
    "deletable": true,
    "editable": true
   },
   "outputs": [
    {
     "data": {
      "text/plain": [
       "[16, 17, 18, 19, 20]"
      ]
     },
     "execution_count": 12,
     "metadata": {},
     "output_type": "execute_result"
    }
   ],
   "source": [
    "# from the 5th last element to the end...:\n",
    "ints[-5:]"
   ]
  },
  {
   "cell_type": "code",
   "execution_count": 13,
   "metadata": {
    "collapsed": false,
    "deletable": true,
    "editable": true
   },
   "outputs": [
    {
     "data": {
      "text/plain": [
       "[6, 11]"
      ]
     },
     "execution_count": 13,
     "metadata": {},
     "output_type": "execute_result"
    }
   ],
   "source": [
    "# from the 5th to just before the 15th element, every 5th element:\n",
    "ints[5:15:5]"
   ]
  },
  {
   "cell_type": "markdown",
   "metadata": {
    "deletable": true,
    "editable": true
   },
   "source": [
    "### Calculating the length of a list"
   ]
  },
  {
   "cell_type": "markdown",
   "metadata": {
    "deletable": true,
    "editable": true
   },
   "source": [
    "To get the length of a list, we can use Python's built-in `len()` function:"
   ]
  },
  {
   "cell_type": "code",
   "execution_count": 14,
   "metadata": {
    "collapsed": false,
    "deletable": true,
    "editable": true
   },
   "outputs": [
    {
     "name": "stdout",
     "output_type": "stream",
     "text": [
      "3\n",
      "3\n"
     ]
    }
   ],
   "source": [
    "print(len(apes))\n",
    "number_of_conserved_sites = len(conserved_sites)\n",
    "print(number_of_conserved_sites)"
   ]
  },
  {
   "cell_type": "markdown",
   "metadata": {
    "deletable": true,
    "editable": true
   },
   "source": [
    "### Concatenating lists"
   ]
  },
  {
   "cell_type": "markdown",
   "metadata": {
    "deletable": true,
    "editable": true
   },
   "source": [
    "We can concatenate two lists by using the mathematical plus (`+`) symbol, which\n",
    "has been overloaded to work on lists:"
   ]
  },
  {
   "cell_type": "code",
   "execution_count": 15,
   "metadata": {
    "collapsed": false,
    "deletable": true,
    "editable": true
   },
   "outputs": [
    {
     "name": "stdout",
     "output_type": "stream",
     "text": [
      "3 apes\n",
      "2 monkeys\n",
      "5 primates\n"
     ]
    }
   ],
   "source": [
    "apes = [\"Homo sapiens\", \"Pan troglodytes\", \"Gorilla gorilla\"]\n",
    "monkeys = [\"Papio ursinus\", \"Macaca mulatta\"]\n",
    "primates = apes + monkeys\n",
    " \n",
    "print(len(apes), \"apes\")\n",
    "print(len(monkeys), \"monkeys\")\n",
    "print(len(primates), \"primates\")"
   ]
  },
  {
   "cell_type": "markdown",
   "metadata": {
    "deletable": true,
    "editable": true
   },
   "source": [
    "As we can see from the output, this doesn’t change either of the two original\n",
    "lists – it makes a brand new list which contains elements from both."
   ]
  },
  {
   "cell_type": "markdown",
   "metadata": {
    "deletable": true,
    "editable": true
   },
   "source": [
    "### Repeating lists"
   ]
  },
  {
   "cell_type": "markdown",
   "metadata": {
    "deletable": true,
    "editable": true
   },
   "source": [
    "You can repeat a list by using the multiplication operator (`*`):"
   ]
  },
  {
   "cell_type": "code",
   "execution_count": 16,
   "metadata": {
    "collapsed": false,
    "deletable": true,
    "editable": true
   },
   "outputs": [
    {
     "name": "stdout",
     "output_type": "stream",
     "text": [
      "[1, 2, 3, 1, 2, 3, 1, 2, 3]\n"
     ]
    }
   ],
   "source": [
    "short_list = [1, 2, 3]\n",
    "print(short_list * 3)"
   ]
  },
  {
   "cell_type": "code",
   "execution_count": null,
   "metadata": {
    "collapsed": true,
    "deletable": true,
    "editable": true
   },
   "outputs": [],
   "source": [
    "zero_list = [0]   # a list with just one element\n",
    "zeroes = zero_list * 100\n",
    "print(zeroes)"
   ]
  },
  {
   "cell_type": "markdown",
   "metadata": {
    "deletable": true,
    "editable": true
   },
   "source": [
    "Note that we can a list by simply passing it as a parameter to the `print`\n",
    "function.  As usual, `print` prints out a textual representation of the list,\n",
    "which includes the square brackets and commas."
   ]
  },
  {
   "cell_type": "markdown",
   "metadata": {
    "deletable": true,
    "editable": true
   },
   "source": [
    "### Lists and strings"
   ]
  },
  {
   "cell_type": "markdown",
   "metadata": {
    "deletable": true,
    "editable": true
   },
   "source": [
    "Did any of the above look familiar?  It should have, because it turns out\n",
    "*lists* have an awful lot in common with *strings*:\n",
    "\n",
    "* You can extract an dindividual element of a list (or character of a string) by\n",
    "using the indexing notation `[]`.\n",
    "\n",
    "* You can extract a sublist of a list, or substring of a string, using\n",
    "identical slice notation.\n",
    "\n",
    "* You can concatenate lists and strings, both with the plus operator (`+`).\n",
    "\n",
    "* You can repeat either lists or strings with the multiplication operator (`*`).\n",
    "\n",
    "* You can use the built-in function `len()` to calculate the length of a list or\n",
    "a string.\n",
    "\n",
    "* Both strings and lists have the methods `index()` and `count()`.\n",
    "\n",
    "In a way, this makes sense, because a string is almost like a list of\n",
    "characters, and we now know that we can treat it as such.\n",
    "\n",
    "The fact that lists and strings have so much in common hints at a deeper\n",
    "relationship:  We're treating lists and strings as if they're both the same sort\n",
    "of meta-thing for which we don't yet have a name.\n",
    "\n",
    "This idea – that we can treat two different things that have similar properties\n",
    "in the same way;  that two similar things can be seen as special cases of a more\n",
    "general meta-thing – is a powerful one in Python and we’ll come back to it later\n",
    "in this section… and beyond."
   ]
  },
  {
   "cell_type": "markdown",
   "metadata": {
    "deletable": true,
    "editable": true
   },
   "source": [
    "## Loops"
   ]
  },
  {
   "cell_type": "markdown",
   "metadata": {
    "deletable": true,
    "editable": true
   },
   "source": [
    "Imagine we wanted to take our list of apes:"
   ]
  },
  {
   "cell_type": "code",
   "execution_count": 17,
   "metadata": {
    "collapsed": true,
    "deletable": true,
    "editable": true
   },
   "outputs": [],
   "source": [
    "apes = [\"Homo sapiens\", \"Pan troglodytes\", \"Gorilla gorilla\"]"
   ]
  },
  {
   "cell_type": "markdown",
   "metadata": {
    "deletable": true,
    "editable": true
   },
   "source": [
    "…and print out each element on a separate line, like this:\n",
    "\n",
    "    Homo sapiens is an ape\n",
    "    Pan troglodytes is an ape\n",
    "    Gorilla gorilla is an ape"
   ]
  },
  {
   "cell_type": "markdown",
   "metadata": {
    "deletable": true,
    "editable": true
   },
   "source": [
    "One way to do it would be to just print each element separately:"
   ]
  },
  {
   "cell_type": "code",
   "execution_count": 18,
   "metadata": {
    "collapsed": false,
    "deletable": true,
    "editable": true
   },
   "outputs": [
    {
     "name": "stdout",
     "output_type": "stream",
     "text": [
      "Homo sapiens is an ape\n",
      "Pan troglodytes is an ape\n",
      "Gorilla gorilla is an ape\n"
     ]
    }
   ],
   "source": [
    "print(apes[0], \"is an ape\")\n",
    "print(apes[1], \"is an ape\")\n",
    "print(apes[2], \"is an ape\")"
   ]
  },
  {
   "cell_type": "markdown",
   "metadata": {
    "deletable": true,
    "editable": true
   },
   "source": [
    "…but this is very repetitive and relies on us knowing the number of elements in\n",
    "the list. What we need is a way to say something along the lines of *“for each\n",
    "element in the list of apes, print out the element, followed by the words ‘is an\n",
    "ape’“*. Python’s loop syntax allows us to express those instructions like this:"
   ]
  },
  {
   "cell_type": "code",
   "execution_count": null,
   "metadata": {
    "collapsed": true,
    "deletable": true,
    "editable": true
   },
   "outputs": [],
   "source": [
    "for ape in apes:\n",
    "    print(ape, \"is an ape\")"
   ]
  },
  {
   "cell_type": "markdown",
   "metadata": {
    "deletable": true,
    "editable": true
   },
   "source": [
    "Let’s take a moment to look at the different parts of this loop.  The loop\n",
    "consists of two parts:\n",
    "\n",
    "* The `for` statement, which ends with a colon (“`:`”)\n",
    "* The *body* of the loop, which is indented\n",
    "\n",
    "This is the first time we're seeing Python code that doesn't start immediately\n",
    "on the left margin.  We'll be coming back to that in a second.\n",
    "\n",
    "The for line is of the format…\n",
    "\n",
    "```python\n",
    "for <variable> in <list>\n",
    "```\n",
    "\n",
    "…where `<list>` is obviously the list we want to process.  What is `<variable>`?\n",
    "It's the name of the variable we want to assign to each element of the list in\n",
    "turn.\n",
    "\n",
    "`<variable>` — `ape` in our case — is just a normal variable name (so it follows\n",
    "all the rules that we’ve already learned about variable names). But it behaves\n",
    "slightly differently to all the other variables we’ve seen so far. In all\n",
    "previous examples, we create a variable and store something in it, and then the\n",
    "value of that variable doesn’t change unless we change it ourselves. In\n",
    "contrast, when we create a variable to be used in a loop, we don’t set its value\n",
    "– the value of the variable will be automatically set to each element of the\n",
    "list in turn, and it will be different each time round the loop."
   ]
  },
  {
   "cell_type": "code",
   "execution_count": 19,
   "metadata": {
    "collapsed": false,
    "deletable": true,
    "editable": true
   },
   "outputs": [
    {
     "name": "stdout",
     "output_type": "stream",
     "text": [
      "Homo sapiens is an ape -- its name starts with H\n",
      "Its name has 12 letters\n",
      "Pan troglodytes is an ape -- its name starts with P\n",
      "Its name has 15 letters\n",
      "Gorilla gorilla is an ape -- its name starts with G\n",
      "Its name has 15 letters\n"
     ]
    }
   ],
   "source": [
    "apes = [\"Homo sapiens\", \"Pan troglodytes\", \"Gorilla gorilla\"]\n",
    "for ape in apes:\n",
    "    name_length = len(ape)\n",
    "    first_letter = ape[0]\n",
    "    print(ape, \"is an ape -- its name starts with\", first_letter)\n",
    "    print(\"Its name has\", name_length, \"letters\")"
   ]
  },
  {
   "cell_type": "markdown",
   "metadata": {
    "deletable": true,
    "editable": true
   },
   "source": [
    "The body of the loop in the code above has four statements, two of which are\n",
    "calls to the `print` function, so each time round the loop we’ll get two lines\n",
    "of output. If we look at the output we can see all six lines.\n",
    "\n",
    "Again we see that the `for` line ends with a colon, and the *body* of the loop\n",
    "is indented.  Unlike the previous example, the body is now made up of more than\n",
    "one statement — four, to be exact.  Two of those statements are calls to the\n",
    "`print` function, so we expect the loop to print two lines of output for each\n",
    "element of the `apes` list.\n",
    "\n",
    "Indented lines can start with any number of tab or space characters, but they\n",
    "must all be indented in the same way. (There is a strong recommendation in the\n",
    "Python community to use *four spaces*.  And using tabs is strongly discouraged.)\n",
    "\n",
    "A group of indented lines is often called a code *block*.\n",
    "\n",
    "In this case, we refer to the indented bock as the body of the loop, and the\n",
    "lines inside it will be executed once for each element in the list. To refer to\n",
    "the current element, we use the variable name that we wrote in the first line.\n",
    "The body of the loop can contain as many lines as we like, and can include all\n",
    "the functions and methods that we’ve learned about.\n",
    "\n",
    "Why is the above approach better than printing out these six lines in six\n",
    "separate statements? Well, for one thing, there’s much less redundancy – here we\n",
    "only needed to write two print statements. This also means that if we need to\n",
    "make a change to the code, we only have to make it once rather than three\n",
    "separate times. Another benefit of using a loop here is that if we want to add\n",
    "some elements to the list, we don’t have to touch the loop code at all.\n",
    "Consequently, it doesn’t matter how many elements are in the list, and it’s not\n",
    "a problem if we don’t know how many are going to be in it at the time when we\n",
    "write the code."
   ]
  },
  {
   "cell_type": "markdown",
   "metadata": {
    "deletable": true,
    "editable": true
   },
   "source": [
    "#### Indentation errors"
   ]
  },
  {
   "cell_type": "markdown",
   "metadata": {
    "deletable": true,
    "editable": true
   },
   "source": [
    "Unfortunately, introducing tools like loops that require an indented block of\n",
    "code also introduces the possibility of a new type of error – an\n",
    "`IndentationError`. Notice what happens when the indentation of one of the lines\n",
    "in the block does not match the others:"
   ]
  },
  {
   "cell_type": "code",
   "execution_count": 20,
   "metadata": {
    "collapsed": false,
    "deletable": true,
    "editable": true
   },
   "outputs": [
    {
     "name": "stdout",
     "output_type": "stream",
     "text": [
      "Homo sapiens is an ape. Its name starts with H\n",
      "Its name has 12 letters\n",
      "Pan troglodytes is an ape. Its name starts with P\n",
      "Its name has 15 letters\n",
      "Gorilla gorilla is an ape. Its name starts with G\n",
      "Its name has 15 letters\n"
     ]
    }
   ],
   "source": [
    "apes = [\"Homo sapiens\", \"Pan troglodytes\", \"Gorilla gorilla\"]\n",
    "for ape in apes:\n",
    "    name_length = len(ape)\n",
    "   first_letter = ape[0]\n",
    "    print(ape, \"is an ape. Its name starts with\", first_letter)\n",
    "    print(\"Its name has\", name_length, \"letters\")"
   ]
  },
  {
   "cell_type": "markdown",
   "metadata": {
    "deletable": true,
    "editable": true
   },
   "source": [
    "When you encounter an `IndentationError`, go back to your code and double-check\n",
    "that all the lines in the block match up."
   ]
  },
  {
   "cell_type": "markdown",
   "metadata": {
    "deletable": true,
    "editable": true
   },
   "source": [
    "### Iterating over a string"
   ]
  },
  {
   "cell_type": "markdown",
   "metadata": {
    "deletable": true,
    "editable": true
   },
   "source": [
    "We’ve already seen how strings can act like lists in many instances.  Can we\n",
    "also use loop notation to process a string as though it were a list?"
   ]
  },
  {
   "cell_type": "code",
   "execution_count": 21,
   "metadata": {
    "collapsed": false,
    "deletable": true,
    "editable": true
   },
   "outputs": [
    {
     "name": "stdout",
     "output_type": "stream",
     "text": [
      "one character is m\n",
      "one character is a\n",
      "one character is r\n",
      "one character is t\n",
      "one character is i\n",
      "one character is n\n"
     ]
    }
   ],
   "source": [
    "name = \"martin\"\n",
    "for character in name:\n",
    "    print(\"one character is\", character)"
   ]
  },
  {
   "cell_type": "markdown",
   "metadata": {
    "deletable": true,
    "editable": true
   },
   "source": [
    "Yes, it works!\n",
    "\n",
    "If we write a `for` loop to *iterate* over a string, Python treats each\n",
    "character in the string as a separate element. This allows us to process a\n",
    "string one character at a time quite easily.\n",
    "\n",
    "The process of repeating a set of instructions for each element of a list (or\n",
    "character in a string) is called *iteration*, and we often talk about *iterating\n",
    "over* a list or string using a `for` loop."
   ]
  },
  {
   "cell_type": "markdown",
   "metadata": {
    "deletable": true,
    "editable": true
   },
   "source": [
    "### Reading a file into a list of strings"
   ]
  },
  {
   "cell_type": "markdown",
   "metadata": {
    "deletable": true,
    "editable": true
   },
   "source": [
    "Remember our example from the previous notebook?\n",
    "\n",
    "```python\n",
    "my_file = open(\"dna.txt\", 'r')\n",
    "\n",
    "my_line1 = my_file.readline()\n",
    "my_dna1 = my_line1.rstrip()\n",
    "print(\"sequence is\", my_dna1, \"and its length is\", len(my_dna1), \"bases\")\n",
    "\n",
    "# ...etc., for the other lines\n",
    "\n",
    "my_file.close()\n",
    "```\n",
    "\n",
    "At the time we said we wished we had a way to say, _for each line in the file, do “something”_.\n",
    "\n",
    "We're now a step closer to that:  We have a way of saying, _for each element in this list, do “something”_.\n",
    "\n",
    "As it turns out, file objects also have a `readlines()` method for reading a file into a list of strings, with each line in the file becoming an element in the list."
   ]
  },
  {
   "cell_type": "code",
   "execution_count": 22,
   "metadata": {
    "collapsed": false,
    "deletable": true,
    "editable": true
   },
   "outputs": [
    {
     "name": "stdout",
     "output_type": "stream",
     "text": [
      "/Users/sabineurban/EVOP2017/files\n"
     ]
    },
    {
     "data": {
      "text/plain": [
       "['ACTGTACGTGCACTGATC\\n', 'CTGGCATAGTCTTATTTT\\n', 'CAGGGCGGCGGATCTCTT']"
      ]
     },
     "execution_count": 22,
     "metadata": {},
     "output_type": "execute_result"
    }
   ],
   "source": [
    "%cd files\n",
    "\n",
    "my_file = open(\"dna.txt\", 'r')\n",
    "list_of_seqs = my_file.readlines()\n",
    "my_file.close()\n",
    "\n",
    "list_of_seqs"
   ]
  },
  {
   "cell_type": "markdown",
   "metadata": {
    "deletable": true,
    "editable": true
   },
   "source": [
    "We can now *iterate over* that list using a `for` loop:"
   ]
  },
  {
   "cell_type": "code",
   "execution_count": 23,
   "metadata": {
    "collapsed": false,
    "deletable": true,
    "editable": true
   },
   "outputs": [
    {
     "name": "stdout",
     "output_type": "stream",
     "text": [
      "sequence is ACTGTACGTGCACTGATC and its length is 18 bases\n",
      "sequence is CTGGCATAGTCTTATTTT and its length is 18 bases\n",
      "sequence is CAGGGCGGCGGATCTCTT and its length is 18 bases\n"
     ]
    }
   ],
   "source": [
    "for sequence in list_of_seqs:\n",
    "    sequence = sequence.rstrip()\n",
    "    print(\"sequence is\", sequence, \"and its length is\", len(sequence), \"bases\")"
   ]
  },
  {
   "cell_type": "markdown",
   "metadata": {
    "deletable": true,
    "editable": true
   },
   "source": [
    "What did we gain?\n",
    "\n",
    "* Our code is more succinct and readable.\n",
    "\n",
    "\n",
    "* Our code is less error-prone, since we didn't have to repeat a part of it over and over.\n",
    "\n",
    "\n",
    "* our code is more *scalable*, since we can now apply it to a file with an arbitrary number of lines.\n",
    "\n",
    "But we can still do one better…"
   ]
  },
  {
   "cell_type": "markdown",
   "metadata": {
    "deletable": true,
    "editable": true
   },
   "source": [
    "### Iterating over a file"
   ]
  },
  {
   "cell_type": "markdown",
   "metadata": {
    "deletable": true,
    "editable": true
   },
   "source": [
    "We've seen before that, in some circumstances, we can treat strings and lists as the same sort of thing.  We've also seen that we can *iterate over* both liss and strings.\n",
    "\n",
    "Strings and lists are clearly both \"sequences\" in some sense, and it makes sense that you can iterate over the elements of a sequence.  In fact, it turns out that you can iterate over many\n",
    "things in Python that are in some sense \"containers\".  If you come across some new sort of object that in some sense contains other things, try to iterate over it using a `for` loop and you might well surprised.  Or rather, *un*-surprised, since it'll likely do exactly what you'd expect.\n",
    "\n",
    ">Python prides itself on *consistency*.  Consistency allows you to intuit new features based on what you already know.\n",
    "\n",
    "Files aren't obviously containers, though.  So what happens when we open a text file and try to iterate over the resulting file object?\n",
    "\n",
    "Let's go back to our example:"
   ]
  },
  {
   "cell_type": "code",
   "execution_count": 24,
   "metadata": {
    "collapsed": false,
    "deletable": true,
    "editable": true
   },
   "outputs": [
    {
     "name": "stdout",
     "output_type": "stream",
     "text": [
      "The element is: ACTGTACGTGCACTGATC\n",
      "\n",
      "The element is: CTGGCATAGTCTTATTTT\n",
      "\n",
      "The element is: CAGGGCGGCGGATCTCTT\n"
     ]
    }
   ],
   "source": [
    "my_file = open(\"dna.txt\", 'r')\n",
    "for element in my_file:\n",
    "    print(\"The element is:\", element)\n",
    "my_file.close()"
   ]
  },
  {
   "cell_type": "markdown",
   "metadata": {
    "deletable": true,
    "editable": true
   },
   "source": [
    "Python did the logical thing:  `dna.txt` is a text file containing several lines of text, and iterating over it yields one line of the file every time we go around the loop.  Clearly, this is a *very* useful idiom for people in our line of work!\n",
    "\n",
    "Notice, though, that there's a blank line between every two lines printed by the\n",
    "`print` function.  Can you guess the reason why?\n",
    "\n",
    "Yes, every line of the file `dna.txt` is terminated by a newline character `\\n`, and the `print()` function appends *another* newline, which means we end up with a blank line after every step.  It's a good idea to strip off that annoying `\\n`, and fortunately\n",
    "we already know just the tool to do it:"
   ]
  },
  {
   "cell_type": "code",
   "execution_count": 26,
   "metadata": {
    "collapsed": false,
    "deletable": true,
    "editable": true
   },
   "outputs": [
    {
     "name": "stdout",
     "output_type": "stream",
     "text": [
      "Line: CCTGTATTAGCAGCAGATTCGATTAGCTTTACAACAATTCAATAAAATAGCTTCGCGCTAA\n",
      "Line: ATTTTTAACTTTTCTCTGTCGTCGCACAATCGACTTTCTCTGTTTTCTTGGGTTTACCGGAA\n",
      "Line: TTGTTTCTGCTGCGATGAGGTATTGCTCGTCAGCCTGAGGCTGAAAATAAAATCCGTGGT\n",
      "Line: CACACCCAATAAGTTAGAGAGAGTACTTTGACTTGGAGCTGGAGGAATTTGACATAGTCGAT\n",
      "Line: TCTTCTCCAAGACGCATCCACGTGAACCGTTGTAACTATGTTCTGTGC\n",
      "Line: CCACACCAAAAAAACTTTCCACGTGAACCGAAAACGAAAGTCTTTGGTTTTAATCAATAA\n",
      "Line: GTGCTCTCTTCTCGGAGAGAGAAGGTGGGCTGCTTGTCTGCCGATGTACTTTATTAAATCCAATAA\n",
      "Line: CCACACCAAAAAAACTTTCCACGTGTGAACTATACTCCAAAAACGAAGTATTGGTTTATCATAA\n",
      "Line: TCTGAAAAGTGCAAAGAACGATGATGATGATGATAGAGGAACCTGAGCAGCCATGTCTGAACCTATAGC\n",
      "Line: GTATTGGTCGTCGTGCGACTAAATTAGGTAAAAAAGTAGTTCTAAGAGATTTTGATGATTCAATGCAAAGTTCTATTAATCGTTCAATTG\n"
     ]
    }
   ],
   "source": [
    "seq_file = open(\"10_sequences.txt\", 'r')\n",
    "for line in seq_file:\n",
    "    line = line.rstrip()\n",
    "    print(\"Line:\", line)\n",
    "seq_file.close()"
   ]
  },
  {
   "cell_type": "markdown",
   "metadata": {
    "deletable": true,
    "editable": true
   },
   "source": [
    "Note what happens in line 3:\n",
    "\n",
    "```python\n",
    "line = line.rstrip()\n",
    "```\n",
    "\n",
    "Here we have the string variable `line`;  we call its `rstrip()` method which produces a *copy of the string* with the whitespace stripped on the right-hand side, and then we assign the variable name `line` again to this copy.\n",
    "\n",
    "Since `line` has now been assigned to the copy, the original value of `line` is *unfererenced* and will be garbage collected (deleted from memory).\n",
    "\n",
    "And yes, it's quite possible to change the assignment of `line` ourselves even though it gets assigned a new value in each iteration of the `for` loop.  It'll preserve the value we've assigned it for the current iteration, and then simply get assigned a new value by the `for` loop machinery the next time the loop starts.\n",
    "\n",
    "Of course, just printing out the lines of the file isn't all that useful.  Whydon't we try to do some actual processing using the sequences in a file?  Let's look at a slightly longer file called `10_sequences.txt`:"
   ]
  },
  {
   "cell_type": "code",
   "execution_count": null,
   "metadata": {
    "collapsed": true,
    "deletable": true,
    "editable": true
   },
   "outputs": [],
   "source": [
    "# %load 10_sequences.txt\n",
    "CCTGTATTAGCAGCAGATTCGATTAGCTTTACAACAATTCAATAAAATAGCTTCGCGCTAA\n",
    "ATTTTTAACTTTTCTCTGTCGTCGCACAATCGACTTTCTCTGTTTTCTTGGGTTTACCGGAA\n",
    "TTGTTTCTGCTGCGATGAGGTATTGCTCGTCAGCCTGAGGCTGAAAATAAAATCCGTGGT\n",
    "CACACCCAATAAGTTAGAGAGAGTACTTTGACTTGGAGCTGGAGGAATTTGACATAGTCGAT\n",
    "TCTTCTCCAAGACGCATCCACGTGAACCGTTGTAACTATGTTCTGTGC\n",
    "CCACACCAAAAAAACTTTCCACGTGAACCGAAAACGAAAGTCTTTGGTTTTAATCAATAA\n",
    "GTGCTCTCTTCTCGGAGAGAGAAGGTGGGCTGCTTGTCTGCCGATGTACTTTATTAAATCCAATAA\n",
    "CCACACCAAAAAAACTTTCCACGTGTGAACTATACTCCAAAAACGAAGTATTGGTTTATCATAA\n",
    "TCTGAAAAGTGCAAAGAACGATGATGATGATGATAGAGGAACCTGAGCAGCCATGTCTGAACCTATAGC\n",
    "GTATTGGTCGTCGTGCGACTAAATTAGGTAAAAAAGTAGTTCTAAGAGATTTTGATGATTCAATGCAAAGTTCTATTAATCGTTCAATTG\n"
   ]
  },
  {
   "cell_type": "markdown",
   "metadata": {
    "deletable": true,
    "editable": true
   },
   "source": [
    "As you can see, `10_sequences.txt` contains 10 lines of variable-length sequence data.  Let's calculate the GC content for each sequence in turn:"
   ]
  },
  {
   "cell_type": "code",
   "execution_count": 25,
   "metadata": {
    "collapsed": false,
    "deletable": true,
    "editable": true
   },
   "outputs": [
    {
     "name": "stdout",
     "output_type": "stream",
     "text": [
      "GC content: 36.0655737704918\n",
      "GC content: 38.70967741935484\n",
      "GC content: 46.666666666666664\n",
      "GC content: 41.935483870967744\n",
      "GC content: 47.91666666666667\n",
      "GC content: 35.0\n",
      "GC content: 45.45454545454545\n",
      "GC content: 34.375\n",
      "GC content: 43.47826086956522\n",
      "GC content: 32.22222222222222\n"
     ]
    }
   ],
   "source": [
    "for line in open(\"10_sequences.txt\", 'r'):\n",
    "    line = line.rstrip()\n",
    "    line = line.upper()\n",
    "    num_c = line.count('C')\n",
    "    num_g = line.count('G')\n",
    "    gc_content = (num_c + num_g) / len(line) * 100\n",
    "    print(\"GC content:\", gc_content)"
   ]
  },
  {
   "cell_type": "markdown",
   "metadata": {
    "deletable": true,
    "editable": true
   },
   "source": [
    "Note that it was necessary to `rstrip()` the line in line 2 of the code cell,\n",
    "since otherwise we would've miscalculated the line's length with `len()` in line\n",
    "6, leading to an incorrect value for the GC content.\n",
    "\n",
    "Why convert to uppercase using `upper` in line 3?  Well, *just in case!*\n",
    "`10_sequences.txt` is small enough that we can scan it by eye and ascertain that\n",
    "it doesn't contain any lowercase data, but that might not be true of every file\n",
    "we wish to process!\n",
    "\n",
    "Also note that this time around, we used the `open()` function directly in the\n",
    "`for` statement.  In other words, we didn't specifically assign a variable name\n",
    "to the file object, hence the file object is *unreferenced* and will be garbage\n",
    "collected when no longer needed for the iteration.  And as we've said, Python is\n",
    "smart enough to close the underlying file when a file object is destroyed, so we don't have to call its `close()` method explicitly in this case.\n",
    "\n",
    ">When iterating over a file using a `for` loop, it's **not a good idea** also to\n",
    "read data from the file using the `read()` method of the file object.  Python\n",
    "keeps track of \"where we are in a file\" using a so-called *file pointer*.  If\n",
    "you mix the methods of reading data from a file, you'll probably get unexpected\n",
    "results.\n",
    "\n",
    "A final and very important point which I wish to underline:\n",
    "\n",
    ">**Iterating over a text file is a smart thing to do, because only one line is\n",
    "read into memory at a time!**\n",
    "\n",
    "Certainly, you can read the entire contents of a text file into memory using the\n",
    "`read()` or `readlines()` method of the file object (as a single string or a list of strings, respectively).  But that means *reading the entire file into memory*.  Which is OK for a small file like `10_sequences.txt`, but not for a large file that may be many gigabytes ins\n",
    "size.\n",
    "\n",
    "However, *iterating* over that file means that only one line of the file is read\n",
    "into memory (and processed) at any one time.\n",
    "\n",
    "**Iterating over a file like this is an extremely common idiom**, so let's show it once more:\n",
    "\n",
    "```python\n",
    "for line in open(<filename>, 'r'):\n",
    "  line = line.rstrip()\n",
    "  # do somethign with 'line'\n",
    "```"
   ]
  },
  {
   "cell_type": "markdown",
   "metadata": {
    "deletable": true,
    "editable": true
   },
   "source": [
    "## More on lists and loops"
   ]
  },
  {
   "cell_type": "markdown",
   "metadata": {
    "deletable": true,
    "editable": true
   },
   "source": [
    "There's a lot more to be said about both lists and loops, so here's a grab-bag of interesting things:"
   ]
  },
  {
   "cell_type": "markdown",
   "metadata": {
    "deletable": true,
    "editable": true
   },
   "source": [
    "### Adding elements to a list"
   ]
  },
  {
   "cell_type": "markdown",
   "metadata": {
    "deletable": true,
    "editable": true
   },
   "source": [
    "Having pointed out the similarity of lists and strings, let's now look at a\n",
    "couple of methods of lists that are *not* shared with strings.\n",
    "\n",
    "To add another element onto the end of an existing list, we can use the `append()`\n",
    "method:"
   ]
  },
  {
   "cell_type": "code",
   "execution_count": 28,
   "metadata": {
    "collapsed": false,
    "deletable": true,
    "editable": true
   },
   "outputs": [
    {
     "name": "stdout",
     "output_type": "stream",
     "text": [
      "['Homo sapiens', 'Pan troglodytes', 'Gorilla gorilla', 'Pan paniscus']\n"
     ]
    }
   ],
   "source": [
    "apes = [\"Homo sapiens\", \"Pan troglodytes\", \"Gorilla gorilla\"]\n",
    "apes.append(\"Pan paniscus\")\n",
    "print(apes)"
   ]
  },
  {
   "cell_type": "markdown",
   "metadata": {
    "deletable": true,
    "editable": true
   },
   "source": [
    "`append()` is an interesting method because *it actually changes the variable on\n",
    "which it’s used* – in the above example, the `apes` list goes from having three\n",
    "elements to having four. We say the list has been changed *in place*."
   ]
  },
  {
   "cell_type": "code",
   "execution_count": 29,
   "metadata": {
    "collapsed": false,
    "deletable": true,
    "editable": true
   },
   "outputs": [
    {
     "name": "stdout",
     "output_type": "stream",
     "text": [
      "There are 3 apes\n",
      "Now there are 4 apes\n"
     ]
    }
   ],
   "source": [
    "apes = [\"Homo sapiens\", \"Pan troglodytes\", \"Gorilla gorilla\"]\n",
    "print(\"There are\", len(apes), \"apes\")\n",
    "apes.append(\"Pan paniscus\")\n",
    "print(\"Now there are\", len(apes), \"apes\")"
   ]
  },
  {
   "cell_type": "markdown",
   "metadata": {
    "deletable": true,
    "editable": true
   },
   "source": [
    "The output shows that the number of elements in `apes` really has changed.\n",
    "\n",
    "If we want to add elements from a list onto the end of another (existing) list, we can use the `extend()` method. `extend()` behaves like `append` but takes a list as its argument rather than a single element."
   ]
  },
  {
   "cell_type": "code",
   "execution_count": 30,
   "metadata": {
    "collapsed": false,
    "deletable": true,
    "editable": true
   },
   "outputs": [
    {
     "name": "stdout",
     "output_type": "stream",
     "text": [
      "[24, 56, 132, 289, 427, 558, 638, 915]\n"
     ]
    }
   ],
   "source": [
    "conserved_sites = [24, 56, 132, 289, 427, 558]\n",
    "conserved_sites.extend([638, 915])\n",
    "print(conserved_sites)"
   ]
  },
  {
   "cell_type": "markdown",
   "metadata": {
    "deletable": true,
    "editable": true
   },
   "source": [
    "Note that — just like `append()` — `extend()` changes a list in place."
   ]
  },
  {
   "cell_type": "markdown",
   "metadata": {
    "deletable": true,
    "editable": true
   },
   "source": [
    "### Nested lists?"
   ]
  },
  {
   "cell_type": "markdown",
   "metadata": {
    "deletable": true,
    "editable": true
   },
   "source": [
    "What would have happened in the last example if we had accidentally used\n",
    "`append()` instead of `extend()` in the previous code block?  Can you predict it?"
   ]
  },
  {
   "cell_type": "code",
   "execution_count": 31,
   "metadata": {
    "collapsed": false,
    "deletable": true,
    "editable": true
   },
   "outputs": [
    {
     "name": "stdout",
     "output_type": "stream",
     "text": [
      "[24, 56, 132, 289, 427, 558, [638, 915]]\n"
     ]
    }
   ],
   "source": [
    "conserved_sites = [24, 56, 132, 289, 427, 558]\n",
    "conserved_sites.append([638, 915])\n",
    "print(conserved_sites)"
   ]
  },
  {
   "cell_type": "markdown",
   "metadata": {
    "deletable": true,
    "editable": true
   },
   "source": [
    "What happened there?\n",
    "\n",
    "Well, the `append()` method of a list object takes one argument, and appends it to\n",
    "the list.  In this case, the single argument it received was *another* list,\n",
    "which it duly added to itself.  So clearly, lists can store other lists!\n",
    "\n",
    "One use for nested lists is representing a 2-dimensional vector, like this:"
   ]
  },
  {
   "cell_type": "code",
   "execution_count": 32,
   "metadata": {
    "collapsed": false,
    "deletable": true,
    "editable": true
   },
   "outputs": [
    {
     "name": "stdout",
     "output_type": "stream",
     "text": [
      "[[2, 8, 4], [3, 0, 1], [6, 9, 0]]\n"
     ]
    }
   ],
   "source": [
    "vector = [[2, 8, 4],\n",
    "          [3, 0, 1],\n",
    "          [6, 9, 0]]\n",
    "print(vector)"
   ]
  },
  {
   "cell_type": "markdown",
   "metadata": {
    "deletable": true,
    "editable": true
   },
   "source": [
    "To extract the second element of our list (vector), we use normal subscript\n",
    "notation.  (Remember, zero-based!)"
   ]
  },
  {
   "cell_type": "code",
   "execution_count": 33,
   "metadata": {
    "collapsed": false,
    "deletable": true,
    "editable": true
   },
   "outputs": [
    {
     "data": {
      "text/plain": [
       "[3, 0, 1]"
      ]
     },
     "execution_count": 33,
     "metadata": {},
     "output_type": "execute_result"
    }
   ],
   "source": [
    "vector[1]"
   ]
  },
  {
   "cell_type": "markdown",
   "metadata": {
    "deletable": true,
    "editable": true
   },
   "source": [
    "Can you imagine how we'd extract the 3rd element of that 2nd element?  I think\n",
    "you could…"
   ]
  },
  {
   "cell_type": "code",
   "execution_count": 34,
   "metadata": {
    "collapsed": false,
    "deletable": true,
    "editable": true
   },
   "outputs": [
    {
     "data": {
      "text/plain": [
       "1"
      ]
     },
     "execution_count": 34,
     "metadata": {},
     "output_type": "execute_result"
    }
   ],
   "source": [
    "vector[1][2]"
   ]
  },
  {
   "cell_type": "markdown",
   "metadata": {
    "deletable": true,
    "editable": true
   },
   "source": [
    "### Changing the order of a list"
   ]
  },
  {
   "cell_type": "markdown",
   "metadata": {
    "deletable": true,
    "editable": true
   },
   "source": [
    "Here are two more list methods that change the list they’re called on in place: `reverse()`\n",
    "and `sort()`. Both of these work by changing the order of the elements in the list:"
   ]
  },
  {
   "cell_type": "code",
   "execution_count": 35,
   "metadata": {
    "collapsed": false,
    "deletable": true,
    "editable": true
   },
   "outputs": [
    {
     "name": "stdout",
     "output_type": "stream",
     "text": [
      "at the start:    ['kingdom', 'phylum', 'class', 'order', 'family']\n",
      "after reversing: ['family', 'order', 'class', 'phylum', 'kingdom']\n",
      "after sorting:   ['class', 'family', 'kingdom', 'order', 'phylum']\n"
     ]
    }
   ],
   "source": [
    "ranks = [\"kingdom\",\"phylum\", \"class\", \"order\", \"family\"]\n",
    "print(\"at the start:   \", ranks)\n",
    "ranks.reverse()\n",
    "print(\"after reversing:\", ranks)\n",
    "ranks.sort()\n",
    "print(\"after sorting:  \", ranks)"
   ]
  },
  {
   "cell_type": "markdown",
   "metadata": {
    "deletable": true,
    "editable": true
   },
   "source": [
    "If we take a look at the output, we can see how the order of the elements in the\n",
    "list is changed by these two methods.\n",
    "\n",
    "By default, Python sorts strings in alphabetical order and numbers in ascending\n",
    "numerical order."
   ]
  },
  {
   "cell_type": "markdown",
   "metadata": {
    "deletable": true,
    "editable": true
   },
   "source": [
    "### Changing elements of a list"
   ]
  },
  {
   "cell_type": "markdown",
   "metadata": {
    "deletable": true,
    "editable": true
   },
   "source": [
    "We've seen that we can extract an element from a list using subscript notation:"
   ]
  },
  {
   "cell_type": "code",
   "execution_count": 36,
   "metadata": {
    "collapsed": false,
    "deletable": true,
    "editable": true
   },
   "outputs": [
    {
     "name": "stdout",
     "output_type": "stream",
     "text": [
      "orrder\n"
     ]
    }
   ],
   "source": [
    "ranks = [\"kingdom\",\"phylum\", \"class\", \"orrder\", \"family\"]\n",
    "print(ranks[3])"
   ]
  },
  {
   "cell_type": "markdown",
   "metadata": {
    "deletable": true,
    "editable": true
   },
   "source": [
    "Oops.  We misspelled `order`.  Fortunately we can also *assign to an indexed\n",
    "location*:"
   ]
  },
  {
   "cell_type": "code",
   "execution_count": 37,
   "metadata": {
    "collapsed": false,
    "deletable": true,
    "editable": true
   },
   "outputs": [
    {
     "name": "stdout",
     "output_type": "stream",
     "text": [
      "['kingdom', 'phylum', 'class', 'order', 'family']\n"
     ]
    }
   ],
   "source": [
    "ranks[3] = \"order\"\n",
    "print(ranks)"
   ]
  },
  {
   "cell_type": "markdown",
   "metadata": {
    "deletable": true,
    "editable": true
   },
   "source": [
    "Note that assigning to an element again changes the list *in place*.\n",
    "\n",
    "If we can assign to a single index, what are the chances we can also assign to a\n",
    "range of locations using slice notation?  Let's try…"
   ]
  },
  {
   "cell_type": "code",
   "execution_count": 38,
   "metadata": {
    "collapsed": false,
    "deletable": true,
    "editable": true
   },
   "outputs": [
    {
     "name": "stdout",
     "output_type": "stream",
     "text": [
      "['a', 'g', 't', 'n', 'n', 'n', 'c', 't']\n"
     ]
    }
   ],
   "source": [
    "nucs = ['a', 'g', 't', 'a', 'a', 'c', 'c', 't']\n",
    "nucs[3:6] = ['n', 'n', 'n']\n",
    "print(nucs)"
   ]
  },
  {
   "cell_type": "markdown",
   "metadata": {
    "deletable": true,
    "editable": true
   },
   "source": [
    "Well, that worked!  Note that the list you assign to the sliced location need\n",
    "not be the same length as the slice:"
   ]
  },
  {
   "cell_type": "code",
   "execution_count": 39,
   "metadata": {
    "collapsed": false,
    "deletable": true,
    "editable": true
   },
   "outputs": [
    {
     "name": "stdout",
     "output_type": "stream",
     "text": [
      "['n', 'n', 'n', 'n', 'n', 'n', 'n', 'n']\n",
      "['a', 'g', 't', 'n', 'n', 'n', 'n', 'n', 'n', 'n', 'n', 'c', 't']\n"
     ]
    }
   ],
   "source": [
    "nucs = ['a', 'g', 't', 'a', 'a', 'c', 'c', 't']\n",
    "\n",
    "# create a replacement list consisting of 8 'n's\n",
    "replacement = ['n'] * 8\n",
    "print(replacement)\n",
    "\n",
    "# do the replacement by assigning to a slice\n",
    "nucs[3:6] = replacement\n",
    "print(nucs)"
   ]
  },
  {
   "cell_type": "markdown",
   "metadata": {
    "deletable": true,
    "editable": true
   },
   "source": [
    "Hmm, so if we can change a list in place by assigning to elements or ranges, can\n",
    "we do the same to strings?"
   ]
  },
  {
   "cell_type": "code",
   "execution_count": null,
   "metadata": {
    "collapsed": false,
    "deletable": true,
    "editable": true
   },
   "outputs": [],
   "source": [
    "my_dna = \"ACTTACG\"\n",
    "my_dna[2] = 'C'"
   ]
  },
  {
   "cell_type": "markdown",
   "metadata": {
    "deletable": true,
    "editable": true
   },
   "source": [
    "Nope!  In fact, the error message is quite explicit:  The string object does not\n",
    "support item assignment.\n",
    "\n",
    "In Python, we say that:\n",
    "\n",
    "* lists are *mutable* (can be changed *in place*), but\n",
    "* strings are *immutable* (cannot be changed *in place*)\n",
    "\n",
    "From now on, when we talk about new types (both simple and compound), we'll often mention whether they're mutable or immutable, as this is a basic characteristic."
   ]
  },
  {
   "cell_type": "markdown",
   "metadata": {
    "deletable": true,
    "editable": true
   },
   "source": [
    "### Splitting strings and joining lists"
   ]
  },
  {
   "cell_type": "markdown",
   "metadata": {
    "deletable": true,
    "editable": true
   },
   "source": [
    "There are plenty of functions and methods that produce lists as their output.  For instance, we've seen how we can produce a list of strings from a text file by using the `readlines()` method of a file object.\n",
    "\n",
    "Another such method that is particularly interesting to biologists is the `split()` method of string objects. `split()` takes a single argument, called the *delimiter*,  splits the original string wherever it sees the delimiter, and returns a list. Here’s an example:"
   ]
  },
  {
   "cell_type": "code",
   "execution_count": 40,
   "metadata": {
    "collapsed": false,
    "deletable": true,
    "editable": true
   },
   "outputs": [
    {
     "name": "stdout",
     "output_type": "stream",
     "text": [
      "['melanogaster', 'simulans', 'yakuba', 'ananassae']\n"
     ]
    }
   ],
   "source": [
    "names = \"melanogaster,simulans,yakuba,ananassae\"\n",
    "species = names.split(\",\")\n",
    "print(species)"
   ]
  },
  {
   "cell_type": "markdown",
   "metadata": {
    "deletable": true,
    "editable": true
   },
   "source": [
    "We can see from the output that the string has been split wherever there was a\n",
    "comma leaving us with a list of strings.\n",
    "\n",
    "What if we want to do the opposite thing, and join a list of strings into a\n",
    "single string, using a delimiter to separate them?\n",
    "\n",
    "The syntax for this seems strange to newcomers:  The string type has a `join()` method,\n",
    "which takes as argument a list of strings.  It returns a single string which is that list of strings joined up, using the original string as delimiter.  It's easier to demonstrate by example:"
   ]
  },
  {
   "cell_type": "code",
   "execution_count": 41,
   "metadata": {
    "collapsed": false,
    "deletable": true,
    "editable": true
   },
   "outputs": [
    {
     "name": "stdout",
     "output_type": "stream",
     "text": [
      "melanogaster,simulans,yakuba,ananassae\n"
     ]
    }
   ],
   "source": [
    "species = ['melanogaster', 'simulans', 'yakuba', 'ananassae']\n",
    "names = ','.join(species)\n",
    "print(names)"
   ]
  },
  {
   "cell_type": "code",
   "execution_count": 42,
   "metadata": {
    "collapsed": false,
    "deletable": true,
    "editable": true
   },
   "outputs": [
    {
     "name": "stdout",
     "output_type": "stream",
     "text": [
      "a---g---t---t---c---t\n"
     ]
    }
   ],
   "source": [
    "nucs = ['a', 'g', 't', 't', 'c', 't']\n",
    "print(\"---\".join(nucs))"
   ]
  },
  {
   "cell_type": "code",
   "execution_count": 43,
   "metadata": {
    "collapsed": false,
    "deletable": true,
    "editable": true
   },
   "outputs": [
    {
     "name": "stdout",
     "output_type": "stream",
     "text": [
      "This is a sentence.\n",
      "Thisisasentence.\n"
     ]
    }
   ],
   "source": [
    "words = [\"This\", \"is\", \"a\", \"sentence.\"]\n",
    "print(' '.join(words))\n",
    "print(''.join(words))"
   ]
  },
  {
   "cell_type": "markdown",
   "metadata": {
    "deletable": true,
    "editable": true
   },
   "source": [
    "Note that in the last case, the strings in the list were joined into a new\n",
    "string, delimited by … the empty string."
   ]
  },
  {
   "cell_type": "markdown",
   "metadata": {
    "deletable": true,
    "editable": true
   },
   "source": [
    "### Looping with `range()`"
   ]
  },
  {
   "cell_type": "markdown",
   "metadata": {
    "deletable": true,
    "editable": true
   },
   "source": [
    "Sometimes we want to loop over a list of numbers. Imagine we have a protein\n",
    "sequence:"
   ]
  },
  {
   "cell_type": "code",
   "execution_count": 45,
   "metadata": {
    "collapsed": true,
    "deletable": true,
    "editable": true
   },
   "outputs": [],
   "source": [
    "protein = \"vlspadktnv\""
   ]
  },
  {
   "cell_type": "markdown",
   "metadata": {
    "deletable": true,
    "editable": true
   },
   "source": [
    "…and we want to print out the first three residues, then the first four\n",
    "residues, etc.:\n",
    "\n",
    "    vls\n",
    "    vlsp\n",
    "    vlspa\n",
    "    vlspad\n",
    "    …etc…\n",
    "\n",
    "One way to tackle the problem would be to use a loop – we could extract a\n",
    "substring from the protein sequence and print it in the body of the loop, and\n",
    "the only thing that would need to change is the stop position in the substring.\n",
    "But what are we going to iterate over? We can’t just iterate over the protein\n",
    "string, because that will give us individual residues, which is not what we\n",
    "want. We can manually assemble a list of stop positions, and loop over that:"
   ]
  },
  {
   "cell_type": "code",
   "execution_count": 46,
   "metadata": {
    "collapsed": false,
    "deletable": true,
    "editable": true
   },
   "outputs": [
    {
     "name": "stdout",
     "output_type": "stream",
     "text": [
      "vls\n",
      "vlsp\n",
      "vlspa\n",
      "vlspad\n",
      "vlspadk\n",
      "vlspadkt\n",
      "vlspadktn\n",
      "vlspadktnv\n"
     ]
    }
   ],
   "source": [
    "stop_positions = [3, 4, 5, 6, 7, 8, 9, 10]\n",
    "for stop in stop_positions:\n",
    "    substring = protein[:stop]\n",
    "    print(substring)"
   ]
  },
  {
   "cell_type": "markdown",
   "metadata": {
    "deletable": true,
    "editable": true
   },
   "source": [
    "…but this seems cumbersome, and only works if we know the length of the protein\n",
    "sequence in advance.\n",
    "\n",
    "A better solution is to use the `range()` function. `range()` is a built-in Python function that returns a special `range` object.  A `range` object  generates numbers when we iterate over it.  If you evaluate a `range` function, you'll see a textual representation of the `range` object:"
   ]
  },
  {
   "cell_type": "code",
   "execution_count": 47,
   "metadata": {
    "collapsed": false,
    "deletable": true,
    "editable": true
   },
   "outputs": [
    {
     "data": {
      "text/plain": [
       "range(0, 5)"
      ]
     },
     "execution_count": 47,
     "metadata": {},
     "output_type": "execute_result"
    }
   ],
   "source": [
    "my_range = range(5)\n",
    "my_range"
   ]
  },
  {
   "cell_type": "markdown",
   "metadata": {
    "deletable": true,
    "editable": true
   },
   "source": [
    ">In Python 2, `range()` produced an actual list of numbers."
   ]
  },
  {
   "cell_type": "code",
   "execution_count": 48,
   "metadata": {
    "collapsed": false,
    "deletable": true,
    "editable": true
   },
   "outputs": [
    {
     "name": "stdout",
     "output_type": "stream",
     "text": [
      "0\n",
      "1\n",
      "2\n",
      "3\n",
      "4\n"
     ]
    }
   ],
   "source": [
    "for n in my_range:\n",
    "    print(n)"
   ]
  },
  {
   "cell_type": "markdown",
   "metadata": {
    "deletable": true,
    "editable": true
   },
   "source": [
    "As you can see, the `range` object produced by `range(5)` yield the numbers from\n",
    "0 to *just before* 5, when iterated over.\n",
    "\n",
    "The behaviour of the `range()` function depends on how many arguments we give it.\n",
    "Let's look at a few examples:\n",
    "\n",
    "With a single argument, range will count up from zero to that number, excluding\n",
    "the number itself:"
   ]
  },
  {
   "cell_type": "code",
   "execution_count": 49,
   "metadata": {
    "collapsed": false,
    "deletable": true,
    "editable": true
   },
   "outputs": [
    {
     "name": "stdout",
     "output_type": "stream",
     "text": [
      "0\n",
      "1\n",
      "2\n",
      "3\n",
      "4\n",
      "5\n"
     ]
    }
   ],
   "source": [
    "for number in range(6):\n",
    "    print(number)"
   ]
  },
  {
   "cell_type": "markdown",
   "metadata": {
    "deletable": true,
    "editable": true
   },
   "source": [
    "With two numbers, `range` will count up from the first number (inclusive) to the\n",
    "second (exclusive):"
   ]
  },
  {
   "cell_type": "code",
   "execution_count": 50,
   "metadata": {
    "collapsed": false,
    "deletable": true,
    "editable": true
   },
   "outputs": [
    {
     "name": "stdout",
     "output_type": "stream",
     "text": [
      "3\n",
      "4\n",
      "5\n",
      "6\n",
      "7\n"
     ]
    }
   ],
   "source": [
    "for number in range(3, 8):\n",
    "    print(number)"
   ]
  },
  {
   "cell_type": "markdown",
   "metadata": {
    "deletable": true,
    "editable": true
   },
   "source": [
    "With three numbers, `range` will count up from the first to the second with the\n",
    "step size given by the third:"
   ]
  },
  {
   "cell_type": "code",
   "execution_count": 51,
   "metadata": {
    "collapsed": false,
    "deletable": true,
    "editable": true
   },
   "outputs": [
    {
     "name": "stdout",
     "output_type": "stream",
     "text": [
      "2\n",
      "6\n",
      "10\n"
     ]
    }
   ],
   "source": [
    "for number in range(2, 14, 4):\n",
    "    print(number)"
   ]
  },
  {
   "cell_type": "markdown",
   "metadata": {
    "deletable": true,
    "editable": true
   },
   "source": [
    "### Building a list from a loop"
   ]
  },
  {
   "cell_type": "markdown",
   "metadata": {
    "deletable": true,
    "editable": true
   },
   "source": [
    "It's quite common to want to iterate over an object, and build up a list from\n",
    "the results of the iteration.  Let's say we want a list of numbers from 1,\n",
    "through 10.  We could generate the elements of that list with a call to `range()`,\n",
    "and then loop over the `range` object, building up the list as we go along by\n",
    "using the `append()` method of the list object:"
   ]
  },
  {
   "cell_type": "code",
   "execution_count": 52,
   "metadata": {
    "collapsed": false,
    "deletable": true,
    "editable": true
   },
   "outputs": [
    {
     "name": "stdout",
     "output_type": "stream",
     "text": [
      "[1, 2, 3, 4, 5, 6, 7, 8, 9, 10]\n"
     ]
    }
   ],
   "source": [
    "# create an empty list\n",
    "numbers = []\n",
    "\n",
    "for num in range(1, 11):\n",
    "    numbers.append(num)\n",
    "print(numbers)"
   ]
  },
  {
   "cell_type": "markdown",
   "metadata": {
    "deletable": true,
    "editable": true
   },
   "source": [
    "However, there's a quicker way to do this.  Python has a built-in function\n",
    "`list()` that can take as argument any object you can iterate over, and return the\n",
    "result of the iteration as a list.  (The `list` function *implicitly* iterates\n",
    "over the object.)"
   ]
  },
  {
   "cell_type": "code",
   "execution_count": 53,
   "metadata": {
    "collapsed": false,
    "deletable": true,
    "editable": true
   },
   "outputs": [
    {
     "name": "stdout",
     "output_type": "stream",
     "text": [
      "[1, 2, 3, 4, 5, 6, 7, 8, 9, 10]\n"
     ]
    }
   ],
   "source": [
    "numbers = list(range(1, 11))\n",
    "print(numbers)"
   ]
  },
  {
   "cell_type": "markdown",
   "metadata": {
    "deletable": true,
    "editable": true
   },
   "source": [
    "This works for any object you can iterate over.  Like a string:"
   ]
  },
  {
   "cell_type": "code",
   "execution_count": 54,
   "metadata": {
    "collapsed": false,
    "deletable": true,
    "editable": true
   },
   "outputs": [
    {
     "name": "stdout",
     "output_type": "stream",
     "text": [
      "['A', 'C', 'T', 'G']\n"
     ]
    }
   ],
   "source": [
    "nucs = list(\"ACTG\")\n",
    "print(nucs)"
   ]
  },
  {
   "cell_type": "markdown",
   "metadata": {
    "deletable": true,
    "editable": true
   },
   "source": [
    "…or even a file:"
   ]
  },
  {
   "cell_type": "code",
   "execution_count": 56,
   "metadata": {
    "collapsed": false,
    "deletable": true,
    "editable": true
   },
   "outputs": [
    {
     "name": "stdout",
     "output_type": "stream",
     "text": [
      "['ACTGTACGTGCACTGATC\\n', 'CTGGCATAGTCTTATTTT\\n', 'CAGGGCGGCGGATCTCTT']\n"
     ]
    }
   ],
   "source": [
    "lines = list(open(\"dna.txt\", 'r'))\n",
    "print(lines)"
   ]
  },
  {
   "cell_type": "markdown",
   "metadata": {
    "deletable": true,
    "editable": true
   },
   "source": [
    "Using `list()` with a file as argument has much the same effect as calling the `readlines()` method of that same file.  And the same caveat holds:  This effectively reads the entire file into the computer's memory, no matter how large it may be!\n",
    "\n",
    "It remains smarter to *iterate* over a file object using a simple `for` loop, as stated earlier!"
   ]
  },
  {
   "cell_type": "markdown",
   "metadata": {
    "deletable": true,
    "editable": true
   },
   "source": [
    "---"
   ]
  },
  {
   "cell_type": "markdown",
   "metadata": {
    "deletable": true,
    "editable": true
   },
   "source": [
    "## Exercises"
   ]
  },
  {
   "cell_type": "markdown",
   "metadata": {
    "deletable": true,
    "editable": true
   },
   "source": [
    ">Note: all the files mentioned in these exercises can be found in the `files` subdirectory.  We have already changed into that subdirectury using the Jupyter magic command `%cd` earlier in this Notebook."
   ]
  },
  {
   "cell_type": "markdown",
   "metadata": {
    "deletable": true,
    "editable": true
   },
   "source": [
    "### 1. Processing DNA in a file"
   ]
  },
  {
   "cell_type": "markdown",
   "metadata": {
    "deletable": true,
    "editable": true
   },
   "source": [
    "The file `input.txt` contains a number of DNA sequences, one per line. Each\n",
    "sequence starts with the same 14 base pair fragment – a sequencing adapter that\n",
    "should have been removed. Write a program that will:\n",
    "\n",
    "1. trim this adapter and write the cleaned sequences to a new file and\n",
    "2. print the length of each sequence to the screen."
   ]
  },
  {
   "cell_type": "code",
   "execution_count": 23,
   "metadata": {
    "collapsed": false
   },
   "outputs": [],
   "source": [
    "input_file = open(\"files/input.txt\", 'r')\n",
    "trimmed_file=open(\"files/trim.txt\", 'w')\n",
    "for line in input_file:\n",
    "    line = line[15:]\n",
    "    length = len(line)\n",
    "    print(length, file=trimmed_file)\n",
    "input_file.close()\n",
    "trimmed_file.close()"
   ]
  },
  {
   "cell_type": "code",
   "execution_count": null,
   "metadata": {
    "collapsed": false
   },
   "outputs": [],
   "source": [
    "# %load files/trim.txt\n",
    "26\n",
    "11\n",
    "27\n",
    "15\n"
   ]
  },
  {
   "cell_type": "markdown",
   "metadata": {
    "deletable": true,
    "editable": true
   },
   "source": [
    "### 2. Multiple exons from genomic DNA"
   ]
  },
  {
   "cell_type": "code",
   "execution_count": null,
   "metadata": {
    "collapsed": true,
    "deletable": true,
    "editable": true
   },
   "outputs": [],
   "source": [
    "outfile = open(\"stripped_input.txt\", 'w')\n",
    "\n",
    "for line in open(\"input.txt\", 'r'):\n",
    "    line = line.rstrip()\n",
    "    print(line[15:], file=outfile)\n",
    "    \n",
    "outfile.close()"
   ]
  },
  {
   "cell_type": "code",
   "execution_count": null,
   "metadata": {
    "collapsed": true,
    "deletable": true,
    "editable": true
   },
   "outputs": [],
   "source": [
    "!cat stripped_input.txt"
   ]
  },
  {
   "cell_type": "markdown",
   "metadata": {
    "deletable": true,
    "editable": true
   },
   "source": [
    "Use the file of cleaned sequences from Question 1, part (1) as input.  It now contains a genomic DNA sequence per line, with the adapters removed.\n",
    "\n",
    "The file `exons.txt` contains a list of start/stop positions of exons. Each exon\n",
    "is on a separate line and the start and stop positions are separated by a comma.\n",
    "\n",
    "Write a program that will extract the exon segments from the genomic DNA,\n",
    "\n",
    "concatenate them, and write the concatenated sequence to a new file."
   ]
  },
  {
   "cell_type": "code",
   "execution_count": null,
   "metadata": {
    "collapsed": false,
    "deletable": true,
    "editable": true
   },
   "outputs": [],
   "source": [
    "datafile = open(\"stripped_input.txt\", 'r')\n",
    "\n",
    "exons = []\n",
    "\n",
    "for line in open(\"exons.txt\", 'r'):\n",
    "    line = line.rstrip()\n",
    "    elements = line.split(',')\n",
    "    start = int(elements[0])\n",
    "    end = int(elements[1])\n",
    "    sequence = datafile.readline().rstrip()\n",
    "    exons.append(sequence[start:end+1])\n",
    "\n",
    "datafile.close()\n",
    "\n",
    "print(''.join(exons), file=open(\"exons_out.txt\", 'w'))"
   ]
  }
 ],
 "metadata": {
  "kernelspec": {
   "display_name": "Python 3",
   "language": "python",
   "name": "python3"
  },
  "language_info": {
   "codemirror_mode": {
    "name": "ipython",
    "version": 3
   },
   "file_extension": ".py",
   "mimetype": "text/x-python",
   "name": "python",
   "nbconvert_exporter": "python",
   "pygments_lexer": "ipython3",
   "version": "3.6.0"
  }
 },
 "nbformat": 4,
 "nbformat_minor": 0
}

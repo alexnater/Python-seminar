{
 "cells": [
  {
   "cell_type": "markdown",
   "metadata": {},
   "source": [
    "<div align=right>\n",
    "<img src=\"img/logosmall.png\" width=\"100px\" align=right>\n",
    "</div>"
   ]
  },
  {
   "cell_type": "markdown",
   "metadata": {},
   "source": [
    "# Working with Jupyter Notebooks"
   ]
  },
  {
   "cell_type": "markdown",
   "metadata": {},
   "source": [
    "This course consists of a series of [Jupyter Notebooks](http://jupyter.org). A Jupyter Notebook is an interactive web page that mixes text-based documentation with a live Python programming environment.  This combination makes for an excellent teaching environment.\n",
    "\n",
    "You're reading a Jupyter Notebook right now!\n",
    "\n",
    ">A note on terminology&hellip;\n",
    "\n",
    ">The open source project responsible for Jupyter Notebooks was previously known as \"IPython\".  Because I'm old and forgetful, I may refer interchangeably to *IPython Notebooks* or *Jupyter Notebooks*.  It's the same thing."
   ]
  },
  {
   "cell_type": "markdown",
   "metadata": {},
   "source": [
    "## Technical background\n",
    "\n",
    "A Jupyter Notebook consists of two things:\n",
    "\n",
    "1. A back-end process that handles the execusion of your code.  This is called a \"kernel\".\n",
    "2. The interactive web front-end you're looking at right now.\n",
    "\n",
    "The kernel need not be running on the same computer as the one displaying the web page, though it can be (and in our case here in this course, it is).\n",
    "\n",
    "Jupyter supports many different language kernels, including:\n",
    "\n",
    "* Languagues used in science, such as Python (both Python 2 and Python 3), Julia, and R.\n",
    "* General-purpose programming languages like Haskell and Scheme.\n",
    "* Shell programming languages like Bash.\n",
    "\n",
    ">The name \"Jupyter\" is a contraction of \"Julia, Python and R\"!\n",
    "\n",
    "Additional kernels need to be installed before they can be used.  For this course, we will use the Python 3 kernel exclusively.\n",
    "\n",
    "Every Notebook is associated with one kernel.  You can see the name of the current Notebook's kernel in the top right-hand corner of the page.  If you look there you should see \"Python 3\" and just above it, the Python logo."
   ]
  },
  {
   "cell_type": "markdown",
   "metadata": {},
   "source": [
    "## Cells\n",
    "\n",
    "A Jupyter Notebook consists of a series of *cells*.  These cells are not unlike those in a spreadsheet, except &mdash; unlike a spreadsheet &mdash; a Jupyter Notebook only has one column of them."
   ]
  },
  {
   "cell_type": "markdown",
   "metadata": {},
   "source": [
    "<div id=\"nav\" class=\"alert alert-danger\">\n",
    "<p>If you accidentally double-click on a cell with the mouse, it'll change appearance and will be surrounded by a green border.  **Don't panic!**\n",
    "<p>All you've done is place the cell in *edit mode*.  Just click somewhere outside the cell and continue with the tutorial &mdash; you'll find out how to fix the problem soon."
   ]
  },
  {
   "cell_type": "markdown",
   "metadata": {},
   "source": [
    "## The active cell\n",
    "\n",
    "One of the cells is the *active cell*, indicated by a light grey box around it, with a blue border to the left.  In this course we'll refer to this blue-and-grey box as the *highlight*, the *cursor* or even just *the box*.  You can move the highlight up and down using the arrow keys.\n",
    "\n",
    "Try it now!\n",
    "\n",
    "You can also move the highlight using the `j` and `k` keys.  `j` moves down, and `k` moves up.  Experienced touch typists my prefer to use these movement keys, as they are right under your fingers when your hand is in the default rest position on the keyboard.\n",
    "\n",
    "Another way of moving the higlight is by single-clicking on a cell with the mouse.  This is particularly useful if the highlight has scrolled off the screen."
   ]
  },
  {
   "cell_type": "markdown",
   "metadata": {},
   "source": [
    "<div id=\"nav\" class=\"alert alert-danger\">\n",
    "If you're using the mouse, be careful not to double-click, since that will put the cell into edit mode.  Don't worry if that does happen; just click somewhere else.  We'll soon discuss how to fix things if you've accidentally put a cell in edit mode."
   ]
  },
  {
   "cell_type": "markdown",
   "metadata": {},
   "source": [
    "## Text cells and code cells\n",
    "\n",
    "The cell you're currently reading contains text. But others &mdash; like the one *just below* \n",
    "the one you're reading &mdash; contain some program **code**.  We'll refer to such cells as *code cells* or *interactive cells*.\n",
    "\n",
    "Why \"interactive\"?  Well, that's where the magic of Jupyter Notebooks comes in:  Code cells not only contain program code, they also allow you to *run* (or *execute*) that code in-place and see the result.  The code will be executed by the language *kernel* associated with the Notebook.  In our case:  Python 3.\n",
    "\n",
    "During this course we'll make a lot of use of the ability to run code right in these Notebooks.  Not only does that save us the hassle of typing in reams of code from a set of notes, but it means we can experiment with the code in real time &mdash; tweak it and see how it affects the result of our programs!"
   ]
  },
  {
   "cell_type": "code",
   "execution_count": 1,
   "metadata": {
    "collapsed": true
   },
   "outputs": [],
   "source": [
    "# This cell contains some Python code that does nothing!"
   ]
  },
  {
   "cell_type": "markdown",
   "metadata": {},
   "source": [
    "You'll note that code cells look different to text cells:  They have a light grey background, and to the left of them there's a leader that looks like this:\n",
    "\n",
    "    In [ ]:"
   ]
  },
  {
   "cell_type": "markdown",
   "metadata": {},
   "source": [
    "## Running Python code in an code cell\n",
    "\n",
    "The time has come to run our first Python program!  A very short and simple program, true, but a program nonetheless!\n",
    "\n",
    "* Move the highlight down to the code cell just below this bulleted list&hellip;\n",
    "* Press `Shift-Enter` to run it!\n",
    "* If everything works, it should print the sentence \"`Hello World!`\" just below the code cell.\n",
    "* (The highlight will also automatically move to the next cell below.)"
   ]
  },
  {
   "cell_type": "code",
   "execution_count": 5,
   "metadata": {},
   "outputs": [
    {
     "name": "stdout",
     "output_type": "stream",
     "text": [
      "Hello Alex!\n"
     ]
    },
    {
     "data": {
      "text/plain": [
       "[1, 2, 3, 4]"
      ]
     },
     "execution_count": 5,
     "metadata": {},
     "output_type": "execute_result"
    }
   ],
   "source": [
    "print(\"Hello Alex!\")\n",
    "a= [1,2,3,4]\n",
    "a"
   ]
  },
  {
   "cell_type": "markdown",
   "metadata": {},
   "source": [
    "*Did it work?!*\n",
    "\n",
    "If not, try again, making sure that the cursor is on the code cell above when you hit `Shift-Enter`.\n",
    "\n",
    "Note that after you've run a particular code cell, a number appears in the square brackets to the left of it, for example:\n",
    "\n",
    "    In [3]:\n",
    "    \n",
    "(The number simply indicates the sequence in which code cells in the current Notebook have been executed. So for instance, the third one to be executed will be tagged with `3`.)\n",
    "\n",
    "An alternative way of running a code cell is by highlighting it with the cursor and clicking the \"Run\" icon [⏯] on the toolbar at the top of this browser window.\n",
    "\n",
    "Let's try running another short Python program using the \"Run\" button:\n",
    "\n",
    "* Move the highlight to the code cell below this bulleted list&hellip;\n",
    "* Hit the Run [⏯] button on the toolbar above!"
   ]
  },
  {
   "cell_type": "code",
   "execution_count": 6,
   "metadata": {},
   "outputs": [
    {
     "name": "stdout",
     "output_type": "stream",
     "text": [
      "4\n"
     ]
    }
   ],
   "source": [
    "print(2 + 2)"
   ]
  },
  {
   "cell_type": "markdown",
   "metadata": {},
   "source": [
    "This time, Python actually did a little calculation for us!  It calculated the value of `2 + 2` and printed the result to the screen.  Neat!"
   ]
  },
  {
   "cell_type": "markdown",
   "metadata": {},
   "source": [
    "## Edit mode"
   ]
  },
  {
   "cell_type": "markdown",
   "metadata": {},
   "source": [
    "<div id=\"nav\" class=\"alert alert-danger\">\n",
    "**Caution:** Preferably read this whole section before hitting `Enter`!\n",
    "</div>\n",
    "\n",
    "If you press `Enter`, the active cell (the one currently surrounded by the grey highlight with the blue border) switches to *edit mode*, where you can edit its contents.  If a cell is in edit mode, it is surrounded by *light green box*.\n",
    "\n",
    "To go from edit mode (green box highlight) back to normal view mode (grey box highlight), press the `Esc` key.\n",
    "\n",
    "You can also put a cell in edit mode by *double-clicking* it with the mouse.  You can exit edit mode by clicking elsewhere in the Notebook.\n",
    "\n",
    "In this course we'll often use edit mode to edit the contents of code cells.  Let's do it now to edit the code cell below this text:\n",
    "\n",
    "* Move the highlight to the code cell below this bulleted list&hellip;\n",
    "* Press `Enter`\n",
    "  - The cell should now have a green border, and a flashing cursor should have appeared in it.\n",
    "* Edit the cell &mdash; for instance, try changing the numbers in the mathematical expression.\n",
    "* Press `Esc` when you've finished editing to return to normal view mode.\n",
    "* Press `Shift-Enter` to run the code cell and print the result of the expression."
   ]
  },
  {
   "cell_type": "code",
   "execution_count": 8,
   "metadata": {},
   "outputs": [
    {
     "name": "stdout",
     "output_type": "stream",
     "text": [
      "24\n"
     ]
    }
   ],
   "source": [
    "print((5 + 3) * 3)"
   ]
  },
  {
   "cell_type": "markdown",
   "metadata": {},
   "source": [
    "* Now move the highlight back to the code cell above.\n",
    "* Hit `Enter` again to re-enter edit mode, and change the equation.\n",
    "* Hit `Shift-Enter` to run the code cell with the new values.\n",
    "\n",
    "Did you notice that you don't actually *have* to press `Esc` first to go back to view mode before running a code cell?  You can simply press `Shift-Enter` while in edit mode, and the contents of the cell will run.\n",
    "\n",
    "One more thing:  You may have noticed that when you press `Shift-Enter` it runs the contents of the code cell under the cursor, and then moves the cursor highlight to the cell right below it.  There's also a different keyboard shortcut to run the contents of a code cell:  `Ctrl-Enter`.  The only difference is that `Ctrl-Enter` keeps the highlight on the code cell after it had run, and doesn't move it to the next cell below."
   ]
  },
  {
   "cell_type": "markdown",
   "metadata": {},
   "source": [
    "<div id=\"nav\" class=\"alert alert-danger\">\n",
    "**What if I accidentally press `Enter` on a text cell or double-click it?**\n",
    "\n",
    "First of all, *don't panic!*  Just like code cells, text cells can be put into edit mode.  If you accidentally put a text cell in edit mode (after all, `Enter` is easy to hit!) or double-click it with the mouse, you can hit `Shift-Enter` or `Ctrl-Enter` to *render* the text again.\n",
    "\n",
    "Basically, for a code cell, `Shift-Enter` or `Ctrl-Enter` means \"run the code\".  For a text cell, these same keys mean \"render the text\".\n",
    "</div>\n",
    "<div id=\"nav\" class=\"alert alert-success\">\n",
    "If you read the whole section before daring to press `Enter`, then go back to do the exercises in the middle of it now!"
   ]
  },
  {
   "cell_type": "markdown",
   "metadata": {},
   "source": [
    "### Keyboard and mouse shortcuts (so far)"
   ]
  },
  {
   "cell_type": "markdown",
   "metadata": {},
   "source": [
    "**Key**                       |**Effect**\n",
    "------------------------------|---------------------------------------------\n",
    "⬆ or `k`                     |Move highlight up\n",
    "⬇ or `j`                     |Move highlight down\n",
    "`Enter`                       |Put active cell in edit mode\n",
    "`Esc`                         |Exit edit mode\n",
    "`Ctrl-Enter` (on a code cell) |Evaluate code in cell\n",
    "`Ctrl-Enter` (on a text cell) |Render text in cell \n",
    "`Shift-Enter` (on a code cell)|Evaluate code in cell and move highlight down\n",
    "`Shift-Enter` (on a text cell)|Render text in cell and move highlight down\n",
    "Single left-click (mouse)     |Make cell under mouse pointer active\n",
    "Double left-click (mouse)     |Put cell under mouse pointer in edit mode"
   ]
  },
  {
   "cell_type": "markdown",
   "metadata": {},
   "source": [
    "## Adding a code cell\n",
    "\n",
    "At any point you should feel free to add an interactive cell for your own experimentation.\n",
    "\n",
    "The easiest to remember is to click the [➕] button on the toolbar to add a new code cell below the current cell.  Alternatively, you can press the ‘`b`’ key to add a code cell **b**elow the current cell.\n",
    "\n",
    "You can also use ‘`a`’ to add a new cell **a**bove the current cell."
   ]
  },
  {
   "cell_type": "markdown",
   "metadata": {},
   "source": []
  },
  {
   "cell_type": "markdown",
   "metadata": {},
   "source": [
    "## Adding a text cell\n",
    "\n",
    "By default, a new cell added by the [➕] button or the `b` key is a code cell.  To change a code cell to a text cell, select \"Markdown\" from the cell type drop-down box on the toolbar.  (It defaults to \"Code\".)\n",
    "\n",
    "Another way of changing a cell to a text cell is by pressing ‘`m`’ (for **M**arkdown) while the cell is selected but *not* in edit mode.  You can also press ‘`y`’ to change a text cell back to a code cell.\n",
    "\n",
    "Markdown is an extrenely simple text markup language.  We're not going to discuss it in detail; If you wish, you can put any text cell in edit mode to see how it was formatted.\n",
    "\n",
    ">Those who are really interested can have a look at the [Markdown syntax specification](https://daringfireball.net/projects/markdown/syntax)."
   ]
  },
  {
   "cell_type": "markdown",
   "metadata": {},
   "source": [
    "## Saving your work\n",
    "\n",
    "In general, you don't have to worry about saving your progress in a\n",
    "Jupyter Notebook, since it saves automatically at regular intervals. However, you can force the Notebook to save a checkpoint by pressing the `s` key when *not* in edit mode, or by clicking the \"Save\" icon [💾] in the toolbar above.\n",
    "\n",
    "Pressing ‘`s`’ while *not* in edit mode will also save the Notebook."
   ]
  },
  {
   "cell_type": "markdown",
   "metadata": {},
   "source": [
    "## The Notebook Dashboard\n",
    "\n",
    "The *Notebook Dashboard* is the page you saw when you first started Jupyter.  It's probably still open right now, very probably in another tab in your browser.  (It has the title \"Home\".)\n",
    "\n",
    "The Dashboard looks and acts a bit like a file manager.  You can see all the files and subdirectories in the current directory, and navigate among them.  You can start a Notebook (`*.ipynb` file) in a new tab by simply clicking on it.\n",
    "\n",
    "The Dashboard also allows you to manage running kernels, and more&hellip;\n",
    "\n",
    "You can create a new Notebook by using the *New* dropdown in the top right corner.\n",
    "\n",
    "If you're working on a remote kernel, you can upload a file (typically a data file) by using the *Upload* button in the top right corner.\n",
    "\n",
    "If you close the tab containing the Dashboard (whether accidentally or on purpose), you can reopen it by going to any active Notebook, clicking the *File* menu, and selecting *Open&hellip;*"
   ]
  },
  {
   "cell_type": "markdown",
   "metadata": {},
   "source": [
    "## Shell commands\n",
    "\n",
    "You can execute a shell command in a code cell by prepending an exclamation mark (`'!'`).  This works on both Unix-derived systems (e.g. Linux or macOS) and on Windows&hellip; though of course the actual commands differ between Unix-like systems and Windows.\n",
    "\n",
    "To see the contents of the current directory (of the kernel process) on a Unix-like computer, execute the following cell:"
   ]
  },
  {
   "cell_type": "code",
   "execution_count": 6,
   "metadata": {},
   "outputs": [
    {
     "name": "stdout",
     "output_type": "stream",
     "text": [
      "\u001b[31mAbout Python.ipynb\u001b[m\u001b[m\r\n",
      "\u001b[31mAnaconda.ipynb\u001b[m\u001b[m\r\n",
      "\u001b[31mConditions.ipynb\u001b[m\u001b[m\r\n",
      "\u001b[31mCourse outline 2016.opml\u001b[m\u001b[m\r\n",
      "\u001b[31mFunctional Python.ipynb\u001b[m\u001b[m\r\n",
      "\u001b[31mFunctions.ipynb\u001b[m\u001b[m\r\n",
      "\u001b[31mLists and loops.ipynb\u001b[m\u001b[m\r\n",
      "\u001b[31mObject-oriented Python.ipynb\u001b[m\u001b[m\r\n",
      "\u001b[31mReading and writing files.ipynb\u001b[m\u001b[m\r\n",
      "\u001b[31mRegular expressions.ipynb\u001b[m\u001b[m\r\n",
      "\u001b[31mStandard library.ipynb\u001b[m\u001b[m\r\n",
      "\u001b[31mString formatting, sets and exceptions.ipynb\u001b[m\u001b[m\r\n",
      "\u001b[31mThird party modules.ipynb\u001b[m\u001b[m\r\n",
      "\u001b[31mTuples and dictionaries.ipynb\u001b[m\u001b[m\r\n",
      "\u001b[31mUsing Jupyter.ipynb\u001b[m\u001b[m\r\n",
      "\u001b[31mWorking with text and numbers.ipynb\u001b[m\u001b[m\r\n",
      "\u001b[31m_Index.ipynb\u001b[m\u001b[m\r\n",
      "\u001b[34mfiles\u001b[m\u001b[m\r\n",
      "\u001b[34mimg\u001b[m\u001b[m\r\n",
      "\u001b[31mtypeKind.ipynb\u001b[m\u001b[m\r\n"
     ]
    }
   ],
   "source": [
    "!ls"
   ]
  },
  {
   "cell_type": "markdown",
   "metadata": {},
   "source": [
    "To see the contents of the current directory on a Windows computer, execute this cell instead:"
   ]
  },
  {
   "cell_type": "code",
   "execution_count": null,
   "metadata": {
    "collapsed": true
   },
   "outputs": [],
   "source": [
    "!dir"
   ]
  },
  {
   "cell_type": "markdown",
   "metadata": {},
   "source": [
    "## Magic!\n",
    "\n",
    "Occasionally we'll enter a so-called *magic command* in a code cell.  A magic command is a command that's interpreted by the Jupyter system, and not passed along to the underlying programming language kernels.  Magic commands can be used to configure Jupyter, or query it about its current setup.\n",
    "\n",
    "Magic commands usually start with s special character:\n",
    "\n",
    "* A single percentage sign (`'%'`) starts a *line magic* — something that's only applicable to the current line.\n",
    "\n",
    "* A double percentage sign (`%%`) starts a *cell magic* — something that's applicable to the entire code cell.\n",
    "\n",
    "One cell magic we'll use a couple of times in this course is `%%bash` (on Unix-like computers) or `%%cmd` (on Windows computers).  This cell magic executes the contents of the cell *not* using the underlying Python kernel, but using the system's command shell.\n",
    "\n",
    "For instance, to get a lists of packages installed by `conda` on a Unix-like system, you can execute this cell:"
   ]
  },
  {
   "cell_type": "code",
   "execution_count": null,
   "metadata": {
    "collapsed": true
   },
   "outputs": [],
   "source": [
    "%%bash\n",
    "conda list"
   ]
  },
  {
   "cell_type": "markdown",
   "metadata": {},
   "source": [
    "To similarly get a list of `conda`-installed packages on a Windows computer, you can execute this cell:"
   ]
  },
  {
   "cell_type": "code",
   "execution_count": null,
   "metadata": {
    "collapsed": true
   },
   "outputs": [],
   "source": [
    "%%cmd\n",
    "conda list"
   ]
  },
  {
   "cell_type": "markdown",
   "metadata": {},
   "source": [
    "For those interested, you can get a good overview of magic commands by executing the following cell.  Note that this will open a separate help window within the current tab:"
   ]
  },
  {
   "cell_type": "code",
   "execution_count": 5,
   "metadata": {
    "collapsed": true
   },
   "outputs": [],
   "source": [
    "%magic"
   ]
  },
  {
   "cell_type": "markdown",
   "metadata": {},
   "source": [
    "## The *Terminal* window\n",
    "\n",
    "On Unix-like computers (for our purposes, Linux or Mac OS X), you can create a terminal windows *in Jupyter* if you need to work at the shell prompt interactively.\n",
    "\n",
    "Go to the Notebook Dashboard (the tab labeled \"Home\"), click the *New* dropdown in the top right corner, and select *Terminal*.\n",
    "\n",
    "A shell terminal should open up in a new browser tab.\n",
    "\n",
    ">This functionality unfortunately doesn't exist for Windows computers."
   ]
  },
  {
   "cell_type": "markdown",
   "metadata": {},
   "source": [
    "## Getting help on the Jupyter interface\n",
    "\n",
    "That ought to be enough to get by on&hellip; for now. But there's a lot more you can do with Jupyter Notebooks.\n",
    "\n",
    "To get an overview of the keyboard shortcuts available, hit the ‘`h`’ key while *not* in edit mode to get a list of keyboard shortcuts. You can also access this same list of shortcuts, as well as a user interface tour, from the Help menu in the menu bar above.\n",
    "\n",
    "Try hitting ‘`h`’ now!\n",
    "\n",
    "(You can use `Esc` to exit from the list of shortcuts, or just click the provided \"Close\" button.)"
   ]
  },
  {
   "cell_type": "markdown",
   "metadata": {},
   "source": [
    "# Time to get started!\n",
    "\n",
    "You should now be familiar enough with the Jupyter Notebook user interface to be able to follow along in this course. So, without any further ado, let's get started&hellip;"
   ]
  },
  {
   "cell_type": "markdown",
   "metadata": {},
   "source": [
    "---"
   ]
  }
 ],
 "metadata": {
  "kernelspec": {
   "display_name": "Python 3",
   "language": "python",
   "name": "python3"
  },
  "language_info": {
   "codemirror_mode": {
    "name": "ipython",
    "version": 3
   },
   "file_extension": ".py",
   "mimetype": "text/x-python",
   "name": "python",
   "nbconvert_exporter": "python",
   "pygments_lexer": "ipython3",
   "version": "3.6.1"
  }
 },
 "nbformat": 4,
 "nbformat_minor": 1
}

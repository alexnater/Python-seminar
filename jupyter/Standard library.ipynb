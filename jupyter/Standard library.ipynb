{
 "cells": [
  {
   "cell_type": "markdown",
   "metadata": {},
   "source": [
    "<div align=right>\n",
    "<img src=\"img/logosmall.png\" width=\"100px\" align=right>\n",
    "</div>"
   ]
  },
  {
   "cell_type": "markdown",
   "metadata": {},
   "source": [
    "# The Python standard library"
   ]
  },
  {
   "cell_type": "markdown",
   "metadata": {},
   "source": [
    "<div class=\"alert alert-warning\">\n",
    "Parts of this section have been adapted from copyrighted material in *Model, ML:\n",
    "Bioinformatics Programming using Python (2009)*.\n",
    "\n",
    "**Please do not distribute it!**"
   ]
  },
  {
   "cell_type": "markdown",
   "metadata": {},
   "source": [
    "The Python *standard library* is — as we've seen before — a collection of Python modules that are distributed along with the Python interpreter.  Hence they are, in every sense of the word, *standard* — you can rely on them being available wherever Python is installed.\n",
    "\n",
    "Apart from being standard, they are also of uniformly good quality, undergoing the same stringent design criteria as Python itself.  You could say that they come with a \"seal of approval\".\n",
    "\n",
    "The standard library covers a lot of fields of endeavour, with the proviso that they must be of *general* interest.  So we're unlikely to encounter anything in the standard library that will parse a bioinformatics-specific file format like BAM or VCF, but we *are* likely to find tools to work with file formats of general interest like HTML, XML, CSV, etc.\n",
    "\n",
    "That said, the standard library contains an astonishingly broad and useful collection of modules, and it's time we take a look at some of them.\n",
    "\n",
    "We've already encountered a couple of standard library modules throughout this course — modules like `random` and `math`.  Basically, almost every time we've used the `import` statement to date, we've called upon a standard library module.\n",
    "\n",
    "The standard library modules covered in this Notebook are not in any sense special or unusual;  they've been picked semi-randomly as examples of things that might be useful in our field.  You're strongly encouraged to spend a good while looking at the standard library documentation go get an idea of what else might lurk in there that could be very useful to you!"
   ]
  },
  {
   "cell_type": "markdown",
   "metadata": {},
   "source": [
    "## The standard library documentation"
   ]
  },
  {
   "cell_type": "markdown",
   "metadata": {},
   "source": [
    "Like the rest of the Python distribution, the standard library is documented exhaustively.  Python provides a number of different ways of getting at this documentation.\n",
    "\n",
    "If you remember nothing else, remember this URL:\n",
    "\n",
    "<http://docs.python.org>\n",
    "\n",
    "Once you arrive at the Python documentation home, make sure that you're viewing the documentation for the right version of Python.  As of this writing, you'll be automatically redirected to documentation for the latest version of Python 3, but you can change this with the drop-down box at the top left of the page.\n",
    "\n",
    "At the top right of the page, you'll see the word [modules](https://docs.python.org/3/py-modindex.html).  Click it, and you'll be taken straight to the standard library *module index*.  Here's the exact URL for the Python 3 module index:\n",
    "\n",
    "<https://docs.python.org/3/py-modindex.html>"
   ]
  },
  {
   "cell_type": "markdown",
   "metadata": {},
   "source": [
    "# `datetime` — working with dates and times"
   ]
  },
  {
   "cell_type": "markdown",
   "metadata": {},
   "source": [
    "The `datetime` module defines classes that represent a date, a time, a combination of date and time, and a couple of others. It also defines some basic ways of manipulating instances of these classes.\n",
    "\n",
    "The official documentation for the `datetime` module can be found here:\n",
    "\n",
    "<https://docs.python.org/3/library/datetime.html>\n",
    "\n",
    ">Let's take a step back and consider why dates and times are an ideal candidate for including in the standard library:\n",
    "\n",
    ">Date- or time-related information is something every programmer has to manipulate from time to time (pun intended).  While everyone *understands* how dates and times work, such manipulations still remain painful due to the non-decimal nature of our timekeeping system.\n",
    "\n",
    ">Because date and time manipulations are *widely required* and yet *non-trivial* enough to be annoying, they're typically the sort of thing you'd expect Python to include in its standard library."
   ]
  },
  {
   "cell_type": "markdown",
   "metadata": {},
   "source": [
    "## Classes"
   ]
  },
  {
   "cell_type": "markdown",
   "metadata": {},
   "source": [
    "The `datetime` module defines several classes. Their representations are simple, consisting only of several fields which have primitive types. This allows them to define `__repr__` methods that print exactly what you would enter to create one. You’ll see such output when you enter into the interpreter an expression whose value is an instance of one of these classes. They also define `__str__` methods for the more human-oriented output used by print.  Among the classes defined in `datetime` are:\n",
    "\n",
    "`datetime.date`\n",
    "* Represents a date with attributes year, month, and day\n",
    "\n",
    "`datetime.time`\n",
    "* Represents a time with attributes hour, minute, second, microsecond, and tzinfo (time zone information)\n",
    "\n",
    "`datetime.datetime`\n",
    "* Represents a combination of date and time with the attributes of each\n",
    "\n",
    "`datetime.timedelta`\n",
    "* Represents the difference between two dates, two times, or two datetimes, with attributes days, seconds, and microseconds\n",
    "\n",
    "`datetime.tzinfo` and `datetime.timezone`\n",
    "* Represents time zone information\n",
    "\n",
    ">Time zones are messy and complicated, and we'll ignore them here.\n",
    "\n",
    "Instances of the classes in this module are *immutable*. There are methods to create one instance based on the values of another’s attributes, but once an instance is created its attribute values cannot be changed."
   ]
  },
  {
   "cell_type": "markdown",
   "metadata": {},
   "source": [
    "## Instance creation"
   ]
  },
  {
   "cell_type": "markdown",
   "metadata": {},
   "source": [
    "As we should know by now, we have to `import` a module before we can use it in our code:"
   ]
  },
  {
   "cell_type": "code",
   "execution_count": 2,
   "metadata": {
    "collapsed": true
   },
   "outputs": [],
   "source": [
    "import datetime"
   ]
  },
  {
   "cell_type": "markdown",
   "metadata": {},
   "source": [
    "Thereafter, instances of classes in the `datetime` module are created using the standard calling syntax.  Let's look at some of them:\n",
    "\n",
    "\n",
    "Create a variable to represent your birthday using `datetime.date`.\n",
    "\n",
    ">First take a note of *my* birthday in the default example below, so that you can send me a card next year."
   ]
  },
  {
   "cell_type": "code",
   "execution_count": 3,
   "metadata": {},
   "outputs": [
    {
     "name": "stdout",
     "output_type": "stream",
     "text": [
      "My birthday is on 1970-01-22\n"
     ]
    }
   ],
   "source": [
    "# The syntax is:\n",
    "# datetime.date(year, month, day)\n",
    "\n",
    "my_birthday = datetime.date(1970, 1, 22)\n",
    "print(\"My birthday is on\", my_birthday)"
   ]
  },
  {
   "cell_type": "markdown",
   "metadata": {},
   "source": [
    "Note that the *default* text representation of a `datetime.date` object (as returned by its `__str__()` method) will differ based on how your computer is configured to represent dates.  My computer is set up to use the ISO `YYYY-MM-DD` representation, but yours may differ.  We'll see later in this section how to enforce a specific representation.\n",
    "\n",
    "`datetime.time` can be used to create an object that represents a certain time of day without any date information.  Note that in the meta-syntax that's generally used to give the syntax of the instantiation call, square brackets denote an optional argument.  Thus, the following syntax, means we can create a `datetime.date` object with arbitrary precision, down to microseconds:"
   ]
  },
  {
   "cell_type": "code",
   "execution_count": 4,
   "metadata": {},
   "outputs": [
    {
     "name": "stdout",
     "output_type": "stream",
     "text": [
      "Noon is 12:00:00\n",
      "Lunch is at 14:30:00\n"
     ]
    }
   ],
   "source": [
    "# datetime.time(hour[, minute[, second[, microsecond[, tzinfo]]]])\n",
    "\n",
    "noon = datetime.time(12)       # hour only\n",
    "lunch = datetime.time(14, 30)  # hour and minutes\n",
    "\n",
    "print(\"Noon is\", noon)\n",
    "print(\"Lunch is at\", lunch)"
   ]
  },
  {
   "cell_type": "markdown",
   "metadata": {},
   "source": [
    "    datetime.datetime(year, month, day[, hour[, minute[, second[, microsecond[, tzinfo]]]]])\n",
    "    \n",
    "    datetime.timedelta([days[, seconds[, microseconds[, milliseconds[, minutes[, hours[, weeks]]]]]]])\n",
    "\n",
    "The classes also provide methods to create instances based on the current date and/or time:"
   ]
  },
  {
   "cell_type": "code",
   "execution_count": 5,
   "metadata": {},
   "outputs": [
    {
     "name": "stdout",
     "output_type": "stream",
     "text": [
      "The date today is 2017-03-09\n",
      "The time right now: 2017-03-09 20:21:43.238478\n"
     ]
    }
   ],
   "source": [
    "# datetime.date.today()\n",
    "\n",
    "print(\"The date today is\", datetime.date.today())\n",
    "\n",
    "# datetime.datetime.now([tz])\n",
    "\n",
    "print(\"The time right now:\", datetime.datetime.now())\n",
    "\n",
    "# datetime.datetime.combine(date, time)"
   ]
  },
  {
   "cell_type": "markdown",
   "metadata": {},
   "source": [
    "    \n",
    "That last one returns a `datetime` with the date portion taken from `date` and the time portion taken from `time`"
   ]
  },
  {
   "cell_type": "markdown",
   "metadata": {},
   "source": [
    "Instances of the various `datatime` classes have methods which can create new instances — sometimes of the same class as the original instance, and sometimes of a different `datetime` class:\n",
    "\n",
    "`my_date.replace(year, month, day)`\n",
    "* Returns a new `datetime.date` with the same attribute values as `my_date`, except for those for which new values are specified (usually as keyword arguments)\n",
    "\n",
    "`my_time.replace([hour[, minute[, second[, microsecond]]]])`\n",
    "* Returns a new `datetime.time` with the same attribute values as `my_time`, except for those given new values by whichever keyword arguments are specified\n",
    "\n",
    "`my_date.date()`\n",
    "* Returns a new `datetime.date` with the day, month, and year of `my_date`\n",
    "\n",
    "`my_time.time()`\n",
    "* Returns a new `datetime.time` with the hour, minute, second, and microsecond of `my_time`\n",
    "\n",
    "`my_datetime.replace([year[, month[, day[, hour[, minute[, second[, microsecond]]]]]]])`\n",
    "* Returns a new `datetime.datetime` with the same attribute values as `my_datetime`, except for those given new values by whichever keyword arguments are specified"
   ]
  },
  {
   "cell_type": "markdown",
   "metadata": {},
   "source": [
    "## Operations"
   ]
  },
  {
   "cell_type": "markdown",
   "metadata": {},
   "source": [
    "A number of arithmetic and comparison operators are overloaded to work with instances of the various `datetime` classes.  For instance, here are some of the arithmetic operations supported by instances of `datetime.date`:\n",
    "\n",
    "\n",
    "| Operation | Result |\n",
    "|-----------|--------|\n",
    "| `date1 + timedelta1` | `date` + `timedelta.days` |\n",
    "| `date1 - timedelta1` | `date1 - timedelta1.days` |\n",
    "| `date1 - date2` | a `timedelta` |\n",
    "| `date1 < date2` | `True` if `date1` is earlier than `date2` |\n",
    "\n",
    "The other comparison operators work as you'd expect.\n",
    "\n",
    "The same operations are supported by instances of `datetime.datetime` with equivalent interpretations. However, only comparison operations supported are supported by `datetime.time`.  As always, refer to the module documentation for the details!\n",
    "\n",
    "Here are some of the operations that can be performed with instances of `datetime.timedelta`.\n",
    "\n",
    "| Operation | Result |\n",
    "|-----------|--------|\n",
    "| `t1 + t2` | sum |\n",
    "| `t1 - t2` | difference |\n",
    "| `t1 * i`, `i * t1` | product of `t1` and integer `i` |\n",
    "| `t1 // i` | floor division, as with numbers |\n",
    "| `-t1` | a new `timedelta` whose attribute values are the negation of `t1`’s\n",
    "| `abs(t1)` | a copy of `t1`, except that a negative value of `days` is made positive\n",
    "| `==`, `!=`, `<`, `<=`, `>`, `>=` | the usual comparisons |\n",
    "\n",
    "And once again, refer to the documentation for further details."
   ]
  },
  {
   "cell_type": "markdown",
   "metadata": {},
   "source": [
    "## Methods"
   ]
  },
  {
   "cell_type": "markdown",
   "metadata": {},
   "source": [
    "In addition to being able to access the attributes of instances of `datetime` classes (e.g. `day`, `month`, `year`, …) using the usual dot notation, thse classes also define some useful methods.  (There are many more; refer to the documentation!)\n",
    "\n",
    "`my_date.isoweekday()`\n",
    "* Returns the day of the week of `my_date` as an integer, with Monday = 1\n",
    "\n",
    "`my_date.isocalendar()`\n",
    "* Returns a tuple of `my_date`’s values with the following elements: (ISO year, ISO week number, ISO weekday)\n",
    "\n",
    "`my_date.isoformat([sep])`\n",
    "* Returns a string representing `my_date` in the ISO standard format: `YYYY-MM-DD`\n",
    "\n",
    "`my_time.isoformat([sep])`\n",
    "* Returns a string representing `my_time` in the ISO standard format: `HH:MM:SS.mmmmmm`, omitting the microseconds if 0\n",
    "\n",
    "`my_datetime.isoweekday()`\n",
    "* Returns the day of the week of `my_datetime` as an integer, with Monday = 1\n",
    "\n",
    "`my_datetime.isocalendar()`\n",
    "* Returns a tuple of `my_datetime`’s values with the following elements: (ISO year, ISO week number, ISO weekday)\n",
    "\n",
    "`my_datetime.isoformat([sepchar])`\n",
    "* Returns a string representing my_datetime in the standard format: `YYYY-MM-DDsepcharHH:MM:SS.mmmmmm`, omitting the microseconds if 0; `sepchar` is an optional one-character string that separates the date and time portions of the string (`'T'`, if omitted)"
   ]
  },
  {
   "cell_type": "markdown",
   "metadata": {},
   "source": [
    "---"
   ]
  },
  {
   "cell_type": "markdown",
   "metadata": {},
   "source": [
    "## Exercises"
   ]
  },
  {
   "cell_type": "markdown",
   "metadata": {},
   "source": [
    "Do you remember where you were at midnight on 1 January 2000?  (If not, consider drinking less at parties.)\n",
    "\n",
    "Work out exactly how many seconds ago that was *right now*.\n",
    "\n",
    "> Hint: `datetime.timedelta` instances have a method `total_seconds()`"
   ]
  },
  {
   "cell_type": "code",
   "execution_count": null,
   "metadata": {},
   "outputs": [],
   "source": []
  },
  {
   "cell_type": "markdown",
   "metadata": {},
   "source": [
    "Create a `datetime.date` variable called `last_christmas` that stores the date of last Christmas, i.e. 25 December last year.  (Don't hard-code the year;  make sure it always contains the date of *last* Christmas.)\n",
    "\n",
    "Use `last_christmas` to create a `datetime.date` variable called `the_very_next_day` that stores the date of the day *after* last Christmas."
   ]
  },
  {
   "cell_type": "code",
   "execution_count": null,
   "metadata": {},
   "outputs": [],
   "source": [
    "# Your code goes here\n",
    "\n",
    "print(last_christmas, \", I gave you my heart\", sep = '')\n",
    "print(\"But\", the_very_next_day, \"you gave it away\")"
   ]
  },
  {
   "cell_type": "markdown",
   "metadata": {},
   "source": [
    "---"
   ]
  },
  {
   "cell_type": "markdown",
   "metadata": {},
   "source": [
    "# Files and the filesystem"
   ]
  },
  {
   "cell_type": "markdown",
   "metadata": {},
   "source": [
    "In this section we’ll look at some standard library modules for working with the files, and with the filesystem."
   ]
  },
  {
   "cell_type": "markdown",
   "metadata": {},
   "source": [
    "## `os` — operating system access"
   ]
  },
  {
   "cell_type": "markdown",
   "metadata": {},
   "source": [
    "The `os` module contains a few values that relate to the environment, but mostly, it provides operations for manipulating files and directories. It implements many low-level operations that you are unlikely to use, but it also contains some that you will use frequently.  After all, shuffling files and directories around is part of almost any data analysis workflow!\n",
    "\n",
    "The official documentation for the `os` module can be found here:\n",
    "\n",
    "<https://docs.python.org/3/library/os.html>\n",
    "\n",
    ">I'm not testing these Notebooks on a Windows computer as I write them.  I *think* all the examples in this section will work on Windows, but I can't guarantee that they will."
   ]
  },
  {
   "cell_type": "markdown",
   "metadata": {},
   "source": [
    "## Environment access"
   ]
  },
  {
   "cell_type": "markdown",
   "metadata": {},
   "source": [
    "The `os` module provides a few useful variables:\n",
    "\n",
    "`os.sep`\n",
    "\n",
    "* The string used to separate path components: forward slash(`'/'`) on UNIX-based systems and backslash (`r'\\'`) on Windows."
   ]
  },
  {
   "cell_type": "code",
   "execution_count": null,
   "metadata": {},
   "outputs": [],
   "source": [
    "import os\n",
    "\n",
    "print(\"The path separator on my system is: '\", os.sep, \"'\", sep='')"
   ]
  },
  {
   "cell_type": "markdown",
   "metadata": {},
   "source": [
    "`os.environ`\n",
    "* A dictionary containing the names and values of environment variables obtained from the operating system environment from which you started the Python interpreter.  (Note that a function `os.getenv()` also exists to extract the value of just a single environment variable.)"
   ]
  },
  {
   "cell_type": "code",
   "execution_count": null,
   "metadata": {},
   "outputs": [],
   "source": [
    "print(list(os.environ.keys()))"
   ]
  },
  {
   "cell_type": "code",
   "execution_count": null,
   "metadata": {},
   "outputs": [],
   "source": [
    "os.environ['PATH']"
   ]
  },
  {
   "cell_type": "markdown",
   "metadata": {},
   "source": [
    "## Managing files and directories"
   ]
  },
  {
   "cell_type": "markdown",
   "metadata": {},
   "source": [
    "`os` provides various functions that mimic the kinds of file and directory management commands available from the operating system command line — the shell prompt on Linux or OS X, or the command prompt on Windows.\n",
    "\n",
    ">Why would you want to use Python to manipulate files and directories rather than use a purpose-built tool like the shell (e.g. by writing a shell script)?  For several reasons, but among them:\n",
    "\n",
    ">* Writing all your code in a single language (in this case, Python) eliminates external dependencies and potential points of failure.\n",
    "* File and directory manipulation code written in Python works across platforms."
   ]
  },
  {
   "cell_type": "markdown",
   "metadata": {},
   "source": [
    "### Directories"
   ]
  },
  {
   "cell_type": "markdown",
   "metadata": {},
   "source": [
    "Common directory-related functions include:\n",
    "\n",
    "| Function | UNIX equivalent | use case |\n",
    "| ---------|-----------------|----------|\n",
    "| `os.getcwd()` | `pwd` | returns the current working directory |\n",
    "| `os.chdir(path)` | `cd` | makes `path` the working directory |\n",
    "| `os.mkdir(path)` | `mkdir` | creates a directory at `path` |\n",
    "| `os.mkdirs(path)` | `mkdir -p` | creates all the directories along `path` |\n",
    "| `os.rmdir(path)` | `rmdir` | removes the directory at `path` |\n",
    "| `os.removedirs(path)` | `rm -rf`| removes all the directories along `path` |\n",
    "\n",
    "When executed from a Notebook, `os.getcwd()` will show the directory where the Jupyter process is running:"
   ]
  },
  {
   "cell_type": "code",
   "execution_count": null,
   "metadata": {},
   "outputs": [],
   "source": [
    "os.getcwd()"
   ]
  },
  {
   "cell_type": "markdown",
   "metadata": {},
   "source": [
    "### Files"
   ]
  },
  {
   "cell_type": "markdown",
   "metadata": {},
   "source": [
    "Useful file-manipulation functions include the following:\n",
    "\n",
    "| Function | UNIX equivalent | use case |\n",
    "|-|-|-|\n",
    "| `os.remove(path)` | `rm path` | Removes the file specified by `path` |\n",
    "| `os.rename(src, dst)` | `mv src dst` | Renames the file at path `src` to `dst` |"
   ]
  },
  {
   "cell_type": "markdown",
   "metadata": {},
   "source": [
    "### Directory contents"
   ]
  },
  {
   "cell_type": "markdown",
   "metadata": {},
   "source": [
    "Some very useful functions in `os` deal with the contents of directories:\n",
    "\n",
    "`os.listdir(path)`\n",
    "\n",
    "This function simply returns a list of the names of the files and directories in the directory specified by its argument.  (Note that the list is ordered arbitrarily.)  Let's see the files present in the directory where Jupyter is running:"
   ]
  },
  {
   "cell_type": "code",
   "execution_count": null,
   "metadata": {},
   "outputs": [],
   "source": [
    "print(os.listdir('.'))"
   ]
  },
  {
   "cell_type": "markdown",
   "metadata": {},
   "source": [
    "`os.walk(path)`\n",
    "\n",
    "This function almost deserves a section of its own. Its purpose is to produce the names of all the files and directories at path and below.  (Somewhat equivalent to the UNIX `find` command.) For each directory encountered starting at path, it produces a tuple of the form:\n",
    "\n",
    "    (directory-path, subdirectory-names, filenames)\n",
    "    \n",
    "The directory-path in the tuple is a string indicating the path to the directory starting at the initial path argument. The two remaining elements of the tuple are lists; they contain directory names and filenames only, not full paths. The function has several optional parameters you can research in the documentation.\n",
    "\n",
    "The value returned by `os.walk` is an iterable with some interesting properties, that supports using it in the following way:  Each time around an iteration over the result of `os.walk` you can remove elements from the `subdirectory-names list`, and the walk will skip those as it descends into the directory hierarchy. This is useful for ignoring directories such as those beginning with a period or those containing some kind of configuration information that you don’t want included in the walk.\n",
    "\n",
    "The following example demonstrates a simple of use of `os.walk`. It prints the names of all the directories and filenames in an initial path and below, ignoring any directories with names starting in a period.\n",
    "\n",
    "The function `show_in_path()` obtains the information to be printed and `show_directory_contents()` prints it. Indentation is added by `show_in_path()` to indicate the depth of each file and directory name.  (Depth is calculated by simply counting the number of separator characters in the path.)"
   ]
  },
  {
   "cell_type": "code",
   "execution_count": null,
   "metadata": {},
   "outputs": [],
   "source": [
    "def show_directory_contents(dirpath, filenames, level):\n",
    "    print('    ' * level, dirpath, sep='')\n",
    "    for name in filenames:\n",
    "        print('    ' * (level + 1), name, sep='')\n",
    "\n",
    "def show_in_path(startpath, ignoredots=True):\n",
    "    print(startpath)\n",
    "    for path, dirnames, filenames in os.walk(startpath):\n",
    "        for dirname in dirnames:\n",
    "            if dirname.startswith('.'):\n",
    "                dirnames.remove(dirname)\n",
    "        show_directory_contents(path[len(startpath) + 1:],       # strip dirpath\n",
    "                                filenames,\n",
    "                                path.count(os.sep))"
   ]
  },
  {
   "cell_type": "markdown",
   "metadata": {},
   "source": [
    "## `os.path` — manipulating paths"
   ]
  },
  {
   "cell_type": "markdown",
   "metadata": {},
   "source": [
    "`os.path` is a submodule of `os` that contains functions for manipulating *path strings* (as opposed to the actual files and directories at those paths).\n",
    "\n",
    "This bears repeating:  `os.path` is for manipulating **strings** that represent paths, not the physical files and directories residing at those paths.\n",
    "\n",
    "`os.path` is significant enough to warrant its own separate documentation page on `python.org`, despite being \"only\" a submodule:\n",
    "\n",
    "<https://docs.python.org/3/library/os.path.html>"
   ]
  },
  {
   "cell_type": "markdown",
   "metadata": {},
   "source": [
    "### Path components"
   ]
  },
  {
   "cell_type": "markdown",
   "metadata": {},
   "source": [
    "One of the most frequent kinds of manipulations you will do to file paths is breaking them apart into their components in various ways. The `os` module provides these functions for that purpose:\n",
    "\n",
    "`os.path.split(path)`\n",
    "* Returns a 2-element tuple where the first element is the directory part of the path string (if any), and the second is the filename part of the path string (if any)"
   ]
  },
  {
   "cell_type": "code",
   "execution_count": null,
   "metadata": {},
   "outputs": [],
   "source": [
    "bam_path = \"/data/output/analyzed/20160122/s12553_components.bam\"\n",
    "\n",
    "os.path.split(bam_path)"
   ]
  },
  {
   "cell_type": "markdown",
   "metadata": {},
   "source": [
    "`os.path.dirname(path)`\n",
    "\n",
    "* Returns only the directory part of the path string"
   ]
  },
  {
   "cell_type": "code",
   "execution_count": null,
   "metadata": {},
   "outputs": [],
   "source": [
    "os.path.dirname(bam_path)"
   ]
  },
  {
   "cell_type": "markdown",
   "metadata": {},
   "source": [
    "`os.path.basename(path)`\n",
    "\n",
    "* Returns the file part of the path string"
   ]
  },
  {
   "cell_type": "code",
   "execution_count": null,
   "metadata": {},
   "outputs": [],
   "source": [
    "os.path.basename(bam_path)"
   ]
  },
  {
   "cell_type": "markdown",
   "metadata": {},
   "source": [
    "`os.path.splitext(path1)`\n",
    "* Returns a 2-element tuple where the second element is the filename *extension* (if any), and the first part is the rest of the path string:"
   ]
  },
  {
   "cell_type": "code",
   "execution_count": null,
   "metadata": {},
   "outputs": [],
   "source": [
    "os.path.splitext(bam_path)"
   ]
  },
  {
   "cell_type": "markdown",
   "metadata": {},
   "source": [
    "This makes more sense when applied to the result of `os.path.split()` or `os.path.basename()`:"
   ]
  },
  {
   "cell_type": "code",
   "execution_count": null,
   "metadata": {},
   "outputs": [],
   "source": [
    "dirpath, filename = os.path.split(bam_path)\n",
    "basename, extension = os.path.splitext(filename)\n",
    "print(\"Dirpath:\\t{}\\nBasename: \\t{}\\nExtension:\\t{}\".format(dirpath, basename, extension))"
   ]
  },
  {
   "cell_type": "markdown",
   "metadata": {},
   "source": [
    "As we saw before, the function `os.listdir(dirpath)` returns a list of the names of all the files and directories that are in the directory at `dirpath`. The result often contains a lot of uninteresting files, such as editor backup files, `.pyc` files, and so on.  Hence, we often want to filter this list:"
   ]
  },
  {
   "cell_type": "code",
   "execution_count": null,
   "metadata": {},
   "outputs": [],
   "source": [
    "def filtered_directory_listing(dirpath='.', ignore_extensions=['.pyc', '.bak']):\n",
    "    for filename in os.listdir(dirpath):\n",
    "        if os.path.splitext(filename)[1] not in ignore_extensions:\n",
    "            yield filename\n",
    "\n",
    "print(*filtered_directory_listing(ignore_extensions=['.ipynb']), sep=', ')"
   ]
  },
  {
   "cell_type": "markdown",
   "metadata": {},
   "source": [
    "Can you rewrite `filtered_directory_listing()` to use a single generator comprehension instead of a nested `for` and `if`?  Does it make it much shorter or more readable in this case?"
   ]
  },
  {
   "cell_type": "code",
   "execution_count": null,
   "metadata": {
    "collapsed": true
   },
   "outputs": [],
   "source": [
    "# Rewrite in terms of a generator comprehension:\n",
    "\n",
    "def filtered_directory_listing(dirpath='.', ignore_extensions=['.pyc', '.bak']):\n",
    "\n",
    "    "
   ]
  },
  {
   "cell_type": "markdown",
   "metadata": {},
   "source": [
    "### Path manipulations"
   ]
  },
  {
   "cell_type": "markdown",
   "metadata": {},
   "source": [
    "Many programs deal with paths that have no or only a few directory names, but need full paths for certain purposes. The following functions expand or join paths in ways that would be difficult, or at least laborious, to program yourself:\n",
    "\n",
    "`os.path.realpath(path)`\n",
    "* Returns a canonical version of `path`, eliminating any symbolic links along the way\n",
    "\n",
    "`os.path.expanduser(path)`\n",
    "* Returns path with an initial `~` or `~username` replaced by the user’s home directory"
   ]
  },
  {
   "cell_type": "code",
   "execution_count": null,
   "metadata": {},
   "outputs": [],
   "source": [
    "os.path.expanduser('~')"
   ]
  },
  {
   "cell_type": "markdown",
   "metadata": {},
   "source": [
    "`os.path.join(p1, p1, ...)`\n",
    "* Returns a path formed by joining the arguments appropriately; roughly similar to the expression `os.sep.join(p1, p1, ...)` except it doesn’t add separators after arguments that already end in a separator and is therefore preferable"
   ]
  },
  {
   "cell_type": "code",
   "execution_count": null,
   "metadata": {},
   "outputs": [],
   "source": [
    "os.path.join(\"data\", \"output\", \"analyzed\", \"20160122\", \"s12553_components.bam\")"
   ]
  },
  {
   "cell_type": "markdown",
   "metadata": {},
   "source": [
    "### Path information"
   ]
  },
  {
   "cell_type": "markdown",
   "metadata": {},
   "source": [
    "Often, you just need to test something about a path before doing something with it. Here are three predicates and a function to get the size of a file:\n",
    "\n",
    "`os.path.exists(path)`\n",
    "* Returns `True` if there is there a file or directory at path\n",
    "\n",
    "`os.path.isfile(path)`\n",
    "* Returns `True` if there is there a (normal) file at path\n",
    "\n",
    "`os.path.isdir(path)`\n",
    "* Returns `True` if there is there a directory at path\n",
    "\n",
    "`os.path.getsize(path)`\n",
    "* Returns the size in bytes of the file at path"
   ]
  },
  {
   "cell_type": "code",
   "execution_count": null,
   "metadata": {},
   "outputs": [],
   "source": [
    "os.path.exists('mydir')"
   ]
  },
  {
   "cell_type": "code",
   "execution_count": null,
   "metadata": {},
   "outputs": [],
   "source": [
    "os.mkdir('mydir')\n",
    "os.path.exists('mydir')"
   ]
  },
  {
   "cell_type": "code",
   "execution_count": null,
   "metadata": {},
   "outputs": [],
   "source": [
    "os.path.isdir('mydir')"
   ]
  },
  {
   "cell_type": "code",
   "execution_count": null,
   "metadata": {},
   "outputs": [],
   "source": [
    "os.rmdir('mydir')\n",
    "os.path.exists('mydir')"
   ]
  },
  {
   "cell_type": "markdown",
   "metadata": {},
   "source": [
    "The following function calculates the collective size of all files in a directory at a given path, including hidden files starting in `.`, but ignoring any subdirectories."
   ]
  },
  {
   "cell_type": "code",
   "execution_count": null,
   "metadata": {},
   "outputs": [],
   "source": [
    "def directory_size(path='.'):\n",
    "    \"\"\"Sum of the sizes of all files in the directory at path, including\n",
    "    those beginning with a '.', and ignoring subdirectories\n",
    "    \n",
    "    \"\"\"\n",
    "    result = 0\n",
    "    for item in os.listdir(path):\n",
    "        if os.path.isfile(item):                   # the test\n",
    "            result += os.path.getsize(os.path.join(path, item))\n",
    "    return result\n",
    "\n",
    "def bytes_to_mb(B):\n",
    "    return round(B/1024/1024, 2)\n",
    "\n",
    "print(bytes_to_mb(directory_size()), \"MB\", sep='')"
   ]
  },
  {
   "cell_type": "markdown",
   "metadata": {},
   "source": [
    "This function could also have been written in terms of a generator comprehension:"
   ]
  },
  {
   "cell_type": "code",
   "execution_count": null,
   "metadata": {},
   "outputs": [],
   "source": [
    "def directory_size1(p='.'):\n",
    "    \"\"\"Sum of the sizes of all files in the directory at path, including\n",
    "    those beginning with a '.', and ignoring subdirectories\n",
    "    \n",
    "    \"\"\"\n",
    "    return sum(os.path.getsize(os.path.join(p, i)) for i in os.listdir(p) if os.path.isfile(i))\n",
    "\n",
    "print(bytes_to_mb(directory_size1()), \"MB\", sep='')"
   ]
  },
  {
   "cell_type": "markdown",
   "metadata": {},
   "source": [
    "Here's an example that prints a directory structure in hierarchical form as a recursive function. Each call to the function provides just a path. The function gets the tree below that path from a call to `os.listdir()`."
   ]
  },
  {
   "cell_type": "code",
   "execution_count": null,
   "metadata": {},
   "outputs": [],
   "source": [
    "def dirtree(path='.', ignoredots=True, level=0):\n",
    "    print_path(path, level)                        # \"do something\" with tree root and level\n",
    "    for name in os.listdir(path):                  # repeat with the rest of the tree\n",
    "        if not(ignoredots and name.startswith('.')):\n",
    "            subpath = os.path.join(path, name)\n",
    "            if os.path.isdir(subpath):\n",
    "                dirtree(subpath, ignoredots, level + 1)\n",
    "\n",
    "def print_path(path, level):\n",
    "    print(' ' * 3 * level, path, sep='')\n",
    "    \n",
    "dirtree()"
   ]
  },
  {
   "cell_type": "markdown",
   "metadata": {},
   "source": [
    "## `glob` — filename expansion"
   ]
  },
  {
   "cell_type": "markdown",
   "metadata": {},
   "source": [
    "The `glob` standard library module reproduces the wildcard expansion operations of command-line shells.  It uses the standard command-line matching syntax, reiterated in the table below.  (Don't confuse this with the much more powerful and expressive *regular expressions*.)\n",
    "\n",
    "The documentation for this module is here:\n",
    "\n",
    "<https://docs.python.org/3/library/glob.html>\n",
    "\n",
    "A quick refresher on shell wildcards (or \"globbing patterns\"):\n",
    "\n",
    "| Pattern | Meaning |\n",
    "|---------|---------|\n",
    "| `*`     | match 0 or more characters |\n",
    "| `?`     | natch a single character |\n",
    "| `[characters]` | match any of the characters inside the brackets |\n",
    "| `[!characters]` |match any of the characters *except* those inside the brackets |\n",
    "\n",
    "The glob module can return results either as a list or as a generator, depending on which function you call. The generator version is important for when there are a very large number of filenames matching the pattern, only some of which need to be used. The two relevant functions are:\n",
    "\n",
    "`glob.glob(pattern)`\n",
    "* Returns a list of paths (strings) that match pattern (which doesn’t necessarily contain wildcards)\n",
    "\n",
    "`glob.iglob(pattern)`\n",
    "* Same as `glob.glob()`, but returns an iterator instead of a list\n",
    "\n",
    ">The `glob` module's functions do not expand tildes and environment variable names in paths; for that you need `os.path.expandvars()`.\n",
    "\n",
    "For example, to do something to each Python file in the current directory:\n",
    "\n",
    "```python\n",
    "for filename in glob.iglob('*.py'):\n",
    "    # do something\n",
    "```"
   ]
  },
  {
   "cell_type": "markdown",
   "metadata": {},
   "source": [
    ">Another standard library module — `fnmatch` — also does wildcard matching on filenames.  However, it works solely on filename *strings* and not the actual contents of directories.  It, too, can often be useful, e.g. when filtering a list of filenames returned by a function like `os.listdir()`."
   ]
  },
  {
   "cell_type": "markdown",
   "metadata": {},
   "source": [
    "## Comparing Files and Directories"
   ]
  },
  {
   "cell_type": "markdown",
   "metadata": {},
   "source": [
    "You may be familiar with using a feature of an editor or even a separate application to compare the contents of two files or two directories, or you may have used `diff` on the UNIX command line to do so.\n",
    "\n",
    "File comparison operatins can have many practical uses in programs, too. For example, you may need to extract the differences between two versions of a program’s output, or you might need to know if the results of some BLAST queries you’ve run are any different from the previous results.\n",
    "\n",
    "Directory comparison is similarly useful: you can compare the contents of directories that contain files produced by programs you are using and extract or report the differences."
   ]
  },
  {
   "cell_type": "markdown",
   "metadata": {},
   "source": [
    "### `filecmp` — file and directory comparison"
   ]
  },
  {
   "cell_type": "markdown",
   "metadata": {},
   "source": [
    "The `filecmp` module provides powerful and easy-to-use tools to do file comparison, and is documented here:\n",
    "\n",
    "<https://docs.python.org/3/library/filecmp.html>\n",
    "\n",
    "Here are some of the functions it provides:\n",
    "\n",
    "`filecmp.cmp(filepath1, filepath2)`\n",
    "* Compares the files at `filepath1` and `filename2` and returns `True` if their contents are equal\n",
    "\n",
    "`filecmp.cmpfiles(directorypath1, directorypath2, filepaths)`\n",
    "* Compares the files in the list `filepaths` in the directory at `directorypath1` with the corresponding files in the directory at `directorypath2`, and returns a tuple `(matches, mismatches, errors)`.\n",
    "\n",
    "  `matches`\n",
    "  * A list of files in `filepaths` whose contents were the same in both directories\n",
    "\n",
    "  `mismatches`\n",
    "  * A list of files in `filepaths` that were in both directories but had different contents\n",
    "\n",
    "  `errors`\n",
    "  * A list of files in `filepaths` that were not found in both directories or that caused some kind of error when an attempt was made to read them (e.g., because of inadequate user permissions)\n",
    "\n",
    "`filecmp.dircmp(directorypath1, directorypath2, hidenames)`\n",
    "* Creates an instance of the class `filecmp.dircmp` to compare the directories at directorypath1 and directorypath2, with hidenames a list of names to ignore.\n",
    "\n",
    "Instances of `filecmp.dircmp` implement the following methods that print fairly elaborate reports to sys.stdout:\n",
    "\n",
    "`report()`\n",
    "* Prints a comparison between the two directories\n",
    "\n",
    "`report_partial_closure()`\n",
    "* Prints a comparison of the two directories as well as of the immediate subdirectories of the two directories\n",
    "\n",
    "`report_full_closure()`\n",
    "* Prints a comparison of the two directories, all of their subdirectories, all the subdirectories of those subdirectories, and so on (i.e. recursively)\n",
    "\n",
    "In addition, many details of the comparisons that the reporting methods print out may be accessed directly as attributes. Their names use the syllable “left” for what was found in directorypath1 and “right” for what was found in directorypath2. The attributes are:\n",
    "\n",
    "`left_list`\n",
    "* The names of files and subdirectories found in directorypath1, not including elements of hidelist\n",
    "\n",
    "`right_list`\n",
    "* The names of files and subdirectories found in directorypath2, not including elements of hidelist\n",
    "\n",
    "`common`\n",
    "* The names of files and subdirectories that are in both directorypath1 and directorypath2\n",
    "\n",
    "`left_only`\n",
    "* The names of files and subdirectories that are in directorypath1 only\n",
    "\n",
    "`right_only`\n",
    "* The names of files and subdirectories that are in directorypath2 only\n",
    "\n",
    "`common_dirs`\n",
    "* The names of subdirectories that are in both directorypath1 and directorypath2\n",
    "\n",
    "`common_files`\n",
    "* The names of files that are in both directorypath1 and directorypath2\n",
    "\n",
    "`common_funny`\n",
    "* Names common to both directorypath1 and directorypath2 but that name a file in one and a directory in the other, along with names of files and directories that caused an error when an attempt to read them was made\n",
    "\n",
    "`same_files`\n",
    "* The paths to files whose contents are identical in both directorypath1 and directorypath2\n",
    "\n",
    "`diff_files`\n",
    "* The paths to files that are in both directorypath1 and directorypath2 but whose contents differ\n",
    "\n",
    "`funny_files`\n",
    "* The paths to files that are in both directorypath1 and directorypath2 but could not be compared for some reason\n",
    "\n",
    "`subdirs`\n",
    "* A dictionary that maps names in common_dirs to dircmp objects"
   ]
  },
  {
   "cell_type": "markdown",
   "metadata": {},
   "source": [
    "## `csv` — parsing and writing comma- and tab-separated files"
   ]
  },
  {
   "cell_type": "markdown",
   "metadata": {},
   "source": [
    "Comma-separated values (CSV) files are a widely used informal data interchange format, especially in conjunction with spreadsheet and data-collection applications. The term actually applies to a variety of text field conventions, including tab-separated.\n",
    "\n",
    "The exact rules for representing a field’s value are not standardized and can vary in frustrating ways from one application to another. Python’s `csv` module hides this variability from you, allowing you to focus on the real purpose of your program.\n",
    "\n",
    "We won't cover the `csv` module in detail here, but it's well worth reading its documentation and familiarising yourself with its use.  You can find that documentation here:\n",
    "\n",
    "<https://docs.python.org/3/library/csv.html>\n",
    "\n",
    "Briefly, the module contains the functions `csv.reader()` and `csv.writer()`. It also includes facilities for defining other formats and for more complicated reading and writing operations, but we won’t cover those details here. Here are the basics:\n",
    "\n",
    "`csv.reader(source[, dialect='excel'])`\n",
    "\n",
    "* Returns an iterator for the lines of source (which can be any iterable that produces strings; if a file, it must already be open).\n",
    "\n",
    "  >When opening a file to use with `csv.reader()`, it is necessary to provide a keyword argument in the call to `open()` for a parameter that wasn’t included in the description of the function before: `newline=''`. This allows the reader to correctly interpret newline characters inside quoted field values in a platform-independent way.\n",
    "\n",
    "  Each step of the iterator (either one cycle of a for statement or the result returned by a call to `next()`) produces a *list* of the values in the comma-separated fields of *one line*.\n",
    "\n",
    "  If dialect is `'excel-tab'`, reads the file as tab-separated values; otherwise, reads it as comma-separated values.\n",
    "\n",
    "`csv.writer(destination[, dialect='excel'])`\n",
    "\n",
    "* Returns an instance of a `csvwriter` for a file — or anything else with a write method — that is open for writing.\n",
    "\n",
    "  If dialect is 'excel-tab', writes tab-separated values; otherwise, writes comma-separated values.\n",
    "  \n",
    "The writer provides the following methods (the “row” in their names refers to the widespread use of CSV files as representations of simple spreadsheets, with each list of fields corresponding to a spreadsheet row):\n",
    "\n",
    "`writerow(fieldlist)`\n",
    "* Writes the fields of `fieldlist` to the writer’s destination according to the writer’s dialect, followed by `'\\n'`\n",
    "\n",
    "`writerows(rowlist)`\n",
    "* Does `csvwriter.writerow()` for each row in `rowlist`"
   ]
  },
  {
   "cell_type": "markdown",
   "metadata": {},
   "source": [
    "### Exercise\n",
    "\n",
    "In the `files` subdirectory is a CSV file called `numbers.csv`, containing a couple of integers on each line (comma-separated).  Read in this file and simply print out the sum of the numbers on each line."
   ]
  },
  {
   "cell_type": "code",
   "execution_count": null,
   "metadata": {
    "collapsed": true
   },
   "outputs": [],
   "source": [
    "%cd files"
   ]
  },
  {
   "cell_type": "markdown",
   "metadata": {},
   "source": [
    "In the `files` subdirectory there's also a CSV file called `numbers2.csv`.  This again contains a row of integers on each line, but this time in a slightly different CSV format.\n",
    "\n",
    "Does your code also work on `numbers2.csv`?  If not, can you adapt it so it does (whilst still working on `numbers1.csv` as well)?\n",
    "\n",
    "* [`numbers1.csv`](/edit/files/numbers1.csv)\n",
    "* [`numbers2.csv`](/edit/files/numbers2.csv)"
   ]
  },
  {
   "cell_type": "markdown",
   "metadata": {},
   "source": [
    "# Other interesting modules in the standard library\n",
    "\n",
    "Here is a selectin (again, rather random) of further modules you might find interesting:\n",
    "\n",
    "**`math`** provides mathematical constants and operations such as power and log functions, trigonometric functions, and much more.\n",
    "\n",
    "* <https://docs.python.org/3/library/math.html>\n",
    "\n",
    "Some well-known constants:"
   ]
  },
  {
   "cell_type": "code",
   "execution_count": null,
   "metadata": {},
   "outputs": [],
   "source": [
    "import math\n",
    "\n",
    "math.pi, math.e"
   ]
  },
  {
   "cell_type": "markdown",
   "metadata": {},
   "source": [
    "**`random`** provides the faclities for introducing randomness into your code, such as:\n",
    "\n",
    "* generating random numbers\n",
    "* picking random elements from lists\n",
    "* randomly sampling populations\n",
    "* shuffling lists in-place\n",
    "\n",
    "…and much more.\n",
    "\n",
    "* <https://docs.python.org/3/library/random.html>"
   ]
  },
  {
   "cell_type": "markdown",
   "metadata": {},
   "source": [
    "**`difflib`** is a large module providing powerful tools for comparing files (or directories) and finding differences, allowing even more advanced operations than `filecmp`.\n",
    "\n",
    "* <https://docs.python.org/3/library/difflib.html>"
   ]
  },
  {
   "cell_type": "markdown",
   "metadata": {},
   "source": [
    "**`sys`** provides you about information about your Python *system*, i.e. your Python environment.\n",
    "\n",
    "* <https://docs.python.org/3/library/sys.html>\n",
    "\n",
    "The currently loaded modules:"
   ]
  },
  {
   "cell_type": "code",
   "execution_count": null,
   "metadata": {},
   "outputs": [],
   "source": [
    "import sys\n",
    "\n",
    "sys.modules"
   ]
  },
  {
   "cell_type": "markdown",
   "metadata": {},
   "source": [
    "The list of directories where the current Python environment looks for modules:"
   ]
  },
  {
   "cell_type": "code",
   "execution_count": null,
   "metadata": {},
   "outputs": [],
   "source": [
    "sys.path"
   ]
  },
  {
   "cell_type": "markdown",
   "metadata": {},
   "source": [
    "The standard input, standard output and standard error streams if you're writing a standalong script:\n",
    "\n",
    "```python\n",
    "sys.stdin\n",
    "sys.stdout\n",
    "sys.stderr\n",
    "```\n",
    "\n",
    "The *argument vector*, i.e. the list of arguments provided to a command-line script:\n",
    "\n",
    "```python\n",
    "sys.argv\n",
    "```"
   ]
  },
  {
   "cell_type": "markdown",
   "metadata": {},
   "source": [
    "**`time`** provides access to the system clock.\n",
    "\n",
    "* <https://docs.python.org/3/library/time.html>\n",
    "\n",
    "The current time:"
   ]
  },
  {
   "cell_type": "code",
   "execution_count": null,
   "metadata": {
    "collapsed": true
   },
   "outputs": [],
   "source": [
    "import time\n",
    "\n",
    "time.localtime()"
   ]
  },
  {
   "cell_type": "markdown",
   "metadata": {},
   "source": [
    "Sleep for 5 seconds:"
   ]
  },
  {
   "cell_type": "code",
   "execution_count": null,
   "metadata": {
    "collapsed": true
   },
   "outputs": [],
   "source": [
    "time.sleep(5)"
   ]
  },
  {
   "cell_type": "markdown",
   "metadata": {},
   "source": [
    "**`fileinput`** provides an alternative way to handle input from a file or multiple files.\n",
    "\n",
    ">For those familiar with Perl, it provides a facility roughtly equivalent to Perl's \"diamond\" operator “`<>`”.\n",
    "\n",
    "* <https://docs.python.org/3/library/fileinput.html>"
   ]
  },
  {
   "cell_type": "markdown",
   "metadata": {},
   "source": [
    "**`argparse`** is an extensive module providing support for parsing command-line arguments.\n",
    "\n",
    "If you're writing your own script and it requires a non-trivial command-line interface, you should start by reading the `argparse` documentation:\n",
    "\n",
    "* <https://docs.python.org/3/library/argparse.html>"
   ]
  },
  {
   "cell_type": "markdown",
   "metadata": {},
   "source": [
    "**`subprocess`** provides facilities for running external (usually binary) executables from Python, and capturing and using any output they generate.\n",
    "\n",
    "This is again a large and complex module, and you should read its documentation before attempting to use it:\n",
    "\n",
    "* <https://docs.python.org/3/library/subprocess.html>"
   ]
  },
  {
   "cell_type": "markdown",
   "metadata": {},
   "source": [
    "**`tempfile`** helps with the creation of uniquely-named temporary files (and directories!) in the \"right\" place for every given system:\n",
    "\n",
    "* <https://docs.python.org/3/library/tempfile.html>"
   ]
  },
  {
   "cell_type": "markdown",
   "metadata": {},
   "source": [
    "---"
   ]
  }
 ],
 "metadata": {
  "kernelspec": {
   "display_name": "Python 3",
   "language": "python",
   "name": "python3"
  },
  "language_info": {
   "codemirror_mode": {
    "name": "ipython",
    "version": 3
   },
   "file_extension": ".py",
   "mimetype": "text/x-python",
   "name": "python",
   "nbconvert_exporter": "python",
   "pygments_lexer": "ipython3",
   "version": "3.6.1"
  }
 },
 "nbformat": 4,
 "nbformat_minor": 1
}

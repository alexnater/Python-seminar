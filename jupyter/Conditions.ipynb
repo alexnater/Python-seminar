{
 "cells": [
  {
   "cell_type": "markdown",
   "metadata": {},
   "source": [
    "<div align=right>\n",
    "<img src=\"img/logosmall.png\" width=\"100px\" align=right>\n",
    "</div>"
   ]
  },
  {
   "cell_type": "markdown",
   "metadata": {},
   "source": [
    "# Conditions"
   ]
  },
  {
   "cell_type": "markdown",
   "metadata": {},
   "source": [
    "<div class=\"alert alert-warning\">\n",
    "Parts of this section have been adapted from copyrighted material in *Jones, M: Python for Biologists: A complete programming course for beginners (2013)*.\n",
    "\n",
    "**Please do not distribute it!**"
   ]
  },
  {
   "cell_type": "markdown",
   "metadata": {},
   "source": [
    "## Programs need to make decisions"
   ]
  },
  {
   "cell_type": "markdown",
   "metadata": {},
   "source": [
    "At first our programs were just executed from top to bottom, like a recipe.  Then we learned how to write a loop, to iterate over the elements of a container.  But we still don't know how to make our program branch off in different directions depending on some deciding factor.\n",
    "\n",
    "Real-life problems, often require our programs to act as decision-makers; to examine a property of some bit of data and decide what to do with it. In this section, we’ll see how to do that using conditional statements. Conditional statements are features of Python that allow us to build decision points in our code. They allow our programs to decide which out of a number of possible courses of action to take – instructions like *“print the name of the sequence if it’s longer than 300 bases”* or *“group two samples together if they were collected less than 10 megabases apart“*.\n",
    "\n",
    "Before we can start using conditional statements, however, we need to understand conditions."
   ]
  },
  {
   "cell_type": "markdown",
   "metadata": {},
   "source": [
    "## Conditions, `True` and `False`"
   ]
  },
  {
   "cell_type": "markdown",
   "metadata": {},
   "source": [
    "A *condition* (*conditional statement*, or sometimes just a *conditional*) is simply a bit of code that can produce a true or false answer. The easiest way to understand how conditions work in Python is try out a few examples. The following example prints out the result of testing (or evaluating) a bunch of different conditions – some mathematical examples, some using string methods, and one for testing if a value is included in a list:"
   ]
  },
  {
   "cell_type": "code",
   "execution_count": 1,
   "metadata": {
    "collapsed": false
   },
   "outputs": [
    {
     "data": {
      "text/plain": [
       "False"
      ]
     },
     "execution_count": 1,
     "metadata": {},
     "output_type": "execute_result"
    }
   ],
   "source": [
    "3 == 5"
   ]
  },
  {
   "cell_type": "code",
   "execution_count": 4,
   "metadata": {
    "collapsed": false
   },
   "outputs": [
    {
     "name": "stdout",
     "output_type": "stream",
     "text": [
      "False\n"
     ]
    }
   ],
   "source": [
    "print(3 == 5)"
   ]
  },
  {
   "cell_type": "code",
   "execution_count": 5,
   "metadata": {
    "collapsed": false
   },
   "outputs": [
    {
     "data": {
      "text/plain": [
       "False"
      ]
     },
     "execution_count": 5,
     "metadata": {},
     "output_type": "execute_result"
    }
   ],
   "source": [
    "3 > 5"
   ]
  },
  {
   "cell_type": "code",
   "execution_count": 7,
   "metadata": {
    "collapsed": false
   },
   "outputs": [
    {
     "data": {
      "text/plain": [
       "True"
      ]
     },
     "execution_count": 7,
     "metadata": {},
     "output_type": "execute_result"
    }
   ],
   "source": [
    "3 <= 5"
   ]
  },
  {
   "cell_type": "code",
   "execution_count": 8,
   "metadata": {
    "collapsed": false
   },
   "outputs": [
    {
     "data": {
      "text/plain": [
       "False"
      ]
     },
     "execution_count": 8,
     "metadata": {},
     "output_type": "execute_result"
    }
   ],
   "source": [
    "len(\"ATGC\") > 5"
   ]
  },
  {
   "cell_type": "code",
   "execution_count": 9,
   "metadata": {
    "collapsed": false
   },
   "outputs": [
    {
     "data": {
      "text/plain": [
       "True"
      ]
     },
     "execution_count": 9,
     "metadata": {},
     "output_type": "execute_result"
    }
   ],
   "source": [
    "\"GAATTC\".count(\"T\") > 1"
   ]
  },
  {
   "cell_type": "code",
   "execution_count": 10,
   "metadata": {
    "collapsed": false
   },
   "outputs": [
    {
     "data": {
      "text/plain": [
       "True"
      ]
     },
     "execution_count": 10,
     "metadata": {},
     "output_type": "execute_result"
    }
   ],
   "source": [
    "\"ATGCTT\".startswith(\"ATG\")"
   ]
  },
  {
   "cell_type": "code",
   "execution_count": 11,
   "metadata": {
    "collapsed": false
   },
   "outputs": [
    {
     "data": {
      "text/plain": [
       "False"
      ]
     },
     "execution_count": 11,
     "metadata": {},
     "output_type": "execute_result"
    }
   ],
   "source": [
    "\"ATGCTT\".endswith(\"TTT\")"
   ]
  },
  {
   "cell_type": "code",
   "execution_count": 12,
   "metadata": {
    "collapsed": false
   },
   "outputs": [
    {
     "data": {
      "text/plain": [
       "True"
      ]
     },
     "execution_count": 12,
     "metadata": {},
     "output_type": "execute_result"
    }
   ],
   "source": [
    "\"ATGCTT\".isupper()"
   ]
  },
  {
   "cell_type": "code",
   "execution_count": 13,
   "metadata": {
    "collapsed": false
   },
   "outputs": [
    {
     "data": {
      "text/plain": [
       "False"
      ]
     },
     "execution_count": 13,
     "metadata": {},
     "output_type": "execute_result"
    }
   ],
   "source": [
    "\"ATGCTT\".islower()"
   ]
  },
  {
   "cell_type": "code",
   "execution_count": 14,
   "metadata": {
    "collapsed": false
   },
   "outputs": [
    {
     "data": {
      "text/plain": [
       "True"
      ]
     },
     "execution_count": 14,
     "metadata": {},
     "output_type": "execute_result"
    }
   ],
   "source": [
    "\"V\" in [\"V\", \"W\", \"L\"]"
   ]
  },
  {
   "cell_type": "markdown",
   "metadata": {},
   "source": [
    "But what’s actually being printed here? At first glance, it looks like we’re printing the strings `\"True\"` and `\"False\"`, but those strings don’t appear anywhere in our code. What is actually being printed is the special built-in values that Python uses to represent true and false.\n",
    "\n",
    "In fact, the values `True` and `False` are examples of another *type* of data Python recocnises.  It's called the *boolean* type, and a variable of type boolean can **only** have the value `True` or `False`.\n",
    "\n",
    "We can show that these values are special by trying to print them. The following code runs without errors (note the absence of quotation marks):"
   ]
  },
  {
   "cell_type": "code",
   "execution_count": 15,
   "metadata": {
    "collapsed": false
   },
   "outputs": [
    {
     "name": "stdout",
     "output_type": "stream",
     "text": [
      "True\n",
      "False\n"
     ]
    }
   ],
   "source": [
    "print(True)\n",
    "print(False)"
   ]
  },
  {
   "cell_type": "markdown",
   "metadata": {},
   "source": [
    "…whereas trying to print arbitrary unquoted words:"
   ]
  },
  {
   "cell_type": "code",
   "execution_count": 16,
   "metadata": {
    "collapsed": false
   },
   "outputs": [
    {
     "ename": "NameError",
     "evalue": "name 'Hello' is not defined",
     "output_type": "error",
     "traceback": [
      "\u001b[0;31m---------------------------------------------------------------------------\u001b[0m",
      "\u001b[0;31mNameError\u001b[0m                                 Traceback (most recent call last)",
      "\u001b[0;32m<ipython-input-16-b7be8ca2a54e>\u001b[0m in \u001b[0;36m<module>\u001b[0;34m()\u001b[0m\n\u001b[0;32m----> 1\u001b[0;31m \u001b[0mprint\u001b[0m\u001b[0;34m(\u001b[0m\u001b[0mHello\u001b[0m\u001b[0;34m)\u001b[0m\u001b[0;34m\u001b[0m\u001b[0m\n\u001b[0m",
      "\u001b[0;31mNameError\u001b[0m: name 'Hello' is not defined"
     ]
    }
   ],
   "source": [
    "print(Hello)"
   ]
  },
  {
   "cell_type": "markdown",
   "metadata": {},
   "source": [
    "…causes a `NameError`."
   ]
  },
  {
   "cell_type": "markdown",
   "metadata": {},
   "source": [
    "We can also use the built-in function `type` to test the type of an object:"
   ]
  },
  {
   "cell_type": "code",
   "execution_count": 17,
   "metadata": {
    "collapsed": false
   },
   "outputs": [
    {
     "data": {
      "text/plain": [
       "str"
      ]
     },
     "execution_count": 17,
     "metadata": {},
     "output_type": "execute_result"
    }
   ],
   "source": [
    "type(\"ACTG\")"
   ]
  },
  {
   "cell_type": "code",
   "execution_count": 18,
   "metadata": {
    "collapsed": false
   },
   "outputs": [
    {
     "data": {
      "text/plain": [
       "int"
      ]
     },
     "execution_count": 18,
     "metadata": {},
     "output_type": "execute_result"
    }
   ],
   "source": [
    "type(592)"
   ]
  },
  {
   "cell_type": "code",
   "execution_count": 19,
   "metadata": {
    "collapsed": false
   },
   "outputs": [
    {
     "data": {
      "text/plain": [
       "list"
      ]
     },
     "execution_count": 19,
     "metadata": {},
     "output_type": "execute_result"
    }
   ],
   "source": [
    "type([\"A\", \"C\", \"T\", \"G\"])"
   ]
  },
  {
   "cell_type": "code",
   "execution_count": 20,
   "metadata": {
    "collapsed": false
   },
   "outputs": [
    {
     "data": {
      "text/plain": [
       "str"
      ]
     },
     "execution_count": 20,
     "metadata": {},
     "output_type": "execute_result"
    }
   ],
   "source": [
    "type(\"True\")"
   ]
  },
  {
   "cell_type": "code",
   "execution_count": 21,
   "metadata": {
    "collapsed": false
   },
   "outputs": [
    {
     "data": {
      "text/plain": [
       "bool"
      ]
     },
     "execution_count": 21,
     "metadata": {},
     "output_type": "execute_result"
    }
   ],
   "source": [
    "type(True)"
   ]
  },
  {
   "cell_type": "markdown",
   "metadata": {},
   "source": [
    "`bool` is shorthand for *boolean*.\n",
    "\n",
    "There’s a wide range of things that we can include in conditions, and it would be impossible to give an exhaustive list here. Some basic operators and keywords are:\n",
    "\n",
    "| meaning                       | syntax       |\n",
    "|-------------------------------|:------------:|\n",
    "| is equal to                   | `==`         |\n",
    "| is not equal to               | `!=`         |\n",
    "| greater than                  | `>`          |\n",
    "| less than                     | `<`          |\n",
    "| greater than or equal to      | `>=`         |\n",
    "| less than or equal to         | `<=`         |\n",
    "| is an element in a collection |  `in`        |\n",
    "\n",
    "\n",
    "> Note that Python uses a two equals signs (`==`) to test for equality, because the single equals sign `=` is already used for *variable assignment*!\n",
    "\n",
    "Many data types also provide methods that return `True` or `False` values. We’ve already seen a few in the code sample above: For example, strings have `startswith()` and `endswith()` methods that returns true if the string starts (or ends with) with the substring given as an argument.\n",
    "\n",
    "Now that we know how to express tests as conditions, let’s see what we can do with them!"
   ]
  },
  {
   "cell_type": "markdown",
   "metadata": {},
   "source": [
    "## `if` statements"
   ]
  },
  {
   "cell_type": "markdown",
   "metadata": {},
   "source": [
    "The simplest kind of conditional statement is an `if` statement. The syntax is fairly simple to understand:"
   ]
  },
  {
   "cell_type": "code",
   "execution_count": 24,
   "metadata": {
    "collapsed": false
   },
   "outputs": [
    {
     "name": "stdout",
     "output_type": "stream",
     "text": [
      "gene is highly expressed\n"
     ]
    }
   ],
   "source": [
    "expression_level = 125\n",
    "\n",
    "if expression_level > 100:\n",
    "    print(\"gene is highly expressed\")"
   ]
  },
  {
   "cell_type": "markdown",
   "metadata": {},
   "source": [
    "We write the word `if`, followed by a condition, and end the condition line with a colon.\n",
    "\n",
    "There follows a block of indented lines of code (the *body* of the `if` statement), which will **only be executed if the condition evaluates to `True`**.\n",
    "\n",
    "(This colon-plus-block syntax should be familiar to you from the sections on loops and functions.)\n",
    "\n",
    "Most of the time, we want to use an `if` statement to test a property of some variable whose value we don’t know at the time when we are writing the program. The example above is obviously useless as the value of the `expression_level` variable is not going to change!\n",
    "\n",
    "Here’s a slightly more interesting example: we’ll define a list of gene accession names and print out just the ones that start with `\"a\"`:"
   ]
  },
  {
   "cell_type": "code",
   "execution_count": 25,
   "metadata": {
    "collapsed": false
   },
   "outputs": [
    {
     "name": "stdout",
     "output_type": "stream",
     "text": [
      "ab56\n",
      "ay93\n",
      "ap97\n"
     ]
    }
   ],
   "source": [
    "accs = ['ab56', 'bh84', 'hv76', 'ay93', 'ap97', 'bd72']\n",
    "\n",
    "for accession in accs:\n",
    "    if accession.startswith('a'):\n",
    "        print(accession)"
   ]
  },
  {
   "cell_type": "markdown",
   "metadata": {},
   "source": [
    "If you take a close look at the code above, you’ll see something interesting: The lines of code inside the `for` loop are indented (just as before), but the line of code inside the `if` statement is indented **twice** – once for the `for` loop, and once for the `if` statement.\n",
    "\n",
    "This is the first time we’ve seen multiple levels of indentation, but it’s very common once we start working with larger programs – whenever we have one loop or if statement nested inside another, we’ll have multiple levels of indentation.\n",
    "\n",
    "Python is quite happy to have as many levels of indentation as needed, but you’ll need to keep  track of which lines of code belong at which level. If you find yourself writing a piece of code that requires very deep indentation, it could be an indication that you should think of structuring it differently — maybe by using a function.\n",
    "\n",
    "Let's repeat the example above, but this time let's build up a list of accessions that start with “`a`” to use in further calculations:"
   ]
  },
  {
   "cell_type": "code",
   "execution_count": 31,
   "metadata": {
    "collapsed": false,
    "scrolled": true
   },
   "outputs": [
    {
     "name": "stdout",
     "output_type": "stream",
     "text": [
      "['ab56', 'ay93', 'ap97']\n"
     ]
    }
   ],
   "source": [
    "accs = ['ab56', 'bh84', 'hv76', 'ay93', 'ap97', 'bd72']\n",
    "starts_with_a = []\n",
    "\n",
    "for accession in accs:\n",
    "    if accession.startswith('a'):\n",
    "        starts_with_a.append(accession)\n",
    "        \n",
    "print(starts_with_a)"
   ]
  },
  {
   "cell_type": "markdown",
   "metadata": {},
   "source": [
    "So we've got a list to start with, as well as a condition (`startswith('a')`).  We look at the elements of the list one by one, and then retain only those that *pass* the condition, discarding those that don't.\n",
    "\n",
    "In effect, we're *filtering* the list based on a condition.\n",
    "\n",
    "Filtering a sequence is a rather common operation, and Python provides built-in ways to make this easier, as we'll see later on in the course…"
   ]
  },
  {
   "cell_type": "markdown",
   "metadata": {},
   "source": [
    "## `else` statements"
   ]
  },
  {
   "cell_type": "markdown",
   "metadata": {},
   "source": [
    "Closely related to the `if` statement is the `else` statement.\n",
    "\n",
    "The examples above use a yes/no type of decision-making:  Based on some condition, a code block is either executed or not.\n",
    "\n",
    "Often we need an either/or type of decision, where we have two possible actions to take (two code blocks to choose from).\n",
    "\n",
    "To do this, we can add on an `else` clause after the end of the body of an `if` statement:"
   ]
  },
  {
   "cell_type": "code",
   "execution_count": 27,
   "metadata": {
    "collapsed": false
   },
   "outputs": [
    {
     "name": "stdout",
     "output_type": "stream",
     "text": [
      "gene is not highly expressed\n"
     ]
    }
   ],
   "source": [
    "expression_level = 90\n",
    "\n",
    "if expression_level > 100:\n",
    "    print(\"gene is highly expressed\")\n",
    "else:\n",
    "    print(\"gene is not highly expressed\")"
   ]
  },
  {
   "cell_type": "markdown",
   "metadata": {},
   "source": [
    "The `else` statement doesn’t have any condition of its own – rather, the `else` statement body is execute when the `if` statement to which it’s attached is *not* executed.  That is, if the *condition* of the `if` statement evaluates to `False`.\n",
    "\n",
    "Note how indentation is used:  The `else` statement is indented to the same level as its corresponding `if` statement — the first column of text, in the example above.\n",
    "\n",
    "Here’s an example which uses `if` and `else` to split up a list of accession names into two different files – accessions that start with `\"a\"` go into the first file, and all other accessions go into the second file:"
   ]
  },
  {
   "cell_type": "code",
   "execution_count": 44,
   "metadata": {
    "collapsed": false
   },
   "outputs": [
    {
     "name": "stdout",
     "output_type": "stream",
     "text": [
      "/Users/sabineurban/EVOP2017/files\n"
     ]
    }
   ],
   "source": [
    "%cd /Users/sabineurban/EVOP2017/files\n",
    "\n",
    "file1 = open(\"one.txt\", \"w\")\n",
    "file2 = open(\"two.txt\", \"w\")\n",
    "\n",
    "accs = ['ab56', 'bh84', 'hv76', 'ay93', 'ap97', 'bd72']\n",
    "\n",
    "for accession in accs:\n",
    "    if accession.startswith('a'):\n",
    "        file1.write(accession + \"\\n\")\n",
    "    else:\n",
    "        file2.write(accession + \"\\n\")\n",
    "\n",
    "file1.close()\n",
    "file2.close()"
   ]
  },
  {
   "cell_type": "markdown",
   "metadata": {},
   "source": [
    "Notice how there are multiple indentation levels as before, but that the `if` and `else` statements are at the same level.\n",
    "\n",
    "You can inspect the two resulting files here to see if they contain what you think they ought to contain:\n",
    "\n",
    "* [one.txt](../edit/files/one.txt)\n",
    "* [two.txt](../edit/files/two.txt)"
   ]
  },
  {
   "cell_type": "markdown",
   "metadata": {},
   "source": [
    "## `elif` statements"
   ]
  },
  {
   "cell_type": "markdown",
   "metadata": {},
   "source": [
    "What if we have *more than two* possible branches? For example, say we want three files of accession names:\n",
    "\n",
    "* ones that start with `\"a\"`\n",
    "* ones that start with `\"b\"`\n",
    "* all others.\n",
    "\n",
    "We could have a second if statement nested inside the else clause of the first if statement:"
   ]
  },
  {
   "cell_type": "code",
   "execution_count": 46,
   "metadata": {
    "collapsed": true
   },
   "outputs": [],
   "source": [
    "file1 = open(\"one.txt\", \"w\")\n",
    "file2 = open(\"two.txt\", \"w\")\n",
    "file3 = open(\"three.txt\", \"w\")\n",
    "\n",
    "accs = ['ab56', 'bh84', 'hv76', 'ay93', 'ap97', 'bd72']\n",
    "\n",
    "for accession in accs:\n",
    "    if accession.startswith('a'):\n",
    "        file1.write(accession + \"\\n\")\n",
    "    else:\n",
    "        if accession.startswith('b'):\n",
    "            file2.write(accession + \"\\n\")\n",
    "        else:\n",
    "            file3.write(accession + \"\\n\")\n",
    "\n",
    "file1.close()\n",
    "file2.close()\n",
    "file3.close()"
   ]
  },
  {
   "cell_type": "markdown",
   "metadata": {},
   "source": [
    "This works, but is difficult to read – we can quickly see that we need an extra level of indentation for every additional choice we want to include. To get round this, Python has an `elif` statement, which merges together `else` and `if` and allows us to rewrite the above example in a much more elegant way:"
   ]
  },
  {
   "cell_type": "code",
   "execution_count": 47,
   "metadata": {
    "collapsed": true
   },
   "outputs": [],
   "source": [
    "file1 = open(\"one.txt\", \"w\")\n",
    "file2 = open(\"two.txt\", \"w\")\n",
    "file3 = open(\"three.txt\", \"w\")\n",
    "\n",
    "accs = ['ab56', 'bh84', 'hv76', 'ay93', 'ap97', 'bd72']\n",
    "\n",
    "for accession in accs:\n",
    "    if accession.startswith('a'):\n",
    "        file1.write(accession + \"\\n\")\n",
    "    elif accession.startswith('b'):\n",
    "        file2.write(accession + \"\\n\")\n",
    "    else:\n",
    "        file3.write(accession + \"\\n\")\n",
    "\n",
    "file1.close()\n",
    "file2.close()\n",
    "file3.close()"
   ]
  },
  {
   "cell_type": "markdown",
   "metadata": {},
   "source": [
    "Notice how this version of the code only needs two levels of indention. In fact, using elif we can have any number of branches and still only require a single extra level of indentation:\n",
    "\n",
    "```python\n",
    "for accession in accs:\n",
    "    if accession.startswith('a'):\n",
    "        file1.write(accession + \"\\n\")\n",
    "    elif accession.startswith('b'):\n",
    "        file2.write(accession + \"\\n\")\n",
    "    elif accession.startswith('c'):\n",
    "        file3.write(accession + \"\\n\")\n",
    "    elif accession.startswith('d'):\n",
    "        file4.write(accession + \"\\n\")\n",
    "    elif accession.startswith('e'):\n",
    "        file5.write(accession + \"\\n\")\n",
    "    else:\n",
    "        file6.write(accession + \"\\n\")\n",
    "```"
   ]
  },
  {
   "cell_type": "markdown",
   "metadata": {},
   "source": [
    "## **Aside:**  Using a context manager to control file access"
   ]
  },
  {
   "cell_type": "markdown",
   "metadata": {},
   "source": [
    "You may have noticed in the previous section's code snippets how ungainly it has become to work with multiple file objects — opening them one by one, and then having to remember to call the `close()` method again on each open file.\n",
    "\n",
    "An advanced Python strucure known as a *context manager* can help to make the syntax for working with file objects less cumbersome and more readable.\n",
    "\n",
    "Context managers are well beyond the scope of this introductory course, so we'll just look at their use in terms of file objects — an idiom you'll see a lot in modern Python code.\n",
    "\n",
    ">An aside **only** for those who are interested:\n",
    "\n",
    ">Objects that act as context managers are usually the sort of thigns that need to be \"built up\" before you can use them, and then \"torn down\" afterwards.  Python has a special keyword — `with` — that work with context managers.  In the `with` statement, the context manager gets built up.  It then stays intact during the code block that follows the `with`, and automatically gets torn down when execution leaves that block.\n",
    "\n",
    ">The file object can act as a context manager.  When you use a file obect as a context manager, it automatically closes the underlying file as soon as the `with` block is left\n",
    "\n",
    "Here's how to use a file object as a context manager, which requires the `with` keyword — let's repeat the example from the start of the previous subsection:"
   ]
  },
  {
   "cell_type": "code",
   "execution_count": null,
   "metadata": {
    "collapsed": true
   },
   "outputs": [],
   "source": [
    "accs = ['ab56', 'bh84', 'hv76', 'ay93', 'ap97', 'bd72']\n",
    "\n",
    "with open(\"one.txt\", 'w') as file1:\n",
    "    for accession in accs:\n",
    "        if accession.startswith('a'):\n",
    "            file1.write(accession + \"\\n\")"
   ]
  },
  {
   "cell_type": "markdown",
   "metadata": {},
   "source": [
    "The entire block under the `with` line lies within the managed context. When code execution leaves this block, the file will automatically be closed.\n",
    "\n",
    "Now, let's use multiple file objects:"
   ]
  },
  {
   "cell_type": "code",
   "execution_count": null,
   "metadata": {
    "collapsed": true
   },
   "outputs": [],
   "source": [
    "accs = ['ab56', 'bh84', 'hv76', 'ay93', 'ap97', 'bd72']\n",
    "\n",
    "with open(\"one.txt\", 'w') as file1, open(\"two.txt\", 'w') as file2:\n",
    "    for accession in accs:\n",
    "        if accession.startswith('a'):\n",
    "            file1.write(accession + \"\\n\")\n",
    "        else:\n",
    "            file2.write(accession + \"\\n\")"
   ]
  },
  {
   "cell_type": "markdown",
   "metadata": {},
   "source": [
    "Again, both `file1` and `file2` will be closed as soon as code execution leaves the managed context.\n",
    "\n",
    "And that's all we'll say about context managers for now.  Feel free to use this idiom when reading from or writing to files;  it is the standard way to do so in modern Python, so you'll see it a lot in other people's code."
   ]
  },
  {
   "cell_type": "markdown",
   "metadata": {},
   "source": [
    "## `while` loops"
   ]
  },
  {
   "cell_type": "markdown",
   "metadata": {},
   "source": [
    "Another thing we can do with conditionals is use them to determine *when to exit a loop*.\n",
    "\n",
    "Previously we've learned about `for` loops that iterate over a collection of items. Python also has a `while` loop. Rather than iterating over a set number of items, a `while` loop runs *until some condition is met*. For example, here’s a bit of code that increments a `count` variable by one each time round the loop, stopping when the `count` variable reaches ten:"
   ]
  },
  {
   "cell_type": "code",
   "execution_count": 49,
   "metadata": {
    "collapsed": false
   },
   "outputs": [
    {
     "name": "stdout",
     "output_type": "stream",
     "text": [
      "0\n",
      "1\n",
      "2\n",
      "3\n",
      "4\n",
      "5\n",
      "6\n",
      "7\n",
      "8\n",
      "9\n"
     ]
    }
   ],
   "source": [
    "count = 0\n",
    "\n",
    "while count < 10:\n",
    "    print(count)\n",
    "    count = count + 1"
   ]
  },
  {
   "cell_type": "markdown",
   "metadata": {},
   "source": [
    "Each time we go around the loop, the condition in the `while` statement is tested.  If it evaluates to `True`, we go around the loop one more time.  If it's `False`, we exit the loop and conrtinue execution below it.\n",
    "\n",
    "We know by now that iterating over a file object with a `for` loop is the simplest way to iterate over the lines of a file.  But if we didn't know this, we could've used a `while` loop as follows, keeping in mind that the `readline()` method of a file object returns an empty string when you \"fall off the end\" of a file:"
   ]
  },
  {
   "cell_type": "code",
   "execution_count": 50,
   "metadata": {
    "collapsed": false
   },
   "outputs": [
    {
     "name": "stdout",
     "output_type": "stream",
     "text": [
      "Line: ab56\n",
      "Line: ay93\n",
      "Line: ap97\n"
     ]
    }
   ],
   "source": [
    "file1 = open(\"one.txt\", 'r')\n",
    "\n",
    "line = file1.readline()\n",
    "\n",
    "while line != \"\":\n",
    "    line = line.rstrip()\n",
    "    print(\"Line:\", line)\n",
    "    line = file1.readline()"
   ]
  },
  {
   "cell_type": "markdown",
   "metadata": {},
   "source": [
    "Can you figure out how the program in the code block above works?\n",
    "\n",
    ">Don't actually iterate over a file like that.  Use a `for` loop!"
   ]
  },
  {
   "cell_type": "markdown",
   "metadata": {},
   "source": [
    "## Truthiness and falsiness"
   ]
  },
  {
   "cell_type": "markdown",
   "metadata": {},
   "source": [
    "American comedian and political commentator Stephen Colbert gave the world the wordy \"truthy\", used to describe complex statements made by politicians that *sound* true, but in fact have a more complicated relationship with actual truth.\n",
    "\n",
    "Many programming languages regard more than just the boolean variables `True` or `False` as true or false, and programmers were quick to appropriate the words *truthiness* and *falsiness* to describe this.\n",
    "\n",
    "A thing is *truthy* if it tests as true in a conditional statement, and vice versa.\n",
    "\n",
    "Let's write a little function to test the truthiness of things:"
   ]
  },
  {
   "cell_type": "code",
   "execution_count": 59,
   "metadata": {
    "collapsed": true
   },
   "outputs": [],
   "source": [
    "def truth_test(thing):\n",
    "    if thing:\n",
    "        print(\"Truthy!\")\n",
    "    else:\n",
    "        print(\"Falsy!\")"
   ]
  },
  {
   "cell_type": "markdown",
   "metadata": {},
   "source": [
    "Let's test some things:"
   ]
  },
  {
   "cell_type": "code",
   "execution_count": 60,
   "metadata": {
    "collapsed": false
   },
   "outputs": [
    {
     "name": "stdout",
     "output_type": "stream",
     "text": [
      "Truthy!\n"
     ]
    }
   ],
   "source": [
    "truth_test(\"ACTG\")        # a string"
   ]
  },
  {
   "cell_type": "code",
   "execution_count": null,
   "metadata": {
    "collapsed": false
   },
   "outputs": [],
   "source": [
    "truth_test(\"\")            # an empty string"
   ]
  },
  {
   "cell_type": "code",
   "execution_count": null,
   "metadata": {
    "collapsed": false
   },
   "outputs": [],
   "source": [
    "truth_test([34, 56, 11])  # a list"
   ]
  },
  {
   "cell_type": "code",
   "execution_count": null,
   "metadata": {
    "collapsed": false
   },
   "outputs": [],
   "source": [
    "truth_test([])            # an empty list"
   ]
  },
  {
   "cell_type": "code",
   "execution_count": null,
   "metadata": {
    "collapsed": false
   },
   "outputs": [],
   "source": [
    "truth_test(42)            # a number"
   ]
  },
  {
   "cell_type": "code",
   "execution_count": null,
   "metadata": {
    "collapsed": false
   },
   "outputs": [],
   "source": [
    "truth_test(-42)           # a negative number"
   ]
  },
  {
   "cell_type": "code",
   "execution_count": null,
   "metadata": {
    "collapsed": false
   },
   "outputs": [],
   "source": [
    "truth_test(0)             # zero"
   ]
  },
  {
   "cell_type": "markdown",
   "metadata": {},
   "source": [
    "As it happens, Python also has a built-in function that does much the same as `truth_test`.  It's called `bool` — it evaluates an argument, and returns the boolean values `True` or `False` depending on the truthiness of that argument:"
   ]
  },
  {
   "cell_type": "code",
   "execution_count": null,
   "metadata": {
    "collapsed": false
   },
   "outputs": [],
   "source": [
    "print(bool(42))\n",
    "print(bool(0))"
   ]
  },
  {
   "cell_type": "markdown",
   "metadata": {},
   "source": [
    "Often we can write conditional statements more simply by keeping truthiness in mind."
   ]
  },
  {
   "cell_type": "markdown",
   "metadata": {},
   "source": [
    "In the `files` subdirectory there's a Fasta file called `sample1.fa`:\n",
    "\n",
    "* [sample1.fa](../edit/files/sample1.fa)\n",
    "\n",
    "As you can see, it contains blank lines between records.  What if we want to filter out those blank lines?  We could do it like this:"
   ]
  },
  {
   "cell_type": "code",
   "execution_count": null,
   "metadata": {
    "collapsed": false
   },
   "outputs": [],
   "source": [
    "for line in open(\"sample1.fa\", 'r'):\n",
    "    line = line.rstrip()\n",
    "    if line != \"\":\n",
    "        print(line)"
   ]
  },
  {
   "cell_type": "markdown",
   "metadata": {},
   "source": [
    "But by keeping truthiness in mind (a non-empty string is \"true\", and an empty string is \"false\"), we can write the condition more succinctly:"
   ]
  },
  {
   "cell_type": "code",
   "execution_count": null,
   "metadata": {
    "collapsed": false
   },
   "outputs": [],
   "source": [
    "for line in open(\"sample1.fa\", 'r'):\n",
    "    line = line.rstrip()\n",
    "    if line:\n",
    "        print(line)"
   ]
  },
  {
   "cell_type": "markdown",
   "metadata": {},
   "source": [
    "## Building up compound conditions"
   ]
  },
  {
   "cell_type": "markdown",
   "metadata": {},
   "source": [
    "What if we wanted to express a condition that was made up of several parts? Imagine we want to go through our list of accessions and print out only the ones that start with `\"a\"` **and** end with `\"3\"`. We could use two nested if statements:"
   ]
  },
  {
   "cell_type": "code",
   "execution_count": 52,
   "metadata": {
    "collapsed": false
   },
   "outputs": [
    {
     "name": "stdout",
     "output_type": "stream",
     "text": [
      "ay93\n"
     ]
    }
   ],
   "source": [
    "accs = ['ab56', 'bh84', 'hv76', 'ay93', 'ap97', 'bd72']\n",
    "\n",
    "for accession in accs:\n",
    "    if accession.startswith('a'):\n",
    "        if accession.endswith('3'):\n",
    "            print(accession)"
   ]
  },
  {
   "cell_type": "markdown",
   "metadata": {},
   "source": [
    "…but this brings in an extra level of indention. A better way is to join up the two condition with `and` to make a complex expression:"
   ]
  },
  {
   "cell_type": "code",
   "execution_count": 51,
   "metadata": {
    "collapsed": false
   },
   "outputs": [
    {
     "name": "stdout",
     "output_type": "stream",
     "text": [
      "ay93\n"
     ]
    }
   ],
   "source": [
    "accs = ['ab56', 'bh84', 'hv76', 'ay93', 'ap97', 'bd72']\n",
    "\n",
    "for accession in accs:\n",
    "    if accession.startswith('a') and accession.endswith('3'):\n",
    "        print(accession)"
   ]
  },
  {
   "cell_type": "markdown",
   "metadata": {},
   "source": [
    "This version is nicer in two ways: it doesn’t require the extra level of indentation, and the condition reads in a very natural way. We can also use `or` to join up two conditions, to produce a complex condition that will be true if either of the two simple conditions are true:"
   ]
  },
  {
   "cell_type": "code",
   "execution_count": 53,
   "metadata": {
    "collapsed": false
   },
   "outputs": [
    {
     "name": "stdout",
     "output_type": "stream",
     "text": [
      "ab56\n",
      "bh84\n",
      "ay93\n",
      "ap97\n",
      "bd72\n"
     ]
    }
   ],
   "source": [
    "accs = ['ab56', 'bh84', 'hv76', 'ay93', 'ap97', 'bd72']\n",
    "\n",
    "for accession in accs:\n",
    "    if accession.startswith('a') or accession.startswith('b'):\n",
    "        print(accession)"
   ]
  },
  {
   "cell_type": "markdown",
   "metadata": {},
   "source": [
    "Say we have two variables `x` and `y`, which can both evaluate to either `True` or `False`.  This tables shows the value of `x and y` and `x or y` for all possible combinations of truth value of `x` and `y`:\n",
    "\n",
    "| `x`     | `y`     | `x and y`   | `x or y`   |\n",
    "|---------|---------|-------------|------------|\n",
    "| `True`  | `True`  | `True`      |`True`      |\n",
    "| `True`  | `False` | `False`     | `True`     | \n",
    "| `False` | `True`  | `False`     | `True`     |\n",
    "| `False` | `False` | `False`     | `False`    |"
   ]
  },
  {
   "cell_type": "markdown",
   "metadata": {},
   "source": [
    "We can join up compound conditions to make more complex compound conditions – here’s an example which prints accessions if they start with either `\"a\"` or `\"b\"`, and end with `\"4\"`:"
   ]
  },
  {
   "cell_type": "code",
   "execution_count": 54,
   "metadata": {
    "collapsed": false
   },
   "outputs": [
    {
     "name": "stdout",
     "output_type": "stream",
     "text": [
      "bh84\n"
     ]
    }
   ],
   "source": [
    "accs = ['ab56', 'bh84', 'hv76', 'ay93', 'ap97', 'bd72']\n",
    "\n",
    "for acc in accs:\n",
    "    if (acc.startswith('a') or acc.startswith('b')) and acc.endswith('4'):\n",
    "        print(acc)"
   ]
  },
  {
   "cell_type": "markdown",
   "metadata": {},
   "source": [
    "Notice how we can include parentheses in the above example to avoid ambiguity.\n",
    "\n",
    "Finally, we can negate any type of condition by prefixing it with the word `not`. This example will print out accessions that start with `\"a\"` and don’t end with 6:"
   ]
  },
  {
   "cell_type": "code",
   "execution_count": 55,
   "metadata": {
    "collapsed": false
   },
   "outputs": [
    {
     "name": "stdout",
     "output_type": "stream",
     "text": [
      "ay93\n",
      "ap97\n"
     ]
    }
   ],
   "source": [
    "accs = ['ab56', 'bh84', 'hv76', 'ay93', 'ap97', 'bd72']\n",
    "\n",
    "for acc in accs:\n",
    "    if acc.startswith('a') and not acc.endswith('6'):\n",
    "        print(acc)"
   ]
  },
  {
   "cell_type": "markdown",
   "metadata": {},
   "source": [
    "By using a combination of the `and`, `or` and `not` (along with parentheses where necessary) we can build up arbitrarily complex conditions.\n",
    "\n",
    "> This kind of use for conditions – identifying elements in a list – can often be done in a more readable fashion using some advanced Python features we'll learn later on.\n",
    "\n",
    "These three keywords — `and`, `or`, `not` — are collectively known as *boolean operators*."
   ]
  },
  {
   "cell_type": "markdown",
   "metadata": {},
   "source": [
    "## Writing true/false functions"
   ]
  },
  {
   "cell_type": "markdown",
   "metadata": {},
   "source": [
    "Sometimes we want to write a function that can be used in a condition. This is very easy to do – we just make sure that our function always returns a boolean value — either `True` or `False`.  (A function that returns a boolean value is called a *predicate function*.)\n",
    "\n",
    "Remember that `True` and False are built-in values in Python, so they can be passed around, stored in variables, and returned, just like numbers or strings.\n",
    "\n",
    "Here’s a function that determines whether or not a DNA sequence is AT-rich (we’ll say that a sequence is AT-rich if it has an AT content of more than 0.65):"
   ]
  },
  {
   "cell_type": "code",
   "execution_count": 56,
   "metadata": {
    "collapsed": true
   },
   "outputs": [],
   "source": [
    "def is_at_rich(dna):\n",
    "    length = len(dna)\n",
    "    a_count = dna.upper().count('A')\n",
    "    t_count = dna.upper().count('T')\n",
    "    at_content = (a_count + t_count) / length\n",
    "    if at_content > 0.65:\n",
    "        return True\n",
    "    else:\n",
    "        return False"
   ]
  },
  {
   "cell_type": "markdown",
   "metadata": {},
   "source": [
    "We’ll test this function on a few sequences to see if it works:"
   ]
  },
  {
   "cell_type": "code",
   "execution_count": 57,
   "metadata": {
    "collapsed": false
   },
   "outputs": [
    {
     "name": "stdout",
     "output_type": "stream",
     "text": [
      "True\n",
      "False\n"
     ]
    }
   ],
   "source": [
    "print(is_at_rich(\"ATTATCTACTA\"))\n",
    "print(is_at_rich(\"CGGCAGCGCT\"))"
   ]
  },
  {
   "cell_type": "markdown",
   "metadata": {},
   "source": [
    "The output shows that the function returns `True` or `False` just like the other conditions we’ve been looking at.  Therefore we can use our function in an `if` statement:\n",
    "\n",
    "```python\n",
    "if is_at_rich(my_dna):\n",
    "    # do something with the sequence\n",
    "```"
   ]
  },
  {
   "cell_type": "markdown",
   "metadata": {},
   "source": [
    "Because the last four lines of our function are devoted to evaluating a condition and returning `True` or `False`, we can write a slightly more compact version. In this example we evaluate the condition, and then return the result right away:"
   ]
  },
  {
   "cell_type": "code",
   "execution_count": null,
   "metadata": {
    "collapsed": true
   },
   "outputs": [],
   "source": [
    "def is_at_rich(dna):\n",
    "    length = len(dna)\n",
    "    a_count = dna.upper().count('A')\n",
    "    t_count = dna.upper().count('T')\n",
    "    at_content = (a_count + t_count) / length\n",
    "    return at_content > 0.65"
   ]
  },
  {
   "cell_type": "markdown",
   "metadata": {},
   "source": [
    "This is a little more concise, and even easier to read."
   ]
  },
  {
   "cell_type": "markdown",
   "metadata": {},
   "source": [
    "---"
   ]
  },
  {
   "cell_type": "markdown",
   "metadata": {},
   "source": [
    "## Exercises"
   ]
  },
  {
   "cell_type": "markdown",
   "metadata": {},
   "source": [
    "In the `files` directory where this Notebook is located, you’ll find a text file called `data.csv` containing some arbitrary data for a number of genes:\n",
    "\n",
    "* [`data.csv`](../edit/files/data.csv)\n",
    "\n",
    ">We have already used `%cd` to change into the `files` directory earlier in this Notebook.\n",
    "\n",
    "Each line contains the following fields for a single gene in this order:\n",
    "\n",
    "    species name, sequence, gene name, expression level\n",
    "\n",
    "The fields are separated by commas.  (Hence the name of the file – `csv` stands for \"Comma Separated Values\").\n",
    "\n",
    "Think of it as a representation of a table in a spreadsheet – each line is a row, and each field in a line is a column. All the exercises for this section use the data read from this file."
   ]
  },
  {
   "cell_type": "markdown",
   "metadata": {},
   "source": [
    "### 1. Several species"
   ]
  },
  {
   "cell_type": "markdown",
   "metadata": {},
   "source": [
    "Print out the gene names for all genes belonging to *Drosophila melanogaster* or *Drosophila simulans*."
   ]
  },
  {
   "cell_type": "code",
   "execution_count": null,
   "metadata": {
    "collapsed": false
   },
   "outputs": [],
   "source": [
    "for line in open(\"data.csv\", 'r'):\n",
    "    line = line.rstrip()\n",
    "    \n",
    "    fields = line.split(',')\n",
    "    \n",
    "    species_name = fields[0]\n",
    "    gene_name = fields[2]\n",
    "    \n",
    "    #if species_name == \"Drosophila melanogaster\" or species_name == \"Drosophila simulans\":\n",
    "    #   print(gene_name)\n",
    "    \n",
    "    if species_name in [\"Drosophila melanogaster\", \"Drosophila simulans\"]:\n",
    "        print(gene_name)"
   ]
  },
  {
   "cell_type": "markdown",
   "metadata": {},
   "source": [
    "### 2. Length range"
   ]
  },
  {
   "cell_type": "markdown",
   "metadata": {},
   "source": [
    "Print out the gene names for all genes between 90 and 110 bases long."
   ]
  },
  {
   "cell_type": "code",
   "execution_count": 62,
   "metadata": {
    "collapsed": false
   },
   "outputs": [],
   "source": [
    "for line in open(\"data.csv\", 'r'):\n",
    "    line = line.rstrip()\n",
    "    \n",
    "    fields = line.split(',')\n",
    "    \n",
    "    sequence = fields[1]\n",
    "    gene_name = fields[2]\n",
    "    \n",
    "    #if sequence == \"90:110\":\n",
    "    #   print(gene_name)\n",
    "    \n",
    "    if sequence in [\"90:110\"]:\n",
    "        print(gene_name)"
   ]
  },
  {
   "cell_type": "markdown",
   "metadata": {},
   "source": [
    "### 3. AT content"
   ]
  },
  {
   "cell_type": "markdown",
   "metadata": {},
   "source": [
    "Print out the gene names for all genes whose AT content is less than 0.5 and whose expression level is greater than 200."
   ]
  },
  {
   "cell_type": "code",
   "execution_count": 76,
   "metadata": {
    "collapsed": false
   },
   "outputs": [],
   "source": [
    "for line in open(\"data.csv\", 'r'):\n",
    "    line = line.rstrip()\n",
    "    \n",
    "    fields = line.split(',')\n",
    "    \n",
    "    sequence = fields[1]\n",
    "    gene_name = fields[2]\n",
    "    expression = fields[3]\n",
    "    \n",
    "    # if AT content > 0.5 and expression > 200:\n",
    "    #   print(gene_name)\n",
    "    \n",
    "    def at_content(data):\n",
    "        length = len(sequence)\n",
    "        a_count = data.upper().count('A')\n",
    "        t_count = data.upper().count('T')\n",
    "        at_content = (a_count + t_count) / length\n",
    "        \n",
    "        if at_content > 0.5 and expression > 200:\n",
    "            print(gene_name)"
   ]
  },
  {
   "cell_type": "markdown",
   "metadata": {},
   "source": [
    "### 4. Complex condition"
   ]
  },
  {
   "cell_type": "markdown",
   "metadata": {},
   "source": [
    "Print out the gene names for all genes whose name begins with “k” or “h” except those belonging to Drosophila melanogaster."
   ]
  },
  {
   "cell_type": "code",
   "execution_count": null,
   "metadata": {
    "collapsed": false
   },
   "outputs": [],
   "source": [
    "for line in open(\"data.csv\", 'r'):\n",
    "    line = line.rstrip()\n",
    "    \n",
    "    fields = line.split(',')\n",
    "    \n",
    "    sequence = fields[1]\n",
    "    gene_name = fields[2]\n",
    "    expression = fields[3]\n",
    "    \n",
    "    # if k or h but not Drosophila melanogaster\n",
    "    #   print(gene_name)\n",
    "    \n",
    "    for names in line:\n",
    "    if name.startswith('k') or name.startswith('h') and not name.startswith('Drosophila melanogaster'):\n",
    "        print(gene_name)\n",
    "        "
   ]
  },
  {
   "cell_type": "markdown",
   "metadata": {},
   "source": [
    "### 5. High low medium"
   ]
  },
  {
   "cell_type": "markdown",
   "metadata": {},
   "source": [
    "For each gene, print out a message giving the gene name and saying whether its AT content is high (greater than 0.65), low (less than 0.45) or medium (between 0.45 and 0.65)."
   ]
  },
  {
   "cell_type": "code",
   "execution_count": null,
   "metadata": {
    "collapsed": true
   },
   "outputs": [],
   "source": []
  }
 ],
 "metadata": {
  "kernelspec": {
   "display_name": "Python 3",
   "language": "python",
   "name": "python3"
  },
  "language_info": {
   "codemirror_mode": {
    "name": "ipython",
    "version": 3
   },
   "file_extension": ".py",
   "mimetype": "text/x-python",
   "name": "python",
   "nbconvert_exporter": "python",
   "pygments_lexer": "ipython3",
   "version": "3.6.0"
  }
 },
 "nbformat": 4,
 "nbformat_minor": 0
}

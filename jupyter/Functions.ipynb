{
 "cells": [
  {
   "cell_type": "markdown",
   "metadata": {},
   "source": [
    "<div align=right>\n",
    "<img src=\"img/logosmall.png\" width=\"100px\" align=right>\n",
    "</div>"
   ]
  },
  {
   "cell_type": "markdown",
   "metadata": {},
   "source": [
    "# Writing our own functions"
   ]
  },
  {
   "cell_type": "markdown",
   "metadata": {},
   "source": [
    "<div class=\"alert alert-warning\">\n",
    "Parts of this section have been adapted from copyrighted material in *Jones, M: Python for Biologists: A complete programming course for beginners (2013)*.\n",
    "\n",
    "**Please do not distribute it!**"
   ]
  },
  {
   "cell_type": "markdown",
   "metadata": {},
   "source": [
    "## Why do we want to write our own functions?"
   ]
  },
  {
   "cell_type": "markdown",
   "metadata": {},
   "source": [
    "Take a look back at the very first exercise in the first section – the one where we had to write a program to calculate the GC content of a DNA sequence:\n",
    "\n",
    "```python\n",
    "my_dna = \"ACTGATCGATTACGTATAGTATTTGCTATCATACATATATATCGATGCGTTCAT\"\n",
    "\n",
    "length = len(my_dna)\n",
    "g_count = my_dna.count('G')\n",
    "c_count = my_dna.count('C')\n",
    "gc_content = (g_count + c_count) / length\n",
    "\n",
    "print(\"GC content is \" + str(gc_content))\n",
    "```\n",
    "\n",
    "It takes four middle lines of code to calculate the GC content. Every place in our code where we want to calculate the GC content of a sequence, we need these same four lines – exactly, without any mistakes.\n",
    "\n",
    "It would be much simpler if Python had a built-in function (let’s call it `get_gc_content()`) for calculating GC content. If that were the case, then we could just run `get_gc_content()` in the same way we run `print()`, or `len()`, or `open()`. Being a general-purpose language, Python does not have such a built-in function.  It does have the next best thing — a way for us to create our own functions.\n",
    "\n",
    "Creating our own function to carry out a particular job has many benefits. It allows us to **re-use the same code** many times within a program without having to copy it out each time. Additionally, if we find that we have to make a change to the code, we only have to do it in one place. We can also re-use code across multiple programs!\n",
    "\n",
    "Splitting our code into functions also allows us to tackle larger problems, as we can work on different bits of the code independently."
   ]
  },
  {
   "cell_type": "markdown",
   "metadata": {},
   "source": [
    "## Defining a function"
   ]
  },
  {
   "cell_type": "markdown",
   "metadata": {},
   "source": [
    "Let’s create our `get_gc_content()` function!\n",
    "\n",
    "Before we start, we need to figure out:\n",
    "\n",
    "* What are the inputs going to be? (the function's *arguments*)\n",
    "* What are the outputs going to be? (the function's *return value*)\n",
    "\n",
    "For this function it seems obvious:\n",
    "\n",
    "* The input is going to be a single DNA sequence (a string).\n",
    "* and the output is going to be a decimal number (an integer).\n",
    "\n",
    "Here's the code:"
   ]
  },
  {
   "cell_type": "code",
   "execution_count": 3,
   "metadata": {
    "collapsed": false
   },
   "outputs": [],
   "source": [
    "def get_gc_content(dna):\n",
    "    length = len(dna)\n",
    "    g_count = dna.count('G')\n",
    "    c_count = dna.count('C')\n",
    "    gc_content = (g_count + c_count) / length\n",
    "    return gc_content"
   ]
  },
  {
   "cell_type": "code",
   "execution_count": null,
   "metadata": {
    "collapsed": true
   },
   "outputs": [],
   "source": []
  },
  {
   "cell_type": "markdown",
   "metadata": {},
   "source": [
    "* The first line of the function definition starts with the keyword `def`( short for *define*)…\n",
    "\n",
    "* followed by the name of the function…\n",
    "\n",
    "* followed by the names of the argument variables, in parentheses.\n",
    "\n",
    "The function name and the argument names are arbitrary.  As always, it's good to use descriptive names.\n",
    "\n",
    "This first line ends with a colon, just like the first line of a `for` loop.\n",
    "\n",
    "And just like `for` loops, this line is followed by a *code block* of indented lines – we call this the *function body*.\n",
    "\n",
    "The function body can have as many lines of code as we like, as long as they all have the same indentation. Within the function body, we can refer to the arguments by using the variable names from the first (definition) line. In this case, the variable `dna` refers to the sequence that was passed in as the argument to the function.\n",
    "\n",
    "The last line of the function causes it to *return* the GC content that was calculated in the function body. We write the keyword `return` followed by the value that the function should return.\n",
    "\n",
    "There are a couple of important things to be aware of when writing functions. Firstly, we need to make a clear distinction between *defining* a function, and *calling* it.  The code we’ve written above will not cause anything obvious to happen when we evaluate it, because we’ve not actually asked Python to execute the `get_gc_content()` function – we have simply defined what it is.\n",
    "\n",
    "In fact, something *does* happen behind the scenes.  A new function object is created, and a variable called `get_gc_content` now refers to this function object.\n",
    "\n",
    "We can evaluate the function we've just defined:"
   ]
  },
  {
   "cell_type": "code",
   "execution_count": 35,
   "metadata": {
    "collapsed": false
   },
   "outputs": [
    {
     "data": {
      "text/plain": [
       "<function __main__.get_gc_content>"
      ]
     },
     "execution_count": 35,
     "metadata": {},
     "output_type": "execute_result"
    }
   ],
   "source": [
    "get_gc_content"
   ]
  },
  {
   "cell_type": "markdown",
   "metadata": {},
   "source": [
    "You'll see that Python regards it as an object of type *function*.\n",
    "\n",
    "The code in the function body will only be executed when we call the function.  And we call it in the same way we've called built-in functions like `print`:"
   ]
  },
  {
   "cell_type": "code",
   "execution_count": 36,
   "metadata": {
    "collapsed": false
   },
   "outputs": [
    {
     "data": {
      "text/plain": [
       "0.5"
      ]
     },
     "execution_count": 36,
     "metadata": {},
     "output_type": "execute_result"
    }
   ],
   "source": [
    "get_gc_content(\"ATGACTGGACCA\")"
   ]
  },
  {
   "cell_type": "markdown",
   "metadata": {},
   "source": [
    "In order to use the calculated return value to do something useful, we must either store the result in a variable:"
   ]
  },
  {
   "cell_type": "code",
   "execution_count": 7,
   "metadata": {
    "collapsed": false
   },
   "outputs": [
    {
     "name": "stdout",
     "output_type": "stream",
     "text": [
      "0.45454545454545453\n"
     ]
    }
   ],
   "source": [
    "gc_cnt = get_gc_content(\"ATGACTGACCA\")\n",
    "print(gc_cnt)"
   ]
  },
  {
   "cell_type": "markdown",
   "metadata": {},
   "source": [
    "…or use it directly:"
   ]
  },
  {
   "cell_type": "code",
   "execution_count": 5,
   "metadata": {
    "collapsed": false
   },
   "outputs": [
    {
     "name": "stdout",
     "output_type": "stream",
     "text": [
      "GC content is 0.5\n"
     ]
    }
   ],
   "source": [
    "print(\"GC content is\", get_gc_content(\"ATGACTGGACCA\"))"
   ]
  },
  {
   "cell_type": "markdown",
   "metadata": {},
   "source": [
    "Secondly, it’s important to understand that the argument variable `dna` does not refer to any particular value when the function is defined. Instead, its job is to refer to whatever value is *passed* as the argument to the function when it is called.\n",
    "\n",
    "Note that the variable `dna`, `length`, `g_count`, `c_count` and `gc_content` exist **only inside the function** `get_gc_content`.  We say the variables are *local* to the function, and that the code block which forms the body of the function is the *scope* of these variables.\n",
    "\n",
    "If we try to use or evaluate a function's local variable from outside the function, we'll get the standard error for an undefined name:"
   ]
  },
  {
   "cell_type": "code",
   "execution_count": 33,
   "metadata": {
    "collapsed": false
   },
   "outputs": [
    {
     "ename": "NameError",
     "evalue": "name 'g_count' is not defined",
     "output_type": "error",
     "traceback": [
      "\u001b[0;31m---------------------------------------------------------------------------\u001b[0m",
      "\u001b[0;31mNameError\u001b[0m                                 Traceback (most recent call last)",
      "\u001b[0;32m<ipython-input-33-3dbb793db729>\u001b[0m in \u001b[0;36m<module>\u001b[0;34m()\u001b[0m\n\u001b[0;32m----> 1\u001b[0;31m \u001b[0mprint\u001b[0m\u001b[0;34m(\u001b[0m\u001b[0mg_count\u001b[0m\u001b[0;34m)\u001b[0m\u001b[0;34m\u001b[0m\u001b[0m\n\u001b[0m",
      "\u001b[0;31mNameError\u001b[0m: name 'g_count' is not defined"
     ]
    }
   ],
   "source": [
    "print(g_count)"
   ]
  },
  {
   "cell_type": "markdown",
   "metadata": {},
   "source": [
    "If we define a variable in a Jupyter code box outside of any code block, that variable becomes a *global variable* in the current Notebook:"
   ]
  },
  {
   "cell_type": "code",
   "execution_count": 37,
   "metadata": {
    "collapsed": true
   },
   "outputs": [],
   "source": [
    "my_variable = 42"
   ]
  },
  {
   "cell_type": "markdown",
   "metadata": {},
   "source": [
    "We say such a variable is in the *global scope*.\n",
    "\n",
    "Similarly, if we define a variable outside of any code block in a Python *module* (a \"module\" is simply a text file containing Python code), that variable is *global* in that module.\n",
    "\n",
    "In Python ever object has a *namespace*.  Inside a given namespace, variables can be assigned to objects… just like the luggage tags we saw in the illustrations in the first section of this course.\n",
    "\n",
    "However, namespaces are *completely independent*.  It's quite possible to have two variables called `gc_content` in two different namespaces that reference completely different bits of data.\n",
    "\n",
    "While were were inside a function, any reference to a variable name (say, `gc_content`) resolved to the *local variable* of that name (the one in the function's namespace).  If, however, there is no local variable called `gc_content` in the function's namespace, the name `gc_content` will be looked up in the *global* namespace.\n",
    "\n",
    "In a sense, local variables \"override\" global ones.  We often say that the local variable *shadows* the global variable.\n",
    "\n",
    "Once we were again outside our function, a reference to `gc_content` once more referred to the variable of that name in the global namespace (which still has the same value we assigned to it all the way back up in the first code box).\n",
    "\n",
    "Let's define two short functions, one with a local variable called `gc_content` and one without:"
   ]
  },
  {
   "cell_type": "code",
   "execution_count": 10,
   "metadata": {
    "collapsed": true
   },
   "outputs": [],
   "source": [
    "def func1():\n",
    "    return gc_content\n",
    "    \n",
    "def func2():\n",
    "    gc_content = 0.4\n",
    "    return gc_content"
   ]
  },
  {
   "cell_type": "markdown",
   "metadata": {},
   "source": [
    "And play with them:"
   ]
  },
  {
   "cell_type": "code",
   "execution_count": 38,
   "metadata": {
    "collapsed": false
   },
   "outputs": [
    {
     "ename": "NameError",
     "evalue": "name 'gc_content' is not defined",
     "output_type": "error",
     "traceback": [
      "\u001b[0;31m---------------------------------------------------------------------------\u001b[0m",
      "\u001b[0;31mNameError\u001b[0m                                 Traceback (most recent call last)",
      "\u001b[0;32m<ipython-input-38-043607b7b3c9>\u001b[0m in \u001b[0;36m<module>\u001b[0;34m()\u001b[0m\n\u001b[0;32m----> 1\u001b[0;31m \u001b[0mfunc1\u001b[0m\u001b[0;34m(\u001b[0m\u001b[0;34m)\u001b[0m\u001b[0;34m\u001b[0m\u001b[0m\n\u001b[0m",
      "\u001b[0;32m<ipython-input-10-15686dd557e6>\u001b[0m in \u001b[0;36mfunc1\u001b[0;34m()\u001b[0m\n\u001b[1;32m      1\u001b[0m \u001b[0;32mdef\u001b[0m \u001b[0mfunc1\u001b[0m\u001b[0;34m(\u001b[0m\u001b[0;34m)\u001b[0m\u001b[0;34m:\u001b[0m\u001b[0;34m\u001b[0m\u001b[0m\n\u001b[0;32m----> 2\u001b[0;31m     \u001b[0;32mreturn\u001b[0m \u001b[0mgc_content\u001b[0m\u001b[0;34m\u001b[0m\u001b[0m\n\u001b[0m\u001b[1;32m      3\u001b[0m \u001b[0;34m\u001b[0m\u001b[0m\n\u001b[1;32m      4\u001b[0m \u001b[0;32mdef\u001b[0m \u001b[0mfunc2\u001b[0m\u001b[0;34m(\u001b[0m\u001b[0;34m)\u001b[0m\u001b[0;34m:\u001b[0m\u001b[0;34m\u001b[0m\u001b[0m\n\u001b[1;32m      5\u001b[0m     \u001b[0mgc_content\u001b[0m \u001b[0;34m=\u001b[0m \u001b[0;36m0.4\u001b[0m\u001b[0;34m\u001b[0m\u001b[0m\n",
      "\u001b[0;31mNameError\u001b[0m: name 'gc_content' is not defined"
     ]
    }
   ],
   "source": [
    "func1()"
   ]
  },
  {
   "cell_type": "code",
   "execution_count": 39,
   "metadata": {
    "collapsed": false
   },
   "outputs": [
    {
     "data": {
      "text/plain": [
       "0.4"
      ]
     },
     "execution_count": 39,
     "metadata": {},
     "output_type": "execute_result"
    }
   ],
   "source": [
    "func2()"
   ]
  },
  {
   "cell_type": "markdown",
   "metadata": {},
   "source": [
    "Now we define a variable called `gc_content` in the global scope of this Notebook:"
   ]
  },
  {
   "cell_type": "code",
   "execution_count": 40,
   "metadata": {
    "collapsed": true
   },
   "outputs": [],
   "source": [
    "gc_content = 0.5"
   ]
  },
  {
   "cell_type": "markdown",
   "metadata": {},
   "source": [
    "And we try calling our functions again:"
   ]
  },
  {
   "cell_type": "code",
   "execution_count": 41,
   "metadata": {
    "collapsed": false
   },
   "outputs": [
    {
     "data": {
      "text/plain": [
       "0.5"
      ]
     },
     "execution_count": 41,
     "metadata": {},
     "output_type": "execute_result"
    }
   ],
   "source": [
    "func1()"
   ]
  },
  {
   "cell_type": "code",
   "execution_count": 42,
   "metadata": {
    "collapsed": false
   },
   "outputs": [
    {
     "data": {
      "text/plain": [
       "0.4"
      ]
     },
     "execution_count": 42,
     "metadata": {},
     "output_type": "execute_result"
    }
   ],
   "source": [
    "func2()"
   ]
  },
  {
   "cell_type": "markdown",
   "metadata": {},
   "source": [
    "Can you explain exactly what happened there?"
   ]
  },
  {
   "cell_type": "markdown",
   "metadata": {},
   "source": [
    "## Calling and improving our function"
   ]
  },
  {
   "cell_type": "markdown",
   "metadata": {},
   "source": [
    "Let’s write some code that uses our `get_gc_content()` function it to see how it works:"
   ]
  },
  {
   "cell_type": "code",
   "execution_count": 12,
   "metadata": {
    "collapsed": false
   },
   "outputs": [
    {
     "name": "stdout",
     "output_type": "stream",
     "text": [
      "0.55\n",
      "0.47058823529411764\n",
      "0.0\n"
     ]
    }
   ],
   "source": [
    "my_gc_content = get_gc_content(\"ATGCGCGATCGATCGAATCG\")\n",
    "print(my_gc_content)\n",
    "print(get_gc_content(\"ATGCATGCAACTGTAGC\"))\n",
    "print(get_gc_content(\"aactgtagctagctagcagcgta\"))"
   ]
  },
  {
   "cell_type": "markdown",
   "metadata": {},
   "source": [
    "Looking at the output, we can see that the first function call works fine – the GC content is calculated to be 0.55, is stored in the variable `my_gc_content`, then printed.\n",
    "\n",
    "However, the output for the next two calls is not so great. The call at line 3 produces a number with way too many figures after the decimal point, and the call at line 4, with the input sequence in lower case, gives a result of `0.0`, which is definitely not correct.  (Can you guess why?)\n",
    "\n",
    "We’ll fix these problems by making a couple of changes to the `get_gc_content()` function:\n",
    "\n",
    "* We can add a rounding step in order to limit the number of significant figures in the result.\n",
    "\n",
    "  Python has a built-in `round()` function that takes two arguments – the number we want to round, and the number of significant digits we desire.\n",
    "  \n",
    "\n",
    "* We can fix the lower case problem by converting the input sequence to upper case before starting the calculation.\n",
    "\n",
    "Here’s the new version of the function, with the same three function calls:"
   ]
  },
  {
   "cell_type": "code",
   "execution_count": 15,
   "metadata": {
    "collapsed": false
   },
   "outputs": [
    {
     "name": "stdout",
     "output_type": "stream",
     "text": [
      "0.55\n",
      "0.47\n",
      "0.48\n"
     ]
    }
   ],
   "source": [
    "def get_gc_content(dna):\n",
    "    length = len(dna)\n",
    "    g_count = dna.upper().count('G')\n",
    "    c_count = dna.upper().count('C')\n",
    "    gc_content = (g_count + c_count) / length\n",
    "    return round(gc_content, 2)\n",
    " \n",
    "my_gc_content = get_gc_content(\"ATGCGCGATCGATCGAATCG\")\n",
    "print(my_gc_content)\n",
    "print(get_gc_content(\"ATGCATGCAACTGTAGC\"))\n",
    "print(get_gc_content(\"aactgtagctagctagcagcgta\"))"
   ]
  },
  {
   "cell_type": "markdown",
   "metadata": {},
   "source": [
    "Much better, but we can do better still:\n",
    "\n",
    "Why not make it so that we can specify the number of significant digit when we call the function?\n",
    "\n",
    "We add a second argument variable `sig_digs` to the function definition, and use it in the call to `round()`:"
   ]
  },
  {
   "cell_type": "code",
   "execution_count": 16,
   "metadata": {
    "collapsed": false
   },
   "outputs": [
    {
     "name": "stdout",
     "output_type": "stream",
     "text": [
      "0.5\n",
      "0.47\n",
      "0.471\n"
     ]
    }
   ],
   "source": [
    "def get_gc_content(dna, sig_digs):\n",
    "    length = len(dna)\n",
    "    g_count = dna.upper().count('G')\n",
    "    c_count = dna.upper().count('C')\n",
    "    gc_content = (g_count + c_count) / length\n",
    "    return round(gc_content, sig_digs)\n",
    " \n",
    "test_dna = \"ATGCATGCAACTGTAGC\"\n",
    "print(get_gc_content(test_dna, 1))\n",
    "print(get_gc_content(test_dna, 2))\n",
    "print(get_gc_content(test_dna, 3))"
   ]
  },
  {
   "cell_type": "markdown",
   "metadata": {},
   "source": [
    "The output confirms that the rounding works as intended."
   ]
  },
  {
   "cell_type": "markdown",
   "metadata": {},
   "source": [
    "## Encapsulation"
   ]
  },
  {
   "cell_type": "markdown",
   "metadata": {},
   "source": [
    "Let’s pause for a moment and consider what we've just done:\n",
    "\n",
    "We wrote a function, and then wrote some code that used that function. In the process of writing the code that used the function, we discovered a couple of problems with our original function definition. **We were then able to go back and change the function definition, without having to make any changes to the code that used the function.**\n",
    "\n",
    "This is a programming phenomenon that we call *encapsulation*. Encapsulation just means dividing up a complex program into little bits which we can work on independently. In our example the code is divided into two parts: The part where we define the function, and the part where we call it.  And we can make changes to one part without worrying about the effects on the other.\n",
    "\n",
    "This is a very powerful idea, because without it, the size of programs we can write is limited to the number of lines of code we can hold in our head at one time. Some of the example code in the solutions to exercises in the previous section were starting to push at this limit already, even for relatively simple problems. By contrast, using functions allows us to build up a complex program from small building blocks, each of which individually is small enough to understand in its entirety."
   ]
  },
  {
   "cell_type": "markdown",
   "metadata": {},
   "source": [
    "## Functions don’t always have to take an argument"
   ]
  },
  {
   "cell_type": "markdown",
   "metadata": {},
   "source": [
    "There's nothing that says that your function *must* take an argument. It's perfectly possible to define a function with no arguments:\n",
    "\n",
    "```python\n",
    "def get_a_number():\n",
    "    return 42\n",
    "```"
   ]
  },
  {
   "cell_type": "markdown",
   "metadata": {},
   "source": [
    "…but such functions tend not to be very useful. For example, we can write a version of `get_gc_content` that doesn’t require any arguments by setting the value of the `dna` variable inside the function:"
   ]
  },
  {
   "cell_type": "code",
   "execution_count": 17,
   "metadata": {
    "collapsed": true
   },
   "outputs": [],
   "source": [
    "def get_gc_content_2():\n",
    "    dna = \"ACTGATGCTAGCTA\"\n",
    "    length = len(dna)\n",
    "    g_count = dna.upper().count('G')\n",
    "    c_count = dna.upper().count('C')\n",
    "    gc_content = (g_count + c_count) / length\n",
    "    return round(gc_content, 2)"
   ]
  },
  {
   "cell_type": "markdown",
   "metadata": {},
   "source": [
    "…but this version will always calculate the same value, unless we change the DNA sequence directly in the code.  It's not reusable, and therefore not very useful as a function.\n",
    "\n",
    "Another thing we should avoid doing is writing a function that uses a global variable rather than a parameter:"
   ]
  },
  {
   "cell_type": "code",
   "execution_count": 43,
   "metadata": {
    "collapsed": false
   },
   "outputs": [
    {
     "name": "stdout",
     "output_type": "stream",
     "text": [
      "0.5\n"
     ]
    }
   ],
   "source": [
    "def get_gc_content_3():\n",
    "    length = len(dna)\n",
    "    g_count = dna.upper().count('G')\n",
    "    c_count = dna.upper().count('C')\n",
    "    gc_content = (g_count + c_count) / length\n",
    "    return round(gc_content, 2)\n",
    " \n",
    "dna = \"ACTGATCGATCG\"\n",
    "print(get_gc_content_3())"
   ]
  },
  {
   "cell_type": "markdown",
   "metadata": {},
   "source": [
    "It works because the function gets the value of the global `dna` variable.\n",
    "\n",
    ">Remember:  If you reference a variable inside a function, Python first tries to look it up in the function's own namespace.  If it doesn't find a variable of that name bound in the local namespace, it also tries the global namespace.  So you can indeed use global variables inside the body of a function.\n",
    "\n",
    "But this is practically **never a good idea**.  It **breaks the encapsulation** that we worked so hard to achieve. The function now only works if there is a variable called `dna` set in the bit of the code where the function is called, so the two pieces of code are no longer independent.\n",
    "\n",
    "If you find yourself writing code like this, it's usually a good idea to identify which variables from outside the function are being used inside it, and turn them into arguments."
   ]
  },
  {
   "cell_type": "markdown",
   "metadata": {},
   "source": [
    "## Functions don’t always have to return a value"
   ]
  },
  {
   "cell_type": "markdown",
   "metadata": {},
   "source": [
    "Consider this variation of our function – instead of returning the GC content, this function prints it to the screen:"
   ]
  },
  {
   "cell_type": "code",
   "execution_count": 44,
   "metadata": {
    "collapsed": true
   },
   "outputs": [],
   "source": [
    "def print_gc_content_p(dna):\n",
    "    length = len(dna)\n",
    "    g_count = dna.upper().count('G')\n",
    "    c_count = dna.upper().count('C')\n",
    "    gc_content = (g_count + c_count) / length\n",
    "    print(round(gc_content, 2))"
   ]
  },
  {
   "cell_type": "markdown",
   "metadata": {},
   "source": [
    "When you first start writing functions, it’s very tempting to do this kind of thing. You think *“OK, I need to calculate and print the GC content – I’ll write a function that does both”*. The trouble with this approach is that it results in a function that is less flexible. Right now you want to print the GC content to the screen, but what if you later discover that you want to write it to a file, or use it as part of some other calculation? You’ll have to write more functions to carry out these tasks.\n",
    "\n",
    "As far as possible, the functions you write should be like mathematical functions.  A mathematical function takes certain arguments, does its calculation, and returns the result of that calculation.  It does not affect the state of the world in any way except by returning its result.\n",
    "\n",
    "For instance, this mathematical function `f`:\n",
    "\n",
    "\\begin{equation*}f(x) = x^2\\end{equation*}\n",
    "\n",
    "If we call it with an argument it consumes that argument, and returns a result which is the square of that argument:\n",
    "\n",
    "\\begin{equation*}f(2) = 4\\end{equation*}\n",
    "\n",
    "While doing its calculation, it doesn't make anything appear on your computer screen, it doesn't switch on the room light, and it doesn't launch any nuclear missiles;  it *simply and only returns its result*.\n",
    "\n",
    "Similarly (for the most part!) the functions we write in our code should strive to be \"real functions\" which should only communicate with the outside world through the results they return.  This helps to ensure a reasonable degree of encapsulation.  The above mathematical function can be implemented and called in Python like this:"
   ]
  },
  {
   "cell_type": "code",
   "execution_count": 18,
   "metadata": {
    "collapsed": false
   },
   "outputs": [
    {
     "data": {
      "text/plain": [
       "4"
      ]
     },
     "execution_count": 18,
     "metadata": {},
     "output_type": "execute_result"
    }
   ],
   "source": [
    "def f(x):\n",
    "    return x**2\n",
    "\n",
    "f(2)"
   ]
  },
  {
   "cell_type": "markdown",
   "metadata": {},
   "source": [
    "(The double-asterisk (“`**`”) is Python's exponentiation operator.)\n",
    "\n",
    "Anything a function does over and above returning a result, and which does affect the state of the world (like writing some text to the terminal) is called a *side effect*.  Examples of side effects are:  Changing the value of a global variable, and printing a result to the screen.\n",
    "\n",
    "Of course, we have to print results to the screen *sometimes*, but in such cases it's good to group all the input/output operations together in functions that *only* do input and output."
   ]
  },
  {
   "cell_type": "markdown",
   "metadata": {},
   "source": [
    "## Functions can be called with named arguments"
   ]
  },
  {
   "cell_type": "markdown",
   "metadata": {},
   "source": [
    "What do we need to know about a function in order to be able to use it? We need to know what the return value and type is, and we need to know the number and type of the arguments. For most of the examples we’ve seen so far we also need to know the **order** of the arguments.\n",
    "\n",
    "For instance, to use the `open()` function we need to know that the name of the file comes first, followed by mode flag. And to use our two-argument version of `get_gc_content()`, we need to know that the DNA sequence comes first, followed by the number of significant figures.\n",
    "\n",
    "Python supports *keyword arguments* which allows us to call functions in a slightly different way. Instead of giving a list of arguments in parentheses:"
   ]
  },
  {
   "cell_type": "code",
   "execution_count": 21,
   "metadata": {
    "collapsed": false
   },
   "outputs": [
    {
     "data": {
      "text/plain": [
       "0.55"
      ]
     },
     "execution_count": 21,
     "metadata": {},
     "output_type": "execute_result"
    }
   ],
   "source": [
    "get_gc_content(\"ATCGTGACTCG\", 2)"
   ]
  },
  {
   "cell_type": "markdown",
   "metadata": {},
   "source": [
    "…we can supply a list of argument variable names and values joined by equals signs:"
   ]
  },
  {
   "cell_type": "code",
   "execution_count": 22,
   "metadata": {
    "collapsed": false
   },
   "outputs": [
    {
     "data": {
      "text/plain": [
       "0.55"
      ]
     },
     "execution_count": 22,
     "metadata": {},
     "output_type": "execute_result"
    }
   ],
   "source": [
    "get_gc_content(dna=\"ATCGTGACTCG\", sig_digs=2)"
   ]
  },
  {
   "cell_type": "markdown",
   "metadata": {},
   "source": [
    "This style of calling functions has several advantages. It doesn’t rely on the order of arguments, so we can use whichever order we prefer. This statement behaves identically to the one above:"
   ]
  },
  {
   "cell_type": "code",
   "execution_count": 23,
   "metadata": {
    "collapsed": false,
    "scrolled": true
   },
   "outputs": [
    {
     "data": {
      "text/plain": [
       "0.55"
      ]
     },
     "execution_count": 23,
     "metadata": {},
     "output_type": "execute_result"
    }
   ],
   "source": [
    "get_gc_content(sig_digs=2, dna=\"ATCGTGACTCG\")"
   ]
  },
  {
   "cell_type": "markdown",
   "metadata": {},
   "source": [
    "It’s also clearer to read what’s happening when the argument names are given explicitly.\n",
    "\n",
    "We can even mix and match the two styles of calling – the following are all identical:"
   ]
  },
  {
   "cell_type": "code",
   "execution_count": 24,
   "metadata": {
    "collapsed": false
   },
   "outputs": [
    {
     "data": {
      "text/plain": [
       "0.55"
      ]
     },
     "execution_count": 24,
     "metadata": {},
     "output_type": "execute_result"
    }
   ],
   "source": [
    "get_gc_content(\"ATCGTGACTCG\", 2)"
   ]
  },
  {
   "cell_type": "code",
   "execution_count": 25,
   "metadata": {
    "collapsed": false
   },
   "outputs": [
    {
     "data": {
      "text/plain": [
       "0.55"
      ]
     },
     "execution_count": 25,
     "metadata": {},
     "output_type": "execute_result"
    }
   ],
   "source": [
    "get_gc_content(dna=\"ATCGTGACTCG\", sig_digs=2)"
   ]
  },
  {
   "cell_type": "code",
   "execution_count": 26,
   "metadata": {
    "collapsed": false
   },
   "outputs": [
    {
     "data": {
      "text/plain": [
       "0.55"
      ]
     },
     "execution_count": 26,
     "metadata": {},
     "output_type": "execute_result"
    }
   ],
   "source": [
    "get_gc_content(\"ATCGTGACTCG\", sig_digs=2)"
   ]
  },
  {
   "cell_type": "markdown",
   "metadata": {},
   "source": [
    "Although we’re not allowed to start using keyword arguments then switch back to positional – this will cause an error:"
   ]
  },
  {
   "cell_type": "code",
   "execution_count": 45,
   "metadata": {
    "collapsed": false
   },
   "outputs": [
    {
     "ename": "SyntaxError",
     "evalue": "positional argument follows keyword argument (<ipython-input-45-8c6ce3e321d5>, line 1)",
     "output_type": "error",
     "traceback": [
      "\u001b[0;36m  File \u001b[0;32m\"<ipython-input-45-8c6ce3e321d5>\"\u001b[0;36m, line \u001b[0;32m1\u001b[0m\n\u001b[0;31m    get_gc_content(dna=\"ATCGTGACTCG\", 2)\u001b[0m\n\u001b[0m                                     ^\u001b[0m\n\u001b[0;31mSyntaxError\u001b[0m\u001b[0;31m:\u001b[0m positional argument follows keyword argument\n"
     ]
    }
   ],
   "source": [
    "get_gc_content(dna=\"ATCGTGACTCG\", 2)"
   ]
  },
  {
   "cell_type": "markdown",
   "metadata": {},
   "source": [
    "Keyword arguments can be particularly useful for functions and methods that have a lot of arguments, and we’ll use them where appropriate in the examples and exercise solutions in the rest of this course."
   ]
  },
  {
   "cell_type": "markdown",
   "metadata": {},
   "source": [
    "## Function arguments can have defaults"
   ]
  },
  {
   "cell_type": "markdown",
   "metadata": {},
   "source": [
    "We’ve encountered function arguments with defaults before: Recall that the `open()` function takes two arguments – a file name and a mode flag – but that if we call it with just a file name it uses a default value of `'r'` for the mode flag.\n",
    "\n",
    "We can write our own functions to have default arguments:  We simply specify the default value in the function definition. Heress a version of our `get_gc_content()` function where the default number of significant digits is two:"
   ]
  },
  {
   "cell_type": "code",
   "execution_count": 46,
   "metadata": {
    "collapsed": true
   },
   "outputs": [],
   "source": [
    "def get_gc_content(dna, sig_digs=2):\n",
    "    length = len(dna)\n",
    "    g_count = dna.upper().count('G')\n",
    "    c_count = dna.upper().count('C')\n",
    "    gc_content = (g_count + c_count) / length\n",
    "    return round(gc_content, sig_digs)"
   ]
  },
  {
   "cell_type": "markdown",
   "metadata": {},
   "source": [
    "Now we have the best of both worlds. If the function is called with two arguments, it will use the number of significant figures specified; if it’s called with one argument, it will use the default value of two significant figures. Let’s see some examples:"
   ]
  },
  {
   "cell_type": "code",
   "execution_count": 47,
   "metadata": {
    "collapsed": false
   },
   "outputs": [
    {
     "data": {
      "text/plain": [
       "0.55"
      ]
     },
     "execution_count": 47,
     "metadata": {},
     "output_type": "execute_result"
    }
   ],
   "source": [
    "get_gc_content(\"ATCGTGACTCG\")"
   ]
  },
  {
   "cell_type": "code",
   "execution_count": 29,
   "metadata": {
    "collapsed": false
   },
   "outputs": [
    {
     "data": {
      "text/plain": [
       "0.545"
      ]
     },
     "execution_count": 29,
     "metadata": {},
     "output_type": "execute_result"
    }
   ],
   "source": [
    "get_gc_content(\"ATCGTGACTCG\", 3)"
   ]
  },
  {
   "cell_type": "code",
   "execution_count": 30,
   "metadata": {
    "collapsed": false
   },
   "outputs": [
    {
     "data": {
      "text/plain": [
       "0.5455"
      ]
     },
     "execution_count": 30,
     "metadata": {},
     "output_type": "execute_result"
    }
   ],
   "source": [
    "get_gc_content(\"ATCGTGACTCG\", sig_digs=4)"
   ]
  },
  {
   "cell_type": "markdown",
   "metadata": {},
   "source": [
    "The function takes care of filling in the default value for `sig_digs` for the first function call where none is supplied.\n",
    "\n",
    "Argument defaults allow us to write very flexible functions which can have varying numbers of arguments. It only makes sense to use them for arguments where a sensible default can be chosen.  (There's no point specifying a default for the `dna` argument in our example.)  They are particularly useful for functions where some of the options are only going to be used infrequently.\n",
    "\n",
    "Note that you can't get away without supplying any non-optional argument (i.e. an argument without a default value):"
   ]
  },
  {
   "cell_type": "code",
   "execution_count": 48,
   "metadata": {
    "collapsed": false
   },
   "outputs": [
    {
     "ename": "TypeError",
     "evalue": "get_gc_content() missing 1 required positional argument: 'dna'",
     "output_type": "error",
     "traceback": [
      "\u001b[0;31m---------------------------------------------------------------------------\u001b[0m",
      "\u001b[0;31mTypeError\u001b[0m                                 Traceback (most recent call last)",
      "\u001b[0;32m<ipython-input-48-c5e6f4c3210e>\u001b[0m in \u001b[0;36m<module>\u001b[0;34m()\u001b[0m\n\u001b[0;32m----> 1\u001b[0;31m \u001b[0mget_gc_content\u001b[0m\u001b[0;34m(\u001b[0m\u001b[0;34m)\u001b[0m\u001b[0;34m\u001b[0m\u001b[0m\n\u001b[0m",
      "\u001b[0;31mTypeError\u001b[0m: get_gc_content() missing 1 required positional argument: 'dna'"
     ]
    }
   ],
   "source": [
    "get_gc_content()"
   ]
  },
  {
   "cell_type": "markdown",
   "metadata": {},
   "source": [
    "At least the error is very specific!"
   ]
  },
  {
   "cell_type": "markdown",
   "metadata": {},
   "source": [
    "## Testing functions"
   ]
  },
  {
   "cell_type": "markdown",
   "metadata": {},
   "source": [
    "When writing code of any type, it’s important to periodically check that your code does what you intend it to do. If you look back over the solutions to exercises from the first few sections, you can see that we generally test our code at each step by printing some output to the screen and checking that it looks OK. For example, when we were first calculating GC content, we used a very short test sequence to verify that our code worked before running it on the real input.\n",
    "\n",
    "The reason we used a test sequence was that, because it was so short, we could easily work out the answer by eye and compare it to the answer given by our code. This idea – running code on a test input and comparing the result to an answer that we know to be correct – is such a useful one that Python has a built-in tool for expressing it: `assert`. An assertion consists of the keyword `assert`, followed by a call to our function, then two equals signs, then the result that we expect.\n",
    "\n",
    "For example, we know that if we run our `get_gc_content` function on the DNA sequence “ATGC” we should get an answer of `0.5`. This assertion will test whether that’s the case:"
   ]
  },
  {
   "cell_type": "code",
   "execution_count": 50,
   "metadata": {
    "collapsed": false
   },
   "outputs": [
    {
     "ename": "AssertionError",
     "evalue": "",
     "output_type": "error",
     "traceback": [
      "\u001b[0;31m---------------------------------------------------------------------------\u001b[0m",
      "\u001b[0;31mAssertionError\u001b[0m                            Traceback (most recent call last)",
      "\u001b[0;32m<ipython-input-50-d237175b610d>\u001b[0m in \u001b[0;36m<module>\u001b[0;34m()\u001b[0m\n\u001b[0;32m----> 1\u001b[0;31m \u001b[0;32massert\u001b[0m \u001b[0mget_gc_content\u001b[0m\u001b[0;34m(\u001b[0m\u001b[0;34m\"ATGCNNNNNNNNNN\"\u001b[0m\u001b[0;34m)\u001b[0m \u001b[0;34m==\u001b[0m \u001b[0;36m0.5\u001b[0m\u001b[0;34m\u001b[0m\u001b[0m\n\u001b[0m",
      "\u001b[0;31mAssertionError\u001b[0m: "
     ]
    }
   ],
   "source": [
    "assert get_gc_content(\"ATGC\") == 0.5"
   ]
  },
  {
   "cell_type": "markdown",
   "metadata": {},
   "source": [
    "The way that assertion statements work is very simple; if an assertion turns out to be false (i.e. if Python executes our function on the input “ATGC” and the answer isn’t `0.5`) then the program will fail with an `AssertionError`.\n",
    "\n",
    "Assertions are useful in a number of ways. They provide a means for us to check whether our functions are working as intended and therefore help us track down errors in our programs. If we get some unexpected output from a program that uses a particular function, and the assertion tests for that function all pass, then we can be reasonably confident that the error doesn’t lie in the function but in the code that calls it.\n",
    "\n",
    "They also let us modify a function and check that we haven’t introduced any errors. If we have a function that passes a series of assertion tests, and we make some changes to it, we can re-run the assertion tests and, assuming they all pass, be reasonably confident that we haven’t broken the function.\n",
    "\n",
    "Assertions are also useful as a form of documentation. By including a collection of assertion tests alongside a function, we can show exactly what output is expected from a given input.\n",
    "\n",
    "Finally, we can use assertions to test the behaviour of our function for unusual inputs. For example, what is the expected behaviour of `get_gc_content()` when given a DNA sequence that includes unknown bases (usually represented as N)? A sensible way to handle unknown bases would be to exclude them from the GC content calculation – in other words, the GC content for a given sequence shouldn’t be affected by adding a bunch of unknown bases. We can write an assertion that expresses this:"
   ]
  },
  {
   "cell_type": "code",
   "execution_count": 51,
   "metadata": {
    "collapsed": false
   },
   "outputs": [
    {
     "ename": "AssertionError",
     "evalue": "",
     "output_type": "error",
     "traceback": [
      "\u001b[0;31m---------------------------------------------------------------------------\u001b[0m",
      "\u001b[0;31mAssertionError\u001b[0m                            Traceback (most recent call last)",
      "\u001b[0;32m<ipython-input-51-d237175b610d>\u001b[0m in \u001b[0;36m<module>\u001b[0;34m()\u001b[0m\n\u001b[0;32m----> 1\u001b[0;31m \u001b[0;32massert\u001b[0m \u001b[0mget_gc_content\u001b[0m\u001b[0;34m(\u001b[0m\u001b[0;34m\"ATGCNNNNNNNNNN\"\u001b[0m\u001b[0;34m)\u001b[0m \u001b[0;34m==\u001b[0m \u001b[0;36m0.5\u001b[0m\u001b[0;34m\u001b[0m\u001b[0m\n\u001b[0m",
      "\u001b[0;31mAssertionError\u001b[0m: "
     ]
    }
   ],
   "source": [
    "assert get_gc_content(\"ATGCNNNNNNNNNN\") == 0.5"
   ]
  },
  {
   "cell_type": "markdown",
   "metadata": {},
   "source": [
    "This assertions fails for the current version of `get_gc_content`. However, we can easily modify the function to remove all N characters before carrying out the calculation:"
   ]
  },
  {
   "cell_type": "code",
   "execution_count": 52,
   "metadata": {
    "collapsed": true
   },
   "outputs": [],
   "source": [
    "def get_gc_content(dna, sig_digs=2):\n",
    "    dna = dna.upper().replace('N', '')\n",
    "    length = len(dna)\n",
    "    g_count = dna.upper().count('G')\n",
    "    c_count = dna.upper().count('C')\n",
    "    gc_content = (g_count + c_count) / length\n",
    "    return round(gc_content, sig_digs)"
   ]
  },
  {
   "cell_type": "markdown",
   "metadata": {},
   "source": [
    "…and now the assertion should pass:"
   ]
  },
  {
   "cell_type": "code",
   "execution_count": 53,
   "metadata": {
    "collapsed": false
   },
   "outputs": [],
   "source": [
    "assert get_gc_content(\"ATGCNNNNNNNNNN\") == 0.5"
   ]
  },
  {
   "cell_type": "markdown",
   "metadata": {},
   "source": [
    "It’s common to group a collection of assertions for a particular function together to test for the correct behaviour on different types of input. Here’s an example for `get_at_content` which shows a range of different types of behaviour:"
   ]
  },
  {
   "cell_type": "code",
   "execution_count": 54,
   "metadata": {
    "collapsed": false
   },
   "outputs": [],
   "source": [
    "assert get_gc_content(\"A\") == 0\n",
    "assert get_gc_content(\"G\") == 1\n",
    "assert get_gc_content(\"ATGC\") == 0.5\n",
    "assert get_gc_content(\"AAG\") == 0.33\n",
    "assert get_gc_content(\"AAG\", 1) == 0.3\n",
    "assert get_gc_content(\"AAG\", 5) == 0.33333"
   ]
  },
  {
   "cell_type": "markdown",
   "metadata": {},
   "source": [
    "In fact, this idea of grouping sets of tests together is such a good one that we have special words for it (*test suites* and *unit testing*) and there are multiple built-in Python tools for carrying out such tests.  There's even a style of software development that makes testing central — *\"test-driven development\"*.  Covering these concepts in detail is beyond this introductory course."
   ]
  },
  {
   "cell_type": "markdown",
   "metadata": {},
   "source": [
    "---"
   ]
  },
  {
   "cell_type": "markdown",
   "metadata": {},
   "source": [
    "## Exercises"
   ]
  },
  {
   "cell_type": "markdown",
   "metadata": {},
   "source": [
    "### 1. Percentage of amino acid residues, Part 1"
   ]
  },
  {
   "cell_type": "markdown",
   "metadata": {},
   "source": [
    "Write a function that takes two arguments – a protein sequence and an amino acid residue code – and returns the percentage of the protein that the amino acid makes up."
   ]
  },
  {
   "cell_type": "code",
   "execution_count": 8,
   "metadata": {
    "collapsed": true
   },
   "outputs": [],
   "source": [
    "# Exercise 1\n",
    "\n",
    "def my_function(protein, residue):\n",
    "    protein = protein.upper()\n",
    "    residue = residue.upper()\n",
    "    return protein.count(residue) / len(protein) * 100"
   ]
  },
  {
   "cell_type": "markdown",
   "metadata": {},
   "source": [
    "Use the following assertions to test your function:"
   ]
  },
  {
   "cell_type": "code",
   "execution_count": 9,
   "metadata": {
    "collapsed": false
   },
   "outputs": [],
   "source": [
    "assert my_function(\"MSRSLLLRFLLFLLLLPPLP\", \"M\") == 5\n",
    "assert my_function(\"MSRSLLLRFLLFLLLLPPLP\", \"r\") == 10\n",
    "assert my_function(\"MSRSLLLRFLLFLLLLPPLP\", \"L\") == 50\n",
    "assert my_function(\"MSRSLLLRFLLFLLLLPPLP\", \"Y\") == 0"
   ]
  },
  {
   "cell_type": "markdown",
   "metadata": {},
   "source": [
    "### 2. Percentage of amino acid residues, Part 2"
   ]
  },
  {
   "cell_type": "markdown",
   "metadata": {},
   "source": [
    "Modify the function from part one so that it accepts a list of amino acid residues rather than a single one. If no list is given, the function should return the percentage of hydrophobic amino acid residues (A, I, L, M, F, W, Y and V)."
   ]
  },
  {
   "cell_type": "code",
   "execution_count": 1,
   "metadata": {
    "collapsed": true
   },
   "outputs": [],
   "source": [
    "# Exercise 2\n",
    "def my_function(protein, residue):\n",
    "    protein = protein.upper()\n",
    "    residue = residue.upper(\"M\", \"R\", \"L\", \"Y\")\n",
    "    return protein.count(residue) / len(protein) * 100\n",
    "\n",
    "if nolist hydrophobic_ac(\"A\", \"I\", \"L\", \"M\", \"F\", \"W\", \"Y\", \"V\")\n",
    "return preotein.count(residue) / len(protein) * 100"
   ]
  },
  {
   "cell_type": "markdown",
   "metadata": {},
   "source": [
    "Your function should pass the following assertions:"
   ]
  },
  {
   "cell_type": "code",
   "execution_count": null,
   "metadata": {
    "collapsed": false
   },
   "outputs": [],
   "source": [
    "assert my_function(\"MSRSLLLRFLLFLLLLPPLP\", [\"M\"]) == 5\n",
    "assert my_function(\"MSRSLLLRFLLFLLLLPPLP\", ['M', 'L']) == 55\n",
    "assert my_function(\"MSRSLLLRFLLFLLLLPPLP\", ['F', 'S', 'L']) == 70\n",
    "assert my_function(\"MSRSLLLRFLLFLLLLPPLP\") == 65"
   ]
  },
  {
   "cell_type": "markdown",
   "metadata": {},
   "source": [
    "### 3. Factorial\n",
    "\n",
    "The *factorial* of a number `n` — denoted by `n!` — is defined as the product of all positive integers less than or equal to `n`.  For example:\n",
    "\n",
    "    5! = 5 * 4 * 3 * 2 * 1 = 120\n",
    "    \n",
    "Write a function `factorial(n)` that returns the factorial of its argument, `n`.\n",
    "\n",
    ">Hint:  There are a number of ways to do this, but the easiest may be a *recursive* function, that is, a function that calls itself."
   ]
  },
  {
   "cell_type": "code",
   "execution_count": null,
   "metadata": {
    "collapsed": true
   },
   "outputs": [],
   "source": [
    "# Exercise 3\n",
    "\n"
   ]
  }
 ],
 "metadata": {
  "kernelspec": {
   "display_name": "Python 3",
   "language": "python",
   "name": "python3"
  },
  "language_info": {
   "codemirror_mode": {
    "name": "ipython",
    "version": 3
   },
   "file_extension": ".py",
   "mimetype": "text/x-python",
   "name": "python",
   "nbconvert_exporter": "python",
   "pygments_lexer": "ipython3",
   "version": "3.6.0"
  }
 },
 "nbformat": 4,
 "nbformat_minor": 0
}

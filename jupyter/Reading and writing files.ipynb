{
 "cells": [
  {
   "cell_type": "markdown",
   "metadata": {},
   "source": [
    "<div align=right>\n",
    "<img src=\"img/logosmall.png\" width=\"100px\" align=right>\n",
    "</div>"
   ]
  },
  {
   "cell_type": "markdown",
   "metadata": {},
   "source": [
    "# Reading and writing files"
   ]
  },
  {
   "cell_type": "markdown",
   "metadata": {},
   "source": [
    "<div class=\"alert alert-warning\">\n",
    "Parts of this  section was adapted from copyrighted material in *Jones, M: Python for Biologists: A complete programming course for beginners (2013)*.\n",
    "\n",
    "**Please do not distribute it!**"
   ]
  },
  {
   "cell_type": "markdown",
   "metadata": {},
   "source": [
    "## Why are we interested in working with files?"
   ]
  },
  {
   "cell_type": "markdown",
   "metadata": {},
   "source": [
    "We're again doing things in a slightly different order compared to most programming texts.  Often, introductory programming books or courses will only consider working with files much later along, because working with files can be … fiddly.\n",
    "\n",
    "So why are we introducing files this early on?\n",
    "\n",
    "As in the previous section, the answer lies in what we're using Python for.  The data we work with as biologists is most often stored in files, so if we're going to write useful programs we need to learn how to get data out of files.  Similarly, we often need to write our results *back into* files if they're to be of any use to anyone but ourselves.\n",
    "\n",
    "We're lucky in a couple of ways:\n",
    "\n",
    "* Most of the types of data we work with in biology are easily stored in *text* files (Think of sequence data!), which are in turn very easy to process using Python.\n",
    "\n",
    "* (Modern) Python itself makes working with files fairly easy compared to many other languages."
   ]
  },
  {
   "cell_type": "markdown",
   "metadata": {},
   "source": [
    "## Text files and binary files"
   ]
  },
  {
   "cell_type": "markdown",
   "metadata": {},
   "source": [
    "When we talk about *text files*, we are not necessarily talking about something that is human-readable. Rather, we are talking about a file that contains only lines of readable text characters. Examples of text files which you might have encountered include:\n",
    "\n",
    "* FASTA files of DNA or protein sequences\n",
    "* files containing output from command-line programs (e.g. BLAST)\n",
    "* FASTQ files containing DNA sequencing reads\n",
    "* HTML files\n",
    "* source code files, such as Python scripts\n",
    "\n",
    "In contrast, most files that you encounter day-to-day will be *binary files* – ones which are not made up of characters and lines, but of a sequence bytes. Examples include:\n",
    "\n",
    "* image files (like `.jpg` or `.png`)\n",
    "* audio and video files\n",
    "* compressed files (e.g. `.zip` or `.gz` archives)\n",
    "* compiled, executable programs\n",
    "\n",
    "In this course we'll only work with text files, since that's by far the most useful in our field.  But rest assured that Python offers powerful facilities for processing binary files as well."
   ]
  },
  {
   "cell_type": "markdown",
   "metadata": {},
   "source": [
    "## Working with text files in Jupyter"
   ]
  },
  {
   "cell_type": "markdown",
   "metadata": {},
   "source": [
    "Before we start looking at how to read or write text files in Python, we should take a quick look at how we can manipulate text files using the Jupyter user interface."
   ]
  },
  {
   "cell_type": "markdown",
   "metadata": {},
   "source": [
    "### Writing and reading files using magic commands"
   ]
  },
  {
   "cell_type": "markdown",
   "metadata": {},
   "source": [
    "Recall from our brief overview of Jupyter that *cell magic* commands start with “`%%`”, and *line magic* commands start with “`%`”.\n",
    "\n",
    "You can use the `%%file` cell magic to to write the contents of a code cell to a file.  The following code cell will, when executed, write three lines of DNA sequence to a file called `dna.txt` in a subdirectory of the current directory, called `files`:"
   ]
  },
  {
   "cell_type": "code",
   "execution_count": 11,
   "metadata": {},
   "outputs": [
    {
     "name": "stdout",
     "output_type": "stream",
     "text": [
      "Overwriting files/dna.txt\n"
     ]
    }
   ],
   "source": [
    "%%file files/dna.txt\n",
    "ACTGTACGTGCACTGATC\n",
    "CTGGCATAGTCTTATTTT\n",
    "CAGGGCGGCGGATCTCTT"
   ]
  },
  {
   "cell_type": "markdown",
   "metadata": {},
   "source": [
    "To read the contents of a file, we can use the operating system shell — recall that adding a “`!`” before a line passes that line to the underlying shell (on Unix) or command interpreter (on Windows).\n",
    "\n",
    "To list the contents of the file we've just written, one could use the `cat` command on Unix:"
   ]
  },
  {
   "cell_type": "code",
   "execution_count": 6,
   "metadata": {
    "scrolled": true
   },
   "outputs": [
    {
     "name": "stdout",
     "output_type": "stream",
     "text": [
      "ACTGTACGTGCACTGATC\r\n",
      "CTGGCATAGTCTTATTTT\r\n",
      "CAGGGCGGCGGATCTCTT"
     ]
    }
   ],
   "source": [
    "!cat files/dna.txt"
   ]
  },
  {
   "cell_type": "markdown",
   "metadata": {},
   "source": [
    "… or the `type` command on Windows (I haven't tested this):"
   ]
  },
  {
   "cell_type": "code",
   "execution_count": 4,
   "metadata": {
    "scrolled": true
   },
   "outputs": [
    {
     "name": "stdout",
     "output_type": "stream",
     "text": [
      "/bin/sh: line 0: type: files/dna.txt: not found\r\n"
     ]
    }
   ],
   "source": [
    "!type files/dna.txt"
   ]
  },
  {
   "cell_type": "markdown",
   "metadata": {},
   "source": [
    "To load the contents of the file *into the code cell*, one can use the line magic command `%load`:"
   ]
  },
  {
   "cell_type": "code",
   "execution_count": null,
   "metadata": {},
   "outputs": [],
   "source": [
    "# %load files/dna.txt\n",
    "ACTGTACGTGCACTGATC\n",
    "CTGGCATAGTCTTATTTT\n",
    "CAGGGCGGCGGATCTCTT"
   ]
  },
  {
   "cell_type": "markdown",
   "metadata": {},
   "source": [
    "(This should work on all platforms.)"
   ]
  },
  {
   "cell_type": "markdown",
   "metadata": {},
   "source": [
    "### Using Jupyter's built-in text editor"
   ]
  },
  {
   "cell_type": "markdown",
   "metadata": {},
   "source": [
    "Juptyer comes with a fully-featured built-in text editor.  To edit the file we've just written using the editor: \n",
    "\n",
    "* go back to the Jupyter *Dashboard* (that should be the tab labeled \"Home\")\n",
    "* locate the `files` directory and click on it to open it (like in any file manager)\n",
    "* locate the file `dna.txt` and click on it\n",
    "\n",
    "`dna.txt` should now open in a separate text editor tab.  Have a browse through the editor's menu to famiarise yourself with its facilities.\n",
    "\n",
    ">Text editor nerds:  You can configure the Jupyter editor to use Emacs or Vim keybindings."
   ]
  },
  {
   "cell_type": "markdown",
   "metadata": {},
   "source": [
    "## Working with files in Python"
   ]
  },
  {
   "cell_type": "markdown",
   "metadata": {},
   "source": [
    "Enough about the Jupyter UI;  let's look at how we'd use text files in our Python code.\n",
    "\n",
    "First, let's use the magic command `%cd` to change the current directory of our Jupyter session to the `files` subdirectory, where we wrote the file `dna.txt` in the previous section:"
   ]
  },
  {
   "cell_type": "code",
   "execution_count": 15,
   "metadata": {},
   "outputs": [
    {
     "name": "stdout",
     "output_type": "stream",
     "text": [
      "/Users/sabineurban/University/PhD/2017/03_EVOP/Lectures/5&6 - Python (Johann)/Python Tutorial/files\n"
     ]
    }
   ],
   "source": [
    "%cd files"
   ]
  },
  {
   "cell_type": "markdown",
   "metadata": {},
   "source": [
    "### Using `open()` to read a file"
   ]
  },
  {
   "cell_type": "markdown",
   "metadata": {},
   "source": [
    "In Python, as in the physical world, we have to open a file before we can read what’s inside it. The Python function that carries out the job of opening a file is called `open()`.\n",
    "\n",
    "`open` takes two arguments:\n",
    "* A string which contains the name of the file.\n",
    "* A string containing a single character.  This character is a 'flag' that indicates the *mode* in which the file should be opened.  For reading mode, the flag is always “`'r'`”.\n",
    "\n",
    "`open()` returns a whole new type of data — a *file object*:"
   ]
  },
  {
   "cell_type": "code",
   "execution_count": 16,
   "metadata": {},
   "outputs": [],
   "source": [
    "my_file = open(\"dna.txt\", 'r')"
   ]
  },
  {
   "cell_type": "markdown",
   "metadata": {},
   "source": [
    "A *file object* is a little more abstract than the string and number types that we saw before. A file object represents something a bit less tangible than a string or a number:  a file on your computer's drive.\n",
    "\n",
    "Note that we can assign a variable name to the file object, just like with other types of data.\n",
    "\n",
    "Let's tell Jupyter to evaluate the file object, using the variable name to refer to it:"
   ]
  },
  {
   "cell_type": "code",
   "execution_count": 5,
   "metadata": {},
   "outputs": [
    {
     "data": {
      "text/plain": [
       "<_io.TextIOWrapper name='dna.txt' mode='r' encoding='UTF-8'>"
      ]
     },
     "execution_count": 5,
     "metadata": {},
     "output_type": "execute_result"
    }
   ],
   "source": [
    "my_file"
   ]
  },
  {
   "cell_type": "markdown",
   "metadata": {},
   "source": [
    "The result of the evaluation is a bit different from what we've seen when we evaluated strings and numbers, since there's no obvious way to map the concept of a file to something that's human-readable.  Instead, Python gives us a textual representation of the file object in angle brackets (“`<>`”).  It's not particularly useful to us, but at least we can learn some things when reading through it, such as the name of the file it refers to (`dna.txt`) and the mode it was opened in (`r`).\n",
    "\n",
    "The way that we use file objects is a bit different to strings and numbers as well. If you glance back at the examples from the previous chapter you’ll see that most of the time when we want to use a variable containing a string or number we just use the variable name:"
   ]
  },
  {
   "cell_type": "code",
   "execution_count": 6,
   "metadata": {},
   "outputs": [
    {
     "name": "stdout",
     "output_type": "stream",
     "text": [
      "abcdefg\n",
      "43\n"
     ]
    }
   ],
   "source": [
    "my_string = 'abcdefg'\n",
    "print(my_string)\n",
    "my_number = 42\n",
    "print(my_number + 1)"
   ]
  },
  {
   "cell_type": "markdown",
   "metadata": {},
   "source": [
    "In contrast, when we’re working with file objects most of our interaction will be through its *methods*.  Trying to print the file object using `print()` just prints the textual representation of it which we got when we evaluated it within Jupyter:"
   ]
  },
  {
   "cell_type": "code",
   "execution_count": 7,
   "metadata": {},
   "outputs": [
    {
     "name": "stdout",
     "output_type": "stream",
     "text": [
      "<_io.TextIOWrapper name='dna.txt' mode='r' encoding='UTF-8'>\n"
     ]
    }
   ],
   "source": [
    "print(my_file)"
   ]
  },
  {
   "cell_type": "markdown",
   "metadata": {},
   "source": [
    "`print()`-ing a file does **not** print out the contents of that file.  When a file has been opened with `open()`, *its contents have not yet been read from disk*.  The file is sitting there, open, ready to be read from, but Python has to be told explicitly to read data from the file.\n",
    "\n",
    "To read the contents of a file the file object has a `read()` method. It doesn’t take any arguments, and the return value is a string containing all the contents of the text file. Once we’ve read the file contents into a variable, we can treat them just like any other string – for example, we can print them:"
   ]
  },
  {
   "cell_type": "code",
   "execution_count": 8,
   "metadata": {},
   "outputs": [
    {
     "name": "stdout",
     "output_type": "stream",
     "text": [
      "ACTGTACGTGCACTGATC\n",
      "CTGGCATAGTCTTATTTT\n",
      "CAGGGCGGCGGATCTCTT\n"
     ]
    }
   ],
   "source": [
    "file_contents = my_file.read()\n",
    "print(file_contents)"
   ]
  },
  {
   "cell_type": "markdown",
   "metadata": {},
   "source": [
    ">When we call the `read()` method of a file object, we read that entire file into memory.  `dna.txt` happens to be a tiny file so that's OK.  But if we try to `read()` a 2GB file we'll probably bring our computer to a standstill.  Soon we'll see how to handle the really big files we often find in our field."
   ]
  },
  {
   "cell_type": "markdown",
   "metadata": {},
   "source": [
    "## Closing files"
   ]
  },
  {
   "cell_type": "markdown",
   "metadata": {},
   "source": [
    "When you open a file using the `open()` function, a whole lot of things happen behind the scenes — things that involve both the Python interpreter and even the operating system, which serves as gatekeeper to the filesystem.\n",
    "\n",
    "If you open a file and just leave it hanging like that after using it, all that infrastructure remains in place.  Not only is this a waste of resources, but it can lead to some subtle bugs in your code.\n",
    "\n",
    "Hence, you should *always* close any files you've opened after you're done with them.  Like so:"
   ]
  },
  {
   "cell_type": "code",
   "execution_count": 27,
   "metadata": {
    "collapsed": true
   },
   "outputs": [],
   "source": [
    "my_file.close()"
   ]
  },
  {
   "cell_type": "markdown",
   "metadata": {},
   "source": [
    "Note that `open()` is a built-in function in the core Python language, but `close()` is a method of the file object.  (This asymmetry may seem counter-intuitive.)\n",
    "\n",
    "Closing a file doesn't destroy the file object.  If there's a variable that references the file object, it still hangs around…  but all the underlying file-handling machinery have been shut down.  Let's try to `read()` again from our now-closed file object:"
   ]
  },
  {
   "cell_type": "code",
   "execution_count": 21,
   "metadata": {
    "scrolled": true
   },
   "outputs": [],
   "source": [
    "file_contents = my_file.read()"
   ]
  },
  {
   "cell_type": "markdown",
   "metadata": {},
   "source": [
    "Closing files you've opened is a matter of good programming hygiene, and we'll always do it in this course.  Think of it as the programming equivalent of brushing your teeth!"
   ]
  },
  {
   "cell_type": "markdown",
   "metadata": {},
   "source": [
    "## Files, contents and file names"
   ]
  },
  {
   "cell_type": "markdown",
   "metadata": {},
   "source": [
    "Beginning programmers sometimes get confused between a *file object*, a *file name*, and the *contents* of a file. Take a look at the following bit of code:"
   ]
  },
  {
   "cell_type": "code",
   "execution_count": 23,
   "metadata": {},
   "outputs": [],
   "source": [
    "my_file_name = \"dna.txt\"\n",
    "\n",
    "my_file = open(my_file_name, 'r')"
   ]
  },
  {
   "cell_type": "code",
   "execution_count": 24,
   "metadata": {
    "collapsed": true
   },
   "outputs": [],
   "source": [
    "my_file_contents = my_file.read()"
   ]
  },
  {
   "cell_type": "code",
   "execution_count": 25,
   "metadata": {
    "collapsed": true
   },
   "outputs": [],
   "source": [
    "my_file.close()"
   ]
  },
  {
   "cell_type": "code",
   "execution_count": 26,
   "metadata": {},
   "outputs": [
    {
     "name": "stdout",
     "output_type": "stream",
     "text": [
      "ACTGTACGTGCACTGATC\n",
      "CTGGCATAGTCTTATTTT\n",
      "CAGGGCGGCGGATCTCTT\n"
     ]
    }
   ],
   "source": [
    "print(my_file_contents)"
   ]
  },
  {
   "cell_type": "markdown",
   "metadata": {},
   "source": [
    "What’s going on here?\n",
    "\n",
    "* On line 1, we store the string `dna.txt` in the variable `my_file_name`. \n",
    "\n",
    "\n",
    "* On line 2, we use the variable `my_file_name` as the argument to the `open()` function, and store the *file object* returned by `open()` in the variable `my_file`.\n",
    "\n",
    "  For historical reasons, a variable that references a file object is sometimes called a *filehandle*.\n",
    "\n",
    "\n",
    "* On line 3, we call the `read()` method on the variable `my_file`, and store the returned string in the variable `my_file_contents`.\n",
    "\n",
    "\n",
    "* One line 4, we brush our teeth.\n",
    "\n",
    "The important thing to understand about this code is that there are three separate variables which have different types and which are storing three very different things. `my_file_name` is a string, and it stores the name of a file on disk. `my_file` is a file object, and it represents the file itself. `my_file_contents` is a string, and it stores the text that is in the file.\n",
    "\n",
    "Remember that variable names are arbitrary – the computer doesn’t care what you call your variables. But it's good to use descriptive variable names as we did here."
   ]
  },
  {
   "cell_type": "markdown",
   "metadata": {},
   "source": [
    "It's purely for instructional purposes that we assigned three variables to three objects of different types above.  We could as easily have said:"
   ]
  },
  {
   "cell_type": "code",
   "execution_count": 10,
   "metadata": {},
   "outputs": [
    {
     "ename": "FileNotFoundError",
     "evalue": "[Errno 2] No such file or directory: 'dna.txt'",
     "output_type": "error",
     "traceback": [
      "\u001b[0;31m---------------------------------------------------------------------------\u001b[0m",
      "\u001b[0;31mFileNotFoundError\u001b[0m                         Traceback (most recent call last)",
      "\u001b[0;32m<ipython-input-10-4343d712ebf5>\u001b[0m in \u001b[0;36m<module>\u001b[0;34m()\u001b[0m\n\u001b[0;32m----> 1\u001b[0;31m \u001b[0mmy_file\u001b[0m \u001b[0;34m=\u001b[0m \u001b[0mopen\u001b[0m\u001b[0;34m(\u001b[0m\u001b[0;34m\"dna.txt\"\u001b[0m\u001b[0;34m,\u001b[0m \u001b[0;34m'r'\u001b[0m\u001b[0;34m)\u001b[0m\u001b[0;34m\u001b[0m\u001b[0m\n\u001b[0m\u001b[1;32m      2\u001b[0m \u001b[0mmy_file_contents\u001b[0m \u001b[0;34m=\u001b[0m \u001b[0mmy_file\u001b[0m\u001b[0;34m.\u001b[0m\u001b[0mread\u001b[0m\u001b[0;34m(\u001b[0m\u001b[0;34m)\u001b[0m\u001b[0;34m\u001b[0m\u001b[0m\n\u001b[1;32m      3\u001b[0m \u001b[0mprint\u001b[0m\u001b[0;34m(\u001b[0m\u001b[0mmy_file_contents\u001b[0m\u001b[0;34m)\u001b[0m\u001b[0;34m\u001b[0m\u001b[0m\n\u001b[1;32m      4\u001b[0m \u001b[0mmy_file\u001b[0m\u001b[0;34m.\u001b[0m\u001b[0mclose\u001b[0m\u001b[0;34m(\u001b[0m\u001b[0;34m)\u001b[0m\u001b[0;34m\u001b[0m\u001b[0m\n",
      "\u001b[0;31mFileNotFoundError\u001b[0m: [Errno 2] No such file or directory: 'dna.txt'"
     ]
    }
   ],
   "source": [
    "my_file = open(\"dna.txt\", 'r')\n",
    "my_file_contents = my_file.read()\n",
    "print(my_file_contents)\n",
    "my_file.close()"
   ]
  },
  {
   "cell_type": "markdown",
   "metadata": {},
   "source": [
    "Or even:"
   ]
  },
  {
   "cell_type": "code",
   "execution_count": 24,
   "metadata": {},
   "outputs": [
    {
     "name": "stdout",
     "output_type": "stream",
     "text": [
      "ACTGTACGTGCACTGATC\n",
      "CTGGCATAGTCTTATTTT\n",
      "CAGGGCGGCGGATCTCTT\n"
     ]
    }
   ],
   "source": [
    "my_file_contents = open(\"dna.txt\", 'r').read()\n",
    "print(my_file_contents)"
   ]
  },
  {
   "cell_type": "markdown",
   "metadata": {},
   "source": [
    "Or *even:*"
   ]
  },
  {
   "cell_type": "code",
   "execution_count": 25,
   "metadata": {},
   "outputs": [
    {
     "name": "stdout",
     "output_type": "stream",
     "text": [
      "ACTGTACGTGCACTGATC\n",
      "CTGGCATAGTCTTATTTT\n",
      "CAGGGCGGCGGATCTCTT\n"
     ]
    }
   ],
   "source": [
    "print(open(\"dna.txt\", 'r').read())"
   ]
  },
  {
   "cell_type": "markdown",
   "metadata": {},
   "source": [
    "While that last line is certainly succinct, it's not necessarily very easy to read.  Adding some \"unnecessary\" intermediate variables can often make code more readable.  On the other hand, using more succinct expressions can *also* make your code more readable, especially to an experienced programmer.  The choice is yours!\n",
    "\n",
    "One thing, though… we never closed any file objects in those last two code boxes.  Did we forget to brush our teeth?\n",
    "\n",
    "No, it turns out we never assigned any variable to the file object in either of those cases.  In both cases, Python created a file object when we used the `open()` function, then immediately used its `read()` method to read the file contents.\n",
    "\n",
    "Since no variable was assigned to the file object itself, it then immediately became *unreferenced*, and would soon be reclaimed by Python's *garbage collection*.  This is the cool bit:  Python's file object is smart enough to close the underlying file automatically when it gets destroyed, so no open files were left \"hanging\" in these two examples."
   ]
  },
  {
   "cell_type": "markdown",
   "metadata": {},
   "source": [
    "## Dealing with newlines"
   ]
  },
  {
   "cell_type": "markdown",
   "metadata": {},
   "source": [
    "Let’s take a look at the output we get when we try to print some information from a file. We will again use the `dna.txt` file we wrote earlier. Recall that this file contains three lines with a short DNA sequence in each.  Let's have a look at it again:"
   ]
  },
  {
   "cell_type": "code",
   "execution_count": 31,
   "metadata": {},
   "outputs": [
    {
     "ename": "NameError",
     "evalue": "name 'ACTGTACGTGCACTGATC' is not defined",
     "output_type": "error",
     "traceback": [
      "\u001b[0;31m---------------------------------------------------------------------------\u001b[0m",
      "\u001b[0;31mNameError\u001b[0m                                 Traceback (most recent call last)",
      "\u001b[0;32m<ipython-input-31-c0245752eb57>\u001b[0m in \u001b[0;36m<module>\u001b[0;34m()\u001b[0m\n\u001b[1;32m      1\u001b[0m \u001b[0;31m# %load dna.txt\u001b[0m\u001b[0;34m\u001b[0m\u001b[0;34m\u001b[0m\u001b[0m\n\u001b[0;32m----> 2\u001b[0;31m \u001b[0mACTGTACGTGCACTGATC\u001b[0m\u001b[0;34m\u001b[0m\u001b[0m\n\u001b[0m\u001b[1;32m      3\u001b[0m \u001b[0mCTGGCATAGTCTTATTTT\u001b[0m\u001b[0;34m\u001b[0m\u001b[0m\n\u001b[1;32m      4\u001b[0m \u001b[0mCAGGGCGGCGGATCTCTT\u001b[0m\u001b[0;34m\u001b[0m\u001b[0m\n",
      "\u001b[0;31mNameError\u001b[0m: name 'ACTGTACGTGCACTGATC' is not defined"
     ]
    }
   ],
   "source": [
    "# %load dna.txt\n",
    "ACTGTACGTGCACTGATC\n",
    "CTGGCATAGTCTTATTTT\n",
    "CAGGGCGGCGGATCTCTT"
   ]
  },
  {
   "cell_type": "markdown",
   "metadata": {},
   "source": [
    "We're going to write a simple program to read all the DNA data from the file and print it out along with its length. Putting together the file functions and methods from this section, and the material we saw in the previous section, we get the following code:"
   ]
  },
  {
   "cell_type": "code",
   "execution_count": 30,
   "metadata": {},
   "outputs": [
    {
     "name": "stdout",
     "output_type": "stream",
     "text": [
      "sequence is ACTGTACGTGCACTGATC\n",
      "CTGGCATAGTCTTATTTT\n",
      "CAGGGCGGCGGATCTCTT and its length is 56\n"
     ]
    }
   ],
   "source": [
    "# open the file\n",
    "my_file = open(\"dna.txt\", 'r')\n",
    "\n",
    "# read the contents\n",
    "my_dna = my_file.read()\n",
    "\n",
    "# calculate the length\n",
    "dna_length = len(my_dna)\n",
    "\n",
    "# print the output\n",
    "print(\"sequence is\", my_dna, \"and its length is\", dna_length)\n",
    "\n",
    "# close the file\n",
    "my_file.close()"
   ]
  },
  {
   "cell_type": "markdown",
   "metadata": {},
   "source": [
    "If we look at the output we'll see that the program probably didn't do what we intended.  It didn't read the DNA data as one contiguous string, but rather as three separate lines — the way it was encoded into the file.\n",
    "\n",
    "Every line in a text file ends in a newline character, and Python has included that new line character at the end of the line as part of the string `my_dna`. The string `my_dna` still contains these newline characters, as we'll clearly see this:"
   ]
  },
  {
   "cell_type": "code",
   "execution_count": 32,
   "metadata": {},
   "outputs": [
    {
     "data": {
      "text/plain": [
       "'ACTGTACGTGCACTGATC\\nCTGGCATAGTCTTATTTT\\nCAGGGCGGCGGATCTCTT'"
      ]
     },
     "execution_count": 32,
     "metadata": {},
     "output_type": "execute_result"
    }
   ],
   "source": [
    "my_dna"
   ]
  },
  {
   "cell_type": "markdown",
   "metadata": {},
   "source": [
    ">Many text editors would also have written a newline character at the end of the last line in the file, but as one can see here, writing a file with Jupyter's `%%file` magic command doesn't."
   ]
  },
  {
   "cell_type": "markdown",
   "metadata": {},
   "source": [
    "Clearly we need a way to process the file on a line-by-line basis.  File objects have a method `readline()` that reads in only one line from an open file.  Let's try it:"
   ]
  },
  {
   "cell_type": "code",
   "execution_count": 34,
   "metadata": {},
   "outputs": [],
   "source": [
    "# open the file\n",
    "my_file = open(\"dna.txt\", 'r')\n",
    "\n",
    "# read a line of data from the open file\n",
    "my_line1 = my_file.readline()"
   ]
  },
  {
   "cell_type": "markdown",
   "metadata": {},
   "source": [
    "Let's evaluate the line we've just read in:"
   ]
  },
  {
   "cell_type": "code",
   "execution_count": 35,
   "metadata": {},
   "outputs": [
    {
     "data": {
      "text/plain": [
       "'ACTGTACGTGCACTGATC\\n'"
      ]
     },
     "execution_count": 35,
     "metadata": {},
     "output_type": "execute_result"
    }
   ],
   "source": [
    "my_line1"
   ]
  },
  {
   "cell_type": "markdown",
   "metadata": {},
   "source": [
    "The string still contains that pesky newline; it would be good to be able to strip that off.  We'll get to that in a second, but first let's see what happens if we call `readline()` a second time, assign a variable name to the result, and then evaluate that variable:"
   ]
  },
  {
   "cell_type": "code",
   "execution_count": 36,
   "metadata": {},
   "outputs": [
    {
     "data": {
      "text/plain": [
       "'CTGGCATAGTCTTATTTT\\n'"
      ]
     },
     "execution_count": 36,
     "metadata": {},
     "output_type": "execute_result"
    }
   ],
   "source": [
    "my_line2 = my_file.readline()\n",
    "my_line2"
   ]
  },
  {
   "cell_type": "markdown",
   "metadata": {},
   "source": [
    "Note that the open file object \"remembered\" where we were when we last read from it.  When we called `readline()` a second time we got the second line of the file, not the first line again.\n",
    "\n",
    "Let's try it a third time:"
   ]
  },
  {
   "cell_type": "code",
   "execution_count": 37,
   "metadata": {},
   "outputs": [
    {
     "data": {
      "text/plain": [
       "'CAGGGCGGCGGATCTCTT'"
      ]
     },
     "execution_count": 37,
     "metadata": {},
     "output_type": "execute_result"
    }
   ],
   "source": [
    "my_line3 = my_file.readline()\n",
    "my_line3"
   ]
  },
  {
   "cell_type": "markdown",
   "metadata": {},
   "source": [
    "And a fourth time?"
   ]
  },
  {
   "cell_type": "code",
   "execution_count": 38,
   "metadata": {},
   "outputs": [
    {
     "data": {
      "text/plain": [
       "''"
      ]
     },
     "execution_count": 38,
     "metadata": {},
     "output_type": "execute_result"
    }
   ],
   "source": [
    "my_line4 = my_file.readline()\n",
    "my_line4"
   ]
  },
  {
   "cell_type": "markdown",
   "metadata": {},
   "source": [
    "Once we've \"fallen off\" the end of the file, `readline()` just keeps returning the empty string."
   ]
  },
  {
   "cell_type": "code",
   "execution_count": 39,
   "metadata": {
    "collapsed": true
   },
   "outputs": [],
   "source": [
    "my_file.close()"
   ]
  },
  {
   "cell_type": "markdown",
   "metadata": {},
   "source": [
    "Right, back to the issue of getting rid of those pesky newlines.  One way of doing so would be to use string slicing to lob off the last character:"
   ]
  },
  {
   "cell_type": "code",
   "execution_count": 40,
   "metadata": {},
   "outputs": [
    {
     "data": {
      "text/plain": [
       "'ACTGTACGTGCACTGATC'"
      ]
     },
     "execution_count": 40,
     "metadata": {},
     "output_type": "execute_result"
    }
   ],
   "source": [
    "my_line1[:-1]"
   ]
  },
  {
   "cell_type": "markdown",
   "metadata": {},
   "source": [
    "This works, but it has some pitfalls.  Using a slice like this will *always* lob off the last character of a string, no matter what it is.  As we've seen, the third line of data from our file (now stored in a string referenced by the variable `my_line3`) does *not* contain a trailing newline character.\n",
    "\n",
    "What we really need is a way to lob off the last character if (and *only* if) it's a newline.  Because this is such a common problem, strings have a method for doing just that. It's called `rstrip()` (right-strip), and if you call it without any arguments it returns a copy of the string with *all* whitespace stripped off its right-hand side.\n",
    "\n",
    "(\"Whitespace\" is what we call spaces, newline characters, tabs, and all such non-printing characters.)"
   ]
  },
  {
   "cell_type": "code",
   "execution_count": 41,
   "metadata": {},
   "outputs": [
    {
     "name": "stdout",
     "output_type": "stream",
     "text": [
      "sequence is ACTGTACGTGCACTGATC and its length is 18 bases\n",
      "sequence is CTGGCATAGTCTTATTTT and its length is 18 bases\n",
      "sequence is CAGGGCGGCGGATCTCTT and its length is 18 bases\n"
     ]
    }
   ],
   "source": [
    "my_file = open(\"dna.txt\", 'r')\n",
    "\n",
    "my_line1 = my_file.readline()\n",
    "my_dna1 = my_line1.rstrip()\n",
    "print(\"sequence is\", my_dna1, \"and its length is\", len(my_dna1), \"bases\")\n",
    "\n",
    "my_line2 = my_file.readline()\n",
    "my_dna2 = my_line2.rstrip()\n",
    "print(\"sequence is\", my_dna2, \"and its length is\", len(my_dna2), \"bases\")\n",
    "\n",
    "my_line3 = my_file.readline()\n",
    "my_dna3 = my_line3.rstrip()\n",
    "print(\"sequence is\", my_dna3, \"and its length is\", len(my_dna3), \"bases\")\n",
    "\n",
    "my_file.close()"
   ]
  },
  {
   "cell_type": "markdown",
   "metadata": {},
   "source": [
    "…and now the output looks reasonable.\n",
    "\n",
    ">You might have noticed that we repeat the same piece of code for every line we read from the file.  This is OK if our file has three lines, but what if it has a hundred?  Or a million.  Wouldn't it be nice if we could tell Python:\n",
    "\n",
    ">*for each line in the file, do “something”*?\n",
    "\n",
    ">Yes.  Yes it would.  But we're getting ahead of ourselves now.\n",
    "\n",
    "Another thing to note is that in the code above, we first read the file contents and then removed the newline, in two separate steps:\n",
    "\n",
    "```python\n",
    "my_line1 = my_file.readline()\n",
    "my_dna1 = my_line1.rstrip()\n",
    "```"
   ]
  },
  {
   "cell_type": "markdown",
   "metadata": {},
   "source": [
    "It would be more succinct to read the contents and remove the newline all in one go, like this:\n",
    "\n",
    "```python\n",
    "my_dna1 = my_file.readline().rstrip()\n",
    "```"
   ]
  },
  {
   "cell_type": "markdown",
   "metadata": {},
   "source": [
    "Here we use two different methods in the same statement. Read it from left to right:  We take the `my_file` variable and use the `readline()` method on it, then we take the string value returned by that method and use the `rstrip()` method on it.  We then assign the variable `my_dna1` to the the string value returned by `rstrip()`."
   ]
  },
  {
   "cell_type": "markdown",
   "metadata": {},
   "source": [
    "## Aside: String methods for stripping strings"
   ]
  },
  {
   "cell_type": "markdown",
   "metadata": {},
   "source": [
    "While we're discussing `rstrip()`, we may as well mention its cousins `lstrip()` and `strip()`.\n",
    "\n",
    "`lstrip()`, as you may have guessed, strips characters off the left-hand side of a string.  `strip()` strips both ends (left and right) at the same time.\n",
    "\n",
    "`lstrip()`, `rstrip()` and `strip()` can all take a parameter.  In the simplest case, this is the character that they will then proceed to strip off the string (instead of whitespace).  For example:"
   ]
  },
  {
   "cell_type": "code",
   "execution_count": 42,
   "metadata": {},
   "outputs": [
    {
     "name": "stdout",
     "output_type": "stream",
     "text": [
      "gi1032|some sequence data\n"
     ]
    }
   ],
   "source": [
    "fasta_header = \">gi1032|some sequence data\"\n",
    "header = fasta_header.lstrip('>')\n",
    "print(header)"
   ]
  },
  {
   "cell_type": "code",
   "execution_count": 43,
   "metadata": {},
   "outputs": [
    {
     "name": "stdout",
     "output_type": "stream",
     "text": [
      "Original:\t \"CGGAGC\"\n",
      "Stripped:\t CGGAGC\n"
     ]
    }
   ],
   "source": [
    "quoted_dna = '\"CGGAGC\"'\n",
    "print(\"Original:\\t\", quoted_dna)\n",
    "print(\"Stripped:\\t\", quoted_dna.strip('\"'))"
   ]
  },
  {
   "cell_type": "markdown",
   "metadata": {},
   "source": [
    "## Missing files"
   ]
  },
  {
   "cell_type": "markdown",
   "metadata": {},
   "source": [
    "What happens if we try to read a file that doesn’t exist?"
   ]
  },
  {
   "cell_type": "code",
   "execution_count": 44,
   "metadata": {},
   "outputs": [
    {
     "ename": "FileNotFoundError",
     "evalue": "[Errno 2] No such file or directory: 'nonexistent.txt'",
     "output_type": "error",
     "traceback": [
      "\u001b[0;31m---------------------------------------------------------------------------\u001b[0m",
      "\u001b[0;31mFileNotFoundError\u001b[0m                         Traceback (most recent call last)",
      "\u001b[0;32m<ipython-input-44-1070a2e323ff>\u001b[0m in \u001b[0;36m<module>\u001b[0;34m()\u001b[0m\n\u001b[0;32m----> 1\u001b[0;31m \u001b[0mmy_file\u001b[0m \u001b[0;34m=\u001b[0m \u001b[0mopen\u001b[0m\u001b[0;34m(\u001b[0m\u001b[0;34m\"nonexistent.txt\"\u001b[0m\u001b[0;34m,\u001b[0m \u001b[0;34m'r'\u001b[0m\u001b[0;34m)\u001b[0m\u001b[0;34m\u001b[0m\u001b[0m\n\u001b[0m",
      "\u001b[0;31mFileNotFoundError\u001b[0m: [Errno 2] No such file or directory: 'nonexistent.txt'"
     ]
    }
   ],
   "source": [
    "my_file = open(\"nonexistent.txt\", 'r')"
   ]
  },
  {
   "cell_type": "markdown",
   "metadata": {},
   "source": [
    "We get a new type of error that we’ve not seen before, with the obvious name of `FileNotFoundError`.\n",
    "\n",
    "Ideally we'd like to deal with missing file errors when they occur — we'll learn how to do that later on in the course when we discuss error handling."
   ]
  },
  {
   "cell_type": "markdown",
   "metadata": {},
   "source": [
    "## Writing text to files"
   ]
  },
  {
   "cell_type": "markdown",
   "metadata": {},
   "source": [
    "All the example programs that we’ve seen so far in this book have produced output straight to the screen. That’s great for exploring new features or data interactively, and when working on programs, because it allows you to see the effect of changes to the code right away.\n",
    "\n",
    "If you want to store data over a longer period, use it with a different application, or share it with someone else, you probably want to write it to a file."
   ]
  },
  {
   "cell_type": "markdown",
   "metadata": {},
   "source": [
    "### Opening files for writing"
   ]
  },
  {
   "cell_type": "markdown",
   "metadata": {},
   "source": [
    "We've seen how to open a file using the `open()` function and *read* its contents. We can also use the same `open()` function to open a file and *write* some data to it. However, we need to use a different *flag* to open the file in write mode.\n",
    "\n",
    "Here are some of the values that the mode flag can take on:\n",
    "\n",
    "* `'r'` for reading\n",
    "* `'w'` for writing\n",
    "* `'a'` for appending\n",
    "\n",
    "(If we leave out the second (flag) argument to `open()`, Python defaults to `'r'` for reading.)\n",
    "\n",
    "The difference between `'w'` and `'a'` is subtle but important:\n",
    "\n",
    "* If we open a file that already exists using the mode `'w'` we will **overwrite the current contents** with whatever data we write to it.\n",
    "\n",
    "\n",
    "* If we open an existing file with the mode `'a'`, it will add (append) new data onto the end of the file and will **not** overwrite any existing content.\n",
    "\n",
    "\n",
    "*  If a file with the specified filename does not already exist, then `'w'` and `'a'` behave identically:  They will both create a new file and write to it."
   ]
  },
  {
   "cell_type": "markdown",
   "metadata": {},
   "source": [
    "### Aside:  Getting help"
   ]
  },
  {
   "cell_type": "markdown",
   "metadata": {},
   "source": [
    "A lot of Python functions and methods have optional arguments beyond those we'll cover in this course. If you want to see all the optional arguments for a particular method or function, look is its help.\n",
    "\n",
    "There are multiple places you can find help:"
   ]
  },
  {
   "cell_type": "markdown",
   "metadata": {},
   "source": [
    "#### Getting help from the official documentation"
   ]
  },
  {
   "cell_type": "markdown",
   "metadata": {},
   "source": [
    "Looking something up in the official documentation at <http://docs.python.org> takes some practice, because there is so much of it!  The documentation for the `open()` function, for instance, is here:\n",
    "\n",
    "<https://docs.python.org/3/library/functions.html#open>"
   ]
  },
  {
   "cell_type": "markdown",
   "metadata": {},
   "source": [
    "#### Asking Jupyter for help"
   ]
  },
  {
   "cell_type": "markdown",
   "metadata": {},
   "source": [
    "Jupyter provides you with two ways of asking for help.  You can use a magic command starting in “`?`” to get help on any Python command or type.  The help pops up in a separate window, which you can close by clicking the ‘`x`’ icon.  You can also pop out the help into a separate tab by using the arrow icon next to the ‘`x`’ icon."
   ]
  },
  {
   "cell_type": "code",
   "execution_count": 45,
   "metadata": {},
   "outputs": [],
   "source": [
    "?open"
   ]
  },
  {
   "cell_type": "markdown",
   "metadata": {},
   "source": [
    "Perhaps more usefully, you can get help in real time while writing code by pressing `Shift-Tab`.  Put the cursor on the word `open` in the code cell below, and press `Shift-Tab`:"
   ]
  },
  {
   "cell_type": "code",
   "execution_count": null,
   "metadata": {
    "collapsed": true
   },
   "outputs": [],
   "source": [
    "open"
   ]
  },
  {
   "cell_type": "markdown",
   "metadata": {},
   "source": [
    "Pressing `Shift-Tab` multiple times toggles between different ways of displaying the help, some with more detail than others.  Try it."
   ]
  },
  {
   "cell_type": "markdown",
   "metadata": {},
   "source": [
    "#### Asking Python for help"
   ]
  },
  {
   "cell_type": "markdown",
   "metadata": {},
   "source": [
    "You can also ask the Python interpreter itself for help by using the built-in `help()` function, for instance:"
   ]
  },
  {
   "cell_type": "code",
   "execution_count": 2,
   "metadata": {},
   "outputs": [],
   "source": [
    "#help(open)"
   ]
  },
  {
   "cell_type": "markdown",
   "metadata": {},
   "source": [
    "Enough about help;  let's get back to writing files…"
   ]
  },
  {
   "cell_type": "markdown",
   "metadata": {},
   "source": [
    "### Writing to an opened file"
   ]
  },
  {
   "cell_type": "markdown",
   "metadata": {},
   "source": [
    "Once we’ve opened a file for writing, we can use the file `write()` method to write some text to it.  `write()` works a bit like `print()` – it takes a single string argument – but instead of printing the string to the screen it writes it to the file.\n",
    "\n",
    "Here's how we use `open()` to open a file for writing, and write a single line of text to it:"
   ]
  },
  {
   "cell_type": "code",
   "execution_count": 47,
   "metadata": {
    "collapsed": true
   },
   "outputs": [],
   "source": [
    "my_file = open(\"out.txt\", 'w')\n",
    "my_file.write(\"Hello world\")\n",
    "my_file.close()"
   ]
  },
  {
   "cell_type": "markdown",
   "metadata": {},
   "source": [
    "Because the output is being written to the file in this example, you won’t see any output on the screen if you run it. To check that the code has worked, you’ll have to run it, then open up the file `out.txt` in your text editor and check that its contents are what you expect.\n",
    "\n",
    "You can use Jupyter's built-in text editor to check whether `out.txt` now exists, and whether it contains the data you'd expect.  (Click `out.txt` on Jupyter's *Home* tab.)  Or you can inspect it here using the `%load` magic:"
   ]
  },
  {
   "cell_type": "code",
   "execution_count": null,
   "metadata": {
    "collapsed": true
   },
   "outputs": [],
   "source": [
    "# %load out.txt\n",
    "Hello world"
   ]
  },
  {
   "cell_type": "markdown",
   "metadata": {},
   "source": [
    "With the `write()`, just like with the `print()` function, we can use any string as the argument. This also means that we can use any method or function that returns a string. The following are all perfectly OK:"
   ]
  },
  {
   "cell_type": "code",
   "execution_count": 49,
   "metadata": {},
   "outputs": [
    {
     "data": {
      "text/plain": [
       "26"
      ]
     },
     "execution_count": 49,
     "metadata": {},
     "output_type": "execute_result"
    }
   ],
   "source": [
    "my_file = open(\"out.txt\", 'w')\n",
    "\n",
    "# write \"abc def\"\n",
    "my_file.write(\"abc\" + \" \" + \"def\")\n",
    "\n",
    "# write \"8\"\n",
    "my_file.write(str(len('AGTGCTAG')))\n",
    "\n",
    "# write \"TTGC\"\n",
    "my_file.write(\"ATGC\".replace('A', 'T'))\n",
    "\n",
    "# write \"atgc\"\n",
    "my_file.write(\"ATGC\".lower())\n",
    "\n",
    "# write contents of my_variable\n",
    "my_variable = \">gi1234|some sequence data\"\n",
    "\n",
    "my_file.write(my_variable)"
   ]
  },
  {
   "cell_type": "markdown",
   "metadata": {},
   "source": [
    "Huh?  What was that `26`?  It turns out the `write` method does return something.  What can it be?  Let's look it up:"
   ]
  },
  {
   "cell_type": "code",
   "execution_count": 8,
   "metadata": {},
   "outputs": [
    {
     "name": "stdout",
     "output_type": "stream",
     "text": [
      "Object `my_file.write` not found.\n"
     ]
    }
   ],
   "source": [
    "?my_file.write"
   ]
  },
  {
   "cell_type": "markdown",
   "metadata": {},
   "source": [
    "OK, we still haven't closed `my_file`, so let's write something else to it:"
   ]
  },
  {
   "cell_type": "code",
   "execution_count": 50,
   "metadata": {},
   "outputs": [
    {
     "ename": "TypeError",
     "evalue": "write() argument must be str, not int",
     "output_type": "error",
     "traceback": [
      "\u001b[0;31m---------------------------------------------------------------------------\u001b[0m",
      "\u001b[0;31mTypeError\u001b[0m                                 Traceback (most recent call last)",
      "\u001b[0;32m<ipython-input-50-58f6f6d2961c>\u001b[0m in \u001b[0;36m<module>\u001b[0;34m()\u001b[0m\n\u001b[0;32m----> 1\u001b[0;31m \u001b[0mmy_file\u001b[0m\u001b[0;34m.\u001b[0m\u001b[0mwrite\u001b[0m\u001b[0;34m(\u001b[0m\u001b[0mlen\u001b[0m\u001b[0;34m(\u001b[0m\u001b[0;34m\"ACTGCTAG\"\u001b[0m\u001b[0;34m)\u001b[0m\u001b[0;34m)\u001b[0m\u001b[0;34m\u001b[0m\u001b[0m\n\u001b[0m",
      "\u001b[0;31mTypeError\u001b[0m: write() argument must be str, not int"
     ]
    }
   ],
   "source": [
    "my_file.write(len(\"ACTGCTAG\"))"
   ]
  },
  {
   "cell_type": "markdown",
   "metadata": {},
   "source": [
    "What happened?!  Well, the Python error is clear: `write() argument must be str`.  Unlike the built-in `print()` function, the `write()` method of a file object does not do any implicit conversion to a textual representation.  Hence, we *have* to use `str()` to convert any numbers to strings when using `write()`.\n",
    "\n",
    "Time to close `my_file`:"
   ]
  },
  {
   "cell_type": "code",
   "execution_count": 51,
   "metadata": {
    "collapsed": true
   },
   "outputs": [],
   "source": [
    "my_file.close()"
   ]
  },
  {
   "cell_type": "markdown",
   "metadata": {},
   "source": [
    "OK, let's look at the contents of `out.txt`, the file that `my_file` referenced:"
   ]
  },
  {
   "cell_type": "code",
   "execution_count": null,
   "metadata": {
    "collapsed": true
   },
   "outputs": [],
   "source": [
    "# %load out.txt\n",
    "abc def8TTGCatgc>gi1234|some sequence data"
   ]
  },
  {
   "cell_type": "markdown",
   "metadata": {},
   "source": [
    "Everything was printed on one line!  That *may* not quite have been what we had in mind.\n",
    "\n",
    "It turns out `write` really doesn't know *any* of `print`'s clever tricks.  It just writes the string you give it as an argument to the file, *exactly as it is*.  It doesn't convert non-strings to a textual representation, and it doesn't sneakily add a newline character.  If we want newlines, we have to add them explicitly:"
   ]
  },
  {
   "cell_type": "code",
   "execution_count": 44,
   "metadata": {
    "collapsed": true
   },
   "outputs": [],
   "source": [
    "# open the file again in mode 'w', overwriting any previous contents\n",
    "my_file = open(\"out.txt\", 'w')\n",
    "\n",
    "# write \"abc def\"\n",
    "my_file.write(\"abc\" + \" \" +  \"def\" + '\\n')\n",
    "\n",
    "# write \"8\"\n",
    "my_file.write(str(len('AGTGCTAG')) + '\\n')\n",
    "\n",
    "# write \"TTGC\"\n",
    "my_file.write(\"ATGC\".replace('A', 'T') + '\\n')\n",
    "\n",
    "# write \"atgc\"\n",
    "my_file.write(\"ATGC\".lower() + '\\n')\n",
    "\n",
    "# write contents of my_variable\n",
    "my_variable = \">gi1234|some sequence data\"\n",
    "my_file.write(my_variable + '\\n')\n",
    "\n",
    "# close the file\n",
    "my_file.close()"
   ]
  },
  {
   "cell_type": "markdown",
   "metadata": {},
   "source": [
    "Let's inspect the file's contents again:"
   ]
  },
  {
   "cell_type": "code",
   "execution_count": null,
   "metadata": {},
   "outputs": [],
   "source": [
    "# %load out.txt\n",
    "abc def\n",
    "8\n",
    "TTGC\n",
    "atgc\n",
    ">gi1234|some sequence data\n"
   ]
  },
  {
   "cell_type": "markdown",
   "metadata": {},
   "source": [
    "That's more like what we had in mind!  But adding all those “`+ '\\n'`” bits was tedious.  Wouldn't it be great if there were a function like `print()` that could write to an open file and do all the smart things `print()` does?\n",
    "\n",
    "Well, it turns out there is, and it's called… `print()`.  Let's check out the help for `print`: "
   ]
  },
  {
   "cell_type": "code",
   "execution_count": 55,
   "metadata": {},
   "outputs": [],
   "source": [
    "?print"
   ]
  },
  {
   "cell_type": "markdown",
   "metadata": {},
   "source": [
    "You'll see the summary of `print()`'s syntax looks like this:\n",
    "\n",
    "`print(value, ..., sep=' ', end='\\n', file=sys.stdout, flush=False)`\n",
    "\n",
    "`print()` has a bunch of optional* keyword arguments*.  It's time to use one of those: `file`.  Calling a function with a keyword argument looks a little bit different, as you'll see below.  But now we can use all of `print()`'s cleverness when writing to a file."
   ]
  },
  {
   "cell_type": "code",
   "execution_count": 56,
   "metadata": {},
   "outputs": [],
   "source": [
    "# open the file again in mode 'w', overwriting any previous contents\n",
    "my_file = open(\"out.txt\", 'w')\n",
    "\n",
    "# print \"abc def\" to the file\n",
    "print(\"abc\", \"def\", file=my_file)\n",
    "\n",
    "# print \"8\" to the file\n",
    "print(len('AGTGCTAG'), file=my_file)\n",
    "\n",
    "# print \"TTGC\" to the file\n",
    "print(\"ATGC\".replace('A', 'T'), file=my_file)\n",
    "\n",
    "# print \"atgc\" to the file\n",
    "print(\"ATGC\".lower(), file=my_file)\n",
    "\n",
    "# print contents of my_variable to the file\n",
    "my_variable = \">gi1234|some sequence data\"\n",
    "print(my_variable, file=my_file)\n",
    "\n",
    "# close the file\n",
    "my_file.close()"
   ]
  },
  {
   "cell_type": "markdown",
   "metadata": {},
   "source": [
    "Let's check the contents of the file one final time:"
   ]
  },
  {
   "cell_type": "code",
   "execution_count": null,
   "metadata": {},
   "outputs": [],
   "source": [
    "%load out.txt"
   ]
  },
  {
   "cell_type": "markdown",
   "metadata": {},
   "source": [
    ">Note that `write()` is a method of the file object, but `print()` is (as before) just a standard built-in function."
   ]
  },
  {
   "cell_type": "markdown",
   "metadata": {},
   "source": [
    "## Aside: remember `help()`"
   ]
  },
  {
   "cell_type": "markdown",
   "metadata": {},
   "source": [
    "Just to reiterate:  You can get extensive help on Python's built-in functions and objects using the built-in function `help()`… even for things that you can't easily get help for using Jupyter's `Shift-Tab` shortcut."
   ]
  },
  {
   "cell_type": "markdown",
   "metadata": {},
   "source": [
    "To see the documentation for the string type's `rstrip()` method, call the `help()` function with the `rstrip()` method of an arbitrary string (e.g. an empty string):"
   ]
  },
  {
   "cell_type": "code",
   "execution_count": null,
   "metadata": {},
   "outputs": [],
   "source": [
    "help(\"\".rstrip)"
   ]
  },
  {
   "cell_type": "markdown",
   "metadata": {},
   "source": [
    "To see help for the entire string type, including a list of all its methods:"
   ]
  },
  {
   "cell_type": "code",
   "execution_count": null,
   "metadata": {},
   "outputs": [],
   "source": [
    "help(str)"
   ]
  },
  {
   "cell_type": "markdown",
   "metadata": {},
   "source": [
    "## Paths and folders"
   ]
  },
  {
   "cell_type": "markdown",
   "metadata": {},
   "source": [
    "So far, we have only dealt with opening files in the current working directory of our Jupyter kernel.  (We explicitly used `%cd` to change to the directory where our file was located.) What if we want to open a file from a different part of the file system?\n",
    "\n",
    "The open function is quite happy to deal with files from anywhere on your computer, as long as you give the full path. Just give a *file path* as the argument rather than a *file name*. The format of the file path looks different depending on your operating system. If you’re on Linux or a Mac, it could look something like this:\n",
    "\n",
    "```python\n",
    "my_file = open(\"/home/martin/myfolder/myfile.txt\")\n",
    "my_file = open(\"/Users/martin/Desktop/myfolder/myfile.txt\")\n",
    "```"
   ]
  },
  {
   "cell_type": "markdown",
   "metadata": {},
   "source": [
    "If you’re on Windows, it might look like this:\n",
    "\n",
    "```python\n",
    "my_file = open(r\"c:\\windows\\Desktop\\myfolder\\myfile.txt\")\n",
    "```"
   ]
  },
  {
   "cell_type": "markdown",
   "metadata": {},
   "source": [
    "Note that there's a single letter `r` before the opening quote of the string that contains the path and filename, for the Windows example.  This is because a Windows path is likely to contain backslashes, and Python regards a backslash in a string as part of a special character.  (Remember `\\n` and `\\t`?)  That 'r' tells Python to treat this as a *raw string*, i.e. it does not interpret any backslash as part of a special character."
   ]
  },
  {
   "cell_type": "markdown",
   "metadata": {},
   "source": [
    "---"
   ]
  },
  {
   "cell_type": "markdown",
   "metadata": {},
   "source": [
    "## Exercises"
   ]
  },
  {
   "cell_type": "markdown",
   "metadata": {},
   "source": [
    "### 1. Splitting genomic DNA"
   ]
  },
  {
   "cell_type": "markdown",
   "metadata": {},
   "source": [
    "In the `files` subdirectory there's a file called `genomic_dna.txt` – it contains the same piece of genomic DNA that we were using in the final exercise from the previous section.\n",
    "\n",
    ">If you've been working through this Notebook step by step, you should already have changed to the `files` subdirectory using `%cd` earlier.\n",
    "\n",
    "As before, it comprises two exons and an intron. The first exon runs from the start of the sequence to the sixty-third character, and the second exon runs from the ninety-first character to the end of the sequence. Write a program that will print just the coding regions of the DNA sequence.\n",
    "\n",
    "Write a program that will split the genomic DNA into coding and non-coding parts, and write these sequences to two separate files.\n",
    "\n",
    "\n"
   ]
  },
  {
   "cell_type": "code",
   "execution_count": 83,
   "metadata": {},
   "outputs": [],
   "source": [
    "# Exercise 1\n",
    "\n",
    "\n",
    "# coding bases\n",
    "exons = open(\"genomic_dna_coding.txt\", 'w')\n",
    "exon1 = \"ATCGATCGATCGATCGACTGACTAGTCATAGCTATGCATGTAGCTACTCGATCGATCGATCGATCGATCGATCGATCGATCGATCATGCTATCATCGATCGATATCGATGCATCGACTACTAT\"[0:37] + \"\\n\"\n",
    "exon2 = \"ATCGATCGATCGATCGACTGACTAGTCATAGCTATGCATGTAGCTACTCGATCGATCGATCGATCGATCGATCGATCGATCGATCATGCTATCATCGATCGATATCGATGCATCGACTACTAT\"[92:123]\n",
    "\n",
    "exons.write(exon1)\n",
    "exons.write(exon2)\n",
    "exons.close()\n",
    "            \n",
    "   \n",
    "\n",
    "## noncoding bases, intron \n",
    "introns = open(\"genomic_dna_noncoding.txt\", 'w')\n",
    "intron = \"ATCGATCGATCGATCGACTGACTAGTCATAGCTATGCATGTAGCTACTCGATCGATCGATCGATCGATCGATCGATCGATCGATCATGCTATCATCGATCGATATCGATGCATCGACTACTAT\" [37:91]\n",
    "introns.write(intron)\n",
    "introns.close()"
   ]
  },
  {
   "cell_type": "code",
   "execution_count": null,
   "metadata": {},
   "outputs": [],
   "source": [
    "# %load genomic_dna_coding.txt\n",
    "ATCGATCGATCGATCGACTGACTAGTCATAGCTATGC\n",
    "CATCGATCGATATCGATGCATCGACTACTAT"
   ]
  },
  {
   "cell_type": "code",
   "execution_count": null,
   "metadata": {
    "collapsed": true
   },
   "outputs": [],
   "source": [
    "# %load genomic_dna_noncoding.txt\n",
    "ATGTAGCTACTCGATCGATCGATCGATCGATCGATCGATCGATCGATCATGCTA"
   ]
  },
  {
   "cell_type": "markdown",
   "metadata": {},
   "source": [
    "### 2. Writing a FASTA file"
   ]
  },
  {
   "cell_type": "markdown",
   "metadata": {},
   "source": [
    "FASTA file format is a commonly-used DNA and protein sequence file format. A single sequence in FASTA format looks like this:\n",
    "\n",
    "```\n",
    ">sequence_name\n",
    "ATCGACTGATCGATCGTACGAT\n",
    "```\n",
    "\n",
    "Where sequence_name is a header that describes the sequence (the greater-than symbol indicates the start of the header line). Often, the header contains an accession number that relates to the record for the sequence in a public sequence database. A single FASTA file can contain multiple sequences, like this:\n",
    "\n",
    "```\n",
    ">sequence_one\n",
    "ATCGATCGATCGATCGAT\n",
    ">sequence_two\n",
    "ACTAGCTAGCTAGCATCG\n",
    ">sequence_three\n",
    "ACTGCATCGATCGTACCT\n",
    "```\n",
    "\n",
    "Write a program that will create a FASTA file for the following three sequences – make sure that all sequences are in upper case and only contain the bases A, T, G and C.\n",
    "\n",
    "| SEQUENCE HEADER | DNA SEQUENCE                       |\n",
    "|-----------------|------------------------------------|\n",
    "| `ABC123`        | `ATCGTACGATCGATCGATCGCTAGACGTATCG` |\n",
    "| `DEF456`        | `actgatcgacgatcgatcgatcacgact`     |\n",
    "| `HIJ789`        | `ACTGAC-ACTGT--ACTGTA----CATGTG`   |"
   ]
  },
  {
   "cell_type": "code",
   "execution_count": 33,
   "metadata": {},
   "outputs": [],
   "source": [
    "# Exercise 2\n",
    "\n",
    "dna_seq = open(\"dna_sequences.txt\", 'w')\n",
    "dna_seq.write(\"ABC123|ATCGTACGATCGATCGATCGCTAGACGTATCG\" + \"DEF456|actgatcgacgatcgatcgatcacgact\".upper() + \"HIJ789|ACTGAC-ACTGT--ACTGTA----CATGTG\".replace('-', ''))\n",
    "dna_seq.close()"
   ]
  },
  {
   "cell_type": "code",
   "execution_count": null,
   "metadata": {},
   "outputs": [],
   "source": [
    "# %load dna_sequences.txt\n",
    "ABC123|ATCGTACGATCGATCGATCGCTAGACGTATCGDEF456|ACTGATCGACGATCGATCGATCACGACTHIJ789|ACTGACACTGTACTGTACATGTG"
   ]
  },
  {
   "cell_type": "markdown",
   "metadata": {},
   "source": [
    "### 3. Writing multiple FASTA files"
   ]
  },
  {
   "cell_type": "markdown",
   "metadata": {},
   "source": [
    "Use the data from the previous exercise, but instead of creating a single FASTA file, create three new FASTA files – one per sequence. The names of the FASTA files should be the same as the sequence header names, with the extension `.fasta`."
   ]
  },
  {
   "cell_type": "code",
   "execution_count": 38,
   "metadata": {},
   "outputs": [],
   "source": [
    "# Exercise 3\n",
    "fasta_ABC123 = open(\"ABC123.fasta\", 'w')\n",
    "fasta_ABC123.write(\"ABC123|ATCGTACGATCGATCGATCGCTAGACGTATCG\")\n",
    "fasta_ABC123.close()\n",
    "#----------------\n",
    "fasta_DEF456 = open(\"DEF456.fasta\", 'w')\n",
    "fasta_DEF456.write(\"DEF456|actgatcgacgatcgatcgatcacgact\".upper())\n",
    "fasta_DEF456.close()\n",
    "#----------------\n",
    "fasta_HIJ789 = open(\"HIJ789.fasta\", 'w')\n",
    "fasta_HIJ789.write(\"HIJ789|ACTGAC-ACTGT--ACTGTA----CATGTG\".replace('-', ''))\n",
    "fasta_HIJ789.close()\n"
   ]
  }
 ],
 "metadata": {
  "kernelspec": {
   "display_name": "Python 3",
   "language": "python",
   "name": "python3"
  },
  "language_info": {
   "codemirror_mode": {
    "name": "ipython",
    "version": 3
   },
   "file_extension": ".py",
   "mimetype": "text/x-python",
   "name": "python",
   "nbconvert_exporter": "python",
   "pygments_lexer": "ipython3",
   "version": "3.6.1"
  }
 },
 "nbformat": 4,
 "nbformat_minor": 1
}

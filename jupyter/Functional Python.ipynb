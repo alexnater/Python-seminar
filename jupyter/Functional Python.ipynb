{
 "cells": [
  {
   "cell_type": "markdown",
   "metadata": {},
   "source": [
    "<div align=right>\n",
    "<img src=\"img/logosmall.png\" width=\"100px\" align=right>\n",
    "</div>"
   ]
  },
  {
   "cell_type": "markdown",
   "metadata": {},
   "source": [
    "There are many ways to slice the various underlying programming paradigms that programming languages are based on, but one particularly pervasive distinction (with very deep underlying theoretical roots) is that of *imperative languages* (that see computation as a list of instructions) vs. *functional* languages (that see computation as recursive function calls).\n",
    "\n",
    "We won't go into the theoretical details here, except to say that Python is a *pragmatic* language that borrows (or steals) from multiple paradigms.  In fact, for a language that appears at first blush to be largely imperative, Python supports a number of functional constructs.  And not only does it support them, but it makes using them feel extremely idiomatic and \"Pythonic\".\n",
    "\n",
    "In this section, we'll look at some functional constructs in Python.  In the next section, we'll look at object-oriented constructs — an entirely different paradigm usually built on top of an imperative language."
   ]
  },
  {
   "cell_type": "markdown",
   "metadata": {},
   "source": [
    "# Computing with lists"
   ]
  },
  {
   "cell_type": "markdown",
   "metadata": {},
   "source": [
    "Lists are a basic data structure in most functional languages, and computation *using* lists is a very common functional paradigm.  Let's look at some of the more common operations, and how they're done in Python:"
   ]
  },
  {
   "cell_type": "markdown",
   "metadata": {},
   "source": [
    "## Filtering"
   ]
  },
  {
   "cell_type": "markdown",
   "metadata": {},
   "source": [
    "Remember the example we had in the *Conditions* Notebook where we *filtered* a list to of accessions retrieve all the accessions starting in `a`?"
   ]
  },
  {
   "cell_type": "code",
   "execution_count": null,
   "metadata": {
    "collapsed": false
   },
   "outputs": [],
   "source": [
    "accs = ['ab56', 'bh84', 'hv76', 'ay93', 'ap97', 'bd72']\n",
    "starts_with_a = []\n",
    "\n",
    "for accession in accs:\n",
    "    if accession.startswith('a'):\n",
    "        starts_with_a.append(accession)\n",
    "\n",
    "print(starts_with_a)"
   ]
  },
  {
   "cell_type": "markdown",
   "metadata": {},
   "source": [
    "Filtering a list in this fashion is an incredibly common operation, and Python has a built-in function `filter()`.  It takes two arguments:\n",
    "\n",
    "* a function that returns a boolean value (i.e. a predicate function)\n",
    "* an iterable that can be iterated over\n",
    "\n",
    "It returns a genrator that, when iterated over, returns elments of the original function that satisfy the boolean function:"
   ]
  },
  {
   "cell_type": "code",
   "execution_count": null,
   "metadata": {
    "collapsed": false
   },
   "outputs": [],
   "source": [
    "# We build our own predicate function...\n",
    "def starts_with_a(s):\n",
    "    return s.startswith('a')\n",
    "\n",
    "# ...then use it to filter the list of accessions:\n",
    "list(filter(starts_with_a, accs))"
   ]
  },
  {
   "cell_type": "markdown",
   "metadata": {},
   "source": [
    ">Note how we pass a function around, just like any other object.  In this case, we pass it as an argument to the `filter()` function.\n",
    "\n",
    ">Being able to treat functions as \"first class\" objects — i.e. objects that can be treated like any other — makes for a language that's well suited to programming in a functional paradigm.\n",
    "\n",
    "In case it's not entirely clear what `filter()` does, we can write our own version of it that works only on lists (and returns a list):"
   ]
  },
  {
   "cell_type": "code",
   "execution_count": null,
   "metadata": {
    "collapsed": false
   },
   "outputs": [],
   "source": [
    "def my_filter(function, a_list):\n",
    "    result_list = []\n",
    "    for element in a_list:\n",
    "        if function(element):\n",
    "            result_list.append(element)\n",
    "    return result_list\n",
    "\n",
    "my_filter(starts_with_a, accs)"
   ]
  },
  {
   "cell_type": "markdown",
   "metadata": {},
   "source": [
    ">Here we've created *our own* function that takes another function as argument.\n",
    "\n",
    "Another exmample of using `filter`:"
   ]
  },
  {
   "cell_type": "code",
   "execution_count": null,
   "metadata": {
    "collapsed": false
   },
   "outputs": [],
   "source": [
    "def is_positive(x):\n",
    "    return x >= 0\n",
    "\n",
    "numbers = [12, 18, -23, 0, -7, 125, 13, -31]\n",
    "\n",
    "list(filter(is_positive, numbers))"
   ]
  },
  {
   "cell_type": "markdown",
   "metadata": {},
   "source": [
    "And another:"
   ]
  },
  {
   "cell_type": "code",
   "execution_count": null,
   "metadata": {
    "collapsed": false
   },
   "outputs": [],
   "source": [
    "def is_fasta_header(s):\n",
    "    return s.startswith('>')\n",
    "\n",
    "%cd files\n",
    "\n",
    "lines = open(\"sample1.fa\", 'r').readlines()\n",
    "list(filter(is_fasta_header, lines))"
   ]
  },
  {
   "cell_type": "markdown",
   "metadata": {},
   "source": [
    "OK, it's a bit tedious to write those little one-line boolean functions (or *predicate functions*) all the time, especially when they only get used for one thing.\n",
    "\n",
    "We can use a literal string or a literal number anywhere in our Python code without having to assign them a variable name.  Wouldn't it be nice if we could use a \"literal function\" as well without having to assign it a name in the current namespace using `def`?\n",
    "\n",
    "It turns out that, for one-line functions anyway, we can — by using Python's `lambda` keyword. "
   ]
  },
  {
   "cell_type": "code",
   "execution_count": null,
   "metadata": {
    "collapsed": false
   },
   "outputs": [],
   "source": [
    "(lambda x: x * x)(5)"
   ]
  },
  {
   "cell_type": "markdown",
   "metadata": {},
   "source": [
    ">Literal `lambda` functions only need to be surrounded by parentheses when required to avoid ambiguity, as in the example above.\n",
    "\n",
    "Without further ado, here are the previous three examples rewritten using `lambda`:"
   ]
  },
  {
   "cell_type": "code",
   "execution_count": null,
   "metadata": {
    "collapsed": false
   },
   "outputs": [],
   "source": [
    "list(filter(lambda x: x.startswith('a'), accs))"
   ]
  },
  {
   "cell_type": "code",
   "execution_count": null,
   "metadata": {
    "collapsed": false
   },
   "outputs": [],
   "source": [
    "list(filter(lambda x: x >= 0, numbers))"
   ]
  },
  {
   "cell_type": "code",
   "execution_count": null,
   "metadata": {
    "collapsed": false
   },
   "outputs": [],
   "source": [
    "list(filter(lambda x: x.startswith('>'), open(\"sample1.fa\", 'r').readlines()))"
   ]
  },
  {
   "cell_type": "markdown",
   "metadata": {},
   "source": [
    "I'll be honest, though:  lambda functions aren't very \"fashionable\" in Python these days.  For one thing, Python's `lambda` statement is ridiculously limited in power compared to similar constructs in other languages:  A `lambda` function is limited to one statement, and cannot have a code block.\n",
    "\n",
    "Fear not!  Python has other constructs — similarly borrowed from functional languages — that makes statements like the above even *more* succinct, and definitely more readable.  We'll get to them in a minute…"
   ]
  },
  {
   "cell_type": "markdown",
   "metadata": {},
   "source": [
    "## Mapping"
   ]
  },
  {
   "cell_type": "markdown",
   "metadata": {},
   "source": [
    "The `map()` function is almost always mentioned in the same breath as `filter()`.  Whereas `filter()` filters a list based on a predicate function, `map()` maps a function over a list.\n",
    "\n",
    "In other words, given a function `f()` and a list `l`, `map(f, l)` would apply the function `f()` to every element of the list `l` and return a new list with the results.\n",
    "\n",
    ">Python's `map()` doesn't actually return a list, but a generator over which one can iterate.  As before we can  *coerce* the result of `map` to a list using the `list()` function.)\n",
    "\n",
    "> In Python 2, `map()` returned a simmple list."
   ]
  },
  {
   "cell_type": "code",
   "execution_count": null,
   "metadata": {
    "collapsed": false
   },
   "outputs": [],
   "source": [
    "def square(x):\n",
    "    return x * x\n",
    "\n",
    "print(numbers)\n",
    "print(list(map(square, numbers)))"
   ]
  },
  {
   "cell_type": "markdown",
   "metadata": {},
   "source": [
    "Or, more succinctly:"
   ]
  },
  {
   "cell_type": "code",
   "execution_count": null,
   "metadata": {
    "collapsed": false
   },
   "outputs": [],
   "source": [
    "list(map(lambda x: x * x, numbers))"
   ]
  },
  {
   "cell_type": "code",
   "execution_count": null,
   "metadata": {
    "collapsed": false
   },
   "outputs": [],
   "source": [
    "# Filter the Fasta headers from a list of lines in a Fasta file\n",
    "headers = list(filter(lambda x: x.startswith('>'), open(\"sample1.fa\", 'r').readlines()))\n",
    "\n",
    "# Strip leading '>' and trailing '\\n' from list of headers\n",
    "headers = list(map(lambda x: x.strip('\\n>'), headers))\n",
    "\n",
    "print(headers)"
   ]
  },
  {
   "cell_type": "markdown",
   "metadata": {},
   "source": [
    "Let's look at two more built-in functions that compute using entire lists — `any()` and `all()`.  These are so-called *reduction* functions, which take a list as argument and \"reduce it\" to a simple value (in the case of `any()` and `all()`, a boolean value):\n",
    "\n",
    "`any()` and `all()` are both called with a list as argument.\n",
    "\n",
    "* `any(L)` returns `True` if **at least one** element of `L` is truthy, else  `False`\n",
    "\n",
    "* `all(L)` returns `True` if **every** element of `L` is truthy, else `False`"
   ]
  },
  {
   "cell_type": "code",
   "execution_count": null,
   "metadata": {
    "collapsed": false,
    "scrolled": true
   },
   "outputs": [],
   "source": [
    "list1 = [3, 6, -3, -5, 4, -8]\n",
    "list2 = [8, 2, 19, 25, 36, 11]\n",
    "list3 = [-5, -2, -118, -13, -21, -11]\n",
    "\n",
    "# A simple predicate function\n",
    "def is_positive(x):\n",
    "    return x >= 0\n",
    "\n",
    "for a_list in list1, list2, list3:\n",
    "    predicate_list = list(map(is_positive, a_list))\n",
    "    print(a_list)\n",
    "    print(\"Element positive:\", predicate_list)\n",
    "    print(\"Any positive:    \", any(predicate_list))\n",
    "    print(\"All positive:    \", all(predicate_list))\n",
    "    print()"
   ]
  },
  {
   "cell_type": "markdown",
   "metadata": {},
   "source": [
    "When we cover *comprehensions* later on, we'll see another compact format for expressions mapping and filtering operations that does not require ad hoc predicate functions *or* lambda functions."
   ]
  },
  {
   "cell_type": "markdown",
   "metadata": {},
   "source": [
    "# Generators"
   ]
  },
  {
   "cell_type": "markdown",
   "metadata": {},
   "source": [
    "We now come to *generators* — a fairly advanced piece of Python lore.  Don't feel you have to understand everything in this section the first time through!"
   ]
  },
  {
   "cell_type": "markdown",
   "metadata": {},
   "source": [
    "## Generator objects"
   ]
  },
  {
   "cell_type": "markdown",
   "metadata": {},
   "source": [
    "We've seen several built-in functions (and methods) that return a *generator object* — something that *yields* values (items, objects) when you iterate over it.  An example was `map()`:"
   ]
  },
  {
   "cell_type": "code",
   "execution_count": null,
   "metadata": {
    "collapsed": false
   },
   "outputs": [],
   "source": [
    "generator_object = map(square, range(1, 11))\n",
    "\n",
    "generator_object"
   ]
  },
  {
   "cell_type": "markdown",
   "metadata": {},
   "source": [
    "Let's play a bit with the generator object.  For one thing, a generator can be *exhausted*:  We can iterate over it until it stops yielding values, and at that point it yields no further values:"
   ]
  },
  {
   "cell_type": "code",
   "execution_count": null,
   "metadata": {
    "collapsed": false
   },
   "outputs": [],
   "source": [
    "# implicitly iterate over the generator object by using list()\n",
    "print(list(generator_object))\n",
    "\n",
    "# try to do it again\n",
    "print(list(generator_object))"
   ]
  },
  {
   "cell_type": "markdown",
   "metadata": {},
   "source": [
    "By the time we try to iterate over the generator a second time, it is already exhausted and yields nothing further, so the result of the `list()` function call is an empty list.\n",
    "\n",
    "Let's make a new generator object that will yield only four values before being exhausted:"
   ]
  },
  {
   "cell_type": "code",
   "execution_count": null,
   "metadata": {
    "collapsed": true
   },
   "outputs": [],
   "source": [
    "generator_object = map(square, range(1, 5))"
   ]
  },
  {
   "cell_type": "markdown",
   "metadata": {},
   "source": [
    "Instead of iterating over the generator and allowing it to yield all values until exhausted, we can make the generator object yield only a single value by using the built-in function `next()`:"
   ]
  },
  {
   "cell_type": "code",
   "execution_count": null,
   "metadata": {
    "collapsed": false
   },
   "outputs": [],
   "source": [
    "print(next(generator_object))"
   ]
  },
  {
   "cell_type": "markdown",
   "metadata": {},
   "source": [
    "Let's do this three more times:"
   ]
  },
  {
   "cell_type": "code",
   "execution_count": null,
   "metadata": {
    "collapsed": false
   },
   "outputs": [],
   "source": [
    "print(next(generator_object))\n",
    "print(next(generator_object))\n",
    "print(next(generator_object))"
   ]
  },
  {
   "cell_type": "markdown",
   "metadata": {},
   "source": [
    "Our generator should now be exhausted.  Let's try to prompt it once more:"
   ]
  },
  {
   "cell_type": "code",
   "execution_count": null,
   "metadata": {
    "collapsed": false
   },
   "outputs": [],
   "source": [
    "print(next(generator_object))"
   ]
  },
  {
   "cell_type": "markdown",
   "metadata": {},
   "source": [
    "It raises the `StopIteration` exception.  In fact, `StopIteration` is *implicitly* caught by Python's iteration system.  If we were to iterate over a generator (using, say, a `for` loop) we won't see the `StopIteration`, since the iteration system will catch the exception and use it as a signal that the generator is exhausted, and that code execution can therefore exit the `for` loop:"
   ]
  },
  {
   "cell_type": "code",
   "execution_count": null,
   "metadata": {
    "collapsed": false
   },
   "outputs": [],
   "source": [
    "generator_object = map(square, range(1, 5))\n",
    "for i in generator_object:\n",
    "    print(i, end=' ')"
   ]
  },
  {
   "cell_type": "markdown",
   "metadata": {},
   "source": [
    "## Generator functions"
   ]
  },
  {
   "cell_type": "markdown",
   "metadata": {},
   "source": [
    "Sometimes we want to create our own generator objects manually, and for this we can use *generator functions*.  Generator functions are a powerful and advanced feature of Python, and we'll only cover the very basics here.\n",
    "\n",
    "Generator functions are defined (like normal) functions using the keyword `def`.  Whereas a normal function may (or may not) return a value using the `return` keyword, a generator function **always** contains a `yield` statement.\n",
    "\n",
    ">This is worth repeating since it can lead to a lot of confusion, since Python's syntax unfortunately doesn't make the distinction between a function and a generator function very clear:\n",
    "\n",
    ">A function definition that contains the keyword `yield` is **always** a generator function, which is something quite different from a normal function.\n",
    "\n",
    "When you *call* a generator function it doesn't get executed like a normal Python function; instead it yields a generator object which can be iterated over to yield results.  You specify how those results are to be yielded using the `yield` keyword.\n",
    "\n",
    "Here's a generator function that, when called, will return a generator which will yield all fibonacci numbers smaller than 10000 when iterated over:"
   ]
  },
  {
   "cell_type": "code",
   "execution_count": null,
   "metadata": {
    "collapsed": true
   },
   "outputs": [],
   "source": [
    "def fib_10k():\n",
    "    a, b = 1, 1\n",
    "    while a < 10000:\n",
    "        yield a\n",
    "        a, b = b, a + b"
   ]
  },
  {
   "cell_type": "markdown",
   "metadata": {},
   "source": [
    "Let's execute `fib_10k` and assign whatever it returns to a variable `g`, then inspect that thing:"
   ]
  },
  {
   "cell_type": "code",
   "execution_count": null,
   "metadata": {
    "collapsed": false
   },
   "outputs": [],
   "source": [
    "g = fib_10k()\n",
    "\n",
    "g"
   ]
  },
  {
   "cell_type": "markdown",
   "metadata": {},
   "source": [
    "You can clearly see that `g` is a generator object.  Let's iterate over it and see what it yields:"
   ]
  },
  {
   "cell_type": "code",
   "execution_count": null,
   "metadata": {
    "collapsed": false
   },
   "outputs": [],
   "source": [
    "for i in g:\n",
    "    print(i)"
   ]
  },
  {
   "cell_type": "markdown",
   "metadata": {},
   "source": [
    "Let's implicitly iterate over our generator `g` using the `list` function:"
   ]
  },
  {
   "cell_type": "code",
   "execution_count": null,
   "metadata": {
    "collapsed": false
   },
   "outputs": [],
   "source": [
    "list(g)"
   ]
  },
  {
   "cell_type": "markdown",
   "metadata": {},
   "source": [
    "Oops.  The generator object referenced by the variable `g` has been exhausted.  We've already iterated over it all the way \"to the end\", so it yields no further values.\n",
    "\n",
    "However, our generator function can provide us with as many generators as we wish!"
   ]
  },
  {
   "cell_type": "code",
   "execution_count": null,
   "metadata": {
    "collapsed": false
   },
   "outputs": [],
   "source": [
    "g = fib_10k()\n",
    "print(list(g))"
   ]
  },
  {
   "cell_type": "markdown",
   "metadata": {},
   "source": [
    "Once again we can \"manually\" advance a generator by using the built-in function `next()`:"
   ]
  },
  {
   "cell_type": "code",
   "execution_count": null,
   "metadata": {
    "collapsed": false
   },
   "outputs": [],
   "source": [
    "g = fib_10k()\n",
    "\n",
    "print(next(g))\n",
    "print(next(g))\n",
    "print(next(g))\n",
    "\n",
    "print(list(g))"
   ]
  },
  {
   "cell_type": "markdown",
   "metadata": {},
   "source": [
    "Note that the generator `h` \"remembered its state\".  It had already yielded the first three fibonacci numbers (1, 1, and 2), so when we coerced it to a list with `list()`, it continued on from there.\n",
    "\n",
    ">One way of looking at a generator is as \"a function that remembers state\".  It's not entirely accurate, but it's sometimes useful to think of it like this.\n",
    "\n",
    "Note that generators are inherently *lazy* — they only yield values when they are called upon to do so.  Thus, one can get generators to fill the role of things that aren't normally possible in a *strict* programming langauge.  (*strict* and *lazy* are opposites to a computer scientist.)\n",
    "\n",
    "An infinite list is an example of something that can only be created as a lazy construct.  The fibonacci sequence has no upper bound, and one could easily create a generator that will yield an infinite sequence of fibonacci numbers:"
   ]
  },
  {
   "cell_type": "code",
   "execution_count": null,
   "metadata": {
    "collapsed": true
   },
   "outputs": [],
   "source": [
    "def fib():\n",
    "    a, b = 1, 1\n",
    "    while True:\n",
    "        yield a\n",
    "        a, b = b, a + b"
   ]
  },
  {
   "cell_type": "markdown",
   "metadata": {},
   "source": [
    "If you were to execute that generator function, and then try to iterate over the resulting generator, it would simply keep going until your computer's memory has been exhausted.  **DON'T DO IT.**\n",
    "\n",
    "Generator functions can of course take arguments as well; in fact, they mostly do.  Let's create a generator function that yields all fibonacci numbers up to `n`:"
   ]
  },
  {
   "cell_type": "code",
   "execution_count": null,
   "metadata": {
    "collapsed": false
   },
   "outputs": [],
   "source": [
    "def fib(n):\n",
    "    \"Yield all fibonacci numbers up to 'n'\"\n",
    "    a, b = 1, 1\n",
    "    while a <= n:\n",
    "        yield a\n",
    "        a, b = b, a + b\n",
    "\n",
    "fib_100 = fib(100)\n",
    "fib_1000 = fib(1000)\n",
    "\n",
    "print(list(fib_100))\n",
    "print(list(fib_1000))"
   ]
  },
  {
   "cell_type": "markdown",
   "metadata": {},
   "source": [
    "It's perfectly permissible to have multiple `yield` statements in a generator function."
   ]
  },
  {
   "cell_type": "code",
   "execution_count": null,
   "metadata": {
    "collapsed": false
   },
   "outputs": [],
   "source": [
    "from math import pi, e\n",
    "\n",
    "def important_number_maker(your_number):\n",
    "    yield pi\n",
    "    yield your_number\n",
    "    yield e\n",
    "    \n",
    "num_gen = important_number_maker(42)\n",
    "list(num_gen)"
   ]
  },
  {
   "cell_type": "markdown",
   "metadata": {},
   "source": [
    "We can manually tell a generator when to finish by explicitly raising `StopIteration` in our generator function.\n",
    "\n",
    "Here's a function that takes two arguments, `upper_limit` and `stop_limit`.  It will return a generator that yields random integers between 1 and `upper_limit` until it yields a number greater than `stop_limit`, at which point the iteration will end."
   ]
  },
  {
   "cell_type": "code",
   "execution_count": null,
   "metadata": {
    "collapsed": false
   },
   "outputs": [],
   "source": [
    "import random\n",
    "\n",
    "def randoms(upper_limit, stop_limit):\n",
    "    while True:\n",
    "        result = random.randint(1, upper_limit)\n",
    "        yield result\n",
    "        if result > stop_limit:\n",
    "            raise StopIteration\n",
    "\n",
    "rgen = randoms(100, 90)\n",
    "print(list(rgen))"
   ]
  },
  {
   "cell_type": "markdown",
   "metadata": {},
   "source": [
    "Run the above code cell multiple times (use `Ctrl-Enter` to run a code cell without advancing the cursor) and see how the resulting list differs every time."
   ]
  },
  {
   "cell_type": "markdown",
   "metadata": {},
   "source": [
    "# Comprehensions"
   ]
  },
  {
   "cell_type": "markdown",
   "metadata": {},
   "source": [
    "Now we come to one of my favourite Python constructs:  Comprehensions!\n",
    "\n",
    "Strictly speaking, comprehensions are *syntactic sugar*.  In other words, they don't provide any functionality we cannot achieve with other, more basic syntactic elements in Python.  Syntactic sugar doesn't always have the best of reputations…"
   ]
  },
  {
   "cell_type": "markdown",
   "metadata": {},
   "source": [
    "<div class=\"alert alert-info\">\n",
    "Syntactic sugar causes cancer of the semicolon.\n",
    "\n",
    "<div align=\"right\">\n",
    "— Alan J Perlis, \"Epigrams on Programming\""
   ]
  },
  {
   "cell_type": "markdown",
   "metadata": {},
   "source": [
    "But comprehensions provide such a wonderfully clean syntax for mapping and filtering operations on lists (and other iterables) that it's hard not to love them!  After all, a syntax that's both concise and very readable can make your code shorter *and* easier to understand.\n",
    "\n",
    ">For the math nerds:  Comprehensions are based on the Zermelo-Fraenkel set notation.\n",
    "\n",
    "When we learned about the `map()` function earlier, we used it to create a list of squares:"
   ]
  },
  {
   "cell_type": "code",
   "execution_count": null,
   "metadata": {
    "collapsed": false
   },
   "outputs": [],
   "source": [
    "numbers = [12, 18, -23, 0, -7, 125, 13, -31]\n",
    "\n",
    "def squares(x):\n",
    "    return x * x\n",
    "\n",
    "list(map(squares, numbers))"
   ]
  },
  {
   "cell_type": "markdown",
   "metadata": {},
   "source": [
    "We then restated this even more succinctly using a lambda function:"
   ]
  },
  {
   "cell_type": "code",
   "execution_count": null,
   "metadata": {
    "collapsed": false
   },
   "outputs": [],
   "source": [
    "list(map(lambda x: x * x, numbers))"
   ]
  },
  {
   "cell_type": "markdown",
   "metadata": {},
   "source": [
    "That's pretty short and sweet, but many people find it a little hard to read, and even unintuitive.\n",
    "\n",
    "If we had used a *list comprehension* to create our list of squares, we would have done it like this:"
   ]
  },
  {
   "cell_type": "code",
   "execution_count": null,
   "metadata": {
    "collapsed": false
   },
   "outputs": [],
   "source": [
    "[x * x for x in numbers]"
   ]
  },
  {
   "cell_type": "markdown",
   "metadata": {},
   "source": [
    "Now I think most people would agree that is both short **and** clearly readable!"
   ]
  },
  {
   "cell_type": "markdown",
   "metadata": {},
   "source": [
    "Note that the list comprehension yielded an actual list, not a generator object like `map()`.  Sometimes (often!) it's more efficient to work with a generator object than a list, and there's a kind of comprehension that creates generators as well, as we'll soon see."
   ]
  },
  {
   "cell_type": "markdown",
   "metadata": {},
   "source": [
    "## List comprehensions"
   ]
  },
  {
   "cell_type": "markdown",
   "metadata": {},
   "source": [
    "A *list comprehension* is a statement in Python that evaluates to a list.  It can have the form:\n",
    "\n",
    "```python\n",
    "[<statement> for <variable> in <iterable>]\n",
    "```"
   ]
  },
  {
   "cell_type": "markdown",
   "metadata": {},
   "source": [
    "…where `<variable>` is available for use in `<statement>`.\n",
    "    \n",
    "This is roughly equivalent to:\n",
    "\n",
    "```python\n",
    "result = []\n",
    "for <variable> in <iterable>:\n",
    "  result.append(<statement>)\n",
    "result\n",
    "```"
   ]
  },
  {
   "cell_type": "markdown",
   "metadata": {},
   "source": [
    "It's actually much easier to understand based on examples, rather than trying to define it explicitly!"
   ]
  },
  {
   "cell_type": "code",
   "execution_count": null,
   "metadata": {
    "collapsed": false
   },
   "outputs": [],
   "source": [
    "# Grab the first 5 characters from every line in a file\n",
    "\n",
    "[line[:5] for line in open(\"10_sequences.txt\", 'r')]"
   ]
  },
  {
   "cell_type": "code",
   "execution_count": null,
   "metadata": {
    "collapsed": false
   },
   "outputs": [],
   "source": [
    "# Get a list of value/key (not key/value) tuples from a dict\n",
    "\n",
    "counts = {'CGC': 1, 'ACG': 1, 'CGA': 1, 'CGT': 1, 'TAC': 1,\n",
    "          'ATC': 2, 'TGA': 2, 'CTG': 1, 'GTA': 1, 'ATG': 1,\n",
    "          'AAT': 1, 'GAT': 2, 'TCG': 2, 'GCT': 1}\n",
    "\n",
    "[(value, key) for key, value in counts.items()]"
   ]
  },
  {
   "cell_type": "markdown",
   "metadata": {},
   "source": [
    "Note in the example above that tuple unpacking is alive and well in list comprehensions.\n",
    "\n",
    "We can map a predicate over a list using a comprehension:"
   ]
  },
  {
   "cell_type": "code",
   "execution_count": null,
   "metadata": {
    "collapsed": false
   },
   "outputs": [],
   "source": [
    "[n >= 0 for n in numbers]"
   ]
  },
  {
   "cell_type": "markdown",
   "metadata": {},
   "source": [
    "We could use a list comprehension to convert a line from a CSV file into a list of integers.  The comprehension itself turns the list of strings returned by the `split()` method int a list of integers by mapping the `int()` function over it:"
   ]
  },
  {
   "cell_type": "code",
   "execution_count": null,
   "metadata": {
    "collapsed": false
   },
   "outputs": [],
   "source": [
    "csv = \"12,67,13,129,78,23\"\n",
    "[int(i) for i in csv.split(',')]"
   ]
  },
  {
   "cell_type": "markdown",
   "metadata": {},
   "source": [
    "…though this is also achievable in very readable form by using `map()`.  It's really a matter of personal preference in this case:"
   ]
  },
  {
   "cell_type": "code",
   "execution_count": null,
   "metadata": {
    "collapsed": false
   },
   "outputs": [],
   "source": [
    "csv_numbers = map(int, csv.split(','))\n",
    "list(csv_numbers)"
   ]
  },
  {
   "cell_type": "markdown",
   "metadata": {},
   "source": [
    "All of this, however, was only the first half of the syntax of list comprehensions.  Just as list comprehensions can perform **mapping** operations, they can also perform **filtering** operations.  In fact, they're at their best when they do both at the same time!\n",
    "\n",
    "Recall how earlier (much earlier!) we filtered a list of accessions, keeping only those starting in 'a'.  We first did it by iterating over the list, and building up the resulting filtered list manually:"
   ]
  },
  {
   "cell_type": "code",
   "execution_count": null,
   "metadata": {
    "collapsed": false
   },
   "outputs": [],
   "source": [
    "accs = ['ab56', 'bh84', 'hv76', 'ay93', 'ap97', 'bd72']\n",
    "\n",
    "starts_with_a = []\n",
    "for accession in accs:\n",
    "    if accession.startswith('a'):\n",
    "        starts_with_a.append(accession)\n",
    "        \n",
    "print(starts_with_a)"
   ]
  },
  {
   "cell_type": "markdown",
   "metadata": {},
   "source": [
    "Later we used the `filter()` function to restate this more succinctly:"
   ]
  },
  {
   "cell_type": "code",
   "execution_count": null,
   "metadata": {
    "collapsed": false
   },
   "outputs": [],
   "source": [
    "def starts_with_a(s):\n",
    "    return s.startswith('a')\n",
    "\n",
    "list(filter(starts_with_a, accs))"
   ]
  },
  {
   "cell_type": "markdown",
   "metadata": {},
   "source": [
    "If we had filtered the list using a list comprehension, we could have achieved the same thing in an even shorter *and* more readable format:"
   ]
  },
  {
   "cell_type": "code",
   "execution_count": null,
   "metadata": {
    "collapsed": false
   },
   "outputs": [],
   "source": [
    "[a for a in accs if a.startswith('a')]"
   ]
  },
  {
   "cell_type": "markdown",
   "metadata": {},
   "source": [
    "Adding the mapping functionality to list comprehensions, we now have the syntax:\n",
    "\n",
    "```python\n",
    "[<statement> for <variable> in <iterable> if <condition>]\n",
    "```"
   ]
  },
  {
   "cell_type": "markdown",
   "metadata": {},
   "source": [
    "…where `<variable>` is available for use in `<statement>` and `<condition>`.\n",
    "\n",
    "The `for` clause is required;  the `if` clause is optional.\n",
    "    \n",
    "This is roughly equivalent to:\n",
    "\n",
    "```python\n",
    "result = []\n",
    "for <variable> in <iterable>:\n",
    "    if <condition>\n",
    "        result.append(<statement>)\n",
    "result\n",
    "```"
   ]
  },
  {
   "cell_type": "markdown",
   "metadata": {},
   "source": [
    "Note that a single list comprehension can perform *both* mapping and filtering:"
   ]
  },
  {
   "cell_type": "code",
   "execution_count": null,
   "metadata": {
    "collapsed": false
   },
   "outputs": [],
   "source": [
    "[x * x for x in numbers if x >= 0]"
   ]
  },
  {
   "cell_type": "markdown",
   "metadata": {},
   "source": [
    "## Generator comprehensions"
   ]
  },
  {
   "cell_type": "markdown",
   "metadata": {},
   "source": [
    "From list comprehensions it's just a skip and a jump to *generator comprehensions*.\n",
    "\n",
    "A generator comprehension is nearly identical to a list comprehension, but instead of a literal list, it yields a generator object.  If you iterate over this generator object, it yields the elements of the equivalent list comprehension.\n",
    "\n",
    "Syntactically, the only difference between liste comprehensions and generator comprehensions is that the former is written in square brackets, (“`[]`”), and the latter in parentheses (“`()`”)."
   ]
  },
  {
   "cell_type": "code",
   "execution_count": null,
   "metadata": {
    "collapsed": false
   },
   "outputs": [],
   "source": [
    "squares_list = [x * x for x in numbers]\n",
    "squares_gen = (x * x for x in numbers)\n",
    "\n",
    "print(\"list:     \", squares_list)\n",
    "print(\"generator:\", squares_gen)"
   ]
  },
  {
   "cell_type": "markdown",
   "metadata": {},
   "source": [
    "As we know by now, we can *coerce* the generator to a list by using `list()`:"
   ]
  },
  {
   "cell_type": "code",
   "execution_count": null,
   "metadata": {
    "collapsed": false
   },
   "outputs": [],
   "source": [
    "list(squares_gen)"
   ]
  },
  {
   "cell_type": "markdown",
   "metadata": {},
   "source": [
    "The defining characteristic of a generator, as before, is the fact that it's *lazy*.  If write the following statement, it creates a generator which will read in a file and yield the first five characters of every line of that file.  It then assigns the variable `leading_4` to this generator:"
   ]
  },
  {
   "cell_type": "code",
   "execution_count": null,
   "metadata": {
    "collapsed": true
   },
   "outputs": [],
   "source": [
    "leading_5 = (line[:5] for line in open(\"10_sequences.txt\", 'r'))"
   ]
  },
  {
   "cell_type": "markdown",
   "metadata": {},
   "source": [
    "It's very important to note that the file `10_sequences.txt` has *not actually bee read into memory immediately* as it would have been if I had used a list comprehension.\n",
    "\n",
    "At this point, right now, the file has been opened but no data has been read from it yet.\n",
    "\n",
    "If I iterate over the generator `leading_5`, the file will be read into memory *one line at a time*, and the first five characters from each line will be yielded.\n",
    "\n",
    "At *no point* will the entire file be in the computer's memory.  Obviously this can be very important when we're dealing with huge data files."
   ]
  },
  {
   "cell_type": "code",
   "execution_count": null,
   "metadata": {
    "collapsed": false
   },
   "outputs": [],
   "source": [
    "for line_start in leading_5:\n",
    "    print(\"First 5 chars:\", line_start)"
   ]
  },
  {
   "cell_type": "markdown",
   "metadata": {},
   "source": [
    "Generator comprehensions have another useful bit of associated syntactic sugar:  If a generator comprehension is the *only* argument to a function, we may leave out its enclosing parentheses.\n",
    "\n",
    "For example, the built-in function `sum()` takes a list (or other iterable) as argument, and returns the sum of the elements of that list (or iterable):"
   ]
  },
  {
   "cell_type": "code",
   "execution_count": null,
   "metadata": {
    "collapsed": false
   },
   "outputs": [],
   "source": [
    "sum([x * x for x in numbers])"
   ]
  },
  {
   "cell_type": "markdown",
   "metadata": {},
   "source": [
    "We could also have computed the sum of the squares using a generator comprehension instead of a list comprehension:"
   ]
  },
  {
   "cell_type": "code",
   "execution_count": null,
   "metadata": {
    "collapsed": false
   },
   "outputs": [],
   "source": [
    "sum((x * x for x in numbers))"
   ]
  },
  {
   "cell_type": "markdown",
   "metadata": {},
   "source": [
    "…and if we did that, we could have ommitted the inner pair of parentheses, leaving this very clear syntax:"
   ]
  },
  {
   "cell_type": "code",
   "execution_count": null,
   "metadata": {
    "collapsed": false
   },
   "outputs": [],
   "source": [
    "sum(x * x for x in numbers)"
   ]
  },
  {
   "cell_type": "markdown",
   "metadata": {},
   "source": [
    "Another example, testing whether any of the elements of `numbers` is positive:"
   ]
  },
  {
   "cell_type": "code",
   "execution_count": null,
   "metadata": {
    "collapsed": false
   },
   "outputs": [],
   "source": [
    "any(x >= 0 for x in numbers)"
   ]
  },
  {
   "cell_type": "markdown",
   "metadata": {},
   "source": [
    "Here's one way to invert the keys and values of a dictionary, and create a new dictionary out of that:"
   ]
  },
  {
   "cell_type": "code",
   "execution_count": null,
   "metadata": {
    "collapsed": false
   },
   "outputs": [],
   "source": [
    "inv_counts = dict((value, key) for key, value in counts.items())"
   ]
  },
  {
   "cell_type": "markdown",
   "metadata": {},
   "source": [
    "…though this isn't a smart thing to do if the original dictionary has duplicate values (as `counts` does!)  It works, but we overwrite items as we go along, leading to a truncated dictionary:"
   ]
  },
  {
   "cell_type": "code",
   "execution_count": null,
   "metadata": {
    "collapsed": false
   },
   "outputs": [],
   "source": [
    "inv_counts"
   ]
  },
  {
   "cell_type": "markdown",
   "metadata": {},
   "source": [
    ">In general, you can't invert a dictionary to create another dictionary unless you *know* for a fact that the values are unique.  (In the Python standard library there are advanced data structures, like dictionary-like objects that don't require unique keys.)\n",
    "\n",
    "Here's a nice, slightly more complex example:  Let's use generator comprehensions to write a function that calculates all the prime numbers up to and including an arbitrary integer `k`.\n",
    "\n",
    "First we introduce **two** new mathematical operators that's built into the core Python language.\n",
    "\n",
    "The *modulo* operator written as “`%`”.  In mathematics, \"a modulo b\" is the *remainder* if a is divided by b:"
   ]
  },
  {
   "cell_type": "code",
   "execution_count": null,
   "metadata": {
    "collapsed": false
   },
   "outputs": [],
   "source": [
    "27 % 5"
   ]
  },
  {
   "cell_type": "markdown",
   "metadata": {},
   "source": [
    "The *floor division* operator is written as “`//`”.  Floor division yields the integer part of a quotient, with the remainder discarded:"
   ]
  },
  {
   "cell_type": "code",
   "execution_count": null,
   "metadata": {
    "collapsed": false
   },
   "outputs": [],
   "source": [
    "27 // 5"
   ]
  },
  {
   "cell_type": "markdown",
   "metadata": {},
   "source": [
    "Note that using \"normal\" division, the same statement would of course have yielded a floating point number:"
   ]
  },
  {
   "cell_type": "code",
   "execution_count": null,
   "metadata": {
    "collapsed": false
   },
   "outputs": [],
   "source": [
    "27 / 5"
   ]
  },
  {
   "cell_type": "markdown",
   "metadata": {},
   "source": [
    ">In Python 2, the standard division operator “`/`” yields an integer quotient if the dividend and divisor are both integers.  In other words, it always performs floor division.  This can easily lead to subtle bugs!"
   ]
  },
  {
   "cell_type": "markdown",
   "metadata": {},
   "source": [
    "Now:\n",
    "\n",
    "* a number `n` is prime if if has no factors\n",
    "\n",
    "\n",
    "* `i` is a factor of `n` if `n % i == 0`\n",
    "\n",
    "To test whether `n` is prime, we have to test whether `n % i` is non-zero for all `i` in the range from 2 to `n//2`.  (Obviously, no number larger than `n//2` will be a factor of `n`.)"
   ]
  },
  {
   "cell_type": "code",
   "execution_count": null,
   "metadata": {
    "collapsed": false
   },
   "outputs": [],
   "source": [
    "def is_prime(n):\n",
    "    return all(n % i for i in range(2, n // 2))\n",
    "\n",
    "for p in [2, 3, 8, 11, 17, 21, 23, 28, 29, 31]:\n",
    "    if is_prime(p):\n",
    "        print(\"{} is prime\".format(p))\n",
    "    else:\n",
    "        print(\"{} is not prime\".format(p))"
   ]
  },
  {
   "cell_type": "markdown",
   "metadata": {},
   "source": [
    "Finally, our function to return all primes smaller than or equal to `k`:"
   ]
  },
  {
   "cell_type": "code",
   "execution_count": null,
   "metadata": {
    "collapsed": false
   },
   "outputs": [],
   "source": [
    "def primes(k):\n",
    "    return (i for i in range(2, k + 1) if is_prime(i))\n",
    "\n",
    "print(list(primes(500)))"
   ]
  },
  {
   "cell_type": "markdown",
   "metadata": {},
   "source": [
    "We still haven't seen the end of the comprehensions syntax:  Comprehensions can have multiple `for` clauses, **and** multiple `if` clauses.  Arguably, a comprehension with too many clauses can become harder to read than the equivalent nested `for` loops and `if` statements, so we won't explicitly look at any examples of such complex comprehensions.\n",
    "\n",
    "Well, maybe just one:  Here is a list comprehension to obtain a list of all possible trinucleotides:"
   ]
  },
  {
   "cell_type": "code",
   "execution_count": null,
   "metadata": {
    "collapsed": false
   },
   "outputs": [],
   "source": [
    "trinucs = [s + t + u\n",
    "           for s in \"ACTG\"\n",
    "           for t in \"ACTG\"\n",
    "           for u in \"ACTG\"\n",
    "          ]\n",
    "\n",
    "print(trinucs)"
   ]
  },
  {
   "cell_type": "markdown",
   "metadata": {},
   "source": [
    ">Note that Python's rule that we can break a line on whitespace within brackets or parentheses also holds for comprehensions."
   ]
  },
  {
   "cell_type": "markdown",
   "metadata": {},
   "source": [
    "---"
   ]
  },
  {
   "cell_type": "markdown",
   "metadata": {},
   "source": [
    "# Exercises"
   ]
  },
  {
   "cell_type": "markdown",
   "metadata": {},
   "source": [
    "### Exercise 1\n",
    "\n",
    "Given two positive integers `a` and `b`, calculate the sum of all the odd integers from `a` to `b` (inclusive).\n",
    "\n",
    "> Hint: You'll need the modulo operator `%`, and using a comprehension can yield a very elegant solution.\n",
    "\n",
    "Test yourself:  If `a` is 100 and `b` is 200, the result is 7500."
   ]
  },
  {
   "cell_type": "code",
   "execution_count": null,
   "metadata": {
    "collapsed": true
   },
   "outputs": [],
   "source": [
    "# Exercise 1\n",
    "\n",
    "def sum_odds(a, b):\n",
    "    return sum(i for i in range(a, b + 1) if i % 2)"
   ]
  },
  {
   "cell_type": "markdown",
   "metadata": {},
   "source": [
    "### Exercise 2\n",
    "\n",
    ">This example is taken from Project Rosalind.  The original can be found here:\n",
    "\n",
    ">* <http://rosalind.info/problems/hamm/>\n",
    "\n",
    "Given two strings `s` and `t` of equal length, the Hamming distance between `s` and `t` is the number of corresponding symbols that differ in `s` and `t`:\n",
    "\n",
    "![Hamming distance](img/hamming.png)\n",
    "\n",
    "In the `files` subdirectory lies a file called `hamm.txt`.  It contains two sequences — one per line — of 977 bases each.\n",
    "\n",
    "Return: The Hamming distance between these two sequences.\n",
    "\n",
    ">Hint: This problem can be solved quite elegantly using comprehensions."
   ]
  },
  {
   "cell_type": "code",
   "execution_count": null,
   "metadata": {
    "collapsed": true
   },
   "outputs": [],
   "source": [
    "# Exercise 2"
   ]
  }
 ],
 "metadata": {
  "kernelspec": {
   "display_name": "Python 3",
   "language": "python",
   "name": "python3"
  },
  "language_info": {
   "codemirror_mode": {
    "name": "ipython",
    "version": 3
   },
   "file_extension": ".py",
   "mimetype": "text/x-python",
   "name": "python",
   "nbconvert_exporter": "python",
   "pygments_lexer": "ipython3",
   "version": "3.6.0"
  }
 },
 "nbformat": 4,
 "nbformat_minor": 0
}

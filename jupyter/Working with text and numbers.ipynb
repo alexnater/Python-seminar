{
 "cells": [
  {
   "cell_type": "markdown",
   "metadata": {
    "slideshow": {
     "slide_type": "-"
    }
   },
   "source": [
    "<div align=right>\n",
    "<img src=\"img/logosmall.png\" width=\"100px\" align=right>\n",
    "</div>"
   ]
  },
  {
   "cell_type": "markdown",
   "metadata": {
    "slideshow": {
     "slide_type": "-"
    }
   },
   "source": [
    "# Working with text and numbers\n",
    "\n",
    "### *&mdash; Values, Types and Operators &mdash;*"
   ]
  },
  {
   "cell_type": "markdown",
   "metadata": {
    "slideshow": {
     "slide_type": "-"
    }
   },
   "source": [
    "<div class=\"alert alert-warning\">\n",
    "Parts of this section have been adapted from copyrighted material in *Jones, M:\n",
    "Python for Biologists: A complete programming course for beginners (2013)*.\n",
    "\n",
    "**Please do not distribute it!**"
   ]
  },
  {
   "cell_type": "markdown",
   "metadata": {},
   "source": [
    "## Working with text"
   ]
  },
  {
   "cell_type": "markdown",
   "metadata": {},
   "source": [
    "Many introductory programming texts, whether aimed at Python or another language, start by discussing numbers.  Not only are numbers well understood by most people, but it's also a safe bet that anyone learning to program will wish to crunch numerical data at some point.  To be different, we'll start this course by looking at how Python works with *text* data.\n",
    "\n",
    "Why are we, as biologists, interested in working with text?  The answer should be obvious:  Much of the sort of data we work with is most easily represented as text, for example, *sequence* data (like DNA or protein sequences).\n",
    "\n",
    ">By implication we've learned our first lesson about Python:  It can distinquish between different *types* of data, and it treats textual and numerical data differently."
   ]
  },
  {
   "cell_type": "markdown",
   "metadata": {},
   "source": [
    "## Strings"
   ]
  },
  {
   "cell_type": "markdown",
   "metadata": {},
   "source": [
    "The basic *data type* used by Python to represent textual data is the *string*.  Strings are sequences of *characters*, and in Python we write a string by enclosing its contents in quotes:"
   ]
  },
  {
   "cell_type": "code",
   "execution_count": 6,
   "metadata": {},
   "outputs": [
    {
     "data": {
      "text/plain": [
       "'Hello world'"
      ]
     },
     "execution_count": 6,
     "metadata": {},
     "output_type": "execute_result"
    }
   ],
   "source": [
    "\"Hello world\""
   ]
  },
  {
   "cell_type": "markdown",
   "metadata": {},
   "source": [
    "***delete***\n",
    "\n",
    "<div class=\"alert alert-info\">\n",
    "**Remember:**  You can *evaluate* a code cell in a Jupyter Notebook by placing the cursor (grey frame with blue border) on it and pressing `Shift-Enter` or `Control-Enter`.\n",
    "\n",
    "Throughout this course, you're expected to execute the code examples to see what\n",
    "they do!  But even more importantly, you can *and should* experiment by changing the code!"
   ]
  },
  {
   "cell_type": "markdown",
   "metadata": {},
   "source": [
    "<div class=\"alert alert-info\">\n",
    "When you pressed `Shift-Enter` (or `Ctrl-Enter`, or pressed the \"run\" button on the toolbar)  on the code cell above, the Python kernel *evaluated* the *expression* in the cell.  In this case, it was a string:\n",
    "\n",
    "```python\n",
    "\"Hello world\"\n",
    "```"
   ]
  },
  {
   "cell_type": "markdown",
   "metadata": {},
   "source": [
    "Jupyter then printed the *result of the evaluation* directly below the code cell.\n",
    "\n",
    "Throughout this course, you're expected to execute the code examples to see what\n",
    "they do!  But even more importantly, you can *and should* experiment by changing the code!"
   ]
  },
  {
   "cell_type": "markdown",
   "metadata": {},
   "source": [
    "Python doesn't care whether you use double or single quotes to surround (or *delimit*) a string:"
   ]
  },
  {
   "cell_type": "code",
   "execution_count": 7,
   "metadata": {},
   "outputs": [
    {
     "data": {
      "text/plain": [
       "'Hello world'"
      ]
     },
     "execution_count": 7,
     "metadata": {},
     "output_type": "execute_result"
    }
   ],
   "source": [
    "'Hello world'"
   ]
  },
  {
   "cell_type": "markdown",
   "metadata": {},
   "source": [
    "However, the quotes at the start and end of the string must match!\n",
    "\n",
    "Let's see what happens if they don't:"
   ]
  },
  {
   "cell_type": "code",
   "execution_count": 8,
   "metadata": {},
   "outputs": [
    {
     "ename": "SyntaxError",
     "evalue": "EOL while scanning string literal (<ipython-input-8-271324297b4f>, line 1)",
     "output_type": "error",
     "traceback": [
      "\u001b[0;36m  File \u001b[0;32m\"<ipython-input-8-271324297b4f>\"\u001b[0;36m, line \u001b[0;32m1\u001b[0m\n\u001b[0;31m    \"Hello world'\u001b[0m\n\u001b[0m                 ^\u001b[0m\n\u001b[0;31mSyntaxError\u001b[0m\u001b[0;31m:\u001b[0m EOL while scanning string literal\n"
     ]
    }
   ],
   "source": [
    "\"Hello world'"
   ]
  },
  {
   "cell_type": "markdown",
   "metadata": {},
   "source": [
    "Well, that looks a little scary!  What you see there is Python's way of telling you that an error occurred.  We say that Python *raised an exception*, and the message wherein it tells you about the error is called a *traceback*.\n",
    "\n",
    "Tracebacks may seem scary at first, but really, they're your friends.  Python's tracebacks are extremely verbose and help you get to the root of the problem quickly.\n",
    "\n",
    "*** insert bit about reading traceback***"
   ]
  },
  {
   "cell_type": "markdown",
   "metadata": {},
   "source": [
    "Why does Python support both single and double quotes as *string delimiters*?  One reason is so that we can create a string that contains one kind of quote by delimiting it with the other:"
   ]
  },
  {
   "cell_type": "code",
   "execution_count": 9,
   "metadata": {},
   "outputs": [
    {
     "data": {
      "text/plain": [
       "\"She said, 'Hello world'\""
      ]
     },
     "execution_count": 9,
     "metadata": {},
     "output_type": "execute_result"
    }
   ],
   "source": [
    "\"She said, 'Hello world'\""
   ]
  },
  {
   "cell_type": "code",
   "execution_count": 10,
   "metadata": {},
   "outputs": [
    {
     "data": {
      "text/plain": [
       "'He said, \"Hello world\"'"
      ]
     },
     "execution_count": 10,
     "metadata": {},
     "output_type": "execute_result"
    }
   ],
   "source": [
    "'He said, \"Hello world\"'"
   ]
  },
  {
   "cell_type": "markdown",
   "metadata": {},
   "source": [
    "In other words, a string delimited by double quotes can contain single quote characters, and vice versa.\n",
    "\n",
    "What happens if we forget the quotes altogether?"
   ]
  },
  {
   "cell_type": "code",
   "execution_count": 11,
   "metadata": {},
   "outputs": [
    {
     "ename": "SyntaxError",
     "evalue": "invalid syntax (<ipython-input-11-f0ef7081e153>, line 1)",
     "output_type": "error",
     "traceback": [
      "\u001b[0;36m  File \u001b[0;32m\"<ipython-input-11-f0ef7081e153>\"\u001b[0;36m, line \u001b[0;32m1\u001b[0m\n\u001b[0;31m    Hello world\u001b[0m\n\u001b[0m              ^\u001b[0m\n\u001b[0;31mSyntaxError\u001b[0m\u001b[0;31m:\u001b[0m invalid syntax\n"
     ]
    }
   ],
   "source": [
    "Hello world"
   ]
  },
  {
   "cell_type": "markdown",
   "metadata": {},
   "source": [
    "Without quotes, Python doesn't know that the expression represents a string — a piece of data.  Python is now trying to evaluate the expression as Python program code, which it simply isn't.  Hence, we get a `SyntaxError` once again."
   ]
  },
  {
   "cell_type": "markdown",
   "metadata": {},
   "source": [
    "***should maybe postpone special characters etc. until after print() ?***\n",
    "\n",
    "How to we make a string that spans more than one line.  What if we wanted a string that contains the words \"Hello\" and \"world\" on two consecutive lines, like so:\n",
    "\n",
    "```\n",
    "Hello\n",
    "world\n",
    "```"
   ]
  },
  {
   "cell_type": "markdown",
   "metadata": {},
   "source": [
    "We could try to break the string up over two lines, like this:"
   ]
  },
  {
   "cell_type": "code",
   "execution_count": 12,
   "metadata": {},
   "outputs": [
    {
     "ename": "SyntaxError",
     "evalue": "EOL while scanning string literal (<ipython-input-12-b0d9821feecf>, line 1)",
     "output_type": "error",
     "traceback": [
      "\u001b[0;36m  File \u001b[0;32m\"<ipython-input-12-b0d9821feecf>\"\u001b[0;36m, line \u001b[0;32m1\u001b[0m\n\u001b[0;31m    \"Hello\u001b[0m\n\u001b[0m          ^\u001b[0m\n\u001b[0;31mSyntaxError\u001b[0m\u001b[0;31m:\u001b[0m EOL while scanning string literal\n"
     ]
    }
   ],
   "source": [
    "\"Hello\n",
    "world\""
   ]
  },
  {
   "cell_type": "markdown",
   "metadata": {},
   "source": [
    "…but clearly Python doesn't allow that.\n",
    "\n",
    "We could try to put a string on either line, but that way we end up with two strings instead of one:"
   ]
  },
  {
   "cell_type": "code",
   "execution_count": 1,
   "metadata": {},
   "outputs": [
    {
     "data": {
      "text/plain": [
       "'world'"
      ]
     },
     "execution_count": 1,
     "metadata": {},
     "output_type": "execute_result"
    }
   ],
   "source": [
    "\"Hello\"\n",
    "\"world\""
   ]
  },
  {
   "cell_type": "markdown",
   "metadata": {},
   "source": [
    "<div class=\"alert alert-info\">\n",
    "This code cell contained *two* expressions, each one consisting of a string.  Note that, while Jupyter evaluates all the expressions in a code cell, it only prints the result of the last evaluation!"
   ]
  },
  {
   "cell_type": "markdown",
   "metadata": {},
   "source": [
    "The way to split a string across multiple lines in Python is to use a *triple-quoted string*.  That is, delimit the string using *three* quote characters at either end:"
   ]
  },
  {
   "cell_type": "code",
   "execution_count": 14,
   "metadata": {},
   "outputs": [
    {
     "data": {
      "text/plain": [
       "'Hello\\nworld'"
      ]
     },
     "execution_count": 14,
     "metadata": {},
     "output_type": "execute_result"
    }
   ],
   "source": [
    "\"\"\"Hello\n",
    "world\"\"\""
   ]
  },
  {
   "cell_type": "markdown",
   "metadata": {},
   "source": [
    "The result of evaluating that triple-quoted string may look a little different than you expected.  Instead of \"Hello\" and \"world\" on two consecutive lines, it consists of \"Hello\" and \"world\" separated by a backslash and a lowercase ‘n’, like so:  `\\n`.\n",
    "\n",
    "The `\\n` is Python's way of indicating a *newline*, i.e. the character you get when you hit the `<Enter>` key.\n",
    "\n",
    "We can also explicitly add a newline character to a string:"
   ]
  },
  {
   "cell_type": "code",
   "execution_count": 16,
   "metadata": {},
   "outputs": [
    {
     "name": "stdout",
     "output_type": "stream",
     "text": [
      "Hello\n",
      "world\n"
     ]
    }
   ],
   "source": [
    "print(\"Hello\\nworld\")"
   ]
  },
  {
   "cell_type": "markdown",
   "metadata": {},
   "source": [
    "The `\\n` is usually called a *special character*, and it's one of several.  Another common special character is `\\t`, which represents the tab character you get by pressing `<Tab>`."
   ]
  },
  {
   "cell_type": "markdown",
   "metadata": {},
   "source": [
    "Because Python views the combination of a backslash and the character following it in a string as a special character, adding a simple backslash to a Python string is … less than simple:  A single backslash in a Python string is represented by a double backslash:"
   ]
  },
  {
   "cell_type": "markdown",
   "metadata": {},
   "source": [
    "***delete***\n",
    "\n",
    "Let’s take a look at the various bits of this line of code, and give some of\n",
    "them names:\n",
    "\n",
    "* The whole line is called a *statement*.\n",
    "\n",
    "\n",
    "* `print` is the name of a *function*. A function is, roughly, a pre-packaged action that Python can perform.  (We'll learn more about functions later.)  The function name is always followed by parentheses.\n",
    "\n",
    "\n",
    "* The bits of text inside the parentheses are called the *arguments* to the function. In this case, we just have one argument.  Later on we’ll see examples of functions that take more than one argument.  The arguments provide the data for the function to work on – in this case, the argument tells Python exactly what it is we want the `print` function to print.\n",
    "\n",
    "\n",
    "* When we *execute* a statement that contains a function with arguments in parentheses (e.g by pressing `Shift-Enter` on the code block above), we say we *call* that function.\n",
    "\n",
    ">Note: Python syntax uses different kinds of brackets for different purposes. Throughout this course, we'll consistently refer to them as:\n",
    "\n",
    "> * `()` &mdash; \"parentheses\"\n",
    "> * `[]` &mdash; \"square brackets\", or just \"brackets\"\n",
    "> * `{}` &mdash; \"curly braces\", or just \"braces\""
   ]
  },
  {
   "cell_type": "markdown",
   "metadata": {},
   "source": [
    "## Quotes are important"
   ]
  },
  {
   "cell_type": "markdown",
   "metadata": {},
   "source": [
    "In Python strings are **always** surrounded by quotes — we say the string is *delimited* by quotes. That is how Python is able to tell the difference between\n",
    "the instructions (like the function name) and the data (the thing we want to print). We can use either single quotes “`''`” or double quotes “`\"\"`” for delimiting strings — Python will happily accept either. The following two statements behave exactly the same — run them and you'll see:"
   ]
  },
  {
   "cell_type": "code",
   "execution_count": 2,
   "metadata": {},
   "outputs": [
    {
     "name": "stdout",
     "output_type": "stream",
     "text": [
      "Hello world\n",
      "Hello world\n"
     ]
    }
   ],
   "source": [
    "print(\"Hello world\")\n",
    "print('Hello world')"
   ]
  },
  {
   "cell_type": "markdown",
   "metadata": {},
   "source": [
    "You’ll notice that the output above doesn’t contain quotes – they are part of\n",
    "the code, not part of the string itself. If we *do* want to include quotes in\n",
    "the output, the easiest thing to do is use the other type of quotes for\n",
    "surrounding the string:"
   ]
  },
  {
   "cell_type": "code",
   "execution_count": 3,
   "metadata": {},
   "outputs": [
    {
     "name": "stdout",
     "output_type": "stream",
     "text": [
      "She said, 'Hello world'\n",
      "He said, \"Hello world\"\n"
     ]
    }
   ],
   "source": [
    "print(\"She said, 'Hello world'\")\n",
    "print('He said, \"Hello world\"')"
   ]
  },
  {
   "cell_type": "markdown",
   "metadata": {},
   "source": [
    "In other words, single quotes can be used to delimit strings that contain double quotes, and vice versa.\n",
    "\n",
    "Be careful when writing and reading code that involves quotes – you have to make\n",
    "sure that the quotes at the beginning and end of the string match up.  Using a code editor that *highlights* code using colours helps with this, and you'll note that Jupyter highlights code by default in code cells:  Data like strings is shown in red."
   ]
  },
  {
   "cell_type": "markdown",
   "metadata": {},
   "source": [
    "## Use comments to annotate your code"
   ]
  },
  {
   "cell_type": "markdown",
   "metadata": {},
   "source": [
    "Occasionally, we want to write some text in a program that is for humans to\n",
    "read, rather than for the computer to execute. We call this type of line a\n",
    "*comment*. To include a comment in your source code, start the line with a `#`\n",
    "symbol (called “hash” or “pound”)."
   ]
  },
  {
   "cell_type": "code",
   "execution_count": 17,
   "metadata": {},
   "outputs": [
    {
     "name": "stdout",
     "output_type": "stream",
     "text": [
      "Comments are very useful!\n"
     ]
    }
   ],
   "source": [
    "# this is a comment, it will be ignored by the computer\n",
    "print(\"Comments are very useful!\")"
   ]
  },
  {
   "cell_type": "markdown",
   "metadata": {},
   "source": [
    "The Python interpreter completely ignores everything from the `#` symbol to the end of the line.\n",
    "\n",
    "Comments are a very useful way to document your code, for a number of reasons:\n",
    "\n",
    "* You can put the explanation of what a particular bit of code does right next to the code itself. This makes it easier to find documentation than searching a separate document.\n",
    "\n",
    "\n",
    "* Because the comments are part of the source code, they can never get mixed up or separated.\n",
    "\n",
    "\n",
    "* Having the comments right next to the code acts as a reminder to update the documentation whenever you change the code. The only thing worse than undocumented code is code with old documentation that is no longer accurate!\n",
    "\n",
    "Don't think that comments are only useful to someone else.  Mainly, you're writing comments *for yourself, six months in the future!*  You'll be amazed how quickly you forget the details of an intricate piece of code you're working on.\n",
    "\n",
    "Comments are the breadcrumbs you leave yourself to remind you of the route your thinking took while solving a problem.  They save you time by helping you avoid having to spend hours understanding your own code.  Additionally, they help you understand what you're doing *while you're writing code*, by forcing you to put your thinking into words.\n",
    "\n",
    "In short:  Write comments.  The more, and the more explicit, the better!"
   ]
  },
  {
   "cell_type": "code",
   "execution_count": null,
   "metadata": {},
   "outputs": [],
   "source": [
    "# Note how the following comment describes what the function call does:\n",
    "\n",
    "# print a friendly greeting\n",
    "print(\"Hello world\")\n",
    "\n",
    "# A comment extends from the `#` sign to the end of the line:\n",
    "\n",
    "print(\"It's a lovely day!\")    # This comments comes after some code and is still ignored\n",
    "\n",
    "# ****************************************** #\n",
    "#                                            #\n",
    "# You can do anything after the '#' sign     #\n",
    "# including fancy comment blocks like this!  #\n",
    "#                                            #\n",
    "# ****************************************** #"
   ]
  },
  {
   "cell_type": "markdown",
   "metadata": {},
   "source": [
    ">Python provides special ways of writing comments that work with the integrated documentation system.  We'll see those later."
   ]
  },
  {
   "cell_type": "markdown",
   "metadata": {},
   "source": [
    "## Error messages and debugging"
   ]
  },
  {
   "cell_type": "markdown",
   "metadata": {},
   "source": [
    "Wait, we haven't even written a real program yet and we're already talking about errors?\n",
    "\n",
    "Yep, it's an unfortunate fact of life that **computer programs almost never work correctly the first time**.  Computers have the unfortunate habit of doing what you tell them to, instead of what you want them to.\n",
    "\n",
    "Unlike natural languages, programming languages are very explicit.  They have strict rules (of syntax, etc.) and if you break any of them, the computer will not and cannot attempt to guess what you intended, but instead will stop running and present you with an error message.  You'll be seeing a lot of these error messages in your programming career, so let's get\n",
    "used to them as soon as possible."
   ]
  },
  {
   "cell_type": "markdown",
   "metadata": {},
   "source": [
    "### Forgetting quotes"
   ]
  },
  {
   "cell_type": "markdown",
   "metadata": {},
   "source": [
    "Here’s one possible error we can make when printing a line of output – we can\n",
    "forget to include the quotes:"
   ]
  },
  {
   "cell_type": "code",
   "execution_count": 19,
   "metadata": {},
   "outputs": [
    {
     "name": "stdout",
     "output_type": "stream",
     "text": [
      "Hello world\n"
     ]
    }
   ],
   "source": [
    "print(\"Hello world\")"
   ]
  },
  {
   "cell_type": "markdown",
   "metadata": {},
   "source": [
    "This is easily done, so let’s take a look at the output we’ll get if we try to\n",
    "run the above code.\n",
    "\n",
    "We can see that the error occurs on the first line of code. Python’s best guess\n",
    "at the location of the error is just before the close parentheses. Depending on\n",
    "the type of error, this can be wrong by quite a bit, so don’t rely on it too\n",
    "much!\n",
    "\n",
    "The type of error is a `SyntaxError`, which means that Python can’t understand\n",
    "the code – it breaks the rules in some way. We’ll see different types of errors\n",
    "later in this course.\n",
    "\n",
    ">Note that syntax highlighting could have saved you from the error above.  If you get used to seeing strings in red, it may have occurred to you that the statement above \"looked wrong\" before you tried to execute it."
   ]
  },
  {
   "cell_type": "markdown",
   "metadata": {},
   "source": [
    "### Spelling mistakes"
   ]
  },
  {
   "cell_type": "markdown",
   "metadata": {},
   "source": [
    "What happens if we misspell the name of the function?"
   ]
  },
  {
   "cell_type": "code",
   "execution_count": 20,
   "metadata": {},
   "outputs": [
    {
     "ename": "NameError",
     "evalue": "name 'prin' is not defined",
     "output_type": "error",
     "traceback": [
      "\u001b[0;31m---------------------------------------------------------------------------\u001b[0m",
      "\u001b[0;31mNameError\u001b[0m                                 Traceback (most recent call last)",
      "\u001b[0;32m<ipython-input-20-481d2a6fec7c>\u001b[0m in \u001b[0;36m<module>\u001b[0;34m()\u001b[0m\n\u001b[0;32m----> 1\u001b[0;31m \u001b[0mprin\u001b[0m\u001b[0;34m(\u001b[0m\u001b[0;34m\"Hello world\"\u001b[0m\u001b[0;34m)\u001b[0m\u001b[0;34m\u001b[0m\u001b[0m\n\u001b[0m",
      "\u001b[0;31mNameError\u001b[0m: name 'prin' is not defined"
     ]
    }
   ],
   "source": [
    "prin(\"Hello world\")"
   ]
  },
  {
   "cell_type": "markdown",
   "metadata": {},
   "source": [
    "We get a different type of error – a `NameError` – and the error message is a\n",
    "bit more helpful:\n",
    "\n",
    "This time, Python doesn’t try to show us where on the line the error occurred,\n",
    "it just shows us the whole line. The error message tells us which word Python\n",
    "doesn’t understand, so it’s quite easy to fix."
   ]
  },
  {
   "cell_type": "markdown",
   "metadata": {},
   "source": [
    "### Splitting a statement over two lines"
   ]
  },
  {
   "cell_type": "markdown",
   "metadata": {},
   "source": [
    "What if we want to print some output that spans multiple lines? For example, we\n",
    "want to print the word “Hello” on one line and then the word “World” on the next\n",
    "line – like this:"
   ]
  },
  {
   "cell_type": "code",
   "execution_count": null,
   "metadata": {},
   "outputs": [],
   "source": [
    "Hello\n",
    "World"
   ]
  },
  {
   "cell_type": "markdown",
   "metadata": {},
   "source": [
    "We might try putting a new line in the middle of our string like this:"
   ]
  },
  {
   "cell_type": "code",
   "execution_count": 24,
   "metadata": {},
   "outputs": [
    {
     "name": "stdout",
     "output_type": "stream",
     "text": [
      "Hello World\n"
     ]
    }
   ],
   "source": [
    "print(\"Hello\n",
    "\"World\")"
   ]
  },
  {
   "cell_type": "markdown",
   "metadata": {},
   "source": [
    "…but that won’t work and we’ll get an error message.\n",
    "\n",
    "Python finds the error when it gets to the end of the first line of code. The\n",
    "error message is a bit more cryptic than the others. `EOL` stands for End Of\n",
    "Line, and string literal means a string in quotes. So to put this error message\n",
    "in plain English: *“I started reading a string in quotes, and I got to the end\n",
    "of the line before I came to the closing quotation mark”*\n",
    "\n",
    ">Note again how the syntax highlighting should've given you a clue that something was wrong!\n",
    "\n",
    "If splitting the line up doesn’t work, then how do we get the output we want…?  Write some code to print the words \"Hello\" and \"World\" on consecutive lines:"
   ]
  },
  {
   "cell_type": "code",
   "execution_count": null,
   "metadata": {
    "collapsed": true
   },
   "outputs": [],
   "source": [
    "# Write your code in this code cell"
   ]
  },
  {
   "cell_type": "markdown",
   "metadata": {},
   "source": [
    "## Printing special characters"
   ]
  },
  {
   "cell_type": "markdown",
   "metadata": {},
   "source": [
    "The reason that the code above didn’t work is that Python got confused about\n",
    "whether the new line was part of the string (which is what we wanted) or part of\n",
    "the source code (which is how it was actually interpreted). What we need is a\n",
    "way to include a new line as part of a string, and luckily for us, Python has\n",
    "just such a tool built in. To include a new line, we write a backslash followed\n",
    "by the letter `n` – Python knows that this is a special character and will\n",
    "interpret it accordingly. Here’s the code which prints “Hello world” across two\n",
    "lines:"
   ]
  },
  {
   "cell_type": "code",
   "execution_count": null,
   "metadata": {},
   "outputs": [],
   "source": [
    "# how to include a new line in the middle of a string\n",
    "print(\"Hello\\nworld\")"
   ]
  },
  {
   "cell_type": "markdown",
   "metadata": {},
   "source": [
    "Notice that there’s no need for a space before or after the new line.\n",
    "\n",
    "There are a few other useful special characters as well, all of which consist of\n",
    "a backslash followed by a letter. The only ones which you are likely to need for\n",
    "the exercises in this course are the tab character (`\\t`) and the carriage\n",
    "return character (`\\r`). The tab character can sometimes be useful when writing\n",
    "a program that will produce a lot of output. The carriage return character works\n",
    "a bit like a new line in that it puts the cursor back to the start of the line,\n",
    "but doesn’t actually start a new line, so you can use it to overwrite output –\n",
    "this is sometimes useful for long-running programs.\n",
    "\n",
    "See if you can figure out what the following statement will print before you\n",
    "execute it:"
   ]
  },
  {
   "cell_type": "code",
   "execution_count": 2,
   "metadata": {},
   "outputs": [
    {
     "name": "stdout",
     "output_type": "stream",
     "text": [
      "First value:\t45\n",
      "Second value:\t97\n"
     ]
    }
   ],
   "source": [
    "print(\"First value:\\t45\\nSecond value:\\t97\")"
   ]
  },
  {
   "cell_type": "markdown",
   "metadata": {},
   "source": [
    "## Triple-quoted strings"
   ]
  },
  {
   "cell_type": "markdown",
   "metadata": {},
   "source": [
    "Sometimes we want to create strings that represent blocks of text with many line\n",
    "breaks, and typing such strings with `\\n` special characters is inelegant and\n",
    "messy.  For this purpose, Python has triple-quoted strings.  If you delimit a\n",
    "stirng with *three* quotes (either `\"\"\"` or `'''` will work), Python ignores any\n",
    "line breaks in that string.  Some examples:"
   ]
  },
  {
   "cell_type": "code",
   "execution_count": 26,
   "metadata": {},
   "outputs": [
    {
     "name": "stdout",
     "output_type": "stream",
     "text": [
      "Hello\n",
      "World!\n"
     ]
    }
   ],
   "source": [
    "print('''Hello\n",
    "World!''')"
   ]
  },
  {
   "cell_type": "code",
   "execution_count": null,
   "metadata": {},
   "outputs": [],
   "source": [
    "limerick = \"\"\"A programming genius called Gertie\n",
    "Had a penchant for graphics so dirty\n",
    "No computer she knew\n",
    "Would accept what she drew\n",
    "Until she had tickled its QWERTY.\"\"\"\n",
    "\n",
    "print(limerick)"
   ]
  },
  {
   "cell_type": "markdown",
   "metadata": {},
   "source": [
    "## *Aside:* Evaluating vs. `print`ing in a Jupyter Notebook"
   ]
  },
  {
   "cell_type": "markdown",
   "metadata": {},
   "source": [
    "What's the difference between doing running this line:"
   ]
  },
  {
   "cell_type": "code",
   "execution_count": 27,
   "metadata": {},
   "outputs": [
    {
     "data": {
      "text/plain": [
       "'ACTG'"
      ]
     },
     "execution_count": 27,
     "metadata": {},
     "output_type": "execute_result"
    }
   ],
   "source": [
    "\"ACTG\""
   ]
  },
  {
   "cell_type": "markdown",
   "metadata": {},
   "source": [
    "…and this line?"
   ]
  },
  {
   "cell_type": "code",
   "execution_count": 28,
   "metadata": {},
   "outputs": [
    {
     "name": "stdout",
     "output_type": "stream",
     "text": [
      "ACTG\n"
     ]
    }
   ],
   "source": [
    "print(\"ACTG\")"
   ]
  },
  {
   "cell_type": "markdown",
   "metadata": {},
   "source": [
    "When we write standalone scripts later on in this coruse, we'll use the `print` function whenever we need to print output to the terminal.\n",
    "\n",
    "A Jupyter Notebook is a special interactive case, though.  When you type a\n",
    "series of Python *statements* into a code box in a Notebook, the Python\n",
    "interpreter *evaluates* them all in turn — this includes printing the output of any calls to the `print` function — and then **automatically prints the result of the last statement evaluated**."
   ]
  },
  {
   "cell_type": "code",
   "execution_count": 29,
   "metadata": {},
   "outputs": [
    {
     "data": {
      "text/plain": [
       "'AATTT'"
      ]
     },
     "execution_count": 29,
     "metadata": {},
     "output_type": "execute_result"
    }
   ],
   "source": [
    "\"ACGTTG\"\n",
    "'Hello there'\n",
    "\"AATTT\""
   ]
  },
  {
   "cell_type": "markdown",
   "metadata": {},
   "source": [
    "Note that only the value of the last statement (of the three) was auto-printed.\n",
    "\n",
    "Don't confuse an explicit call of the `print()` function with Jupyter automatically printing the result of the last statement evaluated in the code box. The latter is purely an artefact of the Jupyter environment."
   ]
  },
  {
   "cell_type": "markdown",
   "metadata": {},
   "source": [
    ">Note that when Jupyter auto-prints an evaluation, it prepends it with\n",
    "`Out [n]:` in the left margin, where `n` indicates that its the `n`'th output from an evaluation in the current Notebook.\n",
    "\n",
    ">By contrast, output from the `print()` function has no marker in the left margin."
   ]
  },
  {
   "cell_type": "markdown",
   "metadata": {},
   "source": [
    "## Assigning variables to strings"
   ]
  },
  {
   "cell_type": "markdown",
   "metadata": {},
   "source": [
    "We've been printing strings for a while now, but every time we used a string we did so explicitly:  we used *literal* string values. Such literal values are of limited use \n",
    "for storing actual data we want to use in our computations, since there's no way to refer back to them; once they've been evaluated, they're gone!\n",
    "\n",
    "If we want to use a string value for \"real\" computational work, we need to store it in the computer's memory in such a way that we can later retrieve it.  To do this, we need to assign it some sort of name or label. In Python, such a label is called a *variable*. We can *assign* a value to a variable by using the *assignement operator*  Python repurposes the equals sign (“`=`”) as its assignment operator:"
   ]
  },
  {
   "cell_type": "code",
   "execution_count": 34,
   "metadata": {},
   "outputs": [
    {
     "name": "stdout",
     "output_type": "stream",
     "text": [
      "ATGCGTA\n"
     ]
    }
   ],
   "source": [
    "# attach the variable (or label) my_dna to the sequence string\n",
    "my_dna = \"ATGCGTA\""
   ]
  },
  {
   "cell_type": "markdown",
   "metadata": {},
   "source": [
    "The variable `my_dna` now points to the string `\"ATGCGTA\"`. Once we have executed this *assignment* statement, we can use the variable name instead of the string itself – for example, we can use it in a print statement:"
   ]
  },
  {
   "cell_type": "code",
   "execution_count": 35,
   "metadata": {},
   "outputs": [
    {
     "name": "stdout",
     "output_type": "stream",
     "text": [
      "ATGCGTA\n"
     ]
    }
   ],
   "source": [
    "# attach the variable my_dna to a short DNA sequence fragment\n",
    "my_dna = \"ATGCGTA\"\n",
    "# now print the DNA sequence\n",
    "print(my_dna)"
   ]
  },
  {
   "cell_type": "markdown",
   "metadata": {},
   "source": [
    "Notice that when we use the variable as argument to a `print()` function, we don’t need any quotation marks – the quotes are part of the representation of a literal string in Python.  If we *were* to put quotation marks around `my_dna`, we wouldn't be talking about the variable at all anymore, but rather a literal string with the literal value `\"my_dna\"`!"
   ]
  },
  {
   "cell_type": "code",
   "execution_count": 36,
   "metadata": {},
   "outputs": [
    {
     "name": "stdout",
     "output_type": "stream",
     "text": [
      "ATGCGTA\n",
      "my_dna\n"
     ]
    }
   ],
   "source": [
    "# attach the variable my_dna to a short DNA sequence fragment\n",
    "my_dna = \"ATGCGTA\"\n",
    "print(my_dna)\n",
    "print(\"my_dna\")"
   ]
  },
  {
   "cell_type": "markdown",
   "metadata": {},
   "source": [
    ">Note: Other types (not just strings) can of course also be stored in variables, as we'll see in later sections.\n",
    "\n",
    "We can *reassign* a variable to a new value as often as we like:"
   ]
  },
  {
   "cell_type": "code",
   "execution_count": 37,
   "metadata": {},
   "outputs": [
    {
     "name": "stdout",
     "output_type": "stream",
     "text": [
      "ATGCGTA\n",
      "TGGTCCA\n"
     ]
    }
   ],
   "source": [
    "my_dna = \"ATGCGTA\"\n",
    "print(my_dna)\n",
    "# assign my_dna to a new value\n",
    "my_dna = \"TGGTCCA\"\n",
    "print(my_dna)"
   ]
  },
  {
   "cell_type": "markdown",
   "metadata": {},
   "source": [
    "> Note that the Python assignment operator `=` has a very different meaning as compared to the mathematical equals sign!\n",
    ">  * In mathematics, `=` states equality; we read it as *\"is equal to\"*.\n",
    ">  * In Python, `=` indicates that the variable on the left gets\n",
    "assigned the value of the expression on the right. We can read it as *\"is\n",
    "assigned the value\"*.\n",
    "\n",
    "Remeber: variable names are arbitrary – that means that we can pick whatever we like to be the name of a variable. So our code above would work in exactly the same way if we picked a different variable name:"
   ]
  },
  {
   "cell_type": "code",
   "execution_count": 38,
   "metadata": {},
   "outputs": [
    {
     "name": "stdout",
     "output_type": "stream",
     "text": [
      "ATGCGTA\n"
     ]
    }
   ],
   "source": [
    "# attach the variable banana to a DNA sequence\n",
    "banana = \"ATGCGTA\"\n",
    "# now print the DNA sequence\n",
    "print(banana)"
   ]
  },
  {
   "cell_type": "markdown",
   "metadata": {},
   "source": [
    "However it's generally a good idea to use a variable name that gives us a clue as to what the variable refers to.\n",
    "\n",
    "In this example:\n",
    "\n",
    "* `my_dna` is a good variable name, because it tells us that the content of the variable is a DNA sequence\n",
    "* `banana` is a bad variable name, because it doesn’t really tell us anything about the value that’s stored\n",
    "\n",
    "A *descriptive* variable name implicitly helps you to document your code.\n",
    "\n",
    "Python enforces a few rules on variable names:\n",
    "\n",
    "* Variable names in Python can consist of the characters letters, numbers, and the underscore character “`_`”.  Variable names cannot *start* with a number, though.\n",
    "\n",
    "\n",
    "* You cannot pick a variable name in Python that's identical to one of the language's built-in keywords, like `print`.\n",
    "\n",
    "\n",
    "* Finally, variable names are *case sensitive*. This means that `my_seq`, `My_seq` and `my_SEQ` are all different variables!\n",
    "\n",
    "Technically this last point means that you could use all three of those names in a Python program to reference different values.  **Don't do this** – it is very easy to become confused when you use very similar variable names."
   ]
  },
  {
   "cell_type": "markdown",
   "metadata": {},
   "source": [
    "## Visualising variables and assignment"
   ]
  },
  {
   "cell_type": "markdown",
   "metadata": {},
   "source": [
    "You can think of a variable as a label that's assigned to a piece of data that's\n",
    "stored at a specific address in the computer's memory.  For instance, if we look\n",
    "at the first assignment above&hellip;"
   ]
  },
  {
   "cell_type": "code",
   "execution_count": 39,
   "metadata": {
    "collapsed": true
   },
   "outputs": [],
   "source": [
    "my_seq = \"ACTTCGT\""
   ]
  },
  {
   "cell_type": "markdown",
   "metadata": {},
   "source": [
    "&hellip;we can think of it as looking something like this:\n",
    "\n",
    "<img src=\"img/variables01.png\" align=\"left\">\n",
    "<div style=\"clear:both;height:1px;\"> </div>\n",
    "\n",
    "The blue cloud represents the location in the computer's memory that is now\n",
    "storing your sequence data. The variable is a (yellow) label that has been\n",
    "attached to the data &mdash; it points to the data where it sits in memory.\n",
    "\n",
    "When Python evaluates the variable `my_seq`, it returns the string data that the\n",
    "variable was referencing:"
   ]
  },
  {
   "cell_type": "code",
   "execution_count": 40,
   "metadata": {},
   "outputs": [
    {
     "data": {
      "text/plain": [
       "'ACTTCGT'"
      ]
     },
     "execution_count": 40,
     "metadata": {},
     "output_type": "execute_result"
    }
   ],
   "source": [
    "my_seq"
   ]
  },
  {
   "cell_type": "markdown",
   "metadata": {},
   "source": [
    "Let's make a second variable, and give it the name `T_seq`:"
   ]
  },
  {
   "cell_type": "code",
   "execution_count": 41,
   "metadata": {
    "collapsed": true
   },
   "outputs": [],
   "source": [
    "T_seq = \"GAAT\""
   ]
  },
  {
   "cell_type": "markdown",
   "metadata": {},
   "source": [
    "We now have two variables (labels) pointing at two separate bits of data sitting\n",
    "in two different locations in the computer's memory.\n",
    "\n",
    "<img src=\"img/variables02.png\" align=\"left\">\n",
    "<div style=\"clear:both;height:1px;\"> </div>\n",
    "\n",
    "We can evaluate our new variable:"
   ]
  },
  {
   "cell_type": "code",
   "execution_count": 42,
   "metadata": {},
   "outputs": [
    {
     "data": {
      "text/plain": [
       "'GAAT'"
      ]
     },
     "execution_count": 42,
     "metadata": {},
     "output_type": "execute_result"
    }
   ],
   "source": [
    "T_seq"
   ]
  },
  {
   "cell_type": "markdown",
   "metadata": {},
   "source": [
    "What happens if we reassign `T_seq` to point to `my_seq`?"
   ]
  },
  {
   "cell_type": "code",
   "execution_count": 43,
   "metadata": {
    "collapsed": true
   },
   "outputs": [],
   "source": [
    "T_seq = my_seq"
   ]
  },
  {
   "cell_type": "markdown",
   "metadata": {},
   "source": [
    "This amounts to telling Python, \"Attach the `T_seq` label to the same piece of\n",
    "data that bears the `my_seq` label.\"\n",
    "\n",
    "<img src=\"img/variables03.png\" align=\"left\">\n",
    "<div style=\"clear:both;height:1px;\"> </div>\n",
    "\n",
    "You can confirm this by evaluating both variables:"
   ]
  },
  {
   "cell_type": "code",
   "execution_count": 44,
   "metadata": {},
   "outputs": [
    {
     "data": {
      "text/plain": [
       "'ACTTCGT'"
      ]
     },
     "execution_count": 44,
     "metadata": {},
     "output_type": "execute_result"
    }
   ],
   "source": [
    "my_seq"
   ]
  },
  {
   "cell_type": "code",
   "execution_count": 45,
   "metadata": {},
   "outputs": [
    {
     "data": {
      "text/plain": [
       "'ACTTCGT'"
      ]
     },
     "execution_count": 45,
     "metadata": {},
     "output_type": "execute_result"
    }
   ],
   "source": [
    "T_seq"
   ]
  },
  {
   "cell_type": "markdown",
   "metadata": {},
   "source": [
    "What happens to the bit of sequence data that T_seq was pointing to before?\n",
    "You'll note that this data now has no label attached at all. If data is not\n",
    "referenced by a variable, we say it has become *unreferenced*. There's no way to\n",
    "get this data back. In fact, after a while Python will reclaim the memory used\n",
    "by this data in a process known as *garbage collection*:\n",
    "\n",
    "<img src=\"img/variables04.png\" align=\"left\">\n",
    "<div style=\"clear:both;height:1px;\"> </div>\n",
    "\n",
    "If we assign `my_seq` a new value, we're telling Python to re-use the `my_seq`\n",
    "label to point to a new, different piece of data that sits in a different\n",
    "location in the computer's memory."
   ]
  },
  {
   "cell_type": "code",
   "execution_count": 46,
   "metadata": {
    "collapsed": true
   },
   "outputs": [],
   "source": [
    "my_seq = \"GA\""
   ]
  },
  {
   "cell_type": "markdown",
   "metadata": {},
   "source": [
    "But, very importantly:  `T_seq` **still points to the original string!**\n",
    "\n",
    "<img src=\"img/variables05.png\" align=\"left\">\n",
    "<div style=\"clear:both;height:1px;\"> </div>\n",
    "\n",
    "Let's confirm this by evaluating both variables:"
   ]
  },
  {
   "cell_type": "code",
   "execution_count": 47,
   "metadata": {},
   "outputs": [
    {
     "data": {
      "text/plain": [
       "'GA'"
      ]
     },
     "execution_count": 47,
     "metadata": {},
     "output_type": "execute_result"
    }
   ],
   "source": [
    "my_seq"
   ]
  },
  {
   "cell_type": "code",
   "execution_count": 48,
   "metadata": {},
   "outputs": [
    {
     "data": {
      "text/plain": [
       "'ACTTCGT'"
      ]
     },
     "execution_count": 48,
     "metadata": {},
     "output_type": "execute_result"
    }
   ],
   "source": [
    "T_seq"
   ]
  },
  {
   "cell_type": "markdown",
   "metadata": {},
   "source": [
    "## Tools for manipulating strings"
   ]
  },
  {
   "cell_type": "markdown",
   "metadata": {},
   "source": [
    "Now we know how to print strings and assign them to variables, we can take a look at a few of the facilities that Python has for manipulating them. For now we’ll just take a look at some of the most useful ones. In\n",
    "the exercises at the end of this section, we’ll look at how we can use multiple\n",
    "different tools together in order to carry out more complex operations."
   ]
  },
  {
   "cell_type": "markdown",
   "metadata": {},
   "source": [
    "### Concatenation"
   ]
  },
  {
   "cell_type": "markdown",
   "metadata": {},
   "source": [
    "In Python we can concatenate (stick together) two strings using the “`+`” (plus) symbol, borrowed from mathematics.  (We say Python has *overloaded* this mathematical operator to work on the string type.)  This *operator* will join together the string on the left with the string on the right and produce a new, concatenated string:"
   ]
  },
  {
   "cell_type": "code",
   "execution_count": 49,
   "metadata": {},
   "outputs": [
    {
     "data": {
      "text/plain": [
       "'AATTGGCC'"
      ]
     },
     "execution_count": 49,
     "metadata": {},
     "output_type": "execute_result"
    }
   ],
   "source": [
    "\"AATT\" + \"GGCC\""
   ]
  },
  {
   "cell_type": "markdown",
   "metadata": {},
   "source": [
    "We can assign a variable to the result of the concatenation:"
   ]
  },
  {
   "cell_type": "code",
   "execution_count": 50,
   "metadata": {},
   "outputs": [
    {
     "name": "stdout",
     "output_type": "stream",
     "text": [
      "AATTGGCC\n"
     ]
    }
   ],
   "source": [
    "my_dna = \"AATT\" + \"GGCC\"\n",
    "print(my_dna)"
   ]
  },
  {
   "cell_type": "markdown",
   "metadata": {},
   "source": [
    "In the above examples we concatenated literal strings, but we can also concatenate variables that point to strings:"
   ]
  },
  {
   "cell_type": "code",
   "execution_count": 51,
   "metadata": {},
   "outputs": [
    {
     "name": "stdout",
     "output_type": "stream",
     "text": [
      "AAAATGC\n"
     ]
    }
   ],
   "source": [
    "upstream = \"AAA\"\n",
    "my_dna = upstream + \"ATGC\"\n",
    "# my_dna should now be \"AAAATGC\"\n",
    "print(my_dna)"
   ]
  },
  {
   "cell_type": "markdown",
   "metadata": {},
   "source": [
    "We can also join multiple strings together in one go:"
   ]
  },
  {
   "cell_type": "code",
   "execution_count": 52,
   "metadata": {},
   "outputs": [
    {
     "name": "stdout",
     "output_type": "stream",
     "text": [
      "AAAATGCGGG\n"
     ]
    }
   ],
   "source": [
    "upstream = \"AAA\"\n",
    "downstream = \"GGG\"\n",
    "my_dna = upstream + \"ATGC\" + downstream\n",
    "# my_dna should now be \"AAAATGCGGG\"\n",
    "print(my_dna)"
   ]
  },
  {
   "cell_type": "markdown",
   "metadata": {},
   "source": [
    "The result of concatenating two strings is itself a string. We can use a concatenation anywhere we could use a literal string.  Such as inside a print statement:"
   ]
  },
  {
   "cell_type": "code",
   "execution_count": 53,
   "metadata": {},
   "outputs": [
    {
     "name": "stdout",
     "output_type": "stream",
     "text": [
      "Hello world\n"
     ]
    }
   ],
   "source": [
    "print(\"Hello\" + \" \" + \"world\")"
   ]
  },
  {
   "cell_type": "markdown",
   "metadata": {},
   "source": [
    "Note what's going on in this example:  The `print` function is called with a *single argument*, but this argument isn't a string *literal* as before, nor is it a variable that references a string;  rather, it's an *expression that evaluates to a string*.  (As it happens, this expression is built up out of both string literals and a string variable.)\n",
    "\n",
    ">Python always evaluates the arguments of a function before executing the function. A computer scientist will say that Python is a *strict* language, or that it performs *strict evaluation* or *applicative evaluation*."
   ]
  },
  {
   "cell_type": "markdown",
   "metadata": {},
   "source": [
    "### Repetition"
   ]
  },
  {
   "cell_type": "markdown",
   "metadata": {},
   "source": [
    "The plus sign isn't the only mathematical operator which Python has *overloaded* to work on strings.  A somewhat strange — but nevertheless occasionally useful — operator for strings is “`*`” (the multiplication operator, represented — as in most programming languages — by an asterisk):"
   ]
  },
  {
   "cell_type": "code",
   "execution_count": 4,
   "metadata": {},
   "outputs": [
    {
     "data": {
      "text/plain": [
       "'ACTGACTGACTGACTGACTG'"
      ]
     },
     "execution_count": 4,
     "metadata": {},
     "output_type": "execute_result"
    }
   ],
   "source": [
    "5 * \"ACTG\""
   ]
  },
  {
   "cell_type": "code",
   "execution_count": 3,
   "metadata": {},
   "outputs": [
    {
     "data": {
      "text/plain": [
       "'NNNNNNNNNNNNNNNNNNNNNNNNNNNNNNNNNNNNNNNNNNNNNNNNNNNNNNNNNNNNNNNNNNNNNNNNNNNNNNNNNNNNNNNNNNNNNNNNNNNN'"
      ]
     },
     "execution_count": 3,
     "metadata": {},
     "output_type": "execute_result"
    }
   ],
   "source": [
    "'N' * 100"
   ]
  },
  {
   "cell_type": "markdown",
   "metadata": {},
   "source": [
    "You can only \"multiply\" a string by an integer number (say `n`), and this results in a new string which is the original one repeated `n` times. You cannot \"multiply\" two strings with each other.  What would that even mean?"
   ]
  },
  {
   "cell_type": "code",
   "execution_count": 56,
   "metadata": {},
   "outputs": [
    {
     "ename": "TypeError",
     "evalue": "can't multiply sequence by non-int of type 'str'",
     "output_type": "error",
     "traceback": [
      "\u001b[0;31m---------------------------------------------------------------------------\u001b[0m",
      "\u001b[0;31mTypeError\u001b[0m                                 Traceback (most recent call last)",
      "\u001b[0;32m<ipython-input-56-b5d1276410e7>\u001b[0m in \u001b[0;36m<module>\u001b[0;34m()\u001b[0m\n\u001b[0;32m----> 1\u001b[0;31m \u001b[0;34m\"ACTG\"\u001b[0m \u001b[0;34m*\u001b[0m \u001b[0;34m\"GC\"\u001b[0m\u001b[0;34m\u001b[0m\u001b[0m\n\u001b[0m",
      "\u001b[0;31mTypeError\u001b[0m: can't multiply sequence by non-int of type 'str'"
     ]
    }
   ],
   "source": [
    "\"ACTG\" * \"GC\""
   ]
  },
  {
   "cell_type": "markdown",
   "metadata": {},
   "source": [
    "### Finding the length of a string"
   ]
  },
  {
   "cell_type": "markdown",
   "metadata": {},
   "source": [
    "Another useful built-in tool in Python is the `len()` function.  (`len` is short for “length”.)\n",
    "\n",
    "Just like the `print()` function, the `len()` function takes a single argument which is a string. However, the behaviour of the `len()` function is quite different. Instead of outputting text to the screen, `len()` behaves more like a function in mathematics — it returns a value that can be stored, which we call this the *return value*.\n",
    "\n",
    ">`print()` is actually the outlier in this case.  Most functions behave like `len()`.\n",
    "\n",
    "If we write a program that uses `len()` to calculate the length of a string, the program will run but we won't see any output.  However, recall that Jupyter automatically evaluates the last line in a code box and *implicitly* prints the result of that evaluation, so we should see a value if we evaluate a call to the `len()` function:"
   ]
  },
  {
   "cell_type": "code",
   "execution_count": 57,
   "metadata": {},
   "outputs": [
    {
     "data": {
      "text/plain": [
       "4"
      ]
     },
     "execution_count": 57,
     "metadata": {},
     "output_type": "execute_result"
    }
   ],
   "source": [
    "# this line doesn't print any output\n",
    "len(\"ATGC\")"
   ]
  },
  {
   "cell_type": "markdown",
   "metadata": {},
   "source": [
    "If we want to actually use the return value, we need to assign it to a variable, and then do something useful with it (like printing it or using it in a further computation):"
   ]
  },
  {
   "cell_type": "code",
   "execution_count": 59,
   "metadata": {},
   "outputs": [
    {
     "name": "stdout",
     "output_type": "stream",
     "text": [
      "4\n"
     ]
    }
   ],
   "source": [
    "dna_length = len(\"AGTC\")\n",
    "print(dna_length)"
   ]
  },
  {
   "cell_type": "markdown",
   "metadata": {},
   "source": [
    "Note that you can also *nest* function calls, i.e. use a function call as an argument in another function call:"
   ]
  },
  {
   "cell_type": "code",
   "execution_count": 60,
   "metadata": {},
   "outputs": [
    {
     "name": "stdout",
     "output_type": "stream",
     "text": [
      "4\n"
     ]
    }
   ],
   "source": [
    "print(len(\"ACTG\"))"
   ]
  },
  {
   "cell_type": "markdown",
   "metadata": {},
   "source": [
    "As we've seen before, Python evaluates arguments before evaluating the function call.  In the case of nested functions, Python therefore evaluates \"from the inside out\":\n",
    "\n",
    "* it first evaluates `\"ACTG\"`, which is a literal string and therefore evaluates to itself\n",
    "* it then evaluates the call to `len()`, to produce the length of its argument\n",
    "* it then evaluates the call to `print()`, which prints the result returned by `len()`"
   ]
  },
  {
   "cell_type": "markdown",
   "metadata": {},
   "source": [
    "There’s another interesting thing about the `len` function: the result (or\n",
    "return value) is not a string, it’s a number.  This is the first time we've worked with numbers!\n",
    "\n",
    "Python treats strings and numbers differently. We can see that this is the case if we try to concatenate together a number and a string. Consider this short program which calculates the length of a DNA sequence and then prints a message telling us the length:"
   ]
  },
  {
   "cell_type": "code",
   "execution_count": 1,
   "metadata": {},
   "outputs": [
    {
     "ename": "TypeError",
     "evalue": "must be str, not int",
     "output_type": "error",
     "traceback": [
      "\u001b[0;31m---------------------------------------------------------------------------\u001b[0m",
      "\u001b[0;31mTypeError\u001b[0m                                 Traceback (most recent call last)",
      "\u001b[0;32m<ipython-input-1-b7b4b12ace3b>\u001b[0m in \u001b[0;36m<module>\u001b[0;34m()\u001b[0m\n\u001b[1;32m      4\u001b[0m \u001b[0mdna_length\u001b[0m \u001b[0;34m=\u001b[0m \u001b[0mlen\u001b[0m\u001b[0;34m(\u001b[0m\u001b[0mmy_dna\u001b[0m\u001b[0;34m)\u001b[0m\u001b[0;34m\u001b[0m\u001b[0m\n\u001b[1;32m      5\u001b[0m \u001b[0;31m# print a message telling us the DNA sequence lenth\u001b[0m\u001b[0;34m\u001b[0m\u001b[0;34m\u001b[0m\u001b[0m\n\u001b[0;32m----> 6\u001b[0;31m \u001b[0mprint\u001b[0m\u001b[0;34m(\u001b[0m\u001b[0;34m\"The length of the DNA sequence is \"\u001b[0m \u001b[0;34m+\u001b[0m \u001b[0mdna_length\u001b[0m\u001b[0;34m)\u001b[0m\u001b[0;34m\u001b[0m\u001b[0m\n\u001b[0m",
      "\u001b[0;31mTypeError\u001b[0m: must be str, not int"
     ]
    }
   ],
   "source": [
    "# assign the DNA sequence to a variable\n",
    "my_dna = \"ATGCGAGT\"\n",
    "# calculate the length of the sequence and assign it to a variable\n",
    "dna_length = len(my_dna)\n",
    "# print a message telling us the DNA sequence lenth\n",
    "print(\"The length of the DNA sequence is \" + dna_length)"
   ]
  },
  {
   "cell_type": "markdown",
   "metadata": {},
   "source": [
    "When we try to run this program, we get an error.\n",
    "\n",
    "Python is complaining that it doesn’t know how to concatenate a string (which it\n",
    "calls `str` for short) and a number (which it calls `int` – short for integer).\n",
    "Strings and numbers are examples of *types* – different kinds of information\n",
    "that can exist inside a program. We'll talk a lot more about types later on.\n",
    "\n",
    "We can fix this bug by using another built-in function supplied by Python:  It's called `str()` and it turns a number into a string so that we can print it.\n",
    "\n",
    "Here's our modified program (without comments to make it more compact):"
   ]
  },
  {
   "cell_type": "code",
   "execution_count": 65,
   "metadata": {},
   "outputs": [
    {
     "name": "stdout",
     "output_type": "stream",
     "text": [
      "The length of the DNA sequence is 8\n"
     ]
    }
   ],
   "source": [
    "my_dna = \"ATGCGAGT\"\n",
    "dna_length = len(my_dna)\n",
    "print(\"The length of the DNA sequence is \" + str(dna_length))"
   ]
  },
  {
   "cell_type": "markdown",
   "metadata": {},
   "source": [
    "The only thing we have changed is that we’ve replace `dna_length` with\n",
    "`str(dna_length)` inside the `print` statement."
   ]
  },
  {
   "cell_type": "markdown",
   "metadata": {},
   "source": [
    "### Aside:  The clever `print()` function"
   ]
  },
  {
   "cell_type": "markdown",
   "metadata": {},
   "source": [
    "We've seen many times that `print()` can print string literals.  We've also just seen that `print()` can print variables that point to integer (numeric) values.  It can also print literal numbers:"
   ]
  },
  {
   "cell_type": "code",
   "execution_count": 2,
   "metadata": {},
   "outputs": [
    {
     "name": "stdout",
     "output_type": "stream",
     "text": [
      "Hello World\n",
      "ATGCGAGT\n",
      "101\n",
      "8\n"
     ]
    }
   ],
   "source": [
    "# literal string:\n",
    "print(\"Hello World\")\n",
    "\n",
    "# string variable:\n",
    "print(my_dna)\n",
    "\n",
    "# literal number:\n",
    "print(101)\n",
    "\n",
    "# numeric variable\n",
    "print(dna_length)"
   ]
  },
  {
   "cell_type": "markdown",
   "metadata": {},
   "source": [
    "`print()` is clever enough to take the argument you give it and *implicitly* convert it to a textual representation before printing it.\n",
    "\n",
    ">Note that we can insert blank lines in our code to make it more readable.\n",
    "\n",
    "But wait!  That's not all!\n",
    "\n",
    "We can also call print with *multiple arguments*.  To call a function with more than one argument in Python, we simply put all the arguments between the parentheses and separate them with commas:"
   ]
  },
  {
   "cell_type": "code",
   "execution_count": 66,
   "metadata": {},
   "outputs": [
    {
     "name": "stdout",
     "output_type": "stream",
     "text": [
      "Hello World\n"
     ]
    }
   ],
   "source": [
    "print(\"Hello\", \"World\")"
   ]
  },
  {
   "cell_type": "markdown",
   "metadata": {},
   "source": [
    "What happens in this example?  `print()` is now given *two* strings as arguments:  `\"Hello\"` and `\"World\"`.  What dos it do?  It prints both strings, separated by a space.\n",
    "\n",
    "Let's experiment:  What if we add yet more arguments:"
   ]
  },
  {
   "cell_type": "code",
   "execution_count": 6,
   "metadata": {},
   "outputs": [
    {
     "name": "stdout",
     "output_type": "stream",
     "text": [
      "Hello 1 World\n"
     ]
    }
   ],
   "source": [
    "print(\"Hello\", 1, \"World\")"
   ]
  },
  {
   "cell_type": "markdown",
   "metadata": {},
   "source": [
    "As you can see, `print()` prints *all* its arguments, separated by spaces, implicitly converting arguments to a textual representation as necessary.\n",
    "\n",
    "We can now rewrite our previous example a little more succinctly:"
   ]
  },
  {
   "cell_type": "code",
   "execution_count": 7,
   "metadata": {},
   "outputs": [
    {
     "name": "stdout",
     "output_type": "stream",
     "text": [
      "The length of the DNA sequence is 8\n"
     ]
    }
   ],
   "source": [
    "my_dna = \"ATGCGAGT\"\n",
    "dna_length = len(my_dna)\n",
    "print(\"The length of the DNA sequence is\", len(my_dna))"
   ]
  },
  {
   "cell_type": "markdown",
   "metadata": {},
   "source": [
    "Since we didn't concatenate strings to form a single argument, we didn't need to call the `str()` function to convert a number to a string.  Instead, we simply called `print()` with multiple arguments and depended on its implicit conversion to print the number."
   ]
  },
  {
   "cell_type": "markdown",
   "metadata": {},
   "source": [
    "### Changing case"
   ]
  },
  {
   "cell_type": "markdown",
   "metadata": {},
   "source": [
    "We can convert a string to lower case by using a new type of syntax – a *method*\n",
    "that belongs to strings. A *method* is like a *function*, but instead of being\n",
    "built in to the core Python language, it belongs to a particular *type* of data.\n",
    "\n",
    "The method need is called `lower()` and we say that it belongs to the *string* type. Here’s how we use it:"
   ]
  },
  {
   "cell_type": "code",
   "execution_count": 69,
   "metadata": {},
   "outputs": [
    {
     "data": {
      "text/plain": [
       "'atgc'"
      ]
     },
     "execution_count": 69,
     "metadata": {},
     "output_type": "execute_result"
    }
   ],
   "source": [
    "my_dna = \"ATGC\"\n",
    "# print my_dna in lower case\n",
    "my_dna.lower()"
   ]
  },
  {
   "cell_type": "markdown",
   "metadata": {},
   "source": [
    "Notice how using a method looks different to using a function. When we use a\n",
    "function like `print()` or `len()`, we write the function name first and the\n",
    "arguments go in parentheses:"
   ]
  },
  {
   "cell_type": "code",
   "execution_count": 70,
   "metadata": {},
   "outputs": [
    {
     "name": "stdout",
     "output_type": "stream",
     "text": [
      "ATGC\n"
     ]
    },
    {
     "data": {
      "text/plain": [
       "4"
      ]
     },
     "execution_count": 70,
     "metadata": {},
     "output_type": "execute_result"
    }
   ],
   "source": [
    "print(\"ATGC\")\n",
    "len(my_dna)"
   ]
  },
  {
   "cell_type": "markdown",
   "metadata": {},
   "source": [
    "When we use a method…\n",
    "* we write the name of the variable first\n",
    "* followed by a period (`'.'`)\n",
    "* followed by the name of the method\n",
    "* followed by the method's arguments in parentheses\n",
    "\n",
    "In this example `lower()` takes no argument, so the parentheses are empty.  They're still required, though, because they're part of Python's *function call* syntax, which applies equally to methods.\n",
    "\n",
    "It’s important to notice that the `lower()` method does not actually change the value pointed to by the variable `my_dna`; instead it **returns a copy value pointed to by the variable**, but in lower case.\n",
    "\n",
    "We can easily show this by printing the variable before and after running `lower()`:"
   ]
  },
  {
   "cell_type": "code",
   "execution_count": 71,
   "metadata": {},
   "outputs": [
    {
     "name": "stdout",
     "output_type": "stream",
     "text": [
      "before:\t AtgC\n",
      "after:\t AtgC\n",
      "lower:\t atgc\n"
     ]
    }
   ],
   "source": [
    "my_dna = \"AtgC\"\n",
    "\n",
    "# print the variable\n",
    "print(\"before:\\t\", my_dna)\n",
    "\n",
    "# run the lower method and store the result\n",
    "lowercase_dna = my_dna.lower()\n",
    "\n",
    "# print the variable again\n",
    "print(\"after:\\t\", my_dna)\n",
    "\n",
    "# print the copy of the variable\n",
    "print (\"lower:\\t\", lowercase_dna)"
   ]
  },
  {
   "cell_type": "markdown",
   "metadata": {},
   "source": [
    "Analogous to `lower()`, the string type also has a method `upper()`.  You can probably guess what it does!"
   ]
  },
  {
   "cell_type": "code",
   "execution_count": null,
   "metadata": {},
   "outputs": [],
   "source": [
    "my_dna = \"AtgC\"\n",
    "print(\"before:\\t\", my_dna)\n",
    "uppercase_dna = my_dna.upper()\n",
    "print(\"after:\\t\", my_dna)\n",
    "print (\"upper:\\t\", uppercase_dna)"
   ]
  },
  {
   "cell_type": "markdown",
   "metadata": {},
   "source": [
    "Because `upper()` and `lower()` are method of the string type, we can only use them on variables that are strings. If we try to use one of them on a number:"
   ]
  },
  {
   "cell_type": "code",
   "execution_count": 5,
   "metadata": {},
   "outputs": [
    {
     "ename": "AttributeError",
     "evalue": "'int' object has no attribute 'lower'",
     "output_type": "error",
     "traceback": [
      "\u001b[0;31m---------------------------------------------------------------------------\u001b[0m",
      "\u001b[0;31mAttributeError\u001b[0m                            Traceback (most recent call last)",
      "\u001b[0;32m<ipython-input-5-35c885d5885e>\u001b[0m in \u001b[0;36m<module>\u001b[0;34m()\u001b[0m\n\u001b[1;32m      1\u001b[0m \u001b[0mmy_number\u001b[0m \u001b[0;34m=\u001b[0m \u001b[0mlen\u001b[0m\u001b[0;34m(\u001b[0m\u001b[0;34m\"AGTC\"\u001b[0m\u001b[0;34m)\u001b[0m\u001b[0;34m\u001b[0m\u001b[0m\n\u001b[1;32m      2\u001b[0m \u001b[0;31m# my_number is 4\u001b[0m\u001b[0;34m\u001b[0m\u001b[0;34m\u001b[0m\u001b[0m\n\u001b[0;32m----> 3\u001b[0;31m \u001b[0mprint\u001b[0m\u001b[0;34m(\u001b[0m\u001b[0mmy_number\u001b[0m\u001b[0;34m.\u001b[0m\u001b[0mlower\u001b[0m\u001b[0;34m(\u001b[0m\u001b[0;34m)\u001b[0m\u001b[0;34m)\u001b[0m\u001b[0;34m\u001b[0m\u001b[0m\n\u001b[0m",
      "\u001b[0;31mAttributeError\u001b[0m: 'int' object has no attribute 'lower'"
     ]
    }
   ],
   "source": [
    "my_number = len(\"AGTC\")\n",
    "# my_number is 4\n",
    "print(my_number.lower())"
   ]
  },
  {
   "cell_type": "markdown",
   "metadata": {},
   "source": [
    "…we will get an error.\n",
    "\n",
    "The error message is a bit cryptic, but hopefully you can grasp the meaning:\n",
    "something that is a number (an `int`, or integer) does not have a `lower()`\n",
    "method."
   ]
  },
  {
   "cell_type": "markdown",
   "metadata": {},
   "source": [
    "### Replacement"
   ]
  },
  {
   "cell_type": "markdown",
   "metadata": {},
   "source": [
    "Here’s another example of a useful method that belongs to the string type: `replace()`.\n",
    "\n",
    "`replace()` takes *two* arguments (both strings) and returns a copy of the value pointed to by the string variable where all occurrences of the first string are replaced by the second string.\n",
    "\n",
    "Just as when we used the `print()` function with multiple arguments, we use commas to separate multiple arguments to a method.\n",
    "\n",
    "Note that the `replace()` method **of a string variable** takes **two further strings** as arguments.  There are three strings involved here:\n",
    "\n",
    "* the original string, pointed to by the string variable\n",
    "* the first argument, indicating the substring that will be replaced\n",
    "* the second argument, indicating the string that will replace it\n",
    "\n",
    "Confused?  An example should make things clearer:"
   ]
  },
  {
   "cell_type": "code",
   "execution_count": 72,
   "metadata": {},
   "outputs": [
    {
     "name": "stdout",
     "output_type": "stream",
     "text": [
      "ylspadktny\n"
     ]
    }
   ],
   "source": [
    "protein = \"vlspadktnv\"\n",
    "\n",
    "# replace valine with tyrosine\n",
    "print(protein.replace(\"v\", \"y\"))"
   ]
  },
  {
   "cell_type": "code",
   "execution_count": 73,
   "metadata": {},
   "outputs": [
    {
     "name": "stdout",
     "output_type": "stream",
     "text": [
      "ymtpadktnv\n"
     ]
    }
   ],
   "source": [
    "# we can replace more than one character\n",
    "print(protein.replace(\"vls\", \"ymt\"))"
   ]
  },
  {
   "cell_type": "code",
   "execution_count": 74,
   "metadata": {},
   "outputs": [
    {
     "name": "stdout",
     "output_type": "stream",
     "text": [
      "vlspadktnv\n"
     ]
    }
   ],
   "source": [
    "# the original variable is not affected\n",
    "print(protein)"
   ]
  },
  {
   "cell_type": "markdown",
   "metadata": {},
   "source": [
    "We’ll take a look at more powerful tools for carrying out string replacement\n",
    "later on."
   ]
  },
  {
   "cell_type": "markdown",
   "metadata": {},
   "source": [
    "### Counting and finding substrings"
   ]
  },
  {
   "cell_type": "markdown",
   "metadata": {},
   "source": [
    "A very common job in biology is to count the number of times some pattern occurs\n",
    "in a (DNA, RNA, protein, …) sequence. In programming terms, we want to count the number of times a substring occurs in a string.\n",
    "\n",
    "The string type has a method that does this job, called `count()`. It takes a single argument whose type is string, and returns the number of times that this string is found as a substring of the string pointed to by the variable. The return type is (obviously) a number.\n",
    "\n",
    "An example:"
   ]
  },
  {
   "cell_type": "code",
   "execution_count": 6,
   "metadata": {},
   "outputs": [
    {
     "name": "stdout",
     "output_type": "stream",
     "text": [
      "valines: 2\n",
      "lsp: 1\n",
      "tryptophans: 0\n"
     ]
    }
   ],
   "source": [
    "protein = \"vlspadktnv\"\n",
    "\n",
    "# count amino acid residues\n",
    "valine_count = protein.count('v')\n",
    "lsp_count = protein.count('lsp')\n",
    "tryptophan_count = protein.count('w')\n",
    " \n",
    "# now print the counts\n",
    "print(\"valines:\", valine_count)\n",
    "print(\"lsp:\", lsp_count)\n",
    "print(\"tryptophans:\", tryptophan_count)"
   ]
  },
  {
   "cell_type": "markdown",
   "metadata": {},
   "source": [
    "Often we don't just want to count patterns in a sequence, but also know their location.  The string type's `find()` method will give us this answer.\n",
    "\n",
    "`find()` takes a single string argument (just like `count()`) and returns a number which is the position at which that substring first appears in the string (we call that the *index* of the substring).\n",
    "\n",
    "**Important:**  In Python we start counting from zero rather than one (We say that Python strings are *zero-indexed*), so position 0 is the first character, position 1 is the second character, position 2 the third and so on.\n",
    "\n",
    "A couple of examples:"
   ]
  },
  {
   "cell_type": "code",
   "execution_count": 76,
   "metadata": {},
   "outputs": [
    {
     "name": "stdout",
     "output_type": "stream",
     "text": [
      "3\n",
      "6\n",
      "-1\n"
     ]
    }
   ],
   "source": [
    "protein = \"vlspadktnv\"\n",
    "print(protein.find('p'))\n",
    "print(protein.find('kt'))\n",
    "print(protein.find('w'))"
   ]
  },
  {
   "cell_type": "markdown",
   "metadata": {},
   "source": [
    "Notice the behaviour of `find()` when we ask it to locate a substring that doesn’t exist – we get back the answer `-1`.\n",
    "\n",
    "Python strings have another method called `index()` that works almost identically to `find()` … except for what it does if it can't find the substring:"
   ]
  },
  {
   "cell_type": "code",
   "execution_count": 77,
   "metadata": {},
   "outputs": [
    {
     "name": "stdout",
     "output_type": "stream",
     "text": [
      "3\n",
      "6\n"
     ]
    },
    {
     "ename": "ValueError",
     "evalue": "substring not found",
     "output_type": "error",
     "traceback": [
      "\u001b[0;31m---------------------------------------------------------------------------\u001b[0m",
      "\u001b[0;31mValueError\u001b[0m                                Traceback (most recent call last)",
      "\u001b[0;32m<ipython-input-77-5b91b8956e8b>\u001b[0m in \u001b[0;36m<module>\u001b[0;34m()\u001b[0m\n\u001b[1;32m      2\u001b[0m \u001b[0mprint\u001b[0m\u001b[0;34m(\u001b[0m\u001b[0mprotein\u001b[0m\u001b[0;34m.\u001b[0m\u001b[0mindex\u001b[0m\u001b[0;34m(\u001b[0m\u001b[0;34m'p'\u001b[0m\u001b[0;34m)\u001b[0m\u001b[0;34m)\u001b[0m\u001b[0;34m\u001b[0m\u001b[0m\n\u001b[1;32m      3\u001b[0m \u001b[0mprint\u001b[0m\u001b[0;34m(\u001b[0m\u001b[0mprotein\u001b[0m\u001b[0;34m.\u001b[0m\u001b[0mindex\u001b[0m\u001b[0;34m(\u001b[0m\u001b[0;34m'kt'\u001b[0m\u001b[0;34m)\u001b[0m\u001b[0;34m)\u001b[0m\u001b[0;34m\u001b[0m\u001b[0m\n\u001b[0;32m----> 4\u001b[0;31m \u001b[0mprint\u001b[0m\u001b[0;34m(\u001b[0m\u001b[0mprotein\u001b[0m\u001b[0;34m.\u001b[0m\u001b[0mindex\u001b[0m\u001b[0;34m(\u001b[0m\u001b[0;34m'w'\u001b[0m\u001b[0;34m)\u001b[0m\u001b[0;34m)\u001b[0m\u001b[0;34m\u001b[0m\u001b[0m\n\u001b[0m",
      "\u001b[0;31mValueError\u001b[0m: substring not found"
     ]
    }
   ],
   "source": [
    "protein = \"vlspadktnv\"\n",
    "print(protein.index('p'))\n",
    "print(protein.index('kt'))\n",
    "print(protein.index('w'))"
   ]
  },
  {
   "cell_type": "markdown",
   "metadata": {},
   "source": [
    ">`count()`, `find()` and `index()` all have the limitation that you can only search for *exact* substrings. If you need to count the number of occurrences of a variable protein motif, or find the position of a variable transcription factor binding site, they will not help you. Later on in the course we'll encounter more powerful tools that can do these sort of jobs.\n",
    "\n",
    "Of the tools we’ve discussed in this section, three – `replace`, `count` and `find` – require at least two strings to work.  For instance, in the case of `find`:  a substring you're searching *for* and the string you're searching *in*.  So this:\n",
    "\n",
    "```python\n",
    "my_dna.count(my_motif)\n",
    "```"
   ]
  },
  {
   "cell_type": "markdown",
   "metadata": {},
   "source": [
    "…is not the same as:\n",
    "\n",
    "```python\n",
    "my_motif.count(my_dna)\n",
    "```"
   ]
  },
  {
   "cell_type": "markdown",
   "metadata": {},
   "source": [
    "The first example looks for `my_motif` in `my_dna`, which is probably what you wanted to do.  The second example is most likely not what you intended."
   ]
  },
  {
   "cell_type": "markdown",
   "metadata": {},
   "source": [
    "### Extracting a character from a string"
   ]
  },
  {
   "cell_type": "markdown",
   "metadata": {},
   "source": [
    "It's possible to extract a single character from a Python string, using Python's string *subscript* syntax. We place the *index* of the character we want in **square brackets**, *directly* after the variable name (or literal string):"
   ]
  },
  {
   "cell_type": "code",
   "execution_count": 82,
   "metadata": {
    "scrolled": false
   },
   "outputs": [
    {
     "name": "stdout",
     "output_type": "stream",
     "text": [
      "The value of 'protein' is currently:\t vlspadktnv\n",
      "The first residue of 'protein' is:\t v\n",
      "The second residue of 'protein' is:\t l\n",
      "The third residue of 'protein' is:\t s\n"
     ]
    }
   ],
   "source": [
    "protein = \"vlspadktnv\"\n",
    "print(\"The value of 'protein' is currently:\\t\", protein)\n",
    "print(\"The first residue of 'protein' is:\\t\", protein[0])\n",
    "print(\"The second residue of 'protein' is:\\t\", protein[1])\n",
    "print(\"The third residue of 'protein' is:\\t\", protein[2])"
   ]
  },
  {
   "cell_type": "markdown",
   "metadata": {},
   "source": [
    "We can also use substring syntax with string literals:"
   ]
  },
  {
   "cell_type": "code",
   "execution_count": 83,
   "metadata": {},
   "outputs": [
    {
     "name": "stdout",
     "output_type": "stream",
     "text": [
      "C\n",
      "G\n",
      "A\n",
      "T\n",
      "T\n",
      "A\n",
      "G\n"
     ]
    }
   ],
   "source": [
    "print(\"CGATTAG\"[0])\n",
    "print(\"CGATTAG\"[1])\n",
    "print(\"CGATTAG\"[2])\n",
    "print(\"CGATTAG\"[3])\n",
    "print(\"CGATTAG\"[4])\n",
    "print(\"CGATTAG\"[5])\n",
    "print(\"CGATTAG\"[6])"
   ]
  },
  {
   "cell_type": "markdown",
   "metadata": {},
   "source": [
    "**Once again:**  It's very important to note that the *first* character has the index `0` (zero), the second character has the index `1`, and so on.  Python starts counting from zero — we say Python's indexing is *zero-based*.\n",
    "\n",
    "| Character | Index |\n",
    "|:---------:|:-----:|\n",
    "| `C`       | `0` |\n",
    "| `G`       | `1` |\n",
    "| `A`       | `2` |\n",
    "| `T`       | `3` |\n",
    "| `T`       | `4` |\n",
    "| `A`       | `5` |\n",
    "| `G`       | `6` |"
   ]
  },
  {
   "cell_type": "markdown",
   "metadata": {},
   "source": [
    "What happens when we try to use an index larger than 6 with a string that is only 7 characters long (i.e. runs from index 0 to index 6)?  Let's try:"
   ]
  },
  {
   "cell_type": "code",
   "execution_count": 84,
   "metadata": {},
   "outputs": [
    {
     "ename": "IndexError",
     "evalue": "string index out of range",
     "output_type": "error",
     "traceback": [
      "\u001b[0;31m---------------------------------------------------------------------------\u001b[0m",
      "\u001b[0;31mIndexError\u001b[0m                                Traceback (most recent call last)",
      "\u001b[0;32m<ipython-input-84-397e9bd6b06b>\u001b[0m in \u001b[0;36m<module>\u001b[0;34m()\u001b[0m\n\u001b[0;32m----> 1\u001b[0;31m \u001b[0mprint\u001b[0m\u001b[0;34m(\u001b[0m\u001b[0;34m\"CGATTAG\"\u001b[0m\u001b[0;34m[\u001b[0m\u001b[0;36m7\u001b[0m\u001b[0;34m]\u001b[0m\u001b[0;34m)\u001b[0m\u001b[0;34m\u001b[0m\u001b[0m\n\u001b[0m",
      "\u001b[0;31mIndexError\u001b[0m: string index out of range"
     ]
    }
   ],
   "source": [
    "print(\"CGATTAG\"[7])"
   ]
  },
  {
   "cell_type": "markdown",
   "metadata": {},
   "source": [
    "As we may have expected, we get an error.  An `IndexError` to be exact."
   ]
  },
  {
   "cell_type": "markdown",
   "metadata": {},
   "source": [
    "Note what happens when the string index is *negative*:"
   ]
  },
  {
   "cell_type": "code",
   "execution_count": 85,
   "metadata": {},
   "outputs": [
    {
     "name": "stdout",
     "output_type": "stream",
     "text": [
      "G\n",
      "A\n",
      "T\n",
      "T\n",
      "A\n",
      "G\n",
      "C\n"
     ]
    }
   ],
   "source": [
    "print(\"CGATTAG\"[-1])\n",
    "print(\"CGATTAG\"[-2])\n",
    "print(\"CGATTAG\"[-3])\n",
    "print(\"CGATTAG\"[-4])\n",
    "print(\"CGATTAG\"[-5])\n",
    "print(\"CGATTAG\"[-6])\n",
    "print(\"CGATTAG\"[-7])"
   ]
  },
  {
   "cell_type": "markdown",
   "metadata": {},
   "source": [
    "It counts *backwards* from the end of the string!\n",
    "\n",
    "Hence, the index `-1` indicates the last character of a string, `-2` is the penultimate character, and so forth:\n",
    "\n",
    "| Character | Index | Negative index |\n",
    "|:---------:|:-----:|:--------------:|\n",
    "| `C`       | `0` | `-7` |\n",
    "| `G`       | `1` | `-6` |\n",
    "| `A`       | `2` | `-5` |\n",
    "| `T`       | `3` | `-4` |\n",
    "| `T`       | `4` | `-3` |\n",
    "| `A`       | `5` | `-2` |\n",
    "| `G`       | `6` | `-1` |\n",
    "\n",
    "Mostly we use negative indices to extract characters from somewhere near the end of a string.  They give us a quick way of referencing the last (or penultimate, etc.) character."
   ]
  },
  {
   "cell_type": "markdown",
   "metadata": {},
   "source": [
    "### Extracting a substring from a string"
   ]
  },
  {
   "cell_type": "markdown",
   "metadata": {},
   "source": [
    "What if we want to extract more than one *contiguous* character?\n",
    "\n",
    "If we want to extract a *substring* (that is, as series of contiguous characters) from a string, we use Python's *slicing* syntax. This looks a lot like subscripts, except we now give *two* values (the beginning and end positions of the slice), separated by a colon (“`:`”)."
   ]
  },
  {
   "cell_type": "code",
   "execution_count": 87,
   "metadata": {},
   "outputs": [
    {
     "name": "stdout",
     "output_type": "stream",
     "text": [
      "CGATTAG\n"
     ]
    }
   ],
   "source": [
    "my_seq = \"CGATTAG\"\n",
    "print(my_seq)"
   ]
  },
  {
   "cell_type": "code",
   "execution_count": 88,
   "metadata": {},
   "outputs": [
    {
     "name": "stdout",
     "output_type": "stream",
     "text": [
      "GA\n"
     ]
    }
   ],
   "source": [
    "print(my_seq[1:3]) # from the first but stop before the third position so basically count from seconden til third"
   ]
  },
  {
   "cell_type": "code",
   "execution_count": 89,
   "metadata": {},
   "outputs": [
    {
     "name": "stdout",
     "output_type": "stream",
     "text": [
      "ATT\n"
     ]
    }
   ],
   "source": [
    "print(my_seq[2:5])"
   ]
  },
  {
   "cell_type": "markdown",
   "metadata": {},
   "source": [
    "Note that the way in which slicing works might seem a little unintuitive at first blush:\n",
    "\n",
    "`my_seq[1:3]` means:\n",
    "\n",
    "* **from** the first character&hellip;\n",
    "* &hellip;until **just before** the 3rd character.\n",
    "\n",
    "In other words, the slice notation is *inclusive* at the start, and *exclusive* at the end.  Alternatively, we could say it's open-ended on the right.\n",
    "\n",
    "You may also leave out either of the two endpoints of a slice. A missing\n",
    "endpoint means \"to the end of the string\". For example:"
   ]
  },
  {
   "cell_type": "code",
   "execution_count": 90,
   "metadata": {},
   "outputs": [
    {
     "name": "stdout",
     "output_type": "stream",
     "text": [
      "CGA\n"
     ]
    }
   ],
   "source": [
    "my_seq = \"CGATTAG\"\n",
    "\n",
    "# This is equivalent to: my_seq[0:3]\n",
    "# i.e. \"from the start of the string till just before character 3\"\n",
    "print(my_seq[:3])"
   ]
  },
  {
   "cell_type": "code",
   "execution_count": 91,
   "metadata": {},
   "outputs": [
    {
     "name": "stdout",
     "output_type": "stream",
     "text": [
      "ATTAG\n"
     ]
    }
   ],
   "source": [
    "# This is equivalent to: my_seq[2:7], for our string of length 7\n",
    "# i.e. \"from character 2 till the end of the string\"\n",
    "print(my_seq[2:])"
   ]
  },
  {
   "cell_type": "code",
   "execution_count": 92,
   "metadata": {},
   "outputs": [
    {
     "name": "stdout",
     "output_type": "stream",
     "text": [
      "AG\n"
     ]
    }
   ],
   "source": [
    "# This is equivalent to: my_seq[-2:7], for our string with length of 7\n",
    "# i.e. \"from the second-to-last character to the end of the string\n",
    "print(my_seq[-2:])"
   ]
  },
  {
   "cell_type": "code",
   "execution_count": 93,
   "metadata": {},
   "outputs": [
    {
     "name": "stdout",
     "output_type": "stream",
     "text": [
      "CGATTAG\n"
     ]
    }
   ],
   "source": [
    "# This is equivalent to the entire my_seq\n",
    "# i.e. \"from the first character to the last character\n",
    "print(my_seq[:])"
   ]
  },
  {
   "cell_type": "markdown",
   "metadata": {},
   "source": [
    "> Note that the \"slightly unintuitive\" way in which slicing works means\n",
    "that&hellip;\n",
    ">\n",
    ">     my_seq[:n] + my_seq[n:]\n",
    ">\n",
    "> …is always equal to just `my_seq` for any value of “`n`”! This may help you to remember how it works."
   ]
  },
  {
   "cell_type": "markdown",
   "metadata": {},
   "source": [
    "Applying the string slicing syntax always yields a new string, leaving the original unchanged.  Thus, the empty slice `[:]` in the last example above can be used to make an exact copy of a string:"
   ]
  },
  {
   "cell_type": "code",
   "execution_count": 94,
   "metadata": {},
   "outputs": [
    {
     "name": "stdout",
     "output_type": "stream",
     "text": [
      "'myseq':\t AG\n",
      "'seq_2':\t CGATTAG\n"
     ]
    }
   ],
   "source": [
    "my_seq = \"CGATTAG\"\n",
    "seq_2 = my_seq[:]\n",
    "my_seq = \"AG\"\n",
    "print(\"'myseq':\\t\", my_seq)\n",
    "print(\"'seq_2':\\t\", seq_2)"
   ]
  },
  {
   "cell_type": "markdown",
   "metadata": {},
   "source": [
    "If you include a third integer between the square brackets, this becomes the *step* value. The default step value (if you leave out the third integer, as we've done so far) is `1`."
   ]
  },
  {
   "cell_type": "code",
   "execution_count": 8,
   "metadata": {},
   "outputs": [
    {
     "name": "stdout",
     "output_type": "stream",
     "text": [
      "GA\n"
     ]
    }
   ],
   "source": [
    "my_seq = \"CGATTAG\"\n",
    "\n",
    "# Equivalent to: my_seq[1:3]\n",
    "print(my_seq[1:3:1])"
   ]
  },
  {
   "cell_type": "code",
   "execution_count": 96,
   "metadata": {},
   "outputs": [
    {
     "name": "stdout",
     "output_type": "stream",
     "text": [
      "TTAG\n"
     ]
    }
   ],
   "source": [
    "# Equivalent to: my_seq[3:]\n",
    "print(my_seq[3::1])"
   ]
  },
  {
   "cell_type": "code",
   "execution_count": 97,
   "metadata": {},
   "outputs": [
    {
     "name": "stdout",
     "output_type": "stream",
     "text": [
      "TA\n"
     ]
    }
   ],
   "source": [
    "# Step value of 2; print every 2nd character from 3 till before 6 \n",
    "print(my_seq[3:6:2])"
   ]
  },
  {
   "cell_type": "code",
   "execution_count": 98,
   "metadata": {},
   "outputs": [
    {
     "name": "stdout",
     "output_type": "stream",
     "text": [
      "CATG\n"
     ]
    }
   ],
   "source": [
    "# Print every 2nd character of the entire string\n",
    "print(my_seq[::2])"
   ]
  },
  {
   "cell_type": "code",
   "execution_count": 11,
   "metadata": {},
   "outputs": [
    {
     "name": "stdout",
     "output_type": "stream",
     "text": [
      "AT\n"
     ]
    }
   ],
   "source": [
    "# Print *backwards* from the penultimate till *just before* the 3rd character  \n",
    "print(my_seq[-2:3:-1])"
   ]
  },
  {
   "cell_type": "code",
   "execution_count": 100,
   "metadata": {},
   "outputs": [
    {
     "name": "stdout",
     "output_type": "stream",
     "text": [
      "GATTAGC\n"
     ]
    }
   ],
   "source": [
    "# Print the entire string backwards\n",
    "print(my_seq[::-1])"
   ]
  },
  {
   "cell_type": "markdown",
   "metadata": {},
   "source": [
    "### Recap of string manipulation"
   ]
  },
  {
   "cell_type": "markdown",
   "metadata": {},
   "source": [
    "We've seen four ways to manipulate strings in this section:\n",
    "\n",
    "* Built-in Python operators like `+`\n",
    "* Built-in Python functions like `len()`\n",
    "* String methods like `replace()` and `lower()`\n",
    "* String indexing and slicing\n",
    "\n",
    "There's still more to come!  For instance, we couldn't touch on all string methods in this section, because some of them yield data structures we have not yet learned about (like *lists*!)"
   ]
  },
  {
   "cell_type": "markdown",
   "metadata": {},
   "source": [
    "## Recap of the `print()` function"
   ]
  },
  {
   "cell_type": "markdown",
   "metadata": {},
   "source": [
    "The humble `print()` function has some useful tricks up its sleeve.\n",
    "\n",
    "* It always prints a textual representation of the argument you give it, even if that argument is not a string.\n",
    "\n",
    "\n",
    "* When called with multiple arguments, `print()` will print textual representations of all arguments a single line, separated by spaces.\n",
    "\n",
    "\n",
    "* A feature of `print()` which we have been using silently all along, is that it implicitly appends a newline character (“`\\n`”) to the string being printed. Thus, if multiple `print()` statements follow each other, their output appears on consecutive lines:"
   ]
  },
  {
   "cell_type": "code",
   "execution_count": null,
   "metadata": {},
   "outputs": [],
   "source": [
    "print(\"Hello\")\n",
    "print(\"World\")"
   ]
  },
  {
   "cell_type": "markdown",
   "metadata": {},
   "source": [
    "The `print()` function has even more tricks up its sleeve, as we'll see later…"
   ]
  },
  {
   "cell_type": "markdown",
   "metadata": {},
   "source": [
    "---"
   ]
  },
  {
   "cell_type": "markdown",
   "metadata": {},
   "source": [
    "## Exercises"
   ]
  },
  {
   "cell_type": "markdown",
   "metadata": {},
   "source": [
    "### 1. Calculating GC content"
   ]
  },
  {
   "cell_type": "markdown",
   "metadata": {},
   "source": [
    "Here’s a short DNA sequence:\n",
    "\n",
    "    ACTGATCGATTACGTATAGTATTTGCTATCATACATATATATCGATGCGTTCAT\n",
    "\n",
    "Write a program that will print out the GC content of this DNA sequence. Hint:\n",
    "you can use normal mathematical symbols like add (`+`), subtract (`-`), multiply\n",
    "(`*`), divide (`/`) and parentheses to carry out calculations on numbers in\n",
    "Python.\n",
    "\n",
    "You can do the exercise in the following code block.  I've started by putting\n",
    "the sequence into a variable `my_dna` for you:"
   ]
  },
  {
   "cell_type": "code",
   "execution_count": 208,
   "metadata": {},
   "outputs": [
    {
     "name": "stdout",
     "output_type": "stream",
     "text": [
      "G: 8\n",
      "C: 9\n",
      "54\n",
      "31.48148148148148\n"
     ]
    }
   ],
   "source": [
    "# Exercise on calculating GC content\n",
    "dna_seq = \"ACTGATCGATTACGTATAGTATTTGCTATCATACATATATATCGATGCGTTCAT\"\n",
    "\n",
    "# count G and C seperately\n",
    "G_content = dna_seq.count('G')\n",
    "C_content = dna_seq.count('C')\n",
    " \n",
    "# now print the counts\n",
    "print(\"G:\", G_content)\n",
    "print(\"C:\", C_content)\n",
    "\n",
    "dna_length = len(\"ACTGATCGATTACGTATAGTATTTGCTATCATACATATATATCGATGCGTTCAT\")\n",
    "print(dna_length)\n",
    "\n",
    "gc_content = ((int(G_content) + int(C_content)) / dna_length) * 100\n",
    "\n",
    "print(gc_content)\n"
   ]
  },
  {
   "cell_type": "markdown",
   "metadata": {},
   "source": [
    "### 2. Complementing DNA"
   ]
  },
  {
   "cell_type": "markdown",
   "metadata": {},
   "source": [
    "Here’s a short DNA sequence:\n",
    "\n",
    "    ACTGATCGATTACGTATAGTATTTGCTATCATACATATATATCGATGCGTTCAT\n",
    "\n",
    "Write a program that will print the complement of this sequence."
   ]
  },
  {
   "cell_type": "code",
   "execution_count": 128,
   "metadata": {},
   "outputs": [
    {
     "name": "stdout",
     "output_type": "stream",
     "text": [
      "TACTTGCGTAGCTATATATACATACTATCGTTTATGATATGCATTAGCTAGTCA\n"
     ]
    }
   ],
   "source": [
    "# Exercise on complementing a DNA sequence\n",
    "dna_seq = \"ACTGATCGATTACGTATAGTATTTGCTATCATACATATATATCGATGCGTTCAT\"\n",
    "\n",
    "#print *backwards* from the penultimate till *just before* the 3rd character  \n",
    "print(dna_seq[::-1])"
   ]
  },
  {
   "cell_type": "markdown",
   "metadata": {},
   "source": [
    "### 3. Restriction fragment lengths"
   ]
  },
  {
   "cell_type": "markdown",
   "metadata": {},
   "source": [
    "Here’s a short DNA sequence:\n",
    "\n",
    "    ACTGATCGATTACGTATAGTAGAATTCTATCATACATATATATCGATGCGTTCAT\n",
    "\n",
    "The sequence contains a recognition site for the EcoRI restriction enzyme, which\n",
    "cuts at the motif G\\*AATTC (the position of the cut is indicated by an\n",
    "asterisk).\n",
    "\n",
    "Write a program which will calculate the size of the two fragments that will be\n",
    "produced when the DNA sequence is digested with EcoRI."
   ]
  },
  {
   "cell_type": "code",
   "execution_count": 187,
   "metadata": {},
   "outputs": [
    {
     "name": "stdout",
     "output_type": "stream",
     "text": [
      "complete sequence length: 55\n",
      "Position of cutting site:  21\n",
      "Length of the cutting site:  6\n",
      "ACTGATCGATTACGTATAGTA TATCATACATATATATCGATGCGTTCAT\n",
      "length of the first fragment:  21\n",
      "length of the second fragment:  28\n"
     ]
    }
   ],
   "source": [
    "# Exercise 3\n",
    "dna_seq = \"ACTGATCGATTACGTATAGTAGAATTCTATCATACATATATATCGATGCGTTCAT\"\n",
    "\n",
    "print(\"complete sequence length:\", len(\"ACTGATCGATTACGTATAGTAGAATTCTATCATACATATATATCGATGCGTTCAT\"))\n",
    "EcoRI = dna_seq.find(\"GAATTC\")\n",
    "EcoRI_length = len(\"GAATTC\")\n",
    "\n",
    "print(\"Position of cutting site: \", EcoRI)\n",
    "print(\"Length of the cutting site: \", EcoRI_length)\n",
    "\n",
    "print((dna_seq [0:21]),(dna_seq [27:56]))\n",
    "dna_seq_1 = len(\"ACTGATCGATTACGTATAGTAGAATTCTATCATACATATATATCGATGCGTTCAT\"[0:21])\n",
    "dna_seq_2 = len(\"ACTGATCGATTACGTATAGTAGAATTCTATCATACATATATATCGATGCGTTCAT\"[27:56])\n",
    "print(\"length of the first fragment: \", dna_seq_1)\n",
    "print(\"length of the second fragment: \", dna_seq_2)"
   ]
  },
  {
   "cell_type": "markdown",
   "metadata": {},
   "source": [
    "### 4. Splicing out introns, Part 1"
   ]
  },
  {
   "cell_type": "markdown",
   "metadata": {},
   "source": [
    "Here’s a short section of genomic DNA:\n",
    "\n",
    "    ATCGATCGATCGATCGACTGACTAGTCATAGCTATGCATGTAGCTACTCGATCGATCGATCGATCGATCGATCGATCGATCGATCATGCTATCATCGATCGATATCGATGCATCGACTACTAT\n",
    "\n",
    "It comprises two exons and an intron. The first exon runs from the start of the sequence to the sixty-third character, and the second exon runs from the ninety-first character to the end of the sequence. Write a program that will print just\n",
    "the coding regions of the DNA sequence."
   ]
  },
  {
   "cell_type": "code",
   "execution_count": 199,
   "metadata": {},
   "outputs": [
    {
     "name": "stdout",
     "output_type": "stream",
     "text": [
      "Sequence length:  123\n",
      "Exon 1:  ATCGATCGATCGATCGACTGACTAGTCATAGCTATGC\n",
      "Exon 2:  CATCGATCGATATCGATGCATCGACTACTAT\n"
     ]
    }
   ],
   "source": [
    "# Exercise 4\n",
    "\n",
    "dna_seq = \"ATCGATCGATCGATCGACTGACTAGTCATAGCTATGCATGTAGCTACTCGATCGATCGATCGATCGATCGATCGATCGATCGATCATGCTATCATCGATCGATATCGATGCATCGACTACTAT\"\n",
    "\n",
    "sequence_length = len(\"ATCGATCGATCGATCGACTGACTAGTCATAGCTATGCATGTAGCTACTCGATCGATCGATCGATCGATCGATCGATCGATCGATCATGCTATCATCGATCGATATCGATGCATCGACTACTAT\")\n",
    "print(\"Sequence length: \", sequence_length)\n",
    "\n",
    "exon1 = \"ATCGATCGATCGATCGACTGACTAGTCATAGCTATGCATGTAGCTACTCGATCGATCGATCGATCGATCGATCGATCGATCGATCATGCTATCATCGATCGATATCGATGCATCGACTACTAT\"[0:37]\n",
    "exon2 = \"ATCGATCGATCGATCGACTGACTAGTCATAGCTATGCATGTAGCTACTCGATCGATCGATCGATCGATCGATCGATCGATCGATCATGCTATCATCGATCGATATCGATGCATCGACTACTAT\"[92:123]\n",
    "\n",
    "print(\"Exon 1: \", exon1)\n",
    "print(\"Exon 2: \", exon2)"
   ]
  },
  {
   "cell_type": "markdown",
   "metadata": {},
   "source": [
    "### 5. Splicing out introns, Part 2"
   ]
  },
  {
   "cell_type": "markdown",
   "metadata": {},
   "source": [
    "Using the data from part one, write a program that will calculate what\n",
    "percentage of the DNA sequence is coding.\n",
    "\n",
    ">**Reminder:**  This entire Jupyter Notebook is in reality just one Python\n",
    "session, so any variables you defined in Part 1 will still be defined;  you\n",
    "don't need to define them again."
   ]
  },
  {
   "cell_type": "code",
   "execution_count": 204,
   "metadata": {},
   "outputs": [
    {
     "name": "stdout",
     "output_type": "stream",
     "text": [
      "Sequence length:  123\n",
      "37\n",
      "31\n",
      "37.2520325203252 %\n"
     ]
    }
   ],
   "source": [
    "# Exercise 5\n",
    "\n",
    "sequence_length = len(\"ATCGATCGATCGATCGACTGACTAGTCATAGCTATGCATGTAGCTACTCGATCGATCGATCGATCGATCGATCGATCGATCGATCATGCTATCATCGATCGATATCGATGCATCGACTACTAT\")\n",
    "print(\"Sequence length: \", sequence_length)\n",
    " \n",
    "exon1_length = len(\"ATCGATCGATCGATCGACTGACTAGTCATAGCTATGCATGTAGCTACTCGATCGATCGATCGATCGATCGATCGATCGATCGATCATGCTATCATCGATCGATATCGATGCATCGACTACTAT\"[0:37])\n",
    "exon2_length = len(\"ATCGATCGATCGATCGACTGACTAGTCATAGCTATGCATGTAGCTACTCGATCGATCGATCGATCGATCGATCGATCGATCGATCATGCTATCATCGATCGATATCGATGCATCGACTACTAT\"[92:123])\n",
    "print(exon1_length)\n",
    "print(exon2_length)\n",
    "\n",
    "# now print the counts\n",
    "print(int(exon1_length) + int(exon2_length) / sequence_length,\"%\")"
   ]
  },
  {
   "cell_type": "markdown",
   "metadata": {},
   "source": [
    "### 6. Splicing out introns, Part 3"
   ]
  },
  {
   "cell_type": "markdown",
   "metadata": {},
   "source": [
    "Using the data from Part 1, write a program that will print out the original\n",
    "genomic DNA sequence with coding bases in uppercase and non-coding bases in\n",
    "lowercase."
   ]
  },
  {
   "cell_type": "code",
   "execution_count": 5,
   "metadata": {},
   "outputs": [
    {
     "name": "stdout",
     "output_type": "stream",
     "text": [
      "exon1:\t ATCGATCGATCGATCGACTGACTAGTCATAGCTATGC\n",
      "exon2:\t CATCGATCGATATCGATGCATCGACTACTAT\n",
      "noncoding:  atgtagctactcgatcgatcgatcgatcgatcgatcgatcgatcgatcatgcta\n"
     ]
    }
   ],
   "source": [
    "# Exercise 6\n",
    " ## coding bases\n",
    "exon1 = \"ATCGATCGATCGATCGACTGACTAGTCATAGCTATGCATGTAGCTACTCGATCGATCGATCGATCGATCGATCGATCGATCGATCATGCTATCATCGATCGATATCGATGCATCGACTACTAT\"[0:37]\n",
    "exon2 = \"ATCGATCGATCGATCGACTGACTAGTCATAGCTATGCATGTAGCTACTCGATCGATCGATCGATCGATCGATCGATCGATCGATCATGCTATCATCGATCGATATCGATGCATCGACTACTAT\"[92:123]\n",
    "\n",
    "\n",
    "coding_dna1 = exon1.upper()\n",
    "coding_dna2 = exon2.upper()\n",
    "print(\"exon1:\\t\", coding_dna1)\n",
    "print (\"exon2:\\t\", coding_dna2)\n",
    "\n",
    "## noncoding bases\n",
    "\n",
    "intron = \"ATCGATCGATCGATCGACTGACTAGTCATAGCTATGCATGTAGCTACTCGATCGATCGATCGATCGATCGATCGATCGATCGATCATGCTATCATCGATCGATATCGATGCATCGACTACTAT\"[37:91]\n",
    "\n",
    "# run the lower method and store the result\n",
    "intron = intron.lower()\n",
    "\n",
    "# print the copy of the variable\n",
    "print (\"noncoding: \", intron)"
   ]
  }
 ],
 "metadata": {
  "kernelspec": {
   "display_name": "Python 3",
   "language": "python",
   "name": "python3"
  },
  "language_info": {
   "codemirror_mode": {
    "name": "ipython",
    "version": 3
   },
   "file_extension": ".py",
   "mimetype": "text/x-python",
   "name": "python",
   "nbconvert_exporter": "python",
   "pygments_lexer": "ipython3",
   "version": "3.6.1"
  }
 },
 "nbformat": 4,
 "nbformat_minor": 1
}

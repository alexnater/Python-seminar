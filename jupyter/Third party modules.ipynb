{
 "cells": [
  {
   "cell_type": "markdown",
   "metadata": {},
   "source": [
    "<div align=right>\n",
    "<img src=\"img/logosmall.png\" width=\"100px\" align=right>\n",
    "</div>"
   ]
  },
  {
   "cell_type": "markdown",
   "metadata": {},
   "source": [
    "# Working with 3rd party libraries and modules"
   ]
  },
  {
   "cell_type": "markdown",
   "metadata": {},
   "source": [
    "Let's refresh our memory about the overall geography of the Python ecosystem:\n",
    "\n",
    "![Python ecosystem](img/Python ecosystem.png)"
   ]
  },
  {
   "cell_type": "markdown",
   "metadata": {},
   "source": [
    "* At the core, we have the Python language itself.\n",
    "\n",
    "\n",
    "* Shipping with the Python language is a selection of high-quality modules known as the Python *standard library*.\n",
    "\n",
    "\n",
    "* Around that, there's a boundless sea of third-party modules and libraries, written by a large array of individuals, organisations and ad hoc groups of developers all over the world.\n",
    "\n",
    "If you want to do something in Python, and this thing feels like it's even remotely something that somebody else might have done before, you can probably count on there being a module somewhere out there that does this thing already.  In fact, you're likely to find *several*.\n",
    "\n",
    "The challenges facing you are:\n",
    "\n",
    "* How do I find a module that does what I need?\n",
    "* How to I tell if any modules I find are of decent quality / trustworthy?\n",
    "* How do I install a module I have found?\n",
    "* How do I learn do use the module properly?\n",
    "\n",
    "Let's give ourselves a simple enough challenge:\n",
    "\n",
    "**We need the tools to read FASTA files reliably and efficiently, and parse the data contained in order to use it in our own programs.**\n",
    "\n",
    "Parsing a basic FASTA file is not very hard — we've already seen ways of doing so in this course.  The *problem* with parsing FASTA files is that the format is not really standardised in any way.  Hence, there are a myriad little differences between the formats of FASTA files written by different applications.  Writing a FASTA parser that takes all (or even most) of this into account is a boring, time-consuming and not-very-interesting undertaking.\n",
    "\n",
    "It's also almost certainly something that someone has already done.\n",
    "\n",
    "In addition to making allowances for variation in FASTA formats, it would also be good to have a FASTA parser that's *efficient* in terms of computing resources.  One that, for instance, doesn't attempt to read an entire file into memory.\n",
    "\n",
    "Let's venture out onto the Internet and see what we can come up with!"
   ]
  },
  {
   "cell_type": "markdown",
   "metadata": {},
   "source": [
    "## Navigating the world of add-on modules\n",
    "\n",
    "Venturing into the universe of 3rd party libraries from the relative safety of the standard library can be a little scary at first.  Fortunately, there are a couple of tools out there to make our life a little easier:\n",
    "\n",
    "Your first stop when searching for a module that fulfills some need you have should probably be the official Python Package Index, *PyPI*:\n",
    "\n",
    "<http://pypi.python.org>\n",
    "\n",
    "PyPI is a voluntary registry where developers can add any modules they've created and made publicly available.  There's no real barrier to entry to this index — very little intrinsic quality control.  This means that the modules listed on PyPI are (a) vast in number and (b) widely varying in quality.\n",
    "\n",
    "Let's go to PyPI and type the term “`fasta`” in the search box on the top right…\n",
    "\n",
    "*Oh dear…*\n",
    "\n",
    "Yes, there are dozens upon dozens of modules that somehow relate to the FASTA format.  On the one hand this is great, but on the other hand, how to we distinguish as well-written, trustworthy, continually maintained module from … something that someone wrote in an afternoon and published on a lark?\n",
    "\n",
    "The unfortunate answer is, \"not easily\".  There are a couple of pointers one can use:\n",
    "\n",
    "* Firstly, just click on an individual module with a likely-sounding name.  Read its description.  Make *sure* it's what you need;  very often names alone can be misleading.\n",
    "\n",
    "\n",
    "* Check its version number.  Sure, versions numbers are arbitrary, but if the developer of a module assigns a version number like `0.0.2`, it's a very likely sign that they don't feel that the module is very mature yet themselves.\n",
    "\n",
    "\n",
    "* Check when it was last updated.  Well-maintained modules get fairly regular updates.  Modules that have languished for a couple of years without support are often not worth bothering with.\n",
    "\n",
    "Even keeping all of this in mind, it's often still hard to make an informed choice.  Often, a good solution is to turn to the community.  There are many virtual places where the bioinformatics community gather, e.g.:\n",
    "\n",
    "\n",
    "* The Q&A site [Biostars](http://www.biostars.org)\n",
    "\n",
    "\n",
    "* The [SEQanswers](http://seqanswers.com) forum\n",
    "\n",
    "And if all else fails, there's always … *Google!*  Let's google the term \"python parse fasta\":  [Click here](http://lmgtfy.com/?q=python+parse+fasta) to do the search…\n",
    "\n",
    "The very first two results seem interesting:\n",
    "\n",
    "![Google search](img/google_search.png)\n",
    "\n",
    "* The first result is a [link to a question on Biostars](https://www.biostars.org/p/710/).  You can already see from the few lines of preview text on Google that it concerns something called \"Biopython\".  Please go and look at the answer thread there.\n",
    "\n",
    "\n",
    "* The second result is actually a [link into the documentation](http://biopython.org/wiki/SeqIO) of something called `SeqIO` on a site called <http://biopython.org>.\n",
    "\n",
    "\n",
    "On Biostars, the top-rated answer is from user Zhaorong, who suggests that you \"just use Biopython\" and provides this code snippet:"
   ]
  },
  {
   "cell_type": "code",
   "execution_count": null,
   "metadata": {
    "collapsed": true
   },
   "outputs": [],
   "source": [
    "from Bio import SeqIO\n",
    "\n",
    "fasta_sequences = SeqIO.parse(open(input_file), 'fasta')\n",
    "\n",
    "with open(output_file) as out_file:\n",
    "    for fasta in fasta_sequences:\n",
    "        name, sequence = fasta.id, fasta.seq.tostring()\n",
    "        new_sequence = some_function(sequence)\n",
    "        write_fasta(out_file)"
   ]
  },
  {
   "cell_type": "markdown",
   "metadata": {},
   "source": [
    "That seems… really easy.  So let's learn more about this Biopython by looking at its home page:\n",
    "\n",
    "<http://biopython.org>\n",
    "\n",
    ">Biopython is a set of **freely available** tools for biological computation written in Python by an **international team of developers**.\n",
    "\n",
    ">It is a **distributed collaborative effort** to develop Python libraries and applications which address the needs of current and future work in bioinformatics. The **source code is made available** under the Biopython License, which is extremely liberal and compatible with almost every license in the world. We **work along with the Open Bioinformatics Foundation**, who generously host our website, bug tracker, and mailing lists.\n",
    "\n",
    "The emphasis in that text was mine.  All those words in **bold** make me happy — Biopython sounds like a worthwhile toolset.  But words should be backed up by deeds.  By following some links on the Biopython home page, I find that the Biopython source code is hosted on GitHub, so let's have a look there:\n",
    "\n",
    "<https://github.com/biopython>\n",
    "\n",
    "The first thing we notice is that the Biopython code is maintained by a group of developers.  This isn't just one person's bedroom project.  So far, so good.  Now let's look at the actual repository:\n",
    "\n",
    "<https://github.com/biopython/biopython>\n",
    "\n",
    "10400 commits (as I write this).  That sounds significant.\n",
    "\n",
    "Clicking around on the tabs at the top, I get every impression that this is an *active* project (last commit 6 days ago as I write this) with a *long history* (going back to 2000!)\n",
    "\n",
    "I'm almost convinced.  This seems like a great tool to have in my toolbox to do far more than just parse fasta files, though it seems it will serve that immediate need as well.\n",
    "\n",
    "One more thing:  Let's browse the official documentation and see what this thing can do:\n",
    "\n",
    "<http://biopython.org/wiki/Documentation>\n",
    "\n",
    "OK, there's a *lot* of it, but a quick browse around satisfies me that Biopython provides lots (and lots) of tools I would use on a regular basis.  Time to install it."
   ]
  },
  {
   "cell_type": "markdown",
   "metadata": {},
   "source": [
    "## Installing a 3rd party module with `conda`\n",
    "\n",
    "Let's first try the obvious thing, and search for `biopython` using the `conda` tool on the command line:"
   ]
  },
  {
   "cell_type": "code",
   "execution_count": null,
   "metadata": {
    "collapsed": false
   },
   "outputs": [],
   "source": [
    "!conda search biopython"
   ]
  },
  {
   "cell_type": "markdown",
   "metadata": {},
   "source": [
    "As you can see, the *Anaconda Cloud* contains quite a few packaged versions of Biopython.  The one with the dot (“`.`”) next to it is the one that's most suited for your system — the latest version of Biopython compiled for the right version of Python, and the right computer architecture.\n",
    "\n",
    "At this point, installing Biopython becomes as simple as:"
   ]
  },
  {
   "cell_type": "code",
   "execution_count": null,
   "metadata": {
    "collapsed": false
   },
   "outputs": [],
   "source": [
    "!conda install -y biopython"
   ]
  },
  {
   "cell_type": "markdown",
   "metadata": {},
   "source": [
    ">The `-y` flag tells `conda` to assume the answer `yes` to all questions, so it won't stop and wait for your input before performing the installation."
   ]
  },
  {
   "cell_type": "markdown",
   "metadata": {},
   "source": [
    "Once the installation has finished, we can check whether Biopython has been successfully installed by trying to `import` its toplevel namespace, `Bio`:"
   ]
  },
  {
   "cell_type": "code",
   "execution_count": 1,
   "metadata": {
    "collapsed": true
   },
   "outputs": [],
   "source": [
    "import Bio"
   ]
  },
  {
   "cell_type": "markdown",
   "metadata": {},
   "source": [
    "If executing the `import` statement didn't raise any error, then congratulations, you've installed a major third party Python module.\n",
    "\n",
    ">No really, you have no idea how lucky you are.  Even just a few years ago, installing something like Biopython would've taken a knowledgeable user the best part of a morning."
   ]
  },
  {
   "cell_type": "markdown",
   "metadata": {},
   "source": [
    "## Using a 3rd party module\n",
    "\n",
    "Let's try to use Biopython to parse a simple FASTA file.  In the `files` subdirectory, there's a FASTA file called `sample2.fa`."
   ]
  },
  {
   "cell_type": "code",
   "execution_count": 2,
   "metadata": {
    "collapsed": false
   },
   "outputs": [
    {
     "name": "stdout",
     "output_type": "stream",
     "text": [
      "/Users/sabineurban/EVOP2017/files\n"
     ]
    }
   ],
   "source": [
    "%cd files"
   ]
  },
  {
   "cell_type": "markdown",
   "metadata": {},
   "source": [
    "If we want to figure out the intricacies of parsing FASTA files (and many other formats used in bioinformatics) we should read the documentation for the Biopython module `SeqIO`:\n",
    "\n",
    "<http://biopython.org/wiki/SeqIO>\n",
    "\n",
    "Here's the short version:"
   ]
  },
  {
   "cell_type": "code",
   "execution_count": 3,
   "metadata": {
    "collapsed": false
   },
   "outputs": [
    {
     "name": "stdout",
     "output_type": "stream",
     "text": [
      "Record YL069W-1.334 has sequence CCACACCACACCCACACACCCACACACCACACCACACACCACACCACACCCACACACACACAACCCACTGCCACTTACCCTACCATTACCCTACCATCCACCATGACCTACTCACCATACTGTTCTTCTACCCACCATATTGAAACGCTAACAA\n",
      "\n",
      "Record YAL068C-7235.2170 has sequence TACGAGAATAATTTCTCATCATCCAGCTTTAACACAAAATTCGCACAGTTTTCGTTAAGAGAACTTAACATTTTCTTATGACGTAAATGAAGTTTATATATAAATTTCCTTTTTATTGGATACATTACGTGCAACCAAAAGTGTAAAATGATTGGTTGCAATGTTTCACCTAAATTACTT\n",
      "\n",
      "Record YAL070W-223.3355 has sequence CATCCTAACACTACCCTAACACAGCCCTAATCTAACCCTGGCCAACCTGTCTCTCAACTTACCCTCCATTACCCTGCCTCCACTCGTTACCCTGTCCCATTCAACCATACCACTCCGAACCACCATCCATCCCTCTACTTACTACCACTCACCCACCGTTACCCTCCAATTACCCATATCTAATATGCCT\n",
      "\n"
     ]
    }
   ],
   "source": [
    "from Bio import SeqIO\n",
    "\n",
    "for record in SeqIO.parse(open(\"sample2.fa\", 'r'), 'fasta'):\n",
    "    id, seq = record.id, record.seq\n",
    "    print(\"Record {} has sequence {}\".format(id, seq), end='\\n'*2)"
   ]
  },
  {
   "cell_type": "markdown",
   "metadata": {},
   "source": [
    "## What did we achieve?\n",
    "\n",
    "Arguably, just writing our own small FASTA parser would've been easier than all the hoops we jumped through to install and use Biopython.\n",
    "\n",
    ">That might not have been the case if we had wanted to parse something considerably more difficult, such as BLAST output.\n",
    "\n",
    "For our trouble, though, we have gained a bulletproof FASTA parser that should parse almost any FASTA file we ever come across.  Additionally, it has more features than we could currently imagine we'd ever need … until we need them one day.\n",
    "\n",
    "As always when installing a 3rd party module, it pays richly to sit down and read the documeentation to get a good idea of what your new tool can accomplish."
   ]
  },
  {
   "cell_type": "markdown",
   "metadata": {
    "collapsed": true
   },
   "source": [
    "## Other useful modules"
   ]
  },
  {
   "cell_type": "markdown",
   "metadata": {},
   "source": [
    "There are too many other useful 3rd party modules to list.  But here are a few that are very generally useful in the scientific endeavour:"
   ]
  },
  {
   "cell_type": "markdown",
   "metadata": {},
   "source": [
    "**NumPy** is an underlying part of many science-focused modules.  It provides high-performance support for numerical computing, including super-efficient vectors and matrices.\n",
    "\n",
    "* <http://numpy.org>"
   ]
  },
  {
   "cell_type": "code",
   "execution_count": null,
   "metadata": {
    "collapsed": true
   },
   "outputs": [],
   "source": [
    "!conda install -y numpy"
   ]
  },
  {
   "cell_type": "markdown",
   "metadata": {},
   "source": [
    "**Matplotlib** is the most widely used scientific plotting and visualisation library in Python.  It's syntax is reminiscent of Matlab, and some find it a little archaic.  Hence, it has some up-and-coming competition from new more modern plotting libraries.  For now, though, it remains the standard and interacts closely with NumPy.\n",
    "\n",
    "* <http://matplotlib.org>"
   ]
  },
  {
   "cell_type": "code",
   "execution_count": null,
   "metadata": {
    "collapsed": true
   },
   "outputs": [],
   "source": [
    "!conda install -y matplotlib"
   ]
  },
  {
   "cell_type": "markdown",
   "metadata": {},
   "source": [
    "**scikit-bio** is — like Biopython — a collection of general-purpose tools useful in Bioinformatics.\n",
    "\n",
    "* <http://scikit-bio.org>"
   ]
  },
  {
   "cell_type": "code",
   "execution_count": null,
   "metadata": {
    "collapsed": true
   },
   "outputs": [],
   "source": [
    "!conda install -y scikit-bio"
   ]
  },
  {
   "cell_type": "markdown",
   "metadata": {},
   "source": [
    "**Pandas** is a toolkit for statistical data analysis, built on top of NumPy and closely integrated with Matplotlib.  It provides an equivalent of R's Data Frame.\n",
    "\n",
    "* <http://pandas.pydata.org>"
   ]
  },
  {
   "cell_type": "code",
   "execution_count": null,
   "metadata": {
    "collapsed": true
   },
   "outputs": [],
   "source": [
    "!conda install -y pandas"
   ]
  },
  {
   "cell_type": "markdown",
   "metadata": {},
   "source": [
    "## Care and feeding of `conda`"
   ]
  },
  {
   "cell_type": "markdown",
   "metadata": {},
   "source": [
    "Good 3rd party modules are continually developed and updated, and it's a good idea to update your installed modules from time to time.\n",
    "\n",
    "To update the `conda` toolkit itself, you should perform this command from time to time:"
   ]
  },
  {
   "cell_type": "code",
   "execution_count": null,
   "metadata": {
    "collapsed": true
   },
   "outputs": [],
   "source": [
    "!conda update -y conda"
   ]
  },
  {
   "cell_type": "markdown",
   "metadata": {},
   "source": [
    "To update an individual 3rd party module — say Biopython — you can again use `conda update`:"
   ]
  },
  {
   "cell_type": "code",
   "execution_count": null,
   "metadata": {
    "collapsed": true
   },
   "outputs": [],
   "source": [
    "!conda update -y biopython"
   ]
  },
  {
   "cell_type": "markdown",
   "metadata": {},
   "source": [
    "To update *all* your 3rd party modules installed by `conda`, you can do the following:"
   ]
  },
  {
   "cell_type": "code",
   "execution_count": null,
   "metadata": {
    "collapsed": true
   },
   "outputs": [],
   "source": [
    "!conda update -y --all"
   ]
  },
  {
   "cell_type": "markdown",
   "metadata": {},
   "source": [
    "Do take some care that you don't *break backwards compatibility*, i.e. update a module to a new version, only to find the code you wrote against that module now breaks.\n",
    "\n",
    "This shouldn't happen very often with well-written 3rd party modules, but it remains a concern.\n",
    "\n",
    "One way to overcome this problem is to use `conda`'s facility to create separate \"environments\", each with its own set of installed modules.  That is beyond the scope of this course, but you can look it up in the Anaconda documentation:\n",
    "\n",
    "<http://conda.pydata.org/docs/test-drive.html>"
   ]
  },
  {
   "cell_type": "markdown",
   "metadata": {},
   "source": [
    "---"
   ]
  },
  {
   "cell_type": "markdown",
   "metadata": {},
   "source": [
    "# Take-home exercise\n",
    "\n",
    "The FASTA format file `exons.fasta` in the `files` subdirectory contains DNA sequence data. \n",
    "\n",
    "Use the Biopython FASTA parser to parse this file, and answer the following questions:\n",
    "\n",
    "* How many records are in the file?"
   ]
  },
  {
   "cell_type": "code",
   "execution_count": null,
   "metadata": {
    "collapsed": true
   },
   "outputs": [],
   "source": []
  },
  {
   "cell_type": "markdown",
   "metadata": {},
   "source": [
    "* How many records have a sequence length of 3408?"
   ]
  },
  {
   "cell_type": "code",
   "execution_count": null,
   "metadata": {
    "collapsed": true
   },
   "outputs": [],
   "source": []
  },
  {
   "cell_type": "markdown",
   "metadata": {},
   "source": [
    "* What is the header for the record with the shortest sequence? Is there more than one record with that length?"
   ]
  },
  {
   "cell_type": "code",
   "execution_count": null,
   "metadata": {
    "collapsed": true
   },
   "outputs": [],
   "source": []
  },
  {
   "cell_type": "markdown",
   "metadata": {},
   "source": [
    "* What is the title for the record with the longest sequence? Is there more than one record with that length?"
   ]
  },
  {
   "cell_type": "code",
   "execution_count": null,
   "metadata": {
    "collapsed": true
   },
   "outputs": [],
   "source": []
  },
  {
   "cell_type": "markdown",
   "metadata": {},
   "source": [
    "* How many records have sequences which contain 20-nucleotide repeats (the same nucleotide repeated at least 20 consecutive times) in their sequences?"
   ]
  },
  {
   "cell_type": "code",
   "execution_count": null,
   "metadata": {
    "collapsed": true
   },
   "outputs": [],
   "source": []
  },
  {
   "cell_type": "markdown",
   "metadata": {},
   "source": [
    "* Do any records contain 100% identical sequences?"
   ]
  },
  {
   "cell_type": "code",
   "execution_count": null,
   "metadata": {
    "collapsed": true
   },
   "outputs": [],
   "source": []
  },
  {
   "cell_type": "markdown",
   "metadata": {},
   "source": [
    "* The records in the file represent exons.  How many exons can you find for the gene with  Ensembl id `ENSG00000006831`?  What are their exon IDs?"
   ]
  },
  {
   "cell_type": "code",
   "execution_count": null,
   "metadata": {
    "collapsed": true
   },
   "outputs": [],
   "source": []
  },
  {
   "cell_type": "markdown",
   "metadata": {},
   "source": [
    "* Which of the exons of `ENSG00000006831` has the highest GC content?"
   ]
  },
  {
   "cell_type": "code",
   "execution_count": null,
   "metadata": {
    "collapsed": true
   },
   "outputs": [],
   "source": []
  }
 ],
 "metadata": {
  "kernelspec": {
   "display_name": "Python 3",
   "language": "python",
   "name": "python3"
  },
  "language_info": {
   "codemirror_mode": {
    "name": "ipython",
    "version": 3
   },
   "file_extension": ".py",
   "mimetype": "text/x-python",
   "name": "python",
   "nbconvert_exporter": "python",
   "pygments_lexer": "ipython3",
   "version": "3.6.0"
  }
 },
 "nbformat": 4,
 "nbformat_minor": 0
}

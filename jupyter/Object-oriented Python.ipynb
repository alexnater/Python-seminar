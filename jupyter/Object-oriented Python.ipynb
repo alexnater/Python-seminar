{
 "cells": [
  {
   "cell_type": "markdown",
   "metadata": {},
   "source": [
    "<div align=right>\n",
    "<img src=\"img/logosmall.png\" width=\"100px\" align=right>\n",
    "</div>"
   ]
  },
  {
   "cell_type": "markdown",
   "metadata": {},
   "source": [
    "# Object-oriented Python"
   ]
  },
  {
   "cell_type": "markdown",
   "metadata": {},
   "source": [
    "<div class=\"alert alert-warning\">\n",
    "Parts of this section have been adapted from copyrighted material in *Jones, M:\n",
    "Advanced Python for Biologists: A complete programming course for beginners (2013)*.\n",
    "\n",
    "**Please do not distribute it!**"
   ]
  },
  {
   "cell_type": "markdown",
   "metadata": {},
   "source": [
    "## Introduction"
   ]
  },
  {
   "cell_type": "markdown",
   "metadata": {},
   "source": [
    "In all probability you've heard the terms \"object-oriented\" or \"object-oriented programming\" (often shortened as \"OO\" or \"OOP\"), but if you're new to programming you may have been somewhat confused as to what it actually means.  It's certainly a term that has been bandied about a lot — since the mid-90's most widely used programming languages have claimed to be \"object-oriented\", and there are still some hyper-enthusiasts who will claim that it's a miraculous technology that will significantly transform the art of programming, if only it is used correctly — a silver bullet.\n",
    "\n",
    "The truth is unfortunately more mundane:  Object-orientation is neither a particularly foundational concept in computer science, nor is it even very precisely defined.  Most of the programming languages that claim to be \"object-oriented\" understand the term to mean something subtly different.\n",
    "\n",
    "For the purposes of this course, well simply defined object-orientation as a method of designing software systems where data of a specific identifiable type, *as well as* the code that operates on that data, are packaged together in a modular, reusable unit known as an *object*.\n",
    "\n",
    "In one sense, object-orientation is more a matter of software *design* than *implementation*.  Very often, the objects in your code correspond roughly to the physical or conceptual entities represented by your software.  A comprehensive course on object-oriented programming will therefore include a lot of design theory, which is well beyond the scope of this introductory course.\n",
    "\n",
    "Python, too, is one of those languages that claims to be object-oriented, and Python, too, as its own very unique concept of what that means.  In fact, object-orientation runs quite deep in Python and an understanding of the language's *meta-object protocol* (the unique way in which it leverages objects) is key to a full understanding of the language — something most practitioners can only claim after many years of usage.\n",
    "\n",
    "The purpose of this course is **not to teach you full familiarity with Python's object-oriented features**.  However, you cannot go very far with Python without stumbling over object-orientation;  hence, **this course will aim to provide some basic familiarity with these features**."
   ]
  },
  {
   "cell_type": "markdown",
   "metadata": {},
   "source": [
    "## Types as objects in Python"
   ]
  },
  {
   "cell_type": "markdown",
   "metadata": {},
   "source": [
    "By now you know that there are different \"types\" of things in Python — simple things like strings and numbers, as well as compound data structures like lists and dictionaries.  These \"things\" are all *objects*; in fact, we've been using the word \"object\" more often to describe them as the course progressed.\n",
    "\n",
    "The object-oriented facilities of the Python allows you to create your own  objects, custom made to fit the sort of \"things\" that your program has to be able to work with.  This is somewhat analogous to the way that Python provides a slew of built-in, pre-defined functions, but also allows you to create your own custom functions using the `def` keyword.\n",
    "\n",
    "Just like writing our own functions, writing our own objects allows us to structure our code in a way that's much easier to read and write, and hence to write much larger and more sophisticated programs.  Objects are also a powerful *encapsulation* tool;  using them, you can write extremely modular components that you can easily reuse."
   ]
  },
  {
   "cell_type": "markdown",
   "metadata": {},
   "source": [
    "## Object-orientation in Python"
   ]
  },
  {
   "cell_type": "markdown",
   "metadata": {},
   "source": [
    "In Python, you define a new class of object by using the `class` keyword.\n",
    "\n",
    "* A *class* is like a blueprint for building objects of a specific type.\n",
    "\n",
    "* An *instance* is an object which is a physical instantiation of a particular class.\n",
    "\n",
    "Let's say we have the *class* \"motor vehicle\".  It's an abstract (mental) image of what a motor vehicle is, which bits it contains, what it can do, and so forth.\n",
    "\n",
    "If \"motor vehicle\" is a class, then \"my blue Toyota with registration L-PY1234\" is an *instance* of the class \"motor vehicle.  It's a specific, single, physical object that fits the \"motor vehicle\" blueprint.\n",
    "\n",
    "Defining a custom class doesn't cause any instance objects to be created directly, it simply describes what an instance of that class will look like when we do create it. Once we've defined a class, we can create as many *instances* – i.e. as many objects that use that class as a blueprint – as we like."
   ]
  },
  {
   "cell_type": "markdown",
   "metadata": {},
   "source": [
    "## A simple DNA sequence class"
   ]
  },
  {
   "cell_type": "markdown",
   "metadata": {},
   "source": [
    "One of the tricky things about learning object-oriented programming is that much of the value of doing so lies in the ability to create classes that solve **groups of related programming problems** rather than a **single, well-defined problem**.  As we've said, object group together data, and the code that operates on that data.  But which bits of data and code belong together?  *That* is a question of design.  And as we've said, that's somewhat beyond the scope of this course.\n",
    "\n",
    "But as a brief introduction to object-oriented thinking, we'll take a look at a small collection of useful functions and see how we can use them to build up a set of classes for working with biological sequences.\n",
    "\n",
    "Here are two useful functions for working with DNA sequences:"
   ]
  },
  {
   "cell_type": "code",
   "execution_count": null,
   "metadata": {
    "collapsed": true
   },
   "outputs": [],
   "source": [
    "def get_AT(my_dna):\n",
    "    my_dna = my_dna.upper()\n",
    "    length = len(my_dna)\n",
    "    a_count = my_dna.count('A')\n",
    "    t_count = my_dna.count('T')\n",
    "    at_content = (a_count + t_count) / length\n",
    "    return at_content\n",
    "\n",
    "def complement(my_dna):\n",
    "    my_dna = my_dna.upper()\n",
    "    replacement1 = my_dna.replace('A', 't')\n",
    "    replacement2 = replacement1.replace('T', 'a')\n",
    "    replacement3 = replacement2.replace('C', 'g')\n",
    "    replacement4 = replacement3.replace('G', 'c')\n",
    "    return replacement4.upper()"
   ]
  },
  {
   "cell_type": "markdown",
   "metadata": {},
   "source": [
    "The `get_AT()` function returns the AT content of the `my_dna` argument, and the `complement()` function returns the complement.\n",
    "\n",
    "The definitions above were quite verbose and explicit.  I'm going to define both functions more compactly, since we'll see them a lot in this section.\n",
    "\n",
    "For `get_AT()` I will simply collapse five verbose lines into one:"
   ]
  },
  {
   "cell_type": "code",
   "execution_count": 3,
   "metadata": {
    "collapsed": true
   },
   "outputs": [],
   "source": [
    "def get_AT(my_dna):\n",
    "    my_dna = my_dna.upper()\n",
    "    return (my_dna.count('A') + my_dna.count('T')) / len(my_dna)"
   ]
  },
  {
   "cell_type": "markdown",
   "metadata": {},
   "source": [
    "…but for `complement()` I'll use something new:  The `maketrans()` and `translate()` methods of string objects.  I urge you to read the documentation for these methods in your own time:\n",
    "\n",
    "* `maketrans()`: <https://docs.python.org/3/library/stdtypes.html#str.maketrans>\n",
    "* `translate()`: <https://docs.python.org/3/library/stdtypes.html#str.translate>\n",
    "\n",
    "`maketrans()` is used to make a translation table that translates between two sets of characters, and `translate()` applies this translation table:"
   ]
  },
  {
   "cell_type": "code",
   "execution_count": 2,
   "metadata": {
    "collapsed": true
   },
   "outputs": [],
   "source": [
    "def complement(my_dna):\n",
    "    my_dna = my_dna.upper()\n",
    "    complement_table = str.maketrans('ACTG', 'TGAC')\n",
    "    return my_dna.translate(complement_table)"
   ]
  },
  {
   "cell_type": "markdown",
   "metadata": {},
   "source": [
    "Here's a very simple program that calls these two functions and prints out the results:"
   ]
  },
  {
   "cell_type": "code",
   "execution_count": 4,
   "metadata": {
    "scrolled": true
   },
   "outputs": [
    {
     "name": "stdout",
     "output_type": "stream",
     "text": [
      "0.5652173913043478\n",
      "TGACTAGCAATGCATGCTCAGTA\n"
     ]
    }
   ],
   "source": [
    "dna_sequence = \"ACTGATCGTTACGTACGAGTCAT\"\n",
    "print(get_AT(dna_sequence))\n",
    "print(complement(dna_sequence))"
   ]
  },
  {
   "cell_type": "markdown",
   "metadata": {},
   "source": [
    "What if we want to attach a bit of metadata to the sequence – for example, the name of the gene, and the species to which it belongs? We can easily create a couple of new variables when we're dealing with just one sequence:"
   ]
  },
  {
   "cell_type": "code",
   "execution_count": null,
   "metadata": {},
   "outputs": [],
   "source": [
    "dna_sequence = \"ACTGATCGTTACGTACGAGTCAT\"\n",
    "species = \"Drosophila melanogaster\"\n",
    "gene_name = \"ABC1\"\n",
    "\n",
    "print(\"Looking at the\", species, gene_name, \"gene\")\n",
    "print(\"AT content is\", get_AT(dna_sequence))\n",
    "print(\"complement is\", complement(dna_sequence))"
   ]
  },
  {
   "cell_type": "markdown",
   "metadata": {},
   "source": [
    "This obviously will not scale. To store a large collection of sequences along with their gene names and species names requires a different approach. We could create two dictionaries – one to store sequences and gene names, and one to store sequences and species names. But what if we want to store two sequences that are the same, but belong to different species? The dictionary approach won't work, since keys have to be unique. And it seems unlikely that we're going to want to look up the gene name for a given sequence anyway – if anything, it's likely to be the other way round.\n",
    "\n",
    "*What we need in order to solve this problem elegantly is a way of wrapping up all three bits of information – the sequence, gene name, and species name – into one big ball of data which can be treated as a unit.* One way to do this is with a complex data structure – for example, a list of dictionaries, where each dictionary represents a single sequence record and has three items corresponding to the three bits of information we need to store.\n",
    "\n",
    "A much better way is to create a *class* that represents a DNA sequence.  We can then create *instances* of this class, each of which represents a specific DNA sequence, and which can be passed around in our programs as discrete objects.\n",
    "\n",
    "Defning a class is straightforward, but first we have to decide what **instance variables** (or **atributes**) and **methods** it will have. **Instance variables** are simply variables that belong to a particular object (we'll see how to use them soon);  they're often called **attributes**. We already know what **methods** are – we've been using them on many of the built-in Python classes.\n",
    "\n",
    "We want our class to have three instance variables (a DNA sequence, a gene name, and a species name) and two methods (the ones we saw previously: `getAT()` and `complement()`). For this example, our three instance variables are all going to be strings.\n",
    "\n",
    "Here's a first attempt at writing our new class:"
   ]
  },
  {
   "cell_type": "code",
   "execution_count": null,
   "metadata": {
    "collapsed": true
   },
   "outputs": [],
   "source": [
    "class DNARecord():\n",
    "\n",
    "    sequence = 'ACGTAGCTGACGATC'\n",
    "    gene_name = 'ABC1'\n",
    "    species_name = 'Drosophila melanogaster'\n",
    "\n",
    "    def complement(self):\n",
    "        complement_table = str.maketrans('ACTG', 'TGAC')\n",
    "        dna = self.sequence.upper()\n",
    "        return dna.translate(complement_table)\n",
    "    \n",
    "    def get_AT(self):\n",
    "        dna = self.sequence.upper()\n",
    "        return (dna.count('A') + dna.count('T')) / len(dna)"
   ]
  },
  {
   "cell_type": "markdown",
   "metadata": {},
   "source": [
    "There's a lot going on in this code sample, so we'll go through it line by line:\n",
    "\n",
    "* On line 1, we start with the keyword `class`, followed by the name of our class followed by an empty pair of parentheses (don't worry about these for now). This line ends with a colon and, as we might expect, the rest of the class definition is an indented code block.\n",
    "\n",
    "\n",
    "* On lines 3, 4 and 5 we define some attributes of the class – a DNA sequence, a gene name and a species name.\n",
    "\n",
    "\n",
    "* On line 7 we start defining our first method – the `complement()` method. The method definition works just like a function definition, except that it takes as its first argument a special variable called `self`. This `self` variable is how we refer to the *instance* object inside the method – so, to refer to the DNA sequence of the record, we use the variable name `self.sequence`. We don't have to worry about how the `self` variable gets created – Python automatically takes care of setting the value of the self variable whenever we make a method call on our object.  When we call the method, we don't need to supply a value for `self`;  we just give values for the remaining parameters (if any).\n",
    "\n",
    "\n",
    "* We make use of the `self` variable again in the `get_AT()` method, which we start defining on line 12. Notice that the bodies of the two methods are almost exactly the same as the ones from the example at the start of the chapter, except that rather than reading in the DNA sequence from an argument `my_dna`, they get the DNA sequence from the object by referencing `self.sequence`.\n",
    "\n",
    "We can now start to use our new class:"
   ]
  },
  {
   "cell_type": "code",
   "execution_count": null,
   "metadata": {},
   "outputs": [],
   "source": [
    "d = DNARecord()\n",
    "\n",
    "print('Created a record for', d.gene_name, 'from', d.species_name)\n",
    "print('AT is', d.get_AT())\n",
    "print('complement is', d.complement())"
   ]
  },
  {
   "cell_type": "markdown",
   "metadata": {},
   "source": [
    "We create a new **instance** of our `DNARecord` class by writing the name of the class followed by a pair of parentheses — this is exactly the same syntax we use when calling a function!\n",
    "\n",
    "Once the new object has been created, we assign the variable name `d` to it.\n",
    "\n",
    "We can access its attributes using the pattern `variablename.attributename`. So to get the gene name of the `DNARecord` referred to by the variable `d`, we simply write `d.gene_name` (as in line 3).\n",
    "\n",
    "To call a method on our new object, we use the same pattern, as in lines 4 and 5.\n",
    "\n",
    "Compare this example to the previous one. Much of the code is the same, but the structure is very different. The most important difference is in the way that we get information about the sequence. For instance, to get the complement of the DNA sequence in the first example, we call the `complement()` *function* and explicitly pass in the sequence as an argument:\n",
    " \n",
    "```python\n",
    "print(\"complement is\", complement(dna_sequence))\n",
    "```"
   ]
  },
  {
   "cell_type": "markdown",
   "metadata": {},
   "source": [
    "Whereas in the object-oriented version, we \"ask\" the specific DNARecord object referred to by the variable `d` for its complement by calling its own `complement()` *method*:\n",
    "\n",
    "```python\n",
    "print(\"complement is\", d.complement())\n",
    "```"
   ]
  },
  {
   "cell_type": "markdown",
   "metadata": {},
   "source": [
    "…and we don't have to pass in the sequence, because the instance object \"knows\" what its own sequence is — the unique instance object contains its own unique sequence data.  The sequence is part of the instance object — data and code packaged together, as we've said.\n",
    "\n",
    "Remember from earlier sections that the dot (`.`) is Python's *namespace resolution* operator.  An instance object has its own namespace, too, and we use the dot to resolve names in that namespace.\n",
    "\n",
    "Now we've seen what a class definition looks like, let's see what can be done to improve it."
   ]
  },
  {
   "cell_type": "markdown",
   "metadata": {},
   "source": [
    "## Constructors"
   ]
  },
  {
   "cell_type": "markdown",
   "metadata": {},
   "source": [
    "An obvious (and severe!) limitation of the class as we've written it above is that the three attributes – `sequence`, `gene_name` and `species_name` – are set as part of the class definition. This means that *every instance of this class we create will have the same values set for these variables*, which is unlikely to be useful. Of course, once we've created an object we can change its instance variables, so if we want two different DNA records with different properties then we can simply set them after the objects have been created:"
   ]
  },
  {
   "cell_type": "code",
   "execution_count": null,
   "metadata": {},
   "outputs": [],
   "source": [
    "d1 = DNARecord()\n",
    "d1.sequence = 'ATATATTATTATATTATA'\n",
    "d1.gene_name = 'COX1'\n",
    "d1.species_name = 'Homo sapiens'\n",
    "\n",
    "d2 = DNARecord()\n",
    "d2.sequence = 'CGGCGGCGCGGCGCGGCG'\n",
    "d2.gene_name = 'ATP6'\n",
    "d2.species_name = 'Gorilla gorilla'\n",
    "\n",
    "for r in [d1, d2]:\n",
    "    print('Created', r.gene_name, 'from', r.species_name)\n",
    "    print('AT is', r.get_AT())\n",
    "    print('complement is', r.complement())\n",
    "    print()"
   ]
  },
  {
   "cell_type": "markdown",
   "metadata": {},
   "source": [
    "We're using the exact same class definition as above, but this time after creating each `DNARecord` object we set its properties, before using a loop to iterate over the two records and print their information. We can see from the output how the updated values for the member variables are used when we ask for the AT content or for the complement:\n",
    "\n",
    "Note that when we update a member variable of an instance of an object, it only affect that particular instance – when we set the sequence for `d1`, it doesn't affect `d2`, or any other DNARecord objects that might be created.\n",
    "\n",
    "Looking at the above code, it's clear that we are often going to want to set all the variables of an object in one go. In the above code we do this in three separate statements, but we might be tempted to make life easier by creating another method for our object whose job is to set its variables. Here's what it might look like:"
   ]
  },
  {
   "cell_type": "code",
   "execution_count": null,
   "metadata": {},
   "outputs": [],
   "source": [
    "class DNARecord():\n",
    "    \n",
    "    sequence = 'ACGTAGCTGACGATC'\n",
    "    gene_name = 'ABC1'\n",
    "    species_name = 'Drosophila melanogaster'\n",
    "\n",
    "    def complement(self):\n",
    "        complement_table = str.maketrans('ACTG', 'TGAC')\n",
    "        dna = self.sequence.upper()\n",
    "        return dna.translate(complement_table)\n",
    "    \n",
    "    def get_AT(self):\n",
    "        dna = self.sequence.upper()\n",
    "        return (dna.count('A') + dna.count('T')) / len(dna)\n",
    "\n",
    "    def set_variables(self, new_seq, new_gene_name, new_species_name):\n",
    "        self.sequence = new_seq\n",
    "        self.gene_name = new_gene_name\n",
    "        self.species_name = new_species_name\n",
    "\n",
    "d1 = DNARecord()\n",
    "d1.set_variables('ATATATTATTATATTATA','COX1','Homo sapiens')\n",
    "\n",
    "d2 = DNARecord()\n",
    "d2.set_variables('CGGCGGCGCGGCGCGGCG','ATP6','Gorilla gorilla')\n",
    "\n",
    "for r in [d1, d2]:\n",
    "    print('Created', r.gene_name + 'from', r.species_name)\n",
    "    print('AT is', r.get_AT())\n",
    "    print('complement is', r.complement())\n",
    "    print()"
   ]
  },
  {
   "cell_type": "markdown",
   "metadata": {},
   "source": [
    "The new method `set_variables()`, which starts on line 16, follows the normal rule for object methods – the first argument is `self` – and sets the three variables using the remaining arguments. On lines 22 and 25 we can see how this method allows us to set all the variables in one statement – notice how much more convenient this is than setting them one at a time.\n",
    "\n",
    "Now that we've made it so easy to set the variables, there's no need to have them as part of the class definition, so we can tidy up our class by removing them. Everything will still work fine as long as we remember to set the variables for an object after we create it:"
   ]
  },
  {
   "cell_type": "code",
   "execution_count": null,
   "metadata": {},
   "outputs": [],
   "source": [
    "class DNARecord():\n",
    "\n",
    "    def complement(self):\n",
    "        complement_table = str.maketrans('ACTG', 'TGAC')\n",
    "        dna = self.sequence.upper()\n",
    "        return dna.translate(complement_table)\n",
    "    \n",
    "    def get_AT(self):\n",
    "        dna = self.sequence.upper()\n",
    "        return (dna.count('A') + dna.count('T')) / len(dna)\n",
    "\n",
    "    def set_variables(self, new_seq, new_gene_name, new_species_name):\n",
    "        self.sequence = new_seq\n",
    "        self.gene_name = new_gene_name\n",
    "        self.species_name = new_species_name\n",
    "\n",
    "d1 = DNARecord()\n",
    "d1.set_variables('ATATATTATTATATTATA','COX1','Homo sapiens')\n",
    "\n",
    "d2 = DNARecord()\n",
    "d2.set_variables('CGGCGGCGCGGCGCGGCG','ATP6','Gorilla gorilla')\n",
    "\n",
    "for r in [d1, d2]:\n",
    "    print('Created', r.gene_name + 'from', r.species_name)\n",
    "    print('AT is', r.get_AT())\n",
    "    print('complement is', r.complement())\n",
    "    print()"
   ]
  },
  {
   "cell_type": "markdown",
   "metadata": {},
   "source": [
    "However, this allows us to get into difficulties if we accidentally try to use a newly-created object before its variables have been set:"
   ]
  },
  {
   "cell_type": "code",
   "execution_count": null,
   "metadata": {},
   "outputs": [],
   "source": [
    "d1 = DNARecord()\n",
    "print(d1.complement())"
   ]
  },
  {
   "cell_type": "markdown",
   "metadata": {},
   "source": [
    "The above code gives us an error letting us know that Python can't find the sequence in order to calculate the complement.  In fact, having a DNARecord object that doesn't contain a sequence is rather pointless.  Preferably, we'd like to assign a value to the `sequence` attribute of a DNARecord instance at the very moment it is instantiated (i.e. created from the class template).\n",
    "\n",
    "A Python class can have a special kind of method konwn as a *constructor*. The job of a constructor is run some initial \"set-up\" code when an objects of that class is instantiated;  for instance, code that assigns some required attributes their values:"
   ]
  },
  {
   "cell_type": "code",
   "execution_count": null,
   "metadata": {},
   "outputs": [],
   "source": [
    "class DNARecord():\n",
    "\n",
    "    def __init__(self, sequence, gene_name, species_name):\n",
    "        self.sequence = sequence\n",
    "        self.gene_name = gene_name\n",
    "        self.species_name = species_name\n",
    "\n",
    "    def complement(self):\n",
    "        complement_table = str.maketrans('ACTG', 'TGAC')\n",
    "        dna = self.sequence.upper()\n",
    "        return dna.translate(complement_table)\n",
    "    \n",
    "    def get_AT(self):\n",
    "        dna = self.sequence.upper()\n",
    "        return (dna.count('A') + dna.count('T')) / len(dna)\n",
    "            \n",
    "d1 = DNARecord('ATATATTATTATATTATA', 'COX1', 'Homo sapiens')\n",
    "print(d1.complement())"
   ]
  },
  {
   "cell_type": "markdown",
   "metadata": {},
   "source": [
    "The constructor method has an unusual name – two underscores, followed by the word `init`, followed by another two underscores. This special name tells Python that this isn't just another ordinary method, but one that has a special job.\n",
    "\n",
    "The special function `__init__()` is, as we've said, the *constructor*.  A constructor is a special method of a class that you don't call explicitly;  instead, Python implicitly calls the contructor whenever the class is *instantiated* (that is, when a new instance object is created based on the class).\n",
    "\n",
    "Notice that when we create our `DNARecord` object in line 17 we simply pass in the values we intend as arguments to the constructor — as arguments to the call to `DNARecord` itself.\n",
    "\n",
    "Python takes care of creating the object, running the `__init__` method, and returning the newly-created object all in one go. Now, if we try to create a `DNARecord` object without telling Python what we want it's member variables to be:"
   ]
  },
  {
   "cell_type": "code",
   "execution_count": null,
   "metadata": {
    "scrolled": true
   },
   "outputs": [],
   "source": [
    "d2 = DNARecord()"
   ]
  },
  {
   "cell_type": "markdown",
   "metadata": {},
   "source": [
    "…we get an error right away.\n",
    "\n",
    "It's worth pausing at this point and comparing the object-oriented code we get when using the class definition above with the procedural code we saw at the start of the chapter. In this bit of code we're not looking at the function definitions, or the class definition, we're just looking at how they are used:"
   ]
  },
  {
   "cell_type": "code",
   "execution_count": null,
   "metadata": {},
   "outputs": [],
   "source": [
    "# procedural code\n",
    "dna_sequence = \"ACTGATCGTTACGTACGAGT\"\n",
    "species = \"Drosophila melanogaster\"\n",
    "gene_name = \"ABC1\"\n",
    "print(\"Looking at the\", species, gene_name, \"gene\")\n",
    "print(\"AT content is\", get_AT(dna_sequence))\n",
    "print(\"complement is\", complement(dna_sequence))\n",
    "\n",
    "print()\n",
    "\n",
    "# object-oriented code\n",
    "d1 = DNARecord(\"ACTGATCGTTACGTACGAGT\", \"ABC1\", \"Drosophila melanogaster\")\n",
    "print(\"Looking at the\", d1.species_name, d1.gene_name, \"gene\")\n",
    "print(\"AT content is\", d1.get_AT())\n",
    "print(\"complement is\", d1.complement())"
   ]
  },
  {
   "cell_type": "markdown",
   "metadata": {},
   "source": [
    "Notice the difference in *how the data are stored*, and *how they are processed*. In the procedural code, we create three variables to hold the three bits of data, and then pass them to the functions to get the answers we want. In the object-oriented style, we package up the three bits of data into one object, then ask the object for the answers we want. The object is responsible for both storing its own variables, and calculating the AT and complement. In other words, when we want to know the AT content of a `DNARecord` object, we don't ask for the sequence and then pass it to a function, we simply ask for the AT content directly, and it's the object's job to tell us.\n",
    "\n",
    "Again, the data and the code working on that data has been packaged together into one bundle — the object.\n",
    "\n",
    "Once we've defined a new class, it behaves just the same as a built-in class – for our purposes there's no difference in how we use a `DNARecord` object compared to a file object or a string object. We can store a `DNARecord` object in a variable, or we can store it in a list or dictionary.  We can pass it as an argument to a function or method, and we can return it from a function or method.\n",
    "\n",
    "For example, here's a function that takes a `DNARecord` as an argument and returns the protein translation as a string:"
   ]
  },
  {
   "cell_type": "code",
   "execution_count": null,
   "metadata": {
    "collapsed": true
   },
   "outputs": [],
   "source": [
    "def translate_dna(dna_record):\n",
    "    gencode = {\n",
    "       'ATA':'I', 'ATC':'I', 'ATT':'I', 'ATG':'M',\n",
    "       'ACA':'T', 'ACC':'T', 'ACG':'T', 'ACT':'T',\n",
    "       'AAC':'N', 'AAT':'N', 'AAA':'K', 'AAG':'K',\n",
    "       'AGC':'S', 'AGT':'S', 'AGA':'R', 'AGG':'R',\n",
    "       'CTA':'L', 'CTC':'L', 'CTG':'L', 'CTT':'L',\n",
    "       'CCA':'P', 'CCC':'P', 'CCG':'P', 'CCT':'P',\n",
    "       'CAC':'H', 'CAT':'H', 'CAA':'Q', 'CAG':'Q',\n",
    "       'CGA':'R', 'CGC':'R', 'CGG':'R', 'CGT':'R',\n",
    "       'GTA':'V', 'GTC':'V', 'GTG':'V', 'GTT':'V',\n",
    "       'GCA':'A', 'GCC':'A', 'GCG':'A', 'GCT':'A',\n",
    "       'GAC':'D', 'GAT':'D', 'GAA':'E', 'GAG':'E',\n",
    "       'GGA':'G', 'GGC':'G', 'GGG':'G', 'GGT':'G',\n",
    "       'TCA':'S', 'TCC':'S', 'TCG':'S', 'TCT':'S',\n",
    "       'TTC':'F', 'TTT':'F', 'TTA':'L', 'TTG':'L',\n",
    "       'TAC':'Y', 'TAT':'Y', 'TAA':'_', 'TAG':'_',\n",
    "       'TGC':'C', 'TGT':'C', 'TGA':'_', 'TGG':'W'}\n",
    "    last_codon_start = len(dna_record.sequence) - 2\n",
    "    protein = \"\"\n",
    "    for start in range(0, last_codon_start, 3):\n",
    "        codon = dna_record.sequence[start:start+3]\n",
    "        aa = gencode.get(codon.upper(), 'X')\n",
    "        protein = protein + aa\n",
    "    return protein"
   ]
  },
  {
   "cell_type": "markdown",
   "metadata": {},
   "source": [
    "## Inheritance"
   ]
  },
  {
   "cell_type": "markdown",
   "metadata": {},
   "source": [
    "What other useful methods could we add to our `DNARecord` class? How about a method which returns the record in FASTA format.\n",
    "\n",
    "We'll combine the `gene_name` and `species_name` member variables to construct the header, replacing any spaces in the species name with underscores. We add a greater-than symbol at the start, and separate the header and sequence with a newline character:"
   ]
  },
  {
   "cell_type": "code",
   "execution_count": null,
   "metadata": {},
   "outputs": [],
   "source": [
    "class DNARecord():\n",
    "    \n",
    "    def __init__(self, sequence, gene_name, species_name):\n",
    "        self.sequence = sequence\n",
    "        self.gene_name = gene_name\n",
    "        self.species_name = species_name\n",
    "\n",
    "    def complement(self):\n",
    "        complement_table = str.maketrans('ACTG', 'TGAC')\n",
    "        dna = self.sequence.upper()\n",
    "        return dna.translate(complement_table)\n",
    "    \n",
    "    def get_AT(self):\n",
    "        dna = self.sequence.upper()\n",
    "        return (dna.count('A') + dna.count('T')) / len(dna)\n",
    "\n",
    "    def get_fasta(self):\n",
    "        safe_species_name = self.species_name.replace(' ', '_')\n",
    "        header = \">{}_{}\".format(self.gene_name, safe_species_name)\n",
    "        return \"{}\\n{}\\n\".format(header, self.sequence)"
   ]
  },
  {
   "cell_type": "markdown",
   "metadata": {},
   "source": [
    "A quick check will allow us to make sure that the method's working as expected:"
   ]
  },
  {
   "cell_type": "code",
   "execution_count": null,
   "metadata": {},
   "outputs": [],
   "source": [
    "d1 = DNARecord('ATATATTATTATATTATA', 'COX1', 'Homo sapiens')\n",
    "print(d1.get_fasta())"
   ]
  },
  {
   "cell_type": "markdown",
   "metadata": {},
   "source": [
    "We now have a `DNARecord` object that can do **three** useful things:\n",
    "                                                                           \n",
    "* calculate its AT content\n",
    "* calculate its complement\n",
    "* generate a FASTA format string\n",
    "\n",
    "We can write programs to carry out simple bioinformatics tasks using this object. For example, if we have a list of `DNARecord` objects, we can generate a FASTA file containing just the sequences with a high AT content:\n",
    "\n",
    "```python\n",
    "with open(\"high_at.fasta\", \"w\") as output:\n",
    "    for d in my_dna_records:\n",
    "        if d.get_AT() > 0.6:\n",
    "            output.write(d.get_fasta())\n",
    "```"
   ]
  },
  {
   "cell_type": "markdown",
   "metadata": {},
   "source": [
    "Now that we've seen how useful objects can be, we might want to create a similar class to represent a protein record – let's call it `ProteinRecord` for consistency. Just like the `DNARecord class`, it will have a `gene_name`, a `species_name`, and a `sequence`. What methods should our `ProteinRecord` class have? Obviously it doesn't make any sense to ask for the complement of a protein sequence, or to ask for its AT content. Instead, we'll give it a method that calculates the proportion of the amino acid residues that are hydrophobic. We'll also include the method that generates the FASTA sequence – since DNA and protein FASTA formats look the same, we can just re-use our `get_fasta()` method.\n",
    "\n",
    "Here's a first attempt at the code for our `ProteinRecord` class:"
   ]
  },
  {
   "cell_type": "code",
   "execution_count": null,
   "metadata": {
    "collapsed": true
   },
   "outputs": [],
   "source": [
    "class ProteinRecord():\n",
    "    \n",
    "    def __init__(self, sequence, gene_name, species_name):\n",
    "        self.sequence = sequence\n",
    "        self.gene_name = gene_name\n",
    "        self.species_name = species_name\n",
    "\n",
    "    def get_fasta(self):\n",
    "        safe_species_name = self.species_name.replace(' ', '_')\n",
    "        header = \">{}_{}\".format(self.gene_name, safe_species_name)\n",
    "        return \"{}\\n{}\\n\".format(header, self.sequence)\n",
    "    \n",
    "    def get_hydrophobic(self):\n",
    "        aa_list = \"AILMFWYV\"\n",
    "        hp_count = sum(1 for r in self.sequence.upper() if r in aa_list)\n",
    "        return hp_count / len(self.sequence) * 100"
   ]
  },
  {
   "cell_type": "markdown",
   "metadata": {},
   "source": [
    "There's nothing going on here that's particularly different to what we had in our `DNARecord` class. We still have a constructor that handles the job of setting the instance variables and the same `get_fasta` method that handles the job of creating a FASTA format string. We also have the new `get_hydrophobic` method whose job is to calculate the percentage of hydrophobic residues in the sequence. Here's a few lines of code showing how everything works:"
   ]
  },
  {
   "cell_type": "code",
   "execution_count": null,
   "metadata": {},
   "outputs": [],
   "source": [
    "d1 = ProteinRecord('MSRSLLLRFLLFLLLLPPLP', 'COX1', 'Homo sapiens')\n",
    "print(d1.get_fasta())\n",
    "print(str(d1.get_hydrophobic()))"
   ]
  },
  {
   "cell_type": "markdown",
   "metadata": {},
   "source": [
    "Everything seems to be working perfectly. The only thing that feels slightly unsatisfactory is that we have the exact same `get_fasta()` code duplicated in both the `DNARecord` and `ProteinRecord` class definitions. This feels wrong; we know from previous experience that code reuse is a Good Thing, and that having the exact same code defined in two places is a Bad Thing. We could get round this by moving the `get_fasta()` code to a method outside the class definitions and have it called by the classes, but that would break the encapsulation – the objects would no longer be responsible for generating their own FASTA sequence.\n",
    "\n",
    "The key to resolving this problem is to take advantage of an object-oriented feature called *inheritance*. Inheritance allows two different classes – in our case, `DNARecord` and `ProteinRecord` – to share code. The way it works is quite straightforward: we create a third class to hold the shared code, and then tell Python that the two classes should inherit methods from it. This third class is called the *superclass* (or *base class*) of the other two, and the other two are called *subclasses* (or *derived classes*) of the third one. We'll call our third class `SequenceRecord`, and it will hold the methods (`__init__()` and `get_fasta()`) that are common to both `DNARecord` and `ProteinRecord`:\n",
    "\n",
    "![class diagram](img/class_diag.png)"
   ]
  },
  {
   "cell_type": "code",
   "execution_count": null,
   "metadata": {
    "collapsed": true
   },
   "outputs": [],
   "source": [
    " class SequenceRecord():\n",
    "        \n",
    "    def __init__(self, sequence, gene_name, species_name):\n",
    "        self.sequence = sequence\n",
    "        self.gene_name = gene_name\n",
    "        self.species_name = species_name\n",
    "\n",
    "    def get_fasta(self):\n",
    "        safe_species_name = self.species_name.replace(' ', '_')\n",
    "        header = \">{}_{}\".format(self.gene_name, safe_species_name)\n",
    "        return \"{}\\n{}\\n\".format(header, self.sequence)"
   ]
  },
  {
   "cell_type": "markdown",
   "metadata": {},
   "source": [
    "So far, so familiar: `SequenceRecord` is just another class definition. But here's where it gets interesting – we'll rewrite the class definitions of `DNARecord` and `ProteinRecord` so that they inherit from this class. To do this, we just change the content of the parentheses after `DNARecord` in the class definition to `SequenceRecord`, and include only the methods that we want to belong just to our `DNARecord` class – `complement()` and `get_AT()`:"
   ]
  },
  {
   "cell_type": "code",
   "execution_count": null,
   "metadata": {
    "collapsed": true
   },
   "outputs": [],
   "source": [
    "class DNARecord(SequenceRecord):\n",
    "    \n",
    "    def complement(self):\n",
    "        complement_table = str.maketrans('ACTG', 'TGAC')\n",
    "        dna = self.sequence.upper()\n",
    "        return dna.translate(complement_table)\n",
    "\n",
    "    def get_AT(self):\n",
    "        dna = self.sequence.upper()\n",
    "        return (dna.count('A') + dna.count('T')) / len(dna)    "
   ]
  },
  {
   "cell_type": "markdown",
   "metadata": {},
   "source": [
    "Likewise, for the ProteinRecord class definition we supply the name of the superclass – `SequenceRecord` – and the definition of the `get_hydrophobic()` function:\n",
    "  "
   ]
  },
  {
   "cell_type": "code",
   "execution_count": null,
   "metadata": {
    "collapsed": true
   },
   "outputs": [],
   "source": [
    "class ProteinRecord(SequenceRecord):\n",
    "        \n",
    "    def get_hydrophobic(self):\n",
    "        aa_list = \"AILMFWYV\"\n",
    "        hp_count = sum(1 for r in self.sequence.upper() if r in aa_list)\n",
    "        return hp_count / len(self.sequence) * 100"
   ]
  },
  {
   "cell_type": "markdown",
   "metadata": {},
   "source": [
    "Let's look at where this leaves us. We have one base class – `SequenceRecord` – which holds the methods (the `__init__()` constructor and `get_fasta()`) which are common to both sequence types. Then we have two subclasses – `DNARecord` and `ProteinRecord` – that inherit these methods, and add their own.\n",
    "\n",
    "Let's look at the object-oriented code in full.  In fact, lets make one more optimisation:  Since we always convert the sequence to uppercase before using it, let's just store it as an uppercase string in the instance object (by doing the conversion in the constructor).  This means the uppercase conversion only happens once when the object is instantiated, and not every time `complement()`, `get_AT()` or `get_hydrophobic()` is called."
   ]
  },
  {
   "cell_type": "code",
   "execution_count": null,
   "metadata": {
    "collapsed": true
   },
   "outputs": [],
   "source": [
    "class SequenceRecord(object):\n",
    "    \n",
    "    def __init__(self, sequence, gene_name, species_name):\n",
    "        self.sequence = sequence.upper()\n",
    "        self.gene_name = gene_name\n",
    "        self.species_name = species_name\n",
    "        \n",
    "    def get_fasta(self):\n",
    "        safe_species_name = self.species_name.replace(' ', '_')\n",
    "        header = \">{}_{}\".format(self.gene_name, safe_species_name)\n",
    "        return \"{}\\n{}\\n\".format(header, self.sequence)\n",
    "    \n",
    "    \n",
    "class ProteinRecord(SequenceRecord):\n",
    "    \n",
    "    def get_hydrophobic(self):\n",
    "        aa_list = \"AILMFWYV\"\n",
    "        hp_count = sum(1 for r in self.sequence if r in aa_list)\n",
    "        return hp_count / len(self.sequence) * 100\n",
    "\n",
    "\n",
    "class DNARecord(SequenceRecord):\n",
    "    \n",
    "    def complement(self):\n",
    "        complement_table = str.maketrans('ACTG', 'TGAC')\n",
    "        return self.sequence.translate(complement_table)\n",
    "\n",
    "    def get_AT(self):\n",
    "        dna = self.sequence\n",
    "        return (dna.count('A') + dna.count('T')) / len(dna)"
   ]
  },
  {
   "cell_type": "markdown",
   "metadata": {},
   "source": [
    ">Leaving two blank lines between class definitions and one blank line between function (or method) definitions is considered good Python style.\n",
    "\n",
    "The benefit of structuring things in this way is that all our methods are only defined once, but can be used by all the appropriate classes, allowing us to easily mix and match different sequence types in a script:"
   ]
  },
  {
   "cell_type": "code",
   "execution_count": null,
   "metadata": {},
   "outputs": [],
   "source": [
    "p1 = ProteinRecord('MSRSLLLRFLLFLLLLPPLP', 'COX1', 'Homo sapiens')\n",
    "print(p1.get_fasta())\n",
    "print(p1.get_hydrophobic())\n",
    "\n",
    "d1 = DNARecord('ATCGCGTACGTGATCGTAG', 'COX1', 'Homo sapiens')\n",
    "print(d1.get_fasta())\n",
    "print(d1.complement())"
   ]
  },
  {
   "cell_type": "markdown",
   "metadata": {},
   "source": [
    "Notice how in this example, we only ever create instances of the subclasses – `DNARecord` and `ProteinRecord`. We never create an instance of `SequenceRecord` directly. (In OO terminology, `SequenceRecord` is an *abstract* base class — one that is not meant to be instantiated, but only as something from which other classes are to be derived.)\n",
    "\n",
    "By way of illustration, here's a modified version of our translation function that takes a `DNARecord` as its argument and returns a `ProteinRecord`:"
   ]
  },
  {
   "cell_type": "code",
   "execution_count": null,
   "metadata": {
    "collapsed": true
   },
   "outputs": [],
   "source": [
    " def translate_dna(dna_record):\n",
    "    gencode = {\n",
    "       'ATA':'I', 'ATC':'I', 'ATT':'I', 'ATG':'M',\n",
    "       'ACA':'T', 'ACC':'T', 'ACG':'T', 'ACT':'T',\n",
    "       'AAC':'N', 'AAT':'N', 'AAA':'K', 'AAG':'K',\n",
    "       'AGC':'S', 'AGT':'S', 'AGA':'R', 'AGG':'R',\n",
    "       'CTA':'L', 'CTC':'L', 'CTG':'L', 'CTT':'L',\n",
    "       'CCA':'P', 'CCC':'P', 'CCG':'P', 'CCT':'P',\n",
    "       'CAC':'H', 'CAT':'H', 'CAA':'Q', 'CAG':'Q',\n",
    "       'CGA':'R', 'CGC':'R', 'CGG':'R', 'CGT':'R',\n",
    "       'GTA':'V', 'GTC':'V', 'GTG':'V', 'GTT':'V',\n",
    "       'GCA':'A', 'GCC':'A', 'GCG':'A', 'GCT':'A',\n",
    "       'GAC':'D', 'GAT':'D', 'GAA':'E', 'GAG':'E',\n",
    "       'GGA':'G', 'GGC':'G', 'GGG':'G', 'GGT':'G',\n",
    "       'TCA':'S', 'TCC':'S', 'TCG':'S', 'TCT':'S',\n",
    "       'TTC':'F', 'TTT':'F', 'TTA':'L', 'TTG':'L',\n",
    "       'TAC':'Y', 'TAT':'Y', 'TAA':'_', 'TAG':'_',\n",
    "       'TGC':'C', 'TGT':'C', 'TGA':'_', 'TGG':'W'}\n",
    "    last_codon_start = len(dna_record.sequence) - 2\n",
    "    protein = \"\"\n",
    "    for start in range(0, last_codon_start, 3):\n",
    "        codon = dna_record.sequence[start:start+3]\n",
    "        aa = gencode.get(codon.upper(), 'X')\n",
    "        protein = protein + aa\n",
    "        \n",
    "    # gather the information to create the protein record\n",
    "    protein_name = dna_record.gene_name\n",
    "    protein_species = dna_record.species_name\n",
    "    \n",
    "    # create the protein record and return it\n",
    "    protein_record = ProteinRecord(protein, protein_name, protein_species)\n",
    "    return protein_record"
   ]
  },
  {
   "cell_type": "markdown",
   "metadata": {},
   "source": [
    "## Overriding"
   ]
  },
  {
   "cell_type": "markdown",
   "metadata": {},
   "source": [
    "Occasionally we'll want a subclass to behave in a slightly different way to its superclass – the mechanism that allows us to do this is called *overriding*. Suppose that we want our `DNARecord` objects to have a `genetic_code` variable, which stores the number of the genetic code for the sequence using the [NCBI numbering scheme](http://www.ncbi.nlm.nih.gov/Taxonomy/Utils/wprintgc.cgi). We cannot simply add this variable to the constructor for the `SequenceRecord` class, as it doesn't make sense to have a genetic code for a protein sequence. Instead, what we need to do is supply the `DNARecord` class with its very own, specialized constructor, which will take a genetic code as one of its arguments. That way, when we create a new DNARecord object the `__init__()` method defined in `DNARecord` will be used, but when we call `get_fasta()` on the object, it will still use the method defined in `SequenceRecord`.\n",
    "\n",
    "Let's look at the code:"
   ]
  },
  {
   "cell_type": "code",
   "execution_count": null,
   "metadata": {
    "collapsed": true
   },
   "outputs": [],
   "source": [
    "class DNARecord(SequenceRecord):\n",
    "    \n",
    "    def __init__(self, sequence, gene_name, species_name, genetic_code):\n",
    "        self.sequence = sequence.upper()\n",
    "        self.gene_name = gene_name\n",
    "        self.species_name = species_name\n",
    "        self.genetic_code = genetic_code\n",
    "    \n",
    "    def complement(self):\n",
    "        complement_table = str.maketrans('ACTG', 'TGAC')\n",
    "        return self.sequence.translate(complement_table)\n",
    "\n",
    "    def get_AT(self):\n",
    "        dna = self.sequence\n",
    "        return (dna.count('A') + dna.count('T')) / len(dna)"
   ]
  },
  {
   "cell_type": "markdown",
   "metadata": {},
   "source": [
    "We can now create `DNARecord` objects using four initial variables – a gene name, a species name, a sequence, and a genetic code:"
   ]
  },
  {
   "cell_type": "code",
   "execution_count": null,
   "metadata": {},
   "outputs": [],
   "source": [
    "d1 = DNARecord('ATCGCGTACGTGATCGTAG', 'COX1', 'Homo sapiens', 5)\n",
    "print(d1.get_fasta())\n",
    "print(d1.complement())\n",
    "print('genetic code is', d1.genetic_code)"
   ]
  },
  {
   "cell_type": "markdown",
   "metadata": {},
   "source": [
    "The definition of the `__init__()` method in DNARecord is said to *override* the one in `SequenceRecord`. Of course, it's not just constructors that can be overridden in this way – we can do the same for any method."
   ]
  },
  {
   "cell_type": "markdown",
   "metadata": {},
   "source": [
    "## Calling methods in the superclass"
   ]
  },
  {
   "cell_type": "markdown",
   "metadata": {},
   "source": [
    "The above example is straightforward, because we wanted to entirely replace the superclass method with a new one. What if instead, we wanted to add some specialized functionality to the derived classes? For example, imagine that we decide to add a bit of error-checking to the SequenceRecord constructor. We would like to make sure that the species name provided in the constructor arguments really does look like a species name. It should have two parts separated by a space, and the first part should start with a capital letter.\n",
    "\n",
    "We can write a regular expression to describe this pattern, and then if the given species name doesn't match it, exit the program with an error message. Here's the code:"
   ]
  },
  {
   "cell_type": "code",
   "execution_count": null,
   "metadata": {},
   "outputs": [],
   "source": [
    "import re\n",
    "\n",
    "class SequenceRecord(object):\n",
    "    \n",
    "    def __init__(self, sequence, gene_name, species_name):\n",
    "        assert re.match(r'[A-Z][a-z]+ [a-z]+', species_name), \\\n",
    "               species_name + ' is not a valid species name!'\n",
    "        self.sequence = sequence.upper()\n",
    "        self.gene_name = gene_name\n",
    "        self.species_name = species_name\n",
    "\n",
    "    def get_fasta(self):\n",
    "        safe_species_name = self.species_name.replace(' ', '_')\n",
    "        header = \">{}_{}\".format(self.gene_name, safe_species_name)\n",
    "        return \"{}\\n{}\\n\".format(header, self.sequence)"
   ]
  },
  {
   "cell_type": "markdown",
   "metadata": {},
   "source": [
    "This works fine, but we run into a problem – we would like this functionality to be shared by all subclasses of `SequenceRecord` (i.e. both `DNARecord` and `ProteinRecord`). However, recall that we just added a specialized constructor for `DNARecord` in order to allow it to have a genetic code. When we create a new instance of `DNARecord`, it is the specialized constructor that runs, not the one in `SequenceRecord`, so `DNARecord` can't take advantage of this useful species name checking functionality.  The constructor of `SequenceRecord` has been *overridden* by the constructor in `DNARecord`.\n",
    "\n",
    "What we would really like to be able to do is to call the `SequenceRecord` constructor from inside the `DNARecord` constructor, and only then add on the extra `genetic_code` variable. Fortunately, Python has a built-in mechanism to allow this – we can call the `SequenceRecord` constructor directly by calling `SequenceRecord.__init__()`. Here's how it works in practice:"
   ]
  },
  {
   "cell_type": "code",
   "execution_count": null,
   "metadata": {
    "collapsed": true
   },
   "outputs": [],
   "source": [
    "class DNARecord(SequenceRecord):\n",
    "    \n",
    "    def __init__(self, sequence, gene_name, species_name, genetic_code):\n",
    "        \n",
    "        # first call the SequenceRecord constructor to check the species name\n",
    "        # and set the sequence, gene_name and species_name variables\n",
    "        SequenceRecord.__init__(self, sequence, gene_name, species_name)\n",
    "        \n",
    "        # now set the genetic code variable\n",
    "        self.genetic_code = genetic_code\n",
    "\n",
    "    def complement(self):\n",
    "        complement_table = str.maketrans('ACTG', 'TGAC')\n",
    "        return self.sequence.translate(complement_table)\n",
    "\n",
    "    def get_AT(self):\n",
    "        dna = self.sequence\n",
    "        return (dna.count('A') + dna.count('T')) / len(dna)"
   ]
  },
  {
   "cell_type": "markdown",
   "metadata": {},
   "source": [
    "Now we have the best of both worlds. Our DNARecord class is able to take advantage of the improvements to the SequenceRecord constructor, and still implement its own specialized behaviour.\n",
    "\n",
    "There's still one problem, though:  The code above depends on the fact that the name of `DNARecord`'s base class (or *superclass*) is `SequenceReord`.  If we were to change the name of the superclass, we'd have to change all references to it in its child classes.\n",
    "\n",
    "Fortunately we can get around that by using the built-in function `super()`, which allows us to find the superclass of a class:"
   ]
  },
  {
   "cell_type": "code",
   "execution_count": null,
   "metadata": {
    "collapsed": true
   },
   "outputs": [],
   "source": [
    "class DNARecord(SequenceRecord):\n",
    "    \n",
    "    def __init__(self, sequence, gene_name, species_name, genetic_code):\n",
    "        \n",
    "        # first call the SequenceRecord constructor to check the species name\n",
    "        # and set the sequence, gene_name and species_name variables\n",
    "        super().__init__(self, sequence, gene_name, species_name)\n",
    "        \n",
    "        # now set the genetic code variable\n",
    "        self.genetic_code = genetic_code\n",
    "\n",
    "    def complement(self):\n",
    "        complement_table = str.maketrans('ACTG', 'TGAC')\n",
    "        return self.sequence.translate(complement_table)\n",
    "\n",
    "    def get_AT(self):\n",
    "        dna = self.sequence\n",
    "        return (dna.count('A') + dna.count('T')) / len(dna)"
   ]
  },
  {
   "cell_type": "markdown",
   "metadata": {},
   "source": [
    "## Polymorphism"
   ]
  },
  {
   "cell_type": "markdown",
   "metadata": {},
   "source": [
    "Polymorphism is a complicated name for a simple concept: code that does different things depending on the type of data on which it's operating. If you've ever written more than a handful of Python programs then you've already taken advantage of polymorphism, even if you don't realize it. Think about the len() function – you can run it on a string, or a list, or a dict:"
   ]
  },
  {
   "cell_type": "code",
   "execution_count": null,
   "metadata": {},
   "outputs": [],
   "source": [
    "print(len('ATGC'))\n",
    "print(len([2,4,6,8]))\n",
    "print(len({'a': 'b', 'c': 'd', 'e': 'f', 'g': 'h'}))"
   ]
  },
  {
   "cell_type": "markdown",
   "metadata": {},
   "source": [
    "…and it magically gives the correct answer, even though the types of data on which is is operating is different each time. Polymorphism is what allows this to work.\n",
    "\n",
    "Here's a somewhat contrived biological example: imagine that we want to add a method to our sequence objects that will return the length of the protein sequence that they represent. Obviously we are going to need a different method for DNA and protein sequences – for protein sequences, we just need to return the length of the sequence variable, but for DNA sequences we need to return the length of the sequence variable divided by three. Because we need different methods for each type of sequence, we can't add the method to the `SequenceRecord` class definition, but must instead add it separately to both the `DNARecord` and `ProteinRecord` class de nitions:"
   ]
  },
  {
   "cell_type": "code",
   "execution_count": null,
   "metadata": {
    "collapsed": true
   },
   "outputs": [],
   "source": [
    "class ProteinRecord(SequenceRecord):\n",
    "    \n",
    "    def get_protein_length(self):\n",
    "        return len(self.sequence)\n",
    "    \n",
    "    def get_hydrophobic(self):\n",
    "        aa_list = \"AILMFWYV\"\n",
    "        hp_count = sum(1 for r in self.sequence if r in aa_list)\n",
    "        return hp_count / len(self.sequence) * 100\n",
    "\n",
    "    \n",
    "class DNARecord(SequenceRecord):\n",
    "    \n",
    "    # protein sequence length is one third the DNA sequence length\n",
    "    def get_protein_length(self):\n",
    "        return len(self.sequence) // 3\n",
    "     \n",
    "    def complement(self):\n",
    "        complement_table = str.maketrans('ACTG', 'TGAC')\n",
    "        return self.sequence.translate(complement_table)\n",
    "\n",
    "    def get_AT(self):\n",
    "        dna = self.sequence\n",
    "        return (dna.count('A') + dna.count('T')) / len(dna)"
   ]
  },
  {
   "cell_type": "markdown",
   "metadata": {},
   "source": [
    "Now suppose that we have a list of sequence records that are a mixture of DNA and protein sequences, and we want to do something to just the ones whose protein length is greater than one hundred amino acid residues. Rather than having to examine each record and check whether it is a DNARecord or a ProteinRecord, we can simply call the `get_protein_length()` method on each, and Python will take care of making sure that the correct method is called:\n",
    "\n",
    "```python\n",
    "for my_record in list_of_records:\n",
    "    if my_record.get_protein_length() > 100:\n",
    "        # do something with the record\n",
    "```"
   ]
  },
  {
   "cell_type": "markdown",
   "metadata": {},
   "source": [
    "This approach to programming is very powerful, because it allows us to write a single piece of code that can operate on many different types of data."
   ]
  },
  {
   "cell_type": "markdown",
   "metadata": {},
   "source": [
    "---"
   ]
  },
  {
   "cell_type": "markdown",
   "metadata": {},
   "source": [
    "## Worked-out example"
   ]
  },
  {
   "cell_type": "markdown",
   "metadata": {},
   "source": [
    ">As I've said at the beginning, I want you to be *aware* of Python's object-oriented features more than I expect you to be able to *use* them.  Hence, this time we won't include an exercise but rather a longer, fully worked-out *example*."
   ]
  },
  {
   "cell_type": "markdown",
   "metadata": {},
   "source": [
    "### Problem statement"
   ]
  },
  {
   "cell_type": "markdown",
   "metadata": {},
   "source": [
    "Write an object-oriented program that simulates evolution at three loci in a population of one hundred haploid individuals.\n",
    "\n",
    "Each locus has two alleles which differ slightly in fitness and the overall fitness for an individual can be calculated from the fitness of its three loci using a multiplicative model (i.e. if the fitness scores for the alleles of a given individual are 1, 0.9 and 0.8 then the individual's fitness is 1 * 0.9 * 0.8 = 0.72).\n",
    "\n",
    "In every generation, the simulation proceeds in two stages:\n",
    "\n",
    "1. To represent *selection*, each individual is potentially killed with a probability inversely proportional to the fitness – in other words, for each individual, pick a random number between 0 and 1 and if that number is greater than the individual's fitness, it dies and is removed from the population.\n",
    "\n",
    "2. To represent *reproduction*, new individuals are added to the population to make the numbers back up to one hundred. Rather than simulating recombination (etc.) we will simply say that the alleles for each new individual are chosen by randomly selecting alleles from the current population – in other words, the chances of selecting a given allele is proportional to its frequency in the population as a whole.\n",
    "\n",
    "At each generation, your program should calculate the frequency of all alleles and write them to a text file. At the end of the simulation, we'll be able to plot the frequencies on a chart to show the how they change over time.\n",
    "\n",
    ">If you have a background in population genetics, please forgive the many shortcomings of this simulation!"
   ]
  },
  {
   "cell_type": "markdown",
   "metadata": {},
   "source": [
    "### Solution"
   ]
  },
  {
   "cell_type": "markdown",
   "metadata": {},
   "source": [
    "This is a slightly bigger programming problem with a lot of parts, and there are many different ways to structure it. The solution we'll look at here is just one way; you may come up with something completely different.\n",
    "\n",
    "Our solution will combine object-oriented and procedural code. We will start by tackling the object-oriented part and defining some classes. We'll use three different classes:\n",
    "\n",
    "* one to represent an individual,\n",
    "* one to represent a locus,\n",
    "* and one to represent an allele.\n",
    "\n",
    "Let's begin with the simplest class, the one that represents a single allele. It has a name, and a fitness score:"
   ]
  },
  {
   "cell_type": "code",
   "execution_count": null,
   "metadata": {
    "collapsed": true
   },
   "outputs": [],
   "source": [
    "class Allele():\n",
    "    def __init__(self, name, fitness):\n",
    "        self.name = name\n",
    "        self.fitness = fitness"
   ]
  },
  {
   "cell_type": "markdown",
   "metadata": {},
   "source": [
    "A locus object is really only a way of grouping related alleles together, so all it needs is a name and a way of adding alleles. We could supply the list of alleles as part of the constructor, but just to make things easier to read we'll have the constructor create an empty list to hold the alleles, and write a method which allows us to add alleles one at a time:"
   ]
  },
  {
   "cell_type": "code",
   "execution_count": null,
   "metadata": {
    "collapsed": true
   },
   "outputs": [],
   "source": [
    "class Locus():\n",
    "\n",
    "    def __init__(self, name):\n",
    "        self.name = name\n",
    "        self.alleles = []\n",
    "\n",
    "    def add_allele(self, allele):\n",
    "        self.alleles.append(allele)"
   ]
  },
  {
   "cell_type": "markdown",
   "metadata": {},
   "source": [
    "Finally, we need a class to represent an individual. An individual will have its list of alleles set when it's created, so we'll make the constructor take a list of alleles as its argument:"
   ]
  },
  {
   "cell_type": "code",
   "execution_count": null,
   "metadata": {
    "collapsed": true
   },
   "outputs": [],
   "source": [
    "class Individual():\n",
    "    def __init__(self, alleles):\n",
    "        self.alleles = alleles"
   ]
  },
  {
   "cell_type": "markdown",
   "metadata": {},
   "source": [
    "Having defined our classes, we can start experimenting with them. Let's start off with something simple – here's how we define a locus (which we'll imaginatively call **locus one**) with two alleles. As is customary, we'll use a capital letter **A** as the name for the most-fit allele (with a fitness of 1), and a lower-case **a** as the name for the less-fit allele (with a fitness slightly less than 1):"
   ]
  },
  {
   "cell_type": "code",
   "execution_count": null,
   "metadata": {
    "collapsed": true
   },
   "outputs": [],
   "source": [
    "# create two alleles...\n",
    "allele_A = Allele('A', 1)\n",
    "allele_a = Allele('a', 0.94)\n",
    "\n",
    "# ...and add them to a new locus\n",
    "locus1 = Locus('locus one')\n",
    "locus1.add_allele(allele_A)\n",
    "locus1.add_allele(allele_a)"
   ]
  },
  {
   "cell_type": "markdown",
   "metadata": {},
   "source": [
    "The first thing that we notice about this bit of code is that the variable names of the two alleles don't really serve any purpose – we create the `Allele` objects and then immediately add them to the `Locus` object. We can simplify the code a bit by calling the constructor for the alleles and then passing the returned value immediately to the `add_allele()` method all in one statement1:"
   ]
  },
  {
   "cell_type": "code",
   "execution_count": null,
   "metadata": {},
   "outputs": [],
   "source": [
    "# create a new locus and give it two anonymous alleles\n",
    "locus1 = Locus('locus one')\n",
    "locus1.add_allele(Allele('A', 1))\n",
    "locus1.add_allele(Allele('a', 0.94))"
   ]
  },
  {
   "cell_type": "markdown",
   "metadata": {},
   "source": [
    "This has the exact same effect but is a little easier to read. Let's go ahead and create the other two loci in the same way, which we'll use for the rest of the exercise. We'll also create a list to hold all three `Locus` objects:"
   ]
  },
  {
   "cell_type": "code",
   "execution_count": null,
   "metadata": {
    "collapsed": true
   },
   "outputs": [],
   "source": [
    "locus1 = Locus('locus one')\n",
    "locus1.add_allele(Allele('A', 1))\n",
    "locus1.add_allele(Allele('a', 0.94))\n",
    "locus2 = Locus('locus two')\n",
    "locus2.add_allele(Allele('B', 1))\n",
    "locus2.add_allele(Allele('b', 0.76))\n",
    "locus3 = Locus('locus three')\n",
    "locus3.add_allele(Allele('C', 1))\n",
    "locus3.add_allele(Allele('c', 0.81))\n",
    "\n",
    "all_loci = [locus1, locus2, locus3]"
   ]
  },
  {
   "cell_type": "markdown",
   "metadata": {},
   "source": [
    "Now we have our loci and alleles, we can create some individuals. Our `Individual` constructor requires that we pass in a list of alleles as the argument, so we need some way to get hold of the allele objects. Remember that we can't refer to the allele objects using their variable names, because we created them in such a way that they don't have variable names. Here's one way to do it – we could just grab the  rst element of the alleles list from each locus:"
   ]
  },
  {
   "cell_type": "code",
   "execution_count": null,
   "metadata": {},
   "outputs": [],
   "source": [
    "first_allele = locus1.alleles[0]\n",
    "second_allele = locus2.alleles[0]\n",
    "third_allele = locus3.alleles[0]\n",
    "\n",
    "ind = Individual([first_allele, second_allele, third_allele])"
   ]
  },
  {
   "cell_type": "markdown",
   "metadata": {},
   "source": [
    "…or alternatively, using the list of loci:"
   ]
  },
  {
   "cell_type": "code",
   "execution_count": null,
   "metadata": {
    "collapsed": true
   },
   "outputs": [],
   "source": [
    "alleles_for_individual = []\n",
    "\n",
    "for locus in all_loci:\n",
    "    alleles_for_individual.append(locus.alleles[0])\n",
    "    \n",
    "ind = Individual(alleles_for_individual)"
   ]
  },
  {
   "cell_type": "markdown",
   "metadata": {},
   "source": [
    "Ore more succintly using a list comprehension:"
   ]
  },
  {
   "cell_type": "code",
   "execution_count": null,
   "metadata": {
    "collapsed": true
   },
   "outputs": [],
   "source": [
    "ind = Individual([locus.alleles[0] for locus in all_loci])"
   ]
  },
  {
   "cell_type": "markdown",
   "metadata": {},
   "source": [
    "This works fine, but if give all our one hundred individuals exactly the same set of alleles, then our simulation is going to be a bit boring! What we really need is a way of randomly picking an allele for each locus. A useful tool for this is the `choice()` function in the `random` standard library module, which takes a list of items as its argument and return a randomly selected element from that list.  Let's import `random` so long:"
   ]
  },
  {
   "cell_type": "code",
   "execution_count": null,
   "metadata": {
    "collapsed": true
   },
   "outputs": [],
   "source": [
    "import random"
   ]
  },
  {
   "cell_type": "markdown",
   "metadata": {},
   "source": [
    "This is the point at which we start to see the difference between the procedural and object-oriented way of thinking. We could easily write a function that takes a Locus as its argument and returns a random allele:"
   ]
  },
  {
   "cell_type": "code",
   "execution_count": null,
   "metadata": {
    "collapsed": true
   },
   "outputs": [],
   "source": [
    "def get_random_allele(my_locus):\n",
    "    return random.choice(my_locus.alleles)"
   ]
  },
  {
   "cell_type": "markdown",
   "metadata": {},
   "source": [
    "But a more object-oriented way of doing it is to add a method to the Locus class which returns a random allele:"
   ]
  },
  {
   "cell_type": "code",
   "execution_count": null,
   "metadata": {
    "collapsed": true
   },
   "outputs": [],
   "source": [
    "class Locus():\n",
    "\n",
    "    def __init__(self, name):\n",
    "        self.name = name\n",
    "        self.alleles = []\n",
    "\n",
    "    def add_allele(self, allele):\n",
    "        self.alleles.append(allele)\n",
    "\n",
    "    def get_random_allele(self):\n",
    "        return random.choice(self.alleles)"
   ]
  },
  {
   "cell_type": "markdown",
   "metadata": {},
   "source": [
    "Since we've redefined the `Locus` class, we have to re-instantiate those instanced we created using an ealier version of it.  This is an unfortunate side effect of developing the classes step-by-step as we're doing in this Notebook:"
   ]
  },
  {
   "cell_type": "code",
   "execution_count": null,
   "metadata": {
    "collapsed": true
   },
   "outputs": [],
   "source": [
    "locus1 = Locus('locus one')\n",
    "locus1.add_allele(Allele('A', 1))\n",
    "locus1.add_allele(Allele('a', 0.94))\n",
    "\n",
    "locus2 = Locus('locus two')\n",
    "locus2.add_allele(Allele('B', 1))\n",
    "locus2.add_allele(Allele('b', 0.76))\n",
    "\n",
    "locus3 = Locus('locus three')\n",
    "locus3.add_allele(Allele('C', 1))\n",
    "locus3.add_allele(Allele('c', 0.81))\n",
    "\n",
    "all_loci = [locus1, locus2, locus3]"
   ]
  },
  {
   "cell_type": "markdown",
   "metadata": {},
   "source": [
    "Notice the difference between the two approaches: in the first approach, we get the information (the list of alleles) from the locus and then process it (pick a random allele) whereas in the second, we let the object use the information that it has (its list of alleles) to generate the answer for us.\n",
    "\n",
    "Now we have a way of randomly picking alleles, we can write a function that creates and returns Individuals with randomly-picked alleles, given a set of loci:"
   ]
  },
  {
   "cell_type": "code",
   "execution_count": null,
   "metadata": {
    "collapsed": true
   },
   "outputs": [],
   "source": [
    "def create_individual(loci):\n",
    "    alleles_for_individual = [l.get_random_allele() for l in loci]\n",
    "    return Individual(alleles_for_individual)"
   ]
  },
  {
   "cell_type": "markdown",
   "metadata": {},
   "source": [
    "We can now create a starting population of any size we like just by calling this function inside a loop:   "
   ]
  },
  {
   "cell_type": "code",
   "execution_count": null,
   "metadata": {},
   "outputs": [],
   "source": [
    "def create_population(size, loci):\n",
    "    all_individuals = [create_individual(loci) for n in range(size)]\n",
    "    return all_individuals\n",
    "\n",
    "my_population = create_population(100, all_loci)"
   ]
  },
  {
   "cell_type": "markdown",
   "metadata": {},
   "source": [
    "Now we have a list containing one hundred `Individual` objects.\n",
    "\n",
    "Before we start tackling the selection/reproduction part of the simulation, it would be good to  gure out a way to visualize this population. We can think about examining the population in two different ways – we can ask questions about each `Individual` on its own, but we can also ask questions about the population as a whole.\n",
    "\n",
    "Let's start by examining each individual on its own. For example, we might want to print the genotype (Abc, aBc, ABc, etc.) of each individual. \n",
    "\n",
    "Again, we're faced with the choice of whether to do this in a procedural or object-oriented way. The procedural approach would be to write a function that takes an `Individual` object as its argument, and concatenates the name of each allele to generate the genotype:"
   ]
  },
  {
   "cell_type": "code",
   "execution_count": null,
   "metadata": {
    "collapsed": true
   },
   "outputs": [],
   "source": [
    "def get_genotype_for_individual(ind):\n",
    "    result = ''\n",
    "    for allele in ind.alleles:\n",
    "        result = result + allele.name\n",
    "    return result"
   ]
  },
  {
   "cell_type": "markdown",
   "metadata": {},
   "source": [
    "Or agian, more succintly using a comprehension:"
   ]
  },
  {
   "cell_type": "code",
   "execution_count": null,
   "metadata": {
    "collapsed": true
   },
   "outputs": [],
   "source": [
    "def get_genotype_for_individual(ind):\n",
    "    return ''.join(allele.name for allele in ind.alleles)"
   ]
  },
  {
   "cell_type": "markdown",
   "metadata": {},
   "source": [
    "But the more object-oriented approach is to add a `get_genotype()` method to the `Individual` class definition:   "
   ]
  },
  {
   "cell_type": "code",
   "execution_count": null,
   "metadata": {
    "collapsed": true
   },
   "outputs": [],
   "source": [
    "class Individual():\n",
    "    \n",
    "    def __init__(self, alleles):\n",
    "        self.alleles = alleles\n",
    "\n",
    "    def get_genotype(self):\n",
    "        return ''.join(a.name for a in self.alleles)"
   ]
  },
  {
   "cell_type": "markdown",
   "metadata": {},
   "source": [
    "Since we've redefined the `Individual` class, we also have to re-instantiate our `Individual` instances:"
   ]
  },
  {
   "cell_type": "code",
   "execution_count": null,
   "metadata": {
    "collapsed": true
   },
   "outputs": [],
   "source": [
    "my_population = create_population(100, all_loci)"
   ]
  },
  {
   "cell_type": "markdown",
   "metadata": {},
   "source": [
    "We can use this method to, for instance, print out the genotypes of each individual in the population in quite a natural way:"
   ]
  },
  {
   "cell_type": "code",
   "execution_count": null,
   "metadata": {
    "scrolled": true
   },
   "outputs": [],
   "source": [
    "for ind in my_population:\n",
    "    print(ind.get_genotype())"
   ]
  },
  {
   "cell_type": "markdown",
   "metadata": {},
   "source": [
    "Another obvious thing to do is to look at the fitness of each individual in the population. Again, there's a procedural and an object-oriented way to do it – we'll implement the object-oriented solution, which is to add a `get_fitness()` method to the `Individual` class definition:"
   ]
  },
  {
   "cell_type": "code",
   "execution_count": null,
   "metadata": {
    "collapsed": true
   },
   "outputs": [],
   "source": [
    "class Individual(object):\n",
    "    \n",
    "    def __init__(self, alleles):\n",
    "        self.alleles = alleles\n",
    "\n",
    "    def get_genotype(self):\n",
    "        return ''.join(a.name for a in self.alleles)\n",
    "    \n",
    "    def get_fitness(self):\n",
    "        product = 1\n",
    "        for a in self.alleles:\n",
    "            product = product * a.fitness\n",
    "        return product\n",
    "    \n",
    "# Re-instantiate our Individual instances again based on the new class:\n",
    "my_population = create_population(100, all_loci)"
   ]
  },
  {
   "cell_type": "markdown",
   "metadata": {},
   "source": [
    "An individual can calculate its own fitness simply by multiplying up the  fitnesses of each of its alleles. We can now look at both the genotype and  fitness score for each individual:"
   ]
  },
  {
   "cell_type": "code",
   "execution_count": null,
   "metadata": {
    "scrolled": true
   },
   "outputs": [],
   "source": [
    "for ind in my_population:\n",
    "    print(ind.get_genotype(), ind.get_fitness())"
   ]
  },
  {
   "cell_type": "markdown",
   "metadata": {},
   "source": [
    "The output looks good – we can see that, as expected, individuals with more capital letters in their genotype tend to have higher  tness than those with more lower case letters\n",
    "\n",
    "Now we've seen how to look at the data for individuals, let's tackle the problem of summarising the population as a whole, starting with something easy – calculating the frequency of a given allele in the population. We simply iterate over the list of all individuals and ask, for each individual, whether the given allele is in that individual's list of alleles:"
   ]
  },
  {
   "cell_type": "code",
   "execution_count": null,
   "metadata": {
    "collapsed": true
   },
   "outputs": [],
   "source": [
    "def get_allele_frequency(population, allele):\n",
    "    allele_count = sum(1 for ind in population if allele in ind.alleles)\n",
    "    return allele_count / len(population)"
   ]
  },
  {
   "cell_type": "markdown",
   "metadata": {},
   "source": [
    "To use this function we first have to get a reference to one of our alleles. Remember that we don't have variables that point to the alleles, but we do have variables that point to the loci, so we can just grab the  rst allele in a loci's list of alleles and calculate its frequency:"
   ]
  },
  {
   "cell_type": "code",
   "execution_count": null,
   "metadata": {},
   "outputs": [],
   "source": [
    "# get the first allele for locus one\n",
    "one_allele = locus1.alleles[0]\n",
    "print(get_allele_frequency(my_population, one_allele))"
   ]
  },
  {
   "cell_type": "markdown",
   "metadata": {},
   "source": [
    "The next logical step is to summarise a population by calculating the frequencies of all alleles. We can write a function that iterates over our list of loci and their alleles and prints the name and frequency of each one: "
   ]
  },
  {
   "cell_type": "code",
   "execution_count": null,
   "metadata": {},
   "outputs": [],
   "source": [
    "def summarise_population_alleles(population, loci):\n",
    "    for locus in loci:\n",
    "        for allele in locus.alleles:\n",
    "            print(allele.name, get_allele_frequency(population, allele))\n",
    "\n",
    "summarise_population_alleles(my_population, all_loci)"
   ]
  },
  {
   "cell_type": "markdown",
   "metadata": {},
   "source": [
    "The output shows pretty much what we'd expect – in the initial population, all alleles are hovering at a frequency of around 0.5, with some variation due to chance.\n",
    "\n",
    "Now that we have a way to calculate the fitness of an individual, and a way to look at the allele frequencies in the population as a whole, we can make a start on the simulation aspect. There are two bits of the simulation to think about here: death and reproduction. Let's start with the death part: we need to look at each individual and  gure out whether they die and get removed from the population. To figure out whether an individual dies, we just generate a random number between 0 and 1 (which we can do using the `random.random()` function) and if that number is greater than the individual's fitness, it gets removed from the population. (Yes, this is a gross oversimplification.) Here's a bit of code that implements that idea:\n",
    "    "
   ]
  },
  {
   "cell_type": "code",
   "execution_count": null,
   "metadata": {
    "collapsed": true
   },
   "outputs": [],
   "source": [
    "def single_generation(population):\n",
    "    for individual in population:\n",
    "        if random.random() > individual.get_fitness():\n",
    "            population.remove(individual)"
   ]
  },
  {
   "cell_type": "markdown",
   "metadata": {},
   "source": [
    "To test it out, we'll run the `single_generation()` function ten times on our initial population, printing the population size after each call. We'll print out the allele frequency summary at the start and end of the simulation so we can see what's happening. Here's the simulation code:"
   ]
  },
  {
   "cell_type": "code",
   "execution_count": null,
   "metadata": {
    "scrolled": true
   },
   "outputs": [],
   "source": [
    "summarise_population_alleles(my_population, all_loci)\n",
    "\n",
    "for i in range(10):\n",
    "    print('at generation', i)\n",
    "    print('population size is', len(my_population))\n",
    "    single_generation(my_population)\n",
    "    \n",
    "summarise_population_alleles(my_population, all_loci)"
   ]
  },
  {
   "cell_type": "markdown",
   "metadata": {},
   "source": [
    "And the output shows what is happening. As the simulation progresses, the population size decreases (since we are removing individuals, but never adding them) and the frequency of the less fit alleles (the lower case ones) decreases while the frequency of the upper case ones increases.\n",
    "\n",
    "Now all we need is to fill in the last bit of the simulation – adding new individuals to the population. As specified in the exercise description, we create a new individual by picking alleles randomly from the current population. There are a few different ways to do this, but the simplest one is probably to make a list, for each locus, of all the current alleles in the population belonging to that locus, then pick a random element from that list:"
   ]
  },
  {
   "cell_type": "code",
   "execution_count": null,
   "metadata": {
    "collapsed": true
   },
   "outputs": [],
   "source": [
    "def individual_from_population(population, loci):\n",
    "    individual_alleles = []\n",
    "    for locus in loci:\n",
    "        # pick an allele from the population for this locus\n",
    "        all_alleles = []\n",
    "        for individual in population:\n",
    "            all_alleles.extend(a for a in individual.alleles\n",
    "                               if a in locus.alleles)\n",
    "        # now all_alleles contains all the alleles in the population\n",
    "        # for this locus, pick a random one\n",
    "        individual_alleles.append(random.choice(all_alleles))\n",
    "    # now individual_alleles contains all the alleles\n",
    "    # for our new individual, one allele for each locus\n",
    "    return Individual(individual_alleles)"
   ]
  },
  {
   "cell_type": "markdown",
   "metadata": {},
   "source": [
    "All we have to do to complete our `single_generation()` function is to add enough new individuals to the population to make it back up to 100:"
   ]
  },
  {
   "cell_type": "code",
   "execution_count": null,
   "metadata": {
    "collapsed": true
   },
   "outputs": [],
   "source": [
    "def single_generation(pop):\n",
    "\n",
    "    # death part of the simulation\n",
    "    for individual in pop:\n",
    "        if random.random() > individual.get_fitness():\n",
    "            pop.remove(individual)\n",
    "\n",
    "    # reproduction part of the simulation\n",
    "    for i in range(100 - len(pop)):\n",
    "        pop.append(individual_from_population(pop, all_loci))"
   ]
  },
  {
   "cell_type": "markdown",
   "metadata": {},
   "source": [
    "If we re-run our ten-generation simulation code from earlier, we can see that now the allele frequencies change, but the population size doesn't:"
   ]
  },
  {
   "cell_type": "code",
   "execution_count": null,
   "metadata": {},
   "outputs": [],
   "source": [
    "my_population = create_population(100, all_loci)\n",
    "\n",
    "summarise_population_alleles(my_population, all_loci)\n",
    "\n",
    "for i in range(10):\n",
    "    print('at generation', i)\n",
    "    print('population size is', len(my_population))\n",
    "    single_generation(my_population)\n",
    "    \n",
    "summarise_population_alleles(my_population, all_loci)"
   ]
  },
  {
   "cell_type": "markdown",
   "metadata": {},
   "source": [
    "Having a snapshot of the allele frequencies at the start and end of the simulation is useful for testing, but it doesn't make for a very interesting result – what we would really like to be able to is look at the change in allele frequencies as the simulationbprogresses. To do that we'll have to switch from printing the frequency information on screen to writing it to a file. The simplest way to do this is just to write a line containing six comma-separated fields – one per allele – to a file after each generation. To make sense of the result, we'll need an extra bit of code to write a header line which will let us keep track of which  eld corresponds to which allele. Here's a function that will print a header line to an output file:"
   ]
  },
  {
   "cell_type": "code",
   "execution_count": null,
   "metadata": {
    "collapsed": true
   },
   "outputs": [],
   "source": [
    "def summarise_alleles_header(loci, output_file):\n",
    "    allele_names = (a.name for locus in loci for a in locus.alleles)\n",
    "    print(', '.join(allele_names), file=output_file)"
   ]
  },
  {
   "cell_type": "markdown",
   "metadata": {},
   "source": [
    "And here's a modified version of our earlier function that writes a single line summarizing the allele frequencies at a given moment:"
   ]
  },
  {
   "cell_type": "code",
   "execution_count": null,
   "metadata": {
    "collapsed": true
   },
   "outputs": [],
   "source": [
    "def summarise_alleles(population, loci, output_file):\n",
    "    frequencies = (str(get_allele_frequency(population, allele))\n",
    "                   for locus in loci\n",
    "                   for allele in locus.alleles)\n",
    "    print(', '.join(frequencies), file=output_file)"
   ]
  },
  {
   "cell_type": "markdown",
   "metadata": {},
   "source": [
    "Now the main body of our simulation looks like this:"
   ]
  },
  {
   "cell_type": "code",
   "execution_count": null,
   "metadata": {},
   "outputs": [],
   "source": [
    "# create alleles and loci\n",
    "locus1 = Locus('locus one')\n",
    "locus1.add_allele(Allele('A', 1))\n",
    "locus1.add_allele(Allele('a', 0.94))\n",
    "locus2 = Locus('locus two')\n",
    "locus2.add_allele(Allele('B', 1))\n",
    "locus2.add_allele(Allele('b', 0.76))\n",
    "locus3 = Locus('locus three')\n",
    "locus3.add_allele(Allele('C', 1))\n",
    "locus3.add_allele(Allele('c', 0.81))\n",
    "all_loci = [locus1, locus2, locus3]\n",
    "\n",
    "# create a population of 100 individuals\n",
    "my_population = create_population(100, all_loci)\n",
    "\n",
    "# open the alleles frequency output file\n",
    "with open('alleles.csv', 'w') as alleles_output:\n",
    "\n",
    "    # write the header line\n",
    "    summarise_alleles_header(all_loci, alleles_output)\n",
    "\n",
    "    # for each generation...\n",
    "    for i in range(100):\n",
    "        # ...write a line of output to the file...\n",
    "        summarise_alleles(my_population, all_loci, alleles_output)\n",
    "        \n",
    "        # ...then simulate death and reproduction\n",
    "        single_generation(my_population)"
   ]
  },
  {
   "cell_type": "markdown",
   "metadata": {},
   "source": [
    "And here's what the output file `alleles.csv` looks like – the first line tells us the order of the allele frequencies and subsequent lines each represent a single generation:\n",
    "\n",
    "[alleles.csv](/edit/alleles.csv)\n",
    "\n",
    "We can trivially increase the number of generations in the simulation by changing the number in the `range()` function call.\n",
    "\n",
    "To visualise the results of our simulation, we can open the `alleles.csv` file in a spreadsheet program and draw some charts.\n",
    "\n",
    "Alternatively, we can just use Python itself — right here in the Jupyter Notebook — to visualise our data.  Even though using Python as a data analysis platform is beyond the scope of this course, I've included the code to draw a chart showing allele frequencies over one hundred simulated generations.\n",
    "\n",
    "In order to create the plot, we first have to install two 3rd party Python modules, NumPy and Matplotlib.  We can do so using the `conda` command-line tool, as follows:"
   ]
  },
  {
   "cell_type": "code",
   "execution_count": null,
   "metadata": {
    "collapsed": true
   },
   "outputs": [],
   "source": [
    "!conda install -y numpy matplotlib"
   ]
  },
  {
   "cell_type": "markdown",
   "metadata": {},
   "source": [
    "I've added the relative fitness for each allele (as set in the simulation code above) to the legend so we can see how the less-fit alleles with the lowest fitness (b and c) disappear from the population relatively early on, whereas the less-fit allele which has fairly high relative fitness (a) takes much longer to disappear."
   ]
  },
  {
   "cell_type": "code",
   "execution_count": null,
   "metadata": {
    "scrolled": true
   },
   "outputs": [],
   "source": [
    "%matplotlib inline\n",
    "\n",
    "import numpy as np\n",
    "import matplotlib.pyplot as plt\n",
    "\n",
    "arr = np.loadtxt('alleles.csv', delimiter=',', skiprows=1).transpose()\n",
    "alleles = [\"A (1)\", \"a (0.94)\", \"B (1)\", \"b (0.76)\", \"C (1)\", \"c (0.81)\"]\n",
    "\n",
    "fig = plt.figure(figsize=(20, 20))\n",
    "ax = fig.add_subplot(311, xlabel=\"Generations\", ylabel=\"Frequency\")\n",
    "for i in range(len(arr)):\n",
    "    ax.plot(arr[i], label=alleles[i])\n",
    "ax.legend()"
   ]
  }
 ],
 "metadata": {
  "kernelspec": {
   "display_name": "Python 3",
   "language": "python",
   "name": "python3"
  },
  "language_info": {
   "codemirror_mode": {
    "name": "ipython",
    "version": 3
   },
   "file_extension": ".py",
   "mimetype": "text/x-python",
   "name": "python",
   "nbconvert_exporter": "python",
   "pygments_lexer": "ipython3",
   "version": "3.6.1"
  }
 },
 "nbformat": 4,
 "nbformat_minor": 1
}

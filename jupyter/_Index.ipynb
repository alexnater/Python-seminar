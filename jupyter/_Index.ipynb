{
 "cells": [
  {
   "cell_type": "markdown",
   "metadata": {
    "deletable": true,
    "editable": true
   },
   "source": [
    "<img src=\"img/intropy.png\" width=\"800px\">"
   ]
  },
  {
   "cell_type": "markdown",
   "metadata": {
    "deletable": true,
    "editable": true
   },
   "source": [
    "## Table of Contents — EVOP 2017\n",
    "\n",
    "* Introduction and orientation\n",
    "    * Introduction (slides)\n",
    "    * [About Python](About Python.ipynb)\n",
    "    * [Installing a Python environment with Anaconda](Anaconda.ipynb)\n",
    "    * [Working with Jupyter Notebooks](Using Jupyter.ipynb)\n",
    "* Course modules\n",
    "    * [Working with text and numbers](Working with text and numbers.ipynb)\n",
    "    * [Reading and writing files](Reading and writing files.ipynb)\n",
    "    * [Lists and loops](Lists and loops.ipynb)\n",
    "    * [Writing functions](Functions.ipynb)\n",
    "    * [Conditions](Conditions.ipynb)\n",
    "    * [Regular expressions](Regular expressions.ipynb)\n",
    "    * [Tuples and dictionaries](Tuples and dictionaries.ipynb)\n",
    "    * [String formatting, sets and exceptions](String formatting, sets and exceptions.ipynb)\n",
    "    * [Functional Python](Functional Python.ipynb)\n",
    "    * [Object-oriented Python](Object-oriented Python.ipynb)\n",
    "    * [The Python Standard Library](Standard Library.ipynb)\n",
    "    * [3rd party modules](Third party modules.ipynb)"
   ]
  },
  {
   "cell_type": "markdown",
   "metadata": {
    "deletable": true,
    "editable": true
   },
   "source": [
    "---"
   ]
  }
 ],
 "metadata": {
  "kernelspec": {
   "display_name": "Python 3",
   "language": "python",
   "name": "python3"
  },
  "language_info": {
   "codemirror_mode": {
    "name": "ipython",
    "version": 3
   },
   "file_extension": ".py",
   "mimetype": "text/x-python",
   "name": "python",
   "nbconvert_exporter": "python",
   "pygments_lexer": "ipython3",
   "version": "3.6.0"
  }
 },
 "nbformat": 4,
 "nbformat_minor": 0
}
